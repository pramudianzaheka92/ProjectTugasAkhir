{
 "cells": [
  {
   "cell_type": "markdown",
   "metadata": {},
   "source": [
    "## 1. Import Library & Eksplor Dataset dengan Pandas"
   ]
  },
  {
   "cell_type": "code",
   "execution_count": 281,
   "metadata": {},
   "outputs": [],
   "source": [
    "# Import library awal yang dibutuhkan\n",
    "import pandas as pd\n",
    "import matplotlib.pyplot as plt\n",
    "import seaborn as sns\n",
    "import numpy as np\n",
    "from sklearn.model_selection import train_test_split, RandomizedSearchCV\n",
    "plt.style.use(\"seaborn\")\n",
    "import warnings\n",
    "warnings.filterwarnings(\"ignore\")"
   ]
  },
  {
   "cell_type": "code",
   "execution_count": 282,
   "metadata": {},
   "outputs": [
    {
     "data": {
      "text/html": [
       "<div>\n",
       "<style scoped>\n",
       "    .dataframe tbody tr th:only-of-type {\n",
       "        vertical-align: middle;\n",
       "    }\n",
       "\n",
       "    .dataframe tbody tr th {\n",
       "        vertical-align: top;\n",
       "    }\n",
       "\n",
       "    .dataframe thead th {\n",
       "        text-align: right;\n",
       "    }\n",
       "</style>\n",
       "<table border=\"1\" class=\"dataframe\">\n",
       "  <thead>\n",
       "    <tr style=\"text-align: right;\">\n",
       "      <th></th>\n",
       "      <th>bulan</th>\n",
       "      <th>titik_lokasi</th>\n",
       "      <th>kecamatan</th>\n",
       "      <th>wilayah</th>\n",
       "      <th>panjang/luas</th>\n",
       "      <th>satuan_panjang/luas</th>\n",
       "      <th>tanggal</th>\n",
       "      <th>volume_sampah_perhari(m3)</th>\n",
       "    </tr>\n",
       "  </thead>\n",
       "  <tbody>\n",
       "    <tr>\n",
       "      <th>0</th>\n",
       "      <td>1</td>\n",
       "      <td>Kali / Sungai Sentiong - Ruas Dewi Sri</td>\n",
       "      <td>Johar Baru</td>\n",
       "      <td>Jakarta Pusat</td>\n",
       "      <td>464</td>\n",
       "      <td>m</td>\n",
       "      <td>1</td>\n",
       "      <td>4</td>\n",
       "    </tr>\n",
       "    <tr>\n",
       "      <th>1</th>\n",
       "      <td>1</td>\n",
       "      <td>Kali / Sungai Sentiong - Ruas Abapon</td>\n",
       "      <td>Johar Baru</td>\n",
       "      <td>Jakarta Pusat</td>\n",
       "      <td>464</td>\n",
       "      <td>m</td>\n",
       "      <td>1</td>\n",
       "      <td>4</td>\n",
       "    </tr>\n",
       "    <tr>\n",
       "      <th>2</th>\n",
       "      <td>1</td>\n",
       "      <td>Kali / Sungai Sentiong - JL Tanah Tinggi</td>\n",
       "      <td>Johar Baru</td>\n",
       "      <td>Jakarta Pusat</td>\n",
       "      <td>464</td>\n",
       "      <td>m</td>\n",
       "      <td>1</td>\n",
       "      <td>4</td>\n",
       "    </tr>\n",
       "    <tr>\n",
       "      <th>3</th>\n",
       "      <td>1</td>\n",
       "      <td>Kali / Sungai Sentiong Jl.Galur - Pombensin</td>\n",
       "      <td>Johar Baru</td>\n",
       "      <td>Jakarta Pusat</td>\n",
       "      <td>606</td>\n",
       "      <td>m</td>\n",
       "      <td>1</td>\n",
       "      <td>4</td>\n",
       "    </tr>\n",
       "    <tr>\n",
       "      <th>4</th>\n",
       "      <td>1</td>\n",
       "      <td>Kali / Sungai Sentiong - Jl. Timah</td>\n",
       "      <td>Johar Baru</td>\n",
       "      <td>Jakarta Pusat</td>\n",
       "      <td>310</td>\n",
       "      <td>m</td>\n",
       "      <td>1</td>\n",
       "      <td>7</td>\n",
       "    </tr>\n",
       "  </tbody>\n",
       "</table>\n",
       "</div>"
      ],
      "text/plain": [
       "   bulan                                titik_lokasi   kecamatan   \\\n",
       "0      1       Kali / Sungai Sentiong - Ruas Dewi Sri  Johar Baru   \n",
       "1      1         Kali / Sungai Sentiong - Ruas Abapon  Johar Baru   \n",
       "2      1     Kali / Sungai Sentiong - JL Tanah Tinggi  Johar Baru   \n",
       "3      1  Kali / Sungai Sentiong Jl.Galur - Pombensin  Johar Baru   \n",
       "4      1           Kali / Sungai Sentiong - Jl. Timah  Johar Baru   \n",
       "\n",
       "        wilayah   panjang/luas  satuan_panjang/luas  tanggal  \\\n",
       "0  Jakarta Pusat            464                   m        1   \n",
       "1  Jakarta Pusat            464                   m        1   \n",
       "2  Jakarta Pusat            464                   m        1   \n",
       "3  Jakarta Pusat            606                   m        1   \n",
       "4  Jakarta Pusat            310                   m        1   \n",
       "\n",
       "  volume_sampah_perhari(m3)  \n",
       "0                         4  \n",
       "1                         4  \n",
       "2                         4  \n",
       "3                         4  \n",
       "4                         7  "
      ]
     },
     "execution_count": 282,
     "metadata": {},
     "output_type": "execute_result"
    }
   ],
   "source": [
    "# Load dataset\n",
    "data_januari = pd.read_csv(\"Volume Pengangkutan Sampah Di Kali Sungai Situ Waduk Bulan Januari Tahun 2021.csv\",\n",
    "                          encoding=\"latin-1\")\n",
    "data_januari.head()"
   ]
  },
  {
   "cell_type": "code",
   "execution_count": 283,
   "metadata": {
    "scrolled": true
   },
   "outputs": [
    {
     "name": "stdout",
     "output_type": "stream",
     "text": [
      "<class 'pandas.core.frame.DataFrame'>\n",
      "RangeIndex: 54343 entries, 0 to 54342\n",
      "Data columns (total 8 columns):\n",
      " #   Column                     Non-Null Count  Dtype \n",
      "---  ------                     --------------  ----- \n",
      " 0   bulan                      54343 non-null  int64 \n",
      " 1    titik_lokasi              54343 non-null  object\n",
      " 2    kecamatan                 54343 non-null  object\n",
      " 3    wilayah                   54343 non-null  object\n",
      " 4    panjang/luas              53475 non-null  object\n",
      " 5   satuan_panjang/luas        32388 non-null  object\n",
      " 6   tanggal                    54343 non-null  int64 \n",
      " 7   volume_sampah_perhari(m3)  54343 non-null  object\n",
      "dtypes: int64(2), object(6)\n",
      "memory usage: 3.3+ MB\n"
     ]
    }
   ],
   "source": [
    "# Melihat info dataset (tipe data, total record data, dll)\n",
    "data_januari.info()"
   ]
  },
  {
   "cell_type": "code",
   "execution_count": 284,
   "metadata": {},
   "outputs": [],
   "source": [
    "# Menghapus jarak spasi pada kolom dataset\n",
    "data_januari.columns = data_januari.columns.str.replace(\" \", \"\")"
   ]
  },
  {
   "cell_type": "code",
   "execution_count": 285,
   "metadata": {},
   "outputs": [
    {
     "data": {
      "text/html": [
       "<div>\n",
       "<style scoped>\n",
       "    .dataframe tbody tr th:only-of-type {\n",
       "        vertical-align: middle;\n",
       "    }\n",
       "\n",
       "    .dataframe tbody tr th {\n",
       "        vertical-align: top;\n",
       "    }\n",
       "\n",
       "    .dataframe thead th {\n",
       "        text-align: right;\n",
       "    }\n",
       "</style>\n",
       "<table border=\"1\" class=\"dataframe\">\n",
       "  <thead>\n",
       "    <tr style=\"text-align: right;\">\n",
       "      <th></th>\n",
       "      <th>bulan</th>\n",
       "      <th>titik_lokasi</th>\n",
       "      <th>kecamatan</th>\n",
       "      <th>wilayah</th>\n",
       "      <th>panjang/luas</th>\n",
       "      <th>satuan_panjang/luas</th>\n",
       "      <th>tanggal</th>\n",
       "      <th>volume_sampah_perhari(m3)</th>\n",
       "    </tr>\n",
       "  </thead>\n",
       "  <tbody>\n",
       "    <tr>\n",
       "      <th>count</th>\n",
       "      <td>54343.0</td>\n",
       "      <td>54343</td>\n",
       "      <td>54343</td>\n",
       "      <td>54343</td>\n",
       "      <td>53475</td>\n",
       "      <td>32388</td>\n",
       "      <td>54343.000000</td>\n",
       "      <td>54343</td>\n",
       "    </tr>\n",
       "    <tr>\n",
       "      <th>unique</th>\n",
       "      <td>NaN</td>\n",
       "      <td>1747</td>\n",
       "      <td>42</td>\n",
       "      <td>5</td>\n",
       "      <td>442</td>\n",
       "      <td>11</td>\n",
       "      <td>NaN</td>\n",
       "      <td>59</td>\n",
       "    </tr>\n",
       "    <tr>\n",
       "      <th>top</th>\n",
       "      <td>NaN</td>\n",
       "      <td>PHB Pramuka</td>\n",
       "      <td>Tanjung Priok</td>\n",
       "      <td>Jakarta Barat</td>\n",
       "      <td>1000</td>\n",
       "      <td>m</td>\n",
       "      <td>NaN</td>\n",
       "      <td>-</td>\n",
       "    </tr>\n",
       "    <tr>\n",
       "      <th>freq</th>\n",
       "      <td>NaN</td>\n",
       "      <td>62</td>\n",
       "      <td>2914</td>\n",
       "      <td>16430</td>\n",
       "      <td>6512</td>\n",
       "      <td>29884</td>\n",
       "      <td>NaN</td>\n",
       "      <td>15649</td>\n",
       "    </tr>\n",
       "    <tr>\n",
       "      <th>mean</th>\n",
       "      <td>1.0</td>\n",
       "      <td>NaN</td>\n",
       "      <td>NaN</td>\n",
       "      <td>NaN</td>\n",
       "      <td>NaN</td>\n",
       "      <td>NaN</td>\n",
       "      <td>16.000000</td>\n",
       "      <td>NaN</td>\n",
       "    </tr>\n",
       "    <tr>\n",
       "      <th>std</th>\n",
       "      <td>0.0</td>\n",
       "      <td>NaN</td>\n",
       "      <td>NaN</td>\n",
       "      <td>NaN</td>\n",
       "      <td>NaN</td>\n",
       "      <td>NaN</td>\n",
       "      <td>8.944354</td>\n",
       "      <td>NaN</td>\n",
       "    </tr>\n",
       "    <tr>\n",
       "      <th>min</th>\n",
       "      <td>1.0</td>\n",
       "      <td>NaN</td>\n",
       "      <td>NaN</td>\n",
       "      <td>NaN</td>\n",
       "      <td>NaN</td>\n",
       "      <td>NaN</td>\n",
       "      <td>1.000000</td>\n",
       "      <td>NaN</td>\n",
       "    </tr>\n",
       "    <tr>\n",
       "      <th>25%</th>\n",
       "      <td>1.0</td>\n",
       "      <td>NaN</td>\n",
       "      <td>NaN</td>\n",
       "      <td>NaN</td>\n",
       "      <td>NaN</td>\n",
       "      <td>NaN</td>\n",
       "      <td>8.000000</td>\n",
       "      <td>NaN</td>\n",
       "    </tr>\n",
       "    <tr>\n",
       "      <th>50%</th>\n",
       "      <td>1.0</td>\n",
       "      <td>NaN</td>\n",
       "      <td>NaN</td>\n",
       "      <td>NaN</td>\n",
       "      <td>NaN</td>\n",
       "      <td>NaN</td>\n",
       "      <td>16.000000</td>\n",
       "      <td>NaN</td>\n",
       "    </tr>\n",
       "    <tr>\n",
       "      <th>75%</th>\n",
       "      <td>1.0</td>\n",
       "      <td>NaN</td>\n",
       "      <td>NaN</td>\n",
       "      <td>NaN</td>\n",
       "      <td>NaN</td>\n",
       "      <td>NaN</td>\n",
       "      <td>24.000000</td>\n",
       "      <td>NaN</td>\n",
       "    </tr>\n",
       "    <tr>\n",
       "      <th>max</th>\n",
       "      <td>1.0</td>\n",
       "      <td>NaN</td>\n",
       "      <td>NaN</td>\n",
       "      <td>NaN</td>\n",
       "      <td>NaN</td>\n",
       "      <td>NaN</td>\n",
       "      <td>31.000000</td>\n",
       "      <td>NaN</td>\n",
       "    </tr>\n",
       "  </tbody>\n",
       "</table>\n",
       "</div>"
      ],
      "text/plain": [
       "          bulan titik_lokasi      kecamatan        wilayah panjang/luas  \\\n",
       "count   54343.0        54343          54343          54343        53475   \n",
       "unique      NaN         1747             42              5          442   \n",
       "top         NaN  PHB Pramuka  Tanjung Priok  Jakarta Barat         1000   \n",
       "freq        NaN           62           2914          16430         6512   \n",
       "mean        1.0          NaN            NaN            NaN          NaN   \n",
       "std         0.0          NaN            NaN            NaN          NaN   \n",
       "min         1.0          NaN            NaN            NaN          NaN   \n",
       "25%         1.0          NaN            NaN            NaN          NaN   \n",
       "50%         1.0          NaN            NaN            NaN          NaN   \n",
       "75%         1.0          NaN            NaN            NaN          NaN   \n",
       "max         1.0          NaN            NaN            NaN          NaN   \n",
       "\n",
       "       satuan_panjang/luas       tanggal volume_sampah_perhari(m3)  \n",
       "count                32388  54343.000000                     54343  \n",
       "unique                  11           NaN                        59  \n",
       "top                      m           NaN                         -  \n",
       "freq                 29884           NaN                     15649  \n",
       "mean                   NaN     16.000000                       NaN  \n",
       "std                    NaN      8.944354                       NaN  \n",
       "min                    NaN      1.000000                       NaN  \n",
       "25%                    NaN      8.000000                       NaN  \n",
       "50%                    NaN     16.000000                       NaN  \n",
       "75%                    NaN     24.000000                       NaN  \n",
       "max                    NaN     31.000000                       NaN  "
      ]
     },
     "execution_count": 285,
     "metadata": {},
     "output_type": "execute_result"
    }
   ],
   "source": [
    "# Melihat nilai statistik deskriptif dari dataset untuk keseluruhan kolom\n",
    "data_januari.describe(include=\"all\")"
   ]
  },
  {
   "cell_type": "markdown",
   "metadata": {},
   "source": [
    "Hasil keluaran diatas menandakan beberapa nilai-nilai dari statistik deskriptif dari kedua jenis data yakni numerik (tipe data int & float) dan kategorik (tipe data object/string) dan tentu saja setiap jenis data memiliki nilai deskriptif yang berbeda. Seperti misalnya jenis data numerik memiliki nilai deskriptif seperti count, mean, std (standard deviasi), maximum, minimum, quartil 1 (25%), quartil 2/median (50%) dan quartil 3 (75%). Sedangkan jenis data kategorik memiliki nilai deskriptif seperti count, unique, top dan freq (frekuensi data).\n",
    "\n",
    "Sebagai contoh dapat dilihat pada penjelasan dibawah ini:\n",
    "\n",
    "- Pada kolom titik_lokasi tidak memiliki nilai mean, standard deviasi, min, dll, tetapi memiliki nilai top, unique, freq, dll. Hal tersebut dikarenakan kolom titik_lokasi bersifat kategorik (karena memiliki tipe data string). Maka dari itu kolom titik_lokasi memiliki nilai top yakni PHB PLN, nilai freq adalah 62, dst.\n",
    "\n",
    "- Sedangkan pada kolom tanggal tidak memiliki nilai top, freq, dll tetapi memiliki nilai mean, standard deviasi, min, max, dll. Hal tersebut dikarenakan kolom tanggal bersifat numerik. Nilai mean pada kolom tanggal adalah 16.0, nilai max adalah 31.0, nilai quartil 3 adalah 24.0, dst.\n",
    "\n",
    "Berikut adalah kolom-kolom yang bersifat kategorik dan numerik:\n",
    "\n",
    "- Kategorik: titik_lokasi, kecamatan, wilayah, panjang/luas, satuan_panjang/luas dan volume_sampah_perhari(m3).\n",
    "- Numerik: bulan dan tanggal."
   ]
  },
  {
   "cell_type": "code",
   "execution_count": 286,
   "metadata": {},
   "outputs": [
    {
     "data": {
      "text/plain": [
       "bulan                         int64\n",
       "titik_lokasi                 object\n",
       "kecamatan                    object\n",
       "wilayah                      object\n",
       "panjang/luas                 object\n",
       "satuan_panjang/luas          object\n",
       "tanggal                       int64\n",
       "volume_sampah_perhari(m3)    object\n",
       "dtype: object"
      ]
     },
     "execution_count": 286,
     "metadata": {},
     "output_type": "execute_result"
    }
   ],
   "source": [
    "# Melihat tipe data dari masing-masing kolom yang ada di dalam dataframe\n",
    "data_januari.dtypes"
   ]
  },
  {
   "cell_type": "code",
   "execution_count": 287,
   "metadata": {},
   "outputs": [
    {
     "data": {
      "text/plain": [
       "Index(['bulan', 'titik_lokasi', 'kecamatan', 'wilayah', 'panjang/luas',\n",
       "       'satuan_panjang/luas', 'tanggal', 'volume_sampah_perhari(m3)'],\n",
       "      dtype='object')"
      ]
     },
     "execution_count": 287,
     "metadata": {},
     "output_type": "execute_result"
    }
   ],
   "source": [
    "# Melihat nama kolom yang ada di dalam dataframe\n",
    "data_januari.columns"
   ]
  },
  {
   "cell_type": "code",
   "execution_count": 288,
   "metadata": {},
   "outputs": [
    {
     "data": {
      "text/plain": [
       "(54343, 8)"
      ]
     },
     "execution_count": 288,
     "metadata": {},
     "output_type": "execute_result"
    }
   ],
   "source": [
    "# Melihat jumlah rows dan kolom pada dataframe\n",
    "data_januari.shape"
   ]
  },
  {
   "cell_type": "code",
   "execution_count": 289,
   "metadata": {},
   "outputs": [
    {
     "name": "stdout",
     "output_type": "stream",
     "text": [
      "Tanjung Priok        2914\n",
      "Kalideres            2914\n",
      "Penjaringan          2759\n",
      "Cilincing            2542\n",
      "Cengkareng           2480\n",
      "Grogol Petamburan    2325\n",
      "Cakung               2263\n",
      "Kembangan            2232\n",
      "Tamansari            1953\n",
      "Pademangan           1891\n",
      "Kebon Jeruk          1581\n",
      "Tambora              1550\n",
      "Kelapa Gading        1488\n",
      "Koja                 1395\n",
      "Palmerah             1395\n",
      "Jatinegara           1364\n",
      "Pulo Gadung          1302\n",
      "Duren Sawit          1302\n",
      "Jagakarsa            1178\n",
      "Pasar Rebo           1147\n",
      "Kramat Jati          1116\n",
      "Makasar               961\n",
      "Matraman              961\n",
      "Ciracas               930\n",
      "Gambir                899\n",
      "Tanah Abang           899\n",
      "Pancoran              868\n",
      "Cilandak              837\n",
      "Kebayoran Baru        837\n",
      "Pasar Minggu          837\n",
      "Kebayoran Lama        806\n",
      "Setiabudi             775\n",
      "Tebet                 744\n",
      "Mampang Prapatan      713\n",
      "Cipayung              651\n",
      "Pesanggrahan          620\n",
      "Sawah Besar           558\n",
      "Senen                 527\n",
      "Cempaka Putih         496\n",
      "Menteng               496\n",
      "Kemayoran             465\n",
      "Johar Baru            372\n",
      "Name: kecamatan, dtype: int64\n",
      "\n",
      "Jakarta Barat      16430\n",
      "Jakarta Utara      12989\n",
      "Jakarta Timur      11997\n",
      "Jakarta Selatan     8215\n",
      "Jakarta Pusat       4712\n",
      "Name: wilayah, dtype: int64\n",
      "\n",
      "m         29884\n",
      "Ha         1302\n",
      "M           861\n",
      "H            93\n",
      "HA           62\n",
      "m²           31\n",
      "hektar       31\n",
      "Hektar       31\n",
      "M³           31\n",
      "m2           31\n",
      "km           31\n",
      "Name: satuan_panjang/luas, dtype: int64\n"
     ]
    }
   ],
   "source": [
    "\"\"\"\n",
    "Menghitung nilai dari beberapa kolom (kecamatan, wilayah, satuan_panjang/satuan) \n",
    "dari yang sering muncul - tidak sering muncul di dalam dataframe\n",
    "\"\"\"\n",
    "print(data_januari[\"kecamatan\"].value_counts())\n",
    "print()\n",
    "\n",
    "print(data_januari[\"wilayah\"].value_counts())\n",
    "print()\n",
    "\n",
    "print(data_januari[\"satuan_panjang/luas\"].value_counts())"
   ]
  },
  {
   "cell_type": "code",
   "execution_count": 290,
   "metadata": {},
   "outputs": [
    {
     "data": {
      "text/plain": [
       "Index(['bulan', 'titik_lokasi', 'kecamatan', 'wilayah', 'panjang/luas',\n",
       "       'satuan_panjang', 'tanggal', 'volume_sampah_perhari(m3)'],\n",
       "      dtype='object')"
      ]
     },
     "execution_count": 290,
     "metadata": {},
     "output_type": "execute_result"
    }
   ],
   "source": [
    "# Mengubah nama kolom satuan_panjang/luas menjadi satuan_panjang\n",
    "rename_column_data = data_januari.rename(columns={\"satuan_panjang/luas\":\"satuan_panjang\"})\n",
    "\n",
    "rename_column_data.columns"
   ]
  },
  {
   "cell_type": "code",
   "execution_count": 291,
   "metadata": {},
   "outputs": [
    {
     "data": {
      "text/html": [
       "<div>\n",
       "<style scoped>\n",
       "    .dataframe tbody tr th:only-of-type {\n",
       "        vertical-align: middle;\n",
       "    }\n",
       "\n",
       "    .dataframe tbody tr th {\n",
       "        vertical-align: top;\n",
       "    }\n",
       "\n",
       "    .dataframe thead th {\n",
       "        text-align: right;\n",
       "    }\n",
       "</style>\n",
       "<table border=\"1\" class=\"dataframe\">\n",
       "  <thead>\n",
       "    <tr style=\"text-align: right;\">\n",
       "      <th></th>\n",
       "      <th>bulan</th>\n",
       "      <th>titik_lokasi</th>\n",
       "      <th>kecamatan</th>\n",
       "      <th>wilayah</th>\n",
       "      <th>panjang/luas</th>\n",
       "      <th>satuan_panjang</th>\n",
       "      <th>tanggal</th>\n",
       "      <th>volume_sampah_perhari(m3)</th>\n",
       "    </tr>\n",
       "  </thead>\n",
       "  <tbody>\n",
       "    <tr>\n",
       "      <th>88</th>\n",
       "      <td>1</td>\n",
       "      <td>Kali / Sungai BKB Ciliwung Jembatan Jl Jendral...</td>\n",
       "      <td>Tanah Abang</td>\n",
       "      <td>Jakarta Pusat</td>\n",
       "      <td>1500</td>\n",
       "      <td>m</td>\n",
       "      <td>1</td>\n",
       "      <td>4.48</td>\n",
       "    </tr>\n",
       "    <tr>\n",
       "      <th>89</th>\n",
       "      <td>1</td>\n",
       "      <td>Kali / Sungai BKB Ciliwung Jembatan Jl.KH Mas ...</td>\n",
       "      <td>Tanah Abang</td>\n",
       "      <td>Jakarta Pusat</td>\n",
       "      <td>1000</td>\n",
       "      <td>m</td>\n",
       "      <td>1</td>\n",
       "      <td>4.48</td>\n",
       "    </tr>\n",
       "    <tr>\n",
       "      <th>90</th>\n",
       "      <td>1</td>\n",
       "      <td>kali / Sungai BKB Ciliwung Pintu Air karet</td>\n",
       "      <td>Tanah Abang</td>\n",
       "      <td>Jakarta Pusat</td>\n",
       "      <td>1000</td>\n",
       "      <td>m</td>\n",
       "      <td>1</td>\n",
       "      <td>4.48</td>\n",
       "    </tr>\n",
       "    <tr>\n",
       "      <th>91</th>\n",
       "      <td>1</td>\n",
       "      <td>kali / Sungai BKB Ciliwung Petamburan</td>\n",
       "      <td>Tanah Abang</td>\n",
       "      <td>Jakarta Pusat</td>\n",
       "      <td>1500</td>\n",
       "      <td>m</td>\n",
       "      <td>1</td>\n",
       "      <td>4</td>\n",
       "    </tr>\n",
       "    <tr>\n",
       "      <th>92</th>\n",
       "      <td>1</td>\n",
       "      <td>kali / Sungai BKB Ciliwung Stasiun Tanah Abang</td>\n",
       "      <td>Tanah Abang</td>\n",
       "      <td>Jakarta Pusat</td>\n",
       "      <td>1000</td>\n",
       "      <td>m</td>\n",
       "      <td>1</td>\n",
       "      <td>0</td>\n",
       "    </tr>\n",
       "    <tr>\n",
       "      <th>93</th>\n",
       "      <td>1</td>\n",
       "      <td>Kali / Sungai Cideng BI</td>\n",
       "      <td>Tanah Abang</td>\n",
       "      <td>Jakarta Pusat</td>\n",
       "      <td>1000</td>\n",
       "      <td>m</td>\n",
       "      <td>1</td>\n",
       "      <td>1</td>\n",
       "    </tr>\n",
       "    <tr>\n",
       "      <th>94</th>\n",
       "      <td>1</td>\n",
       "      <td>Kali / Sungai Cideng kraton</td>\n",
       "      <td>Tanah Abang</td>\n",
       "      <td>Jakarta Pusat</td>\n",
       "      <td>1000</td>\n",
       "      <td>m</td>\n",
       "      <td>1</td>\n",
       "      <td>2.24</td>\n",
       "    </tr>\n",
       "    <tr>\n",
       "      <th>95</th>\n",
       "      <td>1</td>\n",
       "      <td>Kali / Sungai Cideng Kebon Kacang Gedung jaya</td>\n",
       "      <td>Tanah Abang</td>\n",
       "      <td>Jakarta Pusat</td>\n",
       "      <td>1000</td>\n",
       "      <td>m</td>\n",
       "      <td>1</td>\n",
       "      <td>4.48</td>\n",
       "    </tr>\n",
       "    <tr>\n",
       "      <th>96</th>\n",
       "      <td>1</td>\n",
       "      <td>Kali / Sungai Cideng DEPAG</td>\n",
       "      <td>Tanah Abang</td>\n",
       "      <td>Jakarta Pusat</td>\n",
       "      <td>1000</td>\n",
       "      <td>m</td>\n",
       "      <td>1</td>\n",
       "      <td>2.24</td>\n",
       "    </tr>\n",
       "    <tr>\n",
       "      <th>97</th>\n",
       "      <td>1</td>\n",
       "      <td>Kali / Sungai Gendong Grand Indonesia/Pintu Ai...</td>\n",
       "      <td>Tanah Abang</td>\n",
       "      <td>Jakarta Pusat</td>\n",
       "      <td>1000</td>\n",
       "      <td>m</td>\n",
       "      <td>1</td>\n",
       "      <td>1</td>\n",
       "    </tr>\n",
       "  </tbody>\n",
       "</table>\n",
       "</div>"
      ],
      "text/plain": [
       "    bulan                                       titik_lokasi    kecamatan  \\\n",
       "88      1  Kali / Sungai BKB Ciliwung Jembatan Jl Jendral...  Tanah Abang   \n",
       "89      1  Kali / Sungai BKB Ciliwung Jembatan Jl.KH Mas ...  Tanah Abang   \n",
       "90      1         kali / Sungai BKB Ciliwung Pintu Air karet  Tanah Abang   \n",
       "91      1              kali / Sungai BKB Ciliwung Petamburan  Tanah Abang   \n",
       "92      1     kali / Sungai BKB Ciliwung Stasiun Tanah Abang  Tanah Abang   \n",
       "93      1                            Kali / Sungai Cideng BI  Tanah Abang   \n",
       "94      1                        Kali / Sungai Cideng kraton  Tanah Abang   \n",
       "95      1      Kali / Sungai Cideng Kebon Kacang Gedung jaya  Tanah Abang   \n",
       "96      1                         Kali / Sungai Cideng DEPAG  Tanah Abang   \n",
       "97      1  Kali / Sungai Gendong Grand Indonesia/Pintu Ai...  Tanah Abang   \n",
       "\n",
       "          wilayah panjang/luas satuan_panjang  tanggal  \\\n",
       "88  Jakarta Pusat         1500              m        1   \n",
       "89  Jakarta Pusat         1000              m        1   \n",
       "90  Jakarta Pusat         1000              m        1   \n",
       "91  Jakarta Pusat         1500              m        1   \n",
       "92  Jakarta Pusat         1000              m        1   \n",
       "93  Jakarta Pusat         1000              m        1   \n",
       "94  Jakarta Pusat         1000              m        1   \n",
       "95  Jakarta Pusat         1000              m        1   \n",
       "96  Jakarta Pusat         1000              m        1   \n",
       "97  Jakarta Pusat         1000              m        1   \n",
       "\n",
       "   volume_sampah_perhari(m3)  \n",
       "88                      4.48  \n",
       "89                      4.48  \n",
       "90                      4.48  \n",
       "91                         4  \n",
       "92                         0  \n",
       "93                         1  \n",
       "94                      2.24  \n",
       "95                      4.48  \n",
       "96                      2.24  \n",
       "97                         1  "
      ]
     },
     "execution_count": 291,
     "metadata": {},
     "output_type": "execute_result"
    }
   ],
   "source": [
    "# Memisahkan semua data yang memiliki kecamatan = Tanah Abang\n",
    "data_tanah_abang = rename_column_data[rename_column_data.kecamatan == \"Tanah Abang\"]\n",
    "data_tanah_abang.head(10)"
   ]
  },
  {
   "cell_type": "code",
   "execution_count": 292,
   "metadata": {},
   "outputs": [
    {
     "data": {
      "text/html": [
       "<div>\n",
       "<style scoped>\n",
       "    .dataframe tbody tr th:only-of-type {\n",
       "        vertical-align: middle;\n",
       "    }\n",
       "\n",
       "    .dataframe tbody tr th {\n",
       "        vertical-align: top;\n",
       "    }\n",
       "\n",
       "    .dataframe thead th {\n",
       "        text-align: right;\n",
       "    }\n",
       "</style>\n",
       "<table border=\"1\" class=\"dataframe\">\n",
       "  <thead>\n",
       "    <tr style=\"text-align: right;\">\n",
       "      <th></th>\n",
       "      <th>bulan</th>\n",
       "      <th>titik_lokasi</th>\n",
       "      <th>kecamatan</th>\n",
       "      <th>wilayah</th>\n",
       "      <th>panjang/luas</th>\n",
       "      <th>satuan_panjang</th>\n",
       "      <th>tanggal</th>\n",
       "      <th>volume_sampah_perhari(m3)</th>\n",
       "    </tr>\n",
       "  </thead>\n",
       "  <tbody>\n",
       "    <tr>\n",
       "      <th>1366</th>\n",
       "      <td>1</td>\n",
       "      <td>Kali Cipinang Jembatan Radar AURI - Jembatan M...</td>\n",
       "      <td>Ciracas</td>\n",
       "      <td>Jakarta Timur</td>\n",
       "      <td>1800</td>\n",
       "      <td>m</td>\n",
       "      <td>1</td>\n",
       "      <td>-</td>\n",
       "    </tr>\n",
       "    <tr>\n",
       "      <th>1367</th>\n",
       "      <td>1</td>\n",
       "      <td>Kali Cipinang Jembatan Mekarsari - Jembatan Tipar</td>\n",
       "      <td>Ciracas</td>\n",
       "      <td>Jakarta Timur</td>\n",
       "      <td>1200</td>\n",
       "      <td>m</td>\n",
       "      <td>1</td>\n",
       "      <td>-</td>\n",
       "    </tr>\n",
       "    <tr>\n",
       "      <th>1368</th>\n",
       "      <td>1</td>\n",
       "      <td>Kali Cipinang - Jembatan Mekarsari - Jembatan ...</td>\n",
       "      <td>Ciracas</td>\n",
       "      <td>Jakarta Timur</td>\n",
       "      <td>1000</td>\n",
       "      <td>m</td>\n",
       "      <td>1</td>\n",
       "      <td>-</td>\n",
       "    </tr>\n",
       "    <tr>\n",
       "      <th>1369</th>\n",
       "      <td>1</td>\n",
       "      <td>Kali Cipinang Belakang SMA 99 -Jembatan Peti Mati</td>\n",
       "      <td>Ciracas</td>\n",
       "      <td>Jakarta Timur</td>\n",
       "      <td>2000</td>\n",
       "      <td>m</td>\n",
       "      <td>1</td>\n",
       "      <td>-</td>\n",
       "    </tr>\n",
       "    <tr>\n",
       "      <th>1370</th>\n",
       "      <td>1</td>\n",
       "      <td>Kali Cipinang Jembatan Peti Mati - Jembatan Pa...</td>\n",
       "      <td>Ciracas</td>\n",
       "      <td>Jakarta Timur</td>\n",
       "      <td>1000</td>\n",
       "      <td>m</td>\n",
       "      <td>1</td>\n",
       "      <td>-</td>\n",
       "    </tr>\n",
       "  </tbody>\n",
       "</table>\n",
       "</div>"
      ],
      "text/plain": [
       "      bulan                                       titik_lokasi kecamatan  \\\n",
       "1366      1  Kali Cipinang Jembatan Radar AURI - Jembatan M...   Ciracas   \n",
       "1367      1  Kali Cipinang Jembatan Mekarsari - Jembatan Tipar   Ciracas   \n",
       "1368      1  Kali Cipinang - Jembatan Mekarsari - Jembatan ...   Ciracas   \n",
       "1369      1  Kali Cipinang Belakang SMA 99 -Jembatan Peti Mati   Ciracas   \n",
       "1370      1  Kali Cipinang Jembatan Peti Mati - Jembatan Pa...   Ciracas   \n",
       "\n",
       "            wilayah panjang/luas satuan_panjang  tanggal  \\\n",
       "1366  Jakarta Timur         1800              m        1   \n",
       "1367  Jakarta Timur         1200              m        1   \n",
       "1368  Jakarta Timur         1000              m        1   \n",
       "1369  Jakarta Timur         2000              m        1   \n",
       "1370  Jakarta Timur         1000              m        1   \n",
       "\n",
       "     volume_sampah_perhari(m3)  \n",
       "1366                         -  \n",
       "1367                         -  \n",
       "1368                         -  \n",
       "1369                         -  \n",
       "1370                         -  "
      ]
     },
     "execution_count": 292,
     "metadata": {},
     "output_type": "execute_result"
    }
   ],
   "source": [
    "# Memisahkan semua data yang memiliki wilayah = Jakarta Timur\n",
    "data_jaktim = rename_column_data[rename_column_data.wilayah == \"Jakarta Timur\"]\n",
    "data_jaktim.head()"
   ]
  },
  {
   "cell_type": "code",
   "execution_count": 293,
   "metadata": {},
   "outputs": [
    {
     "data": {
      "text/html": [
       "<div>\n",
       "<style scoped>\n",
       "    .dataframe tbody tr th:only-of-type {\n",
       "        vertical-align: middle;\n",
       "    }\n",
       "\n",
       "    .dataframe tbody tr th {\n",
       "        vertical-align: top;\n",
       "    }\n",
       "\n",
       "    .dataframe thead th {\n",
       "        text-align: right;\n",
       "    }\n",
       "</style>\n",
       "<table border=\"1\" class=\"dataframe\">\n",
       "  <thead>\n",
       "    <tr style=\"text-align: right;\">\n",
       "      <th></th>\n",
       "      <th>bulan</th>\n",
       "      <th>titik_lokasi</th>\n",
       "      <th>kecamatan</th>\n",
       "      <th>wilayah</th>\n",
       "      <th>panjang/luas</th>\n",
       "      <th>satuan_panjang</th>\n",
       "      <th>tanggal</th>\n",
       "      <th>volume_sampah_perhari(m3)</th>\n",
       "    </tr>\n",
       "  </thead>\n",
       "  <tbody>\n",
       "    <tr>\n",
       "      <th>177</th>\n",
       "      <td>1</td>\n",
       "      <td>PHB Akses Marunda</td>\n",
       "      <td>Cilincing</td>\n",
       "      <td>Jakarta Utara</td>\n",
       "      <td>1</td>\n",
       "      <td>Ha</td>\n",
       "      <td>1</td>\n",
       "      <td>0</td>\n",
       "    </tr>\n",
       "    <tr>\n",
       "      <th>234</th>\n",
       "      <td>1</td>\n",
       "      <td>Waduk Kodamar</td>\n",
       "      <td>Kelapa Gading</td>\n",
       "      <td>Jakarta Utara</td>\n",
       "      <td>8</td>\n",
       "      <td>Ha</td>\n",
       "      <td>1</td>\n",
       "      <td>0</td>\n",
       "    </tr>\n",
       "    <tr>\n",
       "      <th>346</th>\n",
       "      <td>1</td>\n",
       "      <td>Waduk Sunter Selatan SPBU Shell</td>\n",
       "      <td>Tanjung Priok</td>\n",
       "      <td>Jakarta Utara</td>\n",
       "      <td>10</td>\n",
       "      <td>Ha</td>\n",
       "      <td>1</td>\n",
       "      <td>0</td>\n",
       "    </tr>\n",
       "    <tr>\n",
       "      <th>347</th>\n",
       "      <td>1</td>\n",
       "      <td>Waduk Sunter Selatan Pos Polisi</td>\n",
       "      <td>Tanjung Priok</td>\n",
       "      <td>Jakarta Utara</td>\n",
       "      <td>9</td>\n",
       "      <td>Ha</td>\n",
       "      <td>1</td>\n",
       "      <td>0</td>\n",
       "    </tr>\n",
       "    <tr>\n",
       "      <th>348</th>\n",
       "      <td>1</td>\n",
       "      <td>Waduk Sunter Selatan SPBU Pertamina</td>\n",
       "      <td>Tanjung Priok</td>\n",
       "      <td>Jakarta Utara</td>\n",
       "      <td>9</td>\n",
       "      <td>Ha</td>\n",
       "      <td>1</td>\n",
       "      <td>0</td>\n",
       "    </tr>\n",
       "    <tr>\n",
       "      <th>349</th>\n",
       "      <td>1</td>\n",
       "      <td>Waduk Sunter Utara Bisma</td>\n",
       "      <td>Tanjung Priok</td>\n",
       "      <td>Jakarta Utara</td>\n",
       "      <td>10</td>\n",
       "      <td>Ha</td>\n",
       "      <td>1</td>\n",
       "      <td>3</td>\n",
       "    </tr>\n",
       "    <tr>\n",
       "      <th>350</th>\n",
       "      <td>1</td>\n",
       "      <td>Waduk Sunter Utara Stadion BMW</td>\n",
       "      <td>Tanjung Priok</td>\n",
       "      <td>Jakarta Utara</td>\n",
       "      <td>10</td>\n",
       "      <td>Ha</td>\n",
       "      <td>1</td>\n",
       "      <td>3</td>\n",
       "    </tr>\n",
       "    <tr>\n",
       "      <th>352</th>\n",
       "      <td>1</td>\n",
       "      <td>Waduk Sunter Utara Daikin</td>\n",
       "      <td>Tanjung Priok</td>\n",
       "      <td>Jakarta Utara</td>\n",
       "      <td>10</td>\n",
       "      <td>Ha</td>\n",
       "      <td>1</td>\n",
       "      <td>3</td>\n",
       "    </tr>\n",
       "    <tr>\n",
       "      <th>400</th>\n",
       "      <td>1</td>\n",
       "      <td>Waduk Sunter Timur depan Gor</td>\n",
       "      <td>Tanjung Priok</td>\n",
       "      <td>Jakarta Utara</td>\n",
       "      <td>6.5</td>\n",
       "      <td>Ha</td>\n",
       "      <td>1</td>\n",
       "      <td>0</td>\n",
       "    </tr>\n",
       "    <tr>\n",
       "      <th>401</th>\n",
       "      <td>1</td>\n",
       "      <td>Waduk Sunter Timur depan Astra Container</td>\n",
       "      <td>Tanjung Priok</td>\n",
       "      <td>Jakarta Utara</td>\n",
       "      <td>6.5</td>\n",
       "      <td>Ha</td>\n",
       "      <td>1</td>\n",
       "      <td>0</td>\n",
       "    </tr>\n",
       "  </tbody>\n",
       "</table>\n",
       "</div>"
      ],
      "text/plain": [
       "     bulan                              titik_lokasi      kecamatan  \\\n",
       "177      1                         PHB Akses Marunda      Cilincing   \n",
       "234      1                             Waduk Kodamar  Kelapa Gading   \n",
       "346      1           Waduk Sunter Selatan SPBU Shell  Tanjung Priok   \n",
       "347      1           Waduk Sunter Selatan Pos Polisi  Tanjung Priok   \n",
       "348      1       Waduk Sunter Selatan SPBU Pertamina  Tanjung Priok   \n",
       "349      1                  Waduk Sunter Utara Bisma  Tanjung Priok   \n",
       "350      1            Waduk Sunter Utara Stadion BMW  Tanjung Priok   \n",
       "352      1                 Waduk Sunter Utara Daikin  Tanjung Priok   \n",
       "400      1              Waduk Sunter Timur depan Gor  Tanjung Priok   \n",
       "401      1  Waduk Sunter Timur depan Astra Container  Tanjung Priok   \n",
       "\n",
       "           wilayah panjang/luas satuan_panjang  tanggal  \\\n",
       "177  Jakarta Utara            1             Ha        1   \n",
       "234  Jakarta Utara            8             Ha        1   \n",
       "346  Jakarta Utara           10             Ha        1   \n",
       "347  Jakarta Utara            9             Ha        1   \n",
       "348  Jakarta Utara            9             Ha        1   \n",
       "349  Jakarta Utara           10             Ha        1   \n",
       "350  Jakarta Utara           10             Ha        1   \n",
       "352  Jakarta Utara           10             Ha        1   \n",
       "400  Jakarta Utara          6.5             Ha        1   \n",
       "401  Jakarta Utara          6.5             Ha        1   \n",
       "\n",
       "    volume_sampah_perhari(m3)  \n",
       "177                         0  \n",
       "234                         0  \n",
       "346                         0  \n",
       "347                         0  \n",
       "348                         0  \n",
       "349                         3  \n",
       "350                         3  \n",
       "352                         3  \n",
       "400                         0  \n",
       "401                         0  "
      ]
     },
     "execution_count": 293,
     "metadata": {},
     "output_type": "execute_result"
    }
   ],
   "source": [
    "# Memisahkan semua data yang memiliki satuan_panjang = Ha\n",
    "data_Ha = rename_column_data[rename_column_data.satuan_panjang == \"Ha\"]\n",
    "data_Ha.head(10)"
   ]
  },
  {
   "cell_type": "markdown",
   "metadata": {},
   "source": [
    "## 2. Data Preprocessing"
   ]
  },
  {
   "cell_type": "code",
   "execution_count": 294,
   "metadata": {},
   "outputs": [
    {
     "data": {
      "text/plain": [
       "bulan                            0\n",
       "titik_lokasi                     0\n",
       "kecamatan                        0\n",
       "wilayah                          0\n",
       "panjang/luas                   868\n",
       "satuan_panjang/luas          21955\n",
       "tanggal                          0\n",
       "volume_sampah_perhari(m3)        0\n",
       "dtype: int64"
      ]
     },
     "execution_count": 294,
     "metadata": {},
     "output_type": "execute_result"
    }
   ],
   "source": [
    "# Mengecek nilai kosong (NaN) dari masing-masing kolom di dataframe\n",
    "data_januari.isnull().sum()"
   ]
  },
  {
   "cell_type": "code",
   "execution_count": 295,
   "metadata": {},
   "outputs": [
    {
     "data": {
      "text/plain": [
       "0"
      ]
     },
     "execution_count": 295,
     "metadata": {},
     "output_type": "execute_result"
    }
   ],
   "source": [
    "# Mengecek apakah di dalam dataframe terdapat nilai duplikat/tidak\n",
    "data_januari.duplicated().sum()"
   ]
  },
  {
   "cell_type": "code",
   "execution_count": 296,
   "metadata": {},
   "outputs": [],
   "source": [
    "# Mengubah format penamaan kolom dari yang semula huruf kecil menjadi huruf gabungan (huruf besar & kecil)\n",
    "data_januari = data_januari.rename(str.title, axis=\"columns\")"
   ]
  },
  {
   "cell_type": "code",
   "execution_count": 297,
   "metadata": {},
   "outputs": [],
   "source": [
    "# Menghapus karakter yang berada di kolom \"Panjang/Luas\"\n",
    "data_januari[\"Panjang/Luas\"] = data_januari[\"Panjang/Luas\"].str.replace(r\"\\D\", \"\")"
   ]
  },
  {
   "cell_type": "code",
   "execution_count": 298,
   "metadata": {},
   "outputs": [],
   "source": [
    "# Mengahapus karakter \"-\" di kolom \"Volume_Sampah_Perhari(M3)\" dengan nilai NaN\n",
    "data_januari[\"Volume_Sampah_Perhari(M3)\"] = data_januari[\"Volume_Sampah_Perhari(M3)\"].replace(\"-\", np.nan)"
   ]
  },
  {
   "cell_type": "markdown",
   "metadata": {},
   "source": [
    "Alasan saya mengganti icon \"-\" dengan nilai NaN adalah supaya dapat memudahkan ketika dalam mengganti data karena nilai NaN tersebut akan saya isi dengan nilai yang ada di statistik deskriptif yaitu nilai mean."
   ]
  },
  {
   "cell_type": "code",
   "execution_count": 299,
   "metadata": {},
   "outputs": [],
   "source": [
    "# Mengubah tipe data di kolom \"Panjang/Luas\" dari string menjadi float\n",
    "data_januari[[\"Panjang/Luas\"]] = data_januari[[\"Panjang/Luas\"]].apply(pd.to_numeric)"
   ]
  },
  {
   "cell_type": "code",
   "execution_count": 300,
   "metadata": {
    "scrolled": true
   },
   "outputs": [
    {
     "data": {
      "text/html": [
       "<div>\n",
       "<style scoped>\n",
       "    .dataframe tbody tr th:only-of-type {\n",
       "        vertical-align: middle;\n",
       "    }\n",
       "\n",
       "    .dataframe tbody tr th {\n",
       "        vertical-align: top;\n",
       "    }\n",
       "\n",
       "    .dataframe thead th {\n",
       "        text-align: right;\n",
       "    }\n",
       "</style>\n",
       "<table border=\"1\" class=\"dataframe\">\n",
       "  <thead>\n",
       "    <tr style=\"text-align: right;\">\n",
       "      <th></th>\n",
       "      <th>Bulan</th>\n",
       "      <th>Titik_Lokasi</th>\n",
       "      <th>Kecamatan</th>\n",
       "      <th>Wilayah</th>\n",
       "      <th>Panjang/Luas</th>\n",
       "      <th>Satuan_Panjang/Luas</th>\n",
       "      <th>Tanggal</th>\n",
       "      <th>Volume_Sampah_Perhari(M3)</th>\n",
       "    </tr>\n",
       "  </thead>\n",
       "  <tbody>\n",
       "    <tr>\n",
       "      <th>54338</th>\n",
       "      <td>1</td>\n",
       "      <td>Kali Cakung Drain (Jembatan Tinggi-Perbatasan ...</td>\n",
       "      <td>Cakung</td>\n",
       "      <td>Jakarta Timur</td>\n",
       "      <td>800.0</td>\n",
       "      <td>m</td>\n",
       "      <td>31</td>\n",
       "      <td>NaN</td>\n",
       "    </tr>\n",
       "    <tr>\n",
       "      <th>54339</th>\n",
       "      <td>1</td>\n",
       "      <td>PHB Rawa Teratai</td>\n",
       "      <td>Cakung</td>\n",
       "      <td>Jakarta Timur</td>\n",
       "      <td>700.0</td>\n",
       "      <td>m</td>\n",
       "      <td>31</td>\n",
       "      <td>NaN</td>\n",
       "    </tr>\n",
       "    <tr>\n",
       "      <th>54340</th>\n",
       "      <td>1</td>\n",
       "      <td>PHB Rawa Gelam III</td>\n",
       "      <td>Cakung</td>\n",
       "      <td>Jakarta Timur</td>\n",
       "      <td>1000.0</td>\n",
       "      <td>m</td>\n",
       "      <td>31</td>\n",
       "      <td>NaN</td>\n",
       "    </tr>\n",
       "    <tr>\n",
       "      <th>54341</th>\n",
       "      <td>1</td>\n",
       "      <td>PHB Metropos KIP</td>\n",
       "      <td>Cakung</td>\n",
       "      <td>Jakarta Timur</td>\n",
       "      <td>1000.0</td>\n",
       "      <td>m</td>\n",
       "      <td>31</td>\n",
       "      <td>NaN</td>\n",
       "    </tr>\n",
       "    <tr>\n",
       "      <th>54342</th>\n",
       "      <td>1</td>\n",
       "      <td>PHB Warung Jengkol</td>\n",
       "      <td>Cakung</td>\n",
       "      <td>Jakarta Timur</td>\n",
       "      <td>400.0</td>\n",
       "      <td>m</td>\n",
       "      <td>31</td>\n",
       "      <td>2.0</td>\n",
       "    </tr>\n",
       "  </tbody>\n",
       "</table>\n",
       "</div>"
      ],
      "text/plain": [
       "       Bulan                                       Titik_Lokasi Kecamatan  \\\n",
       "54338      1  Kali Cakung Drain (Jembatan Tinggi-Perbatasan ...    Cakung   \n",
       "54339      1                                   PHB Rawa Teratai    Cakung   \n",
       "54340      1                                 PHB Rawa Gelam III    Cakung   \n",
       "54341      1                                   PHB Metropos KIP    Cakung   \n",
       "54342      1                                 PHB Warung Jengkol    Cakung   \n",
       "\n",
       "             Wilayah  Panjang/Luas Satuan_Panjang/Luas  Tanggal  \\\n",
       "54338  Jakarta Timur         800.0                   m       31   \n",
       "54339  Jakarta Timur         700.0                   m       31   \n",
       "54340  Jakarta Timur        1000.0                   m       31   \n",
       "54341  Jakarta Timur        1000.0                   m       31   \n",
       "54342  Jakarta Timur         400.0                   m       31   \n",
       "\n",
       "       Volume_Sampah_Perhari(M3)  \n",
       "54338                        NaN  \n",
       "54339                        NaN  \n",
       "54340                        NaN  \n",
       "54341                        NaN  \n",
       "54342                        2.0  "
      ]
     },
     "execution_count": 300,
     "metadata": {},
     "output_type": "execute_result"
    }
   ],
   "source": [
    "# Mengubah tipe data pada kolom \"Volume_Sampah_Perhari(M3)\" dari string menjadi float\n",
    "data_januari[\"Volume_Sampah_Perhari(M3)\"] = pd.to_numeric(data_januari[\"Volume_Sampah_Perhari(M3)\"], errors=\"coerce\")\n",
    "\n",
    "data_januari.tail()"
   ]
  },
  {
   "cell_type": "code",
   "execution_count": 301,
   "metadata": {},
   "outputs": [
    {
     "data": {
      "text/plain": [
       "Bulan                            0\n",
       "Titik_Lokasi                     0\n",
       "Kecamatan                        0\n",
       "Wilayah                          0\n",
       "Panjang/Luas                   899\n",
       "Satuan_Panjang/Luas          21955\n",
       "Tanggal                          0\n",
       "Volume_Sampah_Perhari(M3)    17703\n",
       "dtype: int64"
      ]
     },
     "execution_count": 301,
     "metadata": {},
     "output_type": "execute_result"
    }
   ],
   "source": [
    "data_januari.isnull().sum()"
   ]
  },
  {
   "cell_type": "code",
   "execution_count": 302,
   "metadata": {},
   "outputs": [
    {
     "data": {
      "text/plain": [
       "Bulan                            0\n",
       "Titik_Lokasi                     0\n",
       "Kecamatan                        0\n",
       "Wilayah                          0\n",
       "Panjang/Luas                     0\n",
       "Satuan_Panjang/Luas          21955\n",
       "Tanggal                          0\n",
       "Volume_Sampah_Perhari(M3)        0\n",
       "dtype: int64"
      ]
     },
     "execution_count": 302,
     "metadata": {},
     "output_type": "execute_result"
    }
   ],
   "source": [
    "# Mengganti nilai NaN yang ada disetiap kolom di data_januari dengan nilai mean\n",
    "mean = data_januari.mean()\n",
    "data_januari = data_januari.replace(np.nan, mean)\n",
    "\n",
    "data_januari.isnull().sum()"
   ]
  },
  {
   "cell_type": "markdown",
   "metadata": {},
   "source": [
    "Karena pada kolom \"Satuan_Panjang/Luas\" terdapat 21955 nilai data yang kosong maka saya akan menghapus kolom \"Satuan_Panjang/Luas\". Selain karena memiliki nilai NaN yang sangat banyak, kolom \"Satuan_Panjang/Luas\" sudah tidak dibutuhkan dalam mencari prediksi terkait tingkat pengangkutan volume sampah.\n",
    "\n",
    "Selain kolom tersebut saya juga akan menghapus kolom \"Bulan\" karena sudah jelas dari data ini hanya berisi volume sampah yang berhasil diangkut di Bulan Januari tahun 2021."
   ]
  },
  {
   "cell_type": "code",
   "execution_count": 303,
   "metadata": {},
   "outputs": [],
   "source": [
    "# Menghapus kolom yang sudah tidak dibutuhkan yaitu kolom \"Satuan_Panjang/Luas\" dan kolom \"Bulan\"\n",
    "data_januari = data_januari.drop([\"Satuan_Panjang/Luas\", \"Bulan\"], axis=1)"
   ]
  },
  {
   "cell_type": "code",
   "execution_count": 304,
   "metadata": {},
   "outputs": [
    {
     "name": "stdout",
     "output_type": "stream",
     "text": [
      "Ukuran Data dari Kolom Panjang/Luas Sebelum Nilai Outliers Dibuang:  (54343, 6)\n",
      "Ukuran Data dari Kolom Panjang/Luas Setelah Nilai Outliers Dibuang:  (43803, 6)\n"
     ]
    }
   ],
   "source": [
    "# Mengecek nilai outliers untuk kolom \"Panjang/Luas\" dengan nilai quartil dan IQR\n",
    "Q1 = data_januari[\"Panjang/Luas\"].quantile(0.25)\n",
    "Q3 = data_januari[\"Panjang/Luas\"].quantile(0.75)\n",
    "\n",
    "# Menghitung interquartile range maka rumusnya adalah quartil 3 (75%) - quartil 1 (25%)\n",
    "IQR = Q3 - Q1\n",
    "\n",
    "# Melihat ukuran (baris dan kolom) sebelum data yang outliers dibuang\n",
    "print(\"Ukuran Data dari Kolom Panjang/Luas Sebelum Nilai Outliers Dibuang: \", data_januari.shape)\n",
    "\n",
    "# Menghapus nilai outlier dari kolom \"Panjang/Luas\"\n",
    "data_januari = data_januari[~((data_januari[\"Panjang/Luas\"] < (Q1 - 1.5 * IQR)) | \n",
    "                              (data_januari[\"Panjang/Luas\"] > (Q3 + 1.5 * IQR)))]\n",
    "\n",
    "# Melihat ukuran (baris dan kolom) setelah data outliers dibuang dari kolom \"Panjang/Luas\"\n",
    "print(\"Ukuran Data dari Kolom Panjang/Luas Setelah Nilai Outliers Dibuang: \", data_januari.shape)"
   ]
  },
  {
   "cell_type": "markdown",
   "metadata": {},
   "source": [
    "Berdasarkan hasil output diatas terdapat 10.540 data outlier dari kolom \"Panjang/Luas\" dan jika dihapus akan mengkhawatirkan distribusi data di kolom Panjang/Luas tidak balanced/tidak seimbang."
   ]
  },
  {
   "cell_type": "code",
   "execution_count": 305,
   "metadata": {},
   "outputs": [
    {
     "name": "stdout",
     "output_type": "stream",
     "text": [
      "<class 'pandas.core.frame.DataFrame'>\n",
      "Int64Index: 43803 entries, 0 to 54342\n",
      "Data columns (total 6 columns):\n",
      " #   Column                     Non-Null Count  Dtype \n",
      "---  ------                     --------------  ----- \n",
      " 0   Titik_Lokasi               43803 non-null  object\n",
      " 1   Kecamatan                  43803 non-null  object\n",
      " 2   Wilayah                    43803 non-null  object\n",
      " 3   Panjang/Luas               43803 non-null  int32 \n",
      " 4   Tanggal                    43803 non-null  int64 \n",
      " 5   Volume_Sampah_Perhari(M3)  43803 non-null  int32 \n",
      "dtypes: int32(2), int64(1), object(3)\n",
      "memory usage: 2.0+ MB\n"
     ]
    }
   ],
   "source": [
    "# Mengubah tipe data pada kolom \"Panjang/Luas\" dan \"Volume_Sampah_Perhari(M3)\" dari float menjadi integer\n",
    "data_januari[\"Panjang/Luas\"] = data_januari[\"Panjang/Luas\"].astype(int)\n",
    "data_januari[\"Volume_Sampah_Perhari(M3)\"] = data_januari[\"Volume_Sampah_Perhari(M3)\"].astype(int)\n",
    "\n",
    "data_januari.info()"
   ]
  },
  {
   "cell_type": "markdown",
   "metadata": {},
   "source": [
    "## 3. Data Visualisasi serta Analisa per Grafik"
   ]
  },
  {
   "cell_type": "code",
   "execution_count": 306,
   "metadata": {},
   "outputs": [
    {
     "data": {
      "image/png": "[encoded data removed]",
      "text/plain": [
       "<Figure size 1800x1440 with 2 Axes>"
      ]
     },
     "metadata": {},
     "output_type": "display_data"
    }
   ],
   "source": [
    "# Melihat perbandingan antar wilayah di Provinsi DKI Jakarta (berdasarkan volume sampah per hari)\n",
    "plt.figure(figsize=(25, 20))\n",
    "\n",
    "plt.subplot(4, 3, 1)\n",
    "sns.barplot(x=\"Wilayah\", y=\"Volume_Sampah_Perhari(M3)\", data=data_januari)\n",
    "plt.title(\"Grafik Wilayah Jakarta Berdasarkan \\n Volume Sampah Per Hari di Bulan Januari 2021\", \n",
    "          fontsize=13, pad=13)\n",
    "\n",
    "plt.subplot(4, 3, 2)\n",
    "sns.countplot(x=\"Wilayah\", data=data_januari)\n",
    "plt.title(\"Grafik Wilayah Jakarta di Bulan Januari 2021\", fontsize=13, pad=13)\n",
    "plt.show()"
   ]
  },
  {
   "cell_type": "markdown",
   "metadata": {},
   "source": [
    "Berdasarkan grafik diagram diatas maka dapat diambil beberapa kesimpulan diantaranya:\n",
    "\n",
    "1. Wilayah Jakarta Pusat memiliki volume sampah yang paling tinggi diantara wilayah yang lain sedangkan Wilayah Jakarta Utara memiliki volume sampah yang sangat sedikit. Jika diurutkan dalam hal volume sampah yang berhasil diangkut maka akan terjadi susunan seperti dibawah ini:\n",
    "- Jakarta Pusat.\n",
    "- Jakarta Barat.\n",
    "- Jakarta Selatan.\n",
    "- Jakarta Timur.\n",
    "- Jakarta Utara.\n",
    "\n",
    "2. Grafik kedua merupakan grafik yang memperlihatkan perbandingan Wilayah yang ada di Provinsi DKI Jakarta yang dihitung per Kecamatan tanpa ada keterkaitan dalam pengangkutan sampah per harinya. Wilayah Jakarta Barat memiliki nilai yang sangat tinggi yakni mencapai 16.000 sedangkan Wilayah Jakarta Utara memiliki nilai perhitungan yang sangat kecil yakni hanya mencapai kurang lebih 3.000 saja. Jika diurutkan maka hasilnya adalah sebagai berikut:\n",
    "- Jakarta Barat.\n",
    "- Jakarta Timur.\n",
    "- Jakarta Selatan.\n",
    "- Jakarta Pusat.\n",
    "- Jakarta Utara."
   ]
  },
  {
   "cell_type": "code",
   "execution_count": 307,
   "metadata": {},
   "outputs": [
    {
     "data": {
      "image/png": "[encoded data removed]",
      "text/plain": [
       "<Figure size 1080x720 with 1 Axes>"
      ]
     },
     "metadata": {},
     "output_type": "display_data"
    }
   ],
   "source": [
    "# Melihat perbandingan antar kecamatan dalam hal pengangkutan sampah yang ada di Provinsi DKI Jakarta\n",
    "plt.figure(figsize=(15, 10))\n",
    "plt.xticks(rotation=90)\n",
    "\n",
    "sns.countplot(x=\"Kecamatan\", data=data_januari)\n",
    "plt.title(\"Perbandingan Kecamatan Yang Paling Sering Mengangkut Sampah Sungai Pada Bulan Januari 2021\", fontsize=13, pad=13)\n",
    "plt.show()"
   ]
  },
  {
   "cell_type": "markdown",
   "metadata": {},
   "source": [
    "Berdasarkan grafik diatas terkait perbandingan jumlah perhitungan total antar Kecamatan yang didasari oleh kolom Titik_Lokasi dalam menghasilkan/mengumpulkan volume sampah per harinya di Provinsi DKI Jakarta, maka dapat diambil kesimpulan sebagai berikut:\n",
    "\n",
    "1. Kecamatan yang mempunyai nilai tertinggi adalah Kecamatan Kalideres yang memiliki nilai lebih dari 2.500. Jumlah nilai tersebut tidak ada keterkaitannya dengan volume sampah per harinya melainkan didasarkan atas Titik_Lokasi dari sampah-sampah yang berhasil diangkut per harinya.\n",
    "2. Kecamatan seperti Kembangan, Cengkareng, Kebon Jeruk, Grogol dan Palmerah yang saya kira memiliki nilai tertinggi ternyata masih kalah jauh dari Kecamatan Kalideres (Hanya Kecamatan Cengkareng dan Grogol yang memiliki perbandingan nilai yang sangat kecil dari Kecamatan Kalideres).\n",
    "3. Kecamatan yang memiliki titik lokasi terendah dalam hal pengangkutan sampah di Provinsi DKI Jakarta adalah Kecamatan Cilincing yang berada di Wilayah Jakarta Utara yang memiliki titik lokasi pengangkutan hanya 186 saja. Kalah tipis dari Kecamatan Koja yang berada di Wilayah yang sama (Jakarta Utara).\n",
    "\n",
    "Harus diingat bahwa perhitungan dalam memilih Kecamatan tertinggi sampai terendah didasarkan bukan dari volume sampah yang berhasil dingkut per harinya melainkan dari pengumpulan sampah di suatu titik lokasi tertentu saja seperti, kali, saluran penghubung (PHB), waduk, dll."
   ]
  },
  {
   "cell_type": "code",
   "execution_count": 308,
   "metadata": {
    "scrolled": false
   },
   "outputs": [
    {
     "data": {
      "image/png": "[encoded data removed]",
      "text/plain": [
       "<Figure size 720x360 with 1 Axes>"
      ]
     },
     "metadata": {},
     "output_type": "display_data"
    }
   ],
   "source": [
    "# Melihat trend dalam pengangkutan sampah per harinya berdasarkan tanggal pengangkutan\n",
    "plt.figure(figsize=(10, 5))\n",
    "    \n",
    "sns.lineplot(x=\"Tanggal\", y=\"Volume_Sampah_Perhari(M3)\", color=\"green\", data=data_januari)\n",
    "plt.title(\"Trend Pengangkutan Volume Sampah berdasarkan Tanggal Pengangkutan Sampah\", fontsize=13, pad=13)\n",
    "plt.show()"
   ]
  },
  {
   "cell_type": "markdown",
   "metadata": {},
   "source": [
    "Dari grafik garis (Line plot) diatas menunjukkan intensitas pengangkutan sampah yang dilakukan oleh Dinas Lingkungan Hidup Provinsi DKI Jakarta di setiap hari pada bulan Januari tahun 2021. Hasilnya adalah cenderung menunjukkan terjadinya trend kenaikan volume sampah di setiap harinya dan puncaknya terjadi di tanggal 18 Januari 2021. Namun pada tanggal 25 Januari terjadi penurunan trend dalam mengangkut sampah di berbagai titik lokasi yang telah ditentukan. Tetapi walaupun begitu penurunan trend data ini tidak terlalu mengkhawatirkan sebab setelah tanggal 25 Januari, tepatnya pada tanggal 26 Januari, terjadi kenaikan trend yang sangat signifikan walaupun di hari esoknya (27 Januari) juga terjadi penurunan trend kembali dalam mengangkut sampah di beberapa titik lokasi yang telah ditentukan (Walaupun tidak sedrastis tanggal 25)."
   ]
  },
  {
   "cell_type": "code",
   "execution_count": 309,
   "metadata": {},
   "outputs": [
    {
     "data": {
      "image/png": "[encoded data removed]",
      "text/plain": [
       "<Figure size 720x360 with 2 Axes>"
      ]
     },
     "metadata": {},
     "output_type": "display_data"
    }
   ],
   "source": [
    "# Melihat korelasi antar kolom yang memiliki bersifat numerik\n",
    "plt.figure(figsize=(10, 5))\n",
    "\n",
    "korelasi_data = sns.heatmap(data_januari.corr(), cmap=\"GnBu\", annot=True)\n",
    "korelasi_data.set_title(\"Melihat Korelasi Antar Kolom yang Bersifat Numerik (Angka)\", fontdict={\"fontsize\":13}, pad=13);"
   ]
  },
  {
   "cell_type": "markdown",
   "metadata": {},
   "source": [
    "Grafik diatas dinamakan sebagai grafik heatmap atau grafik peta panas dengan menunjukkan nilai korelasi antar masing-masing kolom yang bersifat numerik sedangkan kategorik tidak. Cara membaca grafik ini yaitu membaca dari sumbu y ke sumbu x atau sebaliknya dengan memfokuskan/memperhatikan nilai yang ada di box persegi sebagai penanda nilai korelasinya. Contohnya adalah sebagai berikut:\n",
    "\n",
    "1. Variabel Panjang/Luas yang ada di sumbu y memiliki nilai korelasi 1 dengan variabel yang sama (Panjang/Luas) yang berada di sumbu x. Sedangkan variabel Panjang/Luas yang ada di sumbu y memiliki nilai korelasi -0.0013 dengan variabel Tanggal yang ada di sumbu x. Hal tersebut menandakan tidak memiliki hubungan timbal-balik tetapi sedikit memiliki hubungan timbal-balik. Sedangkan variabel Panjang/Luas yang ada di sumbu y dengan variabel Volume_Sampah_Perhari(M3) sama sekali tidak memiliki hubungan timbal-balik karena nilai yang dihasilkan adalah -0.18.\n",
    "2. Variabel Volume_Sampah_Perhari(M3) yang ada di sumbu y memiliki nilai korelasi = 0.0011 dengan variabel Tanggal yang ada di sumbu x. Sama seperti variabel Panjang/Luas dengan variabel Tanggal, di dalam kasus ini berarti variabel Volume_Sampah_Perhari(M3) sedikit memiliki hubungan timbal balik walaupun penilaian dominannya cenderung tidak memiliki hubungan timbal-balik.\n",
    "\n",
    "Jadi intinya setiap kolom-kolom yang ada di sumbu y (yang berada di sisi kiri) dibaca/diperhatikan setiap nilainya dengan kolom-kolom yang berada di sumbu x (yang berada di bawah). Untuk memudahkan dalam membedakan apakah nilai korelasinya bagus/tidak dapat dilihat dari indikator warna yang di sebelah paling kanan dari grafik heatmap. Semakin bagus nilai korelasinya maka warnanya menjadi biru tua tetapi semakin buruk/kecil nilai korelasinya maka nilai warna pada box persegi di nilai tersebut menjadi warna putih."
   ]
  },
  {
   "cell_type": "code",
   "execution_count": 310,
   "metadata": {},
   "outputs": [
    {
     "data": {
      "image/png": "[encoded data removed]",
      "text/plain": [
       "<Figure size 720x360 with 1 Axes>"
      ]
     },
     "metadata": {},
     "output_type": "display_data"
    }
   ],
   "source": [
    "# Melihat nilai deskriptif di kolom \"Wilayah\" berdasarkan kolom \"Panjang/Luas\" melalui grafik box\n",
    "plt.figure(figsize=(10, 5))\n",
    "\n",
    "sns.boxplot(x=\"Wilayah\", y=\"Panjang/Luas\", data=data_januari)\n",
    "plt.title(\"Nilai Deskriptif di Kolom Jenis Kelamin dalam Grafik Box\", fontsize=13, pad=13)\n",
    "plt.show()"
   ]
  },
  {
   "cell_type": "markdown",
   "metadata": {},
   "source": [
    "Grafik box plot merupakan sebuah bentuk grafik yang berfungsi untuk memperlihatkan nilai statistik deskriptif seperti nilai maximum, minimum, quartil 1 - 3 dan juga nilai-nilai outlier per datanya. Maka dari berdasarkan hasil dari grafik boc diatas saya dapat mengambil kesimpulan dan dapat menentukan nilai-nilai deskriptif di kolom Wilayah diantaranya adalah sebagai berikut:\n",
    "\n",
    "1. Wilayah Jakarta Pusat:\n",
    "- Nilai maksimal dari Wilayah Jakarta Pusat jika dilihat berdasarkan Panjang/Luas volume sampah yang berhasil diangkut berada di nilai 1500. Selain itu di Wilayah Jakarta Pusat masih terdapat beberapa nilai outlier walaupun tidak sebanyak saat belum dilakukan cleansing nilai outlier di kolom Panjang/Luas.\n",
    "- Nilai quartil 3 = 1000.\n",
    "- Nilai quartil 2 = 800.\n",
    "- Nilai quartil 1 = 500.\n",
    "- Nilai minimum pada Wilayah Jakarta Pusat di grafik box diatas adalah 0.\n",
    "- Sedangkan nilai interquartile range = 500 yang didapatkan dari pengurangan antara nilai quartil 3 dengan quartil 1 (IQR = Q3 - Q1).\n",
    "\n",
    "2. Wilayah Jakarta Utara:\n",
    "- Nilai maksimal dari Wilayah Jakarta Utara yaitu 1500.\n",
    "- Nilai quartil 3 = 4000.\n",
    "- Nilai quartil 2 = 2500.\n",
    "- Nilai quartil 1 = 1000.\n",
    "- Nilai minimum pada Wilayah Jakarta Utara adalah 0.\n",
    "- Sedangkan nilai interquartile range (IQR) = 3000.\n",
    "\n",
    "3. Wilayah Jakarta Barat:\n",
    "- Nilai maksimal dari Wilayah Jakarta Barat adalah 1500. Selain itu di Wilayah Jakarta Barat masih terdapat beberapa nilai outlier yang cukup banyak. Tetepi walaupun begitu nilai outlier yang masih ada tidak sebanyak ketika saat belum dilakukan proses penghapusan nilai outlier di kolom Panjang/Luas.\n",
    "- Nilai quartil 3 = 800.\n",
    "- Nilai quartil 2 = 400.\n",
    "- Nilai quartil 1 = 300.\n",
    "- Nilai minimum pada Wilayah Jakarta Barat = 0.\n",
    "- Sedangkan nilai interquartile range pada Wilayah Jakarta Barat adalah 700 (dari hasil pengurangan quartil 3 dengan quartil 1).\n",
    "\n",
    "4. Wilayah Jakarta Selatan:\n",
    "- Nilai maksimal dari Wilayah Jakarta Selatan berada di nilai 3500. Selain itu di Wilayah Jakarta Selatan masih terdapat beberapa nilai outlier walaupun begitu tidak sebanyak ketika saat belum dilakukan proses penghapusan nilai outlier di kolom Panjang/Luas.\n",
    "- Nilai quartil 3 = 2000.\n",
    "- Nilai quartil 2 = 1200.\n",
    "- Nilai quartil 1 = 900.\n",
    "- Nilai minimum pada Wilayah Jakarta Barat = 0.\n",
    "- Sedangkan nilai interquartile range pada Wilayah Jakarta Selatan = 1.100.\n",
    "\n",
    "5. Wilayah Jakarta Timur:\n",
    "- Nilai maksimal dari Wilayah Jakarta Timur = 1400. Selain itu di Wilayah Jakarta Timur masih terdapat beberapa nilai outlier walaupun begitu tidak sebanyak ketika saat belum dilakukan proses penghapusan nilai outlier di kolom Panjang/Luas.\n",
    "- Nilai quartil 3 = 1000.\n",
    "- Nilai quartil 2 = 800.\n",
    "- Nilai quartil 1 = 600.\n",
    "- Nilai minimum pada Wilayah Jakarta Barat = 0.\n",
    "- Sedangkan nilai IQR (Interquartile Range) di box Wilayah Jakarta Timur adalah 400."
   ]
  },
  {
   "cell_type": "code",
   "execution_count": 311,
   "metadata": {},
   "outputs": [
    {
     "data": {
      "image/png": "[encoded data removed]",
      "text/plain": [
       "<Figure size 720x576 with 1 Axes>"
      ]
     },
     "metadata": {},
     "output_type": "display_data"
    }
   ],
   "source": [
    "# Melihat komposisi masing-masing wilayah Provinsi DKI Jakarta berdasarkan panjang/luas sampah yang berhasil dikumpulkan\n",
    "plt.figure(figsize=(10, 8))\n",
    "\n",
    "data_pie = data_januari.groupby(\"Wilayah\")[\"Panjang/Luas\"].count().reset_index()\n",
    "plt.pie(data_pie[\"Panjang/Luas\"], labels = data_pie[\"Wilayah\"], autopct = \"%1.2f%%\")\n",
    "plt.title(\"Melihat Presentase Panjang/Luas Sampah yang Berhasil Dikumpulkan \\n di Masing-Masing Wilayah Provinsi DKI Jakarta \", \n",
    "          fontsize=13, pad=13)\n",
    "plt.show()"
   ]
  },
  {
   "cell_type": "markdown",
   "metadata": {},
   "source": [
    "Grafik Pie merupakan sebuah grafik yang berfungsi untuk menunjukkan komposisi dari data yang bersifat kategorik dengan memperlihatkan nilai presentase dari masing-masing data dan jumlah total presentase tersebut harus 100% (tidak boleh lebih/kurang).\n",
    "\n",
    "Berdasarkan grafik pie diatas maka saya dapat menganalisis komposisi data dari kolom Wilayah berdasarkan perhitungan keseluruhan atau nilai SUM dari kolom Panjang/Luas yang dihitung berdasarkan wilayah dari Provinsi DKI Jakarta. Kolom Panjang/Luas ini merupakan sebuah kolom yang menandakan seberapa luasnya area penanganan sampah yang dilakukan oleh Dinas Lingkungan Hidup (DLH) Provinsi DKI Jakarta. Berikut adalah hasil analisa dari saya:\n",
    "\n",
    "1. Wilayah yang paling luas dalam menangani sampah yang dilakukan oleh Dinas Lingkungan Hidup Provinsi DKI Jakarta adalah Wilayah Jakarta Barat.\n",
    "2. Wilayah Jakarta Pusat merupakan wilayah yang paling kecil/sempit area penanganan sampah yang dilakukan oleh Dinas Lingkungan Hidup Provinsi DKI Jakarta."
   ]
  },
  {
   "cell_type": "markdown",
   "metadata": {},
   "source": [
    "## 4. Data Modelling"
   ]
  },
  {
   "cell_type": "markdown",
   "metadata": {},
   "source": [
    "### 4.1. Pra-Pemodelan"
   ]
  },
  {
   "cell_type": "code",
   "execution_count": 312,
   "metadata": {},
   "outputs": [
    {
     "name": "stdout",
     "output_type": "stream",
     "text": [
      "Ukuran Data dari Kolom Panjang/Luas Sebelum Nilai Outliers Dibuang:  (43803, 6)\n",
      "Ukuran Data dari Kolom Panjang/Luas Setelah Nilai Outliers Dibuang:  (34472, 6)\n"
     ]
    }
   ],
   "source": [
    "# Mengecek nilai outliers untuk kolom \"Volume_Sampah_Perhari(M3)\" dengan nilai quartil dan IQR\n",
    "Q1 = data_januari[\"Volume_Sampah_Perhari(M3)\"].quantile(0.25)\n",
    "Q3 = data_januari[\"Volume_Sampah_Perhari(M3)\"].quantile(0.75)\n",
    "\n",
    "# Menghitung interquartile range maka rumusnya adalah quartil 3 (75%) - quartil 1 (25%)\n",
    "IQR = Q3 - Q1\n",
    "\n",
    "# Melihat ukuran (baris dan kolom) sebelum data yang outliers dibuang\n",
    "print(\"Ukuran Data dari Kolom Panjang/Luas Sebelum Nilai Outliers Dibuang: \", data_januari.shape)\n",
    "\n",
    "# Menghapus nilai outlier dari kolom \"Volume_Sampah_Perhari(M3)\"\n",
    "data_januari = data_januari[~((data_januari[\"Volume_Sampah_Perhari(M3)\"] < (Q1 - 1.5 * IQR)) | \n",
    "                              (data_januari[\"Volume_Sampah_Perhari(M3)\"] > (Q3 + 1.5 * IQR)))]\n",
    "\n",
    "# Melihat ukuran (baris dan kolom) setelah data outliers dibuang dari kolom \"Panjang/Luas\"\n",
    "print(\"Ukuran Data dari Kolom Panjang/Luas Setelah Nilai Outliers Dibuang: \", data_januari.shape)"
   ]
  },
  {
   "cell_type": "markdown",
   "metadata": {},
   "source": [
    "Berdasarkan hasil output diatas terdapat 9.331 data outlier dari kolom \"Volume_Sampah_Perhari(M3)\" dan jika tidak dihapus akan mengakibatkan nilai metrics dan prediksi yang dihasilkan oleh kedua model (Regresi Linear & Regresi Random Forest) tidak tepat."
   ]
  },
  {
   "cell_type": "code",
   "execution_count": 313,
   "metadata": {},
   "outputs": [],
   "source": [
    "# Melakukan pemisahan data menjadi variabel independen (x) dan variabel dependen (y)\n",
    "x = data_januari[[\"Tanggal\"]]\n",
    "\n",
    "y = data_januari[\"Volume_Sampah_Perhari(M3)\"]"
   ]
  },
  {
   "cell_type": "code",
   "execution_count": 314,
   "metadata": {},
   "outputs": [],
   "source": [
    "# Proses Split validation yaitu membagi variabel independen dan dependen menjadi data training dan data testing\n",
    "\n",
    "x_train, x_test, y_train, y_test = train_test_split(x, y, test_size=0.3, random_state=37)"
   ]
  },
  {
   "cell_type": "markdown",
   "metadata": {},
   "source": [
    "Penjelasan dari proses split validation:\n",
    "\n",
    "1. x: Merupakan sebuah variabel independen atau variabel yang dipengaruhi dari variabel dependen\n",
    "2. y: Merupakan sebuah variabel dependen atau variabel yang mempengaruhi variabel independen. Variabel y juga biasa dikenal sebagai label prediksi.\n",
    "3. test_size: Nilai presentase atau komposisi dari dalam membagi data menjadi data training dan data testing. Dalam pengujian ini saya memakai nilai test_size = 0.3 yang dimana ukuran dari data test mencapai 30% dan data train mencapai 80%.\n",
    "4. random_state: Menetapkan nilai. Jika nilainya sama maka fungsi train_test_split akan menghasilkan pemisahan nilai yang sama persis di setiap waktunya. Namun jika ditentukan nilai random_statenya maka data akan diacak secara random."
   ]
  },
  {
   "cell_type": "code",
   "execution_count": 315,
   "metadata": {},
   "outputs": [
    {
     "name": "stdout",
     "output_type": "stream",
     "text": [
      "Jumlah Rows dan Kolom di Data Training Setelah Dilakukan Split Validation:  (24130, 1) (24130,)\n",
      "Jumlah Rows dan Kolom di Data Testing Setelah Dilakukan Split Validation:  (10342, 1) (10342,)\n"
     ]
    }
   ],
   "source": [
    "# Melihat ukuran dimensi dari kolom dan rows dari data training dan data testing\n",
    "print(\"Jumlah Rows dan Kolom di Data Training Setelah Dilakukan Split Validation: \", x_train.shape, y_train.shape)\n",
    "print(\"Jumlah Rows dan Kolom di Data Testing Setelah Dilakukan Split Validation: \", x_test.shape, y_test.shape)"
   ]
  },
  {
   "cell_type": "code",
   "execution_count": 316,
   "metadata": {},
   "outputs": [],
   "source": [
    "# Melakukan scaling data (training & testing) dengan standard scaler\n",
    "from sklearn.preprocessing import StandardScaler\n",
    "\n",
    "standard_scaler = StandardScaler()\n",
    "\n",
    "x_train = standard_scaler.fit_transform(x_train)\n",
    "x_test = standard_scaler.fit_transform(x_test)"
   ]
  },
  {
   "cell_type": "markdown",
   "metadata": {},
   "source": [
    "StandardScaler merupakan salah satu dari proses scaling data ketika ingin melakukan tahapan pemodelan machine learning. StandardScaler akan melakukan proses standarisasi data yang ada di kolom fitur dengan mengurangi nilai mean (rata-rata) dan kemudian nilai tersebut akan diskalakan ke varians unit. Nilai yang ada di varians unit tersebut akan membagi semua nilai yang ada dengan nilai standar deviasi.\n",
    "\n",
    "StandardScaler akan membuat nilai mean (rata-rata) yang telah di observasi menjadi 0 sedangkan nilai standar deviasinya menjadi 1. Begitu pula dengan nilai varians yang menjadi 1 karena nilai varians = nilai standar deviasi yang di kuadratkan. Rumus dari scaling data StandardScaler adalah sebagai berikut:\n",
    "\n",
    "x_scaled = x - mean(x) / Standard Deviation"
   ]
  },
  {
   "cell_type": "code",
   "execution_count": 317,
   "metadata": {},
   "outputs": [
    {
     "name": "stdout",
     "output_type": "stream",
     "text": [
      "Nilai Scaling dari Hasil StandardScaler pada Data Testing: \n",
      " [[-1.55744345]\n",
      " [-0.88582539]\n",
      " [ 0.90515611]\n",
      " ...\n",
      " [-0.6619527 ]\n",
      " [ 0.79321976]\n",
      " [-0.43808001]]\n",
      "\n",
      " ---------------------------------------------------------------------------- \n",
      "\n",
      "Nilai Scaling dari Hasil StandardScaler pada Data Training: \n",
      " [[ 1.55963528]\n",
      " [-1.6680759 ]\n",
      " [ 1.55963528]\n",
      " ...\n",
      " [ 1.33703451]\n",
      " [-0.77767281]\n",
      " [ 0.33533104]]\n"
     ]
    }
   ],
   "source": [
    "# Melihat hasil dari proses scalling dengan standardscaler\n",
    "print(\"Nilai Scaling dari Hasil StandardScaler pada Data Testing: \\n\", x_test)\n",
    "\n",
    "print(\"\\n\", \"----------------------------------------------------------------------------\", \"\\n\")\n",
    "\n",
    "print(\"Nilai Scaling dari Hasil StandardScaler pada Data Training: \\n\", x_train)"
   ]
  },
  {
   "cell_type": "markdown",
   "metadata": {},
   "source": [
    "### 4.2. Regresi Linear"
   ]
  },
  {
   "cell_type": "code",
   "execution_count": 318,
   "metadata": {},
   "outputs": [
    {
     "name": "stdout",
     "output_type": "stream",
     "text": [
      "Parameter Terbaik dari Parameter copy_X adalah:  False\n",
      "Parameter Terbaik dari Parameter fit_intercept adalah:  False\n",
      "Parameter Terbaik dari Parameter n_jobs adalah:  14\n",
      "Parameter Terbaik dari Parameter positive adalah:  True\n"
     ]
    }
   ],
   "source": [
    "# Memanggil model regresi linear dan tuning hyperparameters model regresi linear dan mencari nilai parameter yang terbaik\n",
    "from sklearn.linear_model import LinearRegression\n",
    "\n",
    "linear_regression = LinearRegression()\n",
    "\n",
    "parameters_linear = {\n",
    "    \"copy_X\": [\"True\", \"False\"],\n",
    "    \"fit_intercept\": [\"True\", \"False\"],\n",
    "    \"n_jobs\": [14, 3, 9, 6, 13, 12],\n",
    "    \"positive\": [\"True\", \"True\"]\n",
    "}\n",
    "\n",
    "\"\"\"\n",
    "Memanggil paramater yang telah di deskripsikan dan memasukkannya ke dalam library yang berfungsi untuk \n",
    "mencari nilai terbaik dari masing-masing parameter yang telah dipanggil\n",
    "\"\"\"\n",
    "randomized_searchcv_linear = RandomizedSearchCV(linear_regression, parameters_linear)\n",
    "randomized_searchcv_linear.fit(x_train, y_train)\n",
    "\n",
    "# Melihat paramater terbaik dari model regresi linear\n",
    "print(\"Parameter Terbaik dari Parameter copy_X adalah: \", randomized_searchcv_linear.best_estimator_.get_params()[\"copy_X\"])\n",
    "print(\"Parameter Terbaik dari Parameter fit_intercept adalah: \", \n",
    "      randomized_searchcv_linear.best_estimator_.get_params()[\"fit_intercept\"])\n",
    "print(\"Parameter Terbaik dari Parameter n_jobs adalah: \", randomized_searchcv_linear.best_estimator_.get_params()[\"n_jobs\"])\n",
    "print(\"Parameter Terbaik dari Parameter positive adalah: \", randomized_searchcv_linear.best_estimator_.get_params()[\"positive\"])\n",
    "\n",
    "#print(linear_regression.get_params().keys())\n",
    "#linear_regression.fit(x_train, y_train)"
   ]
  },
  {
   "cell_type": "markdown",
   "metadata": {},
   "source": [
    "Berdasarkan hasil output terkait pencarian parameter terbaik dari model regresi linear didapatkan beberapa kesimpulan diantaranya:\n",
    "\n",
    "1. Pada parameter copy_X, nilai terbaik dari parameter ini adalah False dari pada True.\n",
    "2. Di dalam parameter fit_intercept, parameter ini memiliki nilai terbaik yakni nilai True.\n",
    "3. Dari beberapa nilai yang saya berikan di dalam parameter n_jobs (dimulai dari nilai 14, 3, 9, 6, 13, dan 12), nilai terbaik dari parameter n_jobs adalah nilai 9.\n",
    "4. Sedangkan parameter positive, nilai terbaik yang keluar dari parameter ini adalah nilai True dari pada nilai False."
   ]
  },
  {
   "cell_type": "code",
   "execution_count": 319,
   "metadata": {},
   "outputs": [
    {
     "name": "stdout",
     "output_type": "stream",
     "text": [
      "----------------Nilai Prediksi dari Data Testing------------------\n",
      "[2.73048261 2.73592356 2.75043279 ... 2.73773722 2.74952596 2.73955087]\n",
      "\n",
      "----------------Nilai Prediksi dari Data Training-----------------\n",
      "[2.7557349  2.72958634 2.7557349  ... 2.75393155 2.73679974 2.74581648]\n"
     ]
    }
   ],
   "source": [
    "# Melihat nilai prediksi dari data training dan data testing setelah dilakukan proses tuning hyperparameters\n",
    "print(\"----------------Nilai Prediksi dari Data Testing------------------\")\n",
    "pred_test_linear = randomized_searchcv_linear.predict(x_test)\n",
    "print(pred_test_linear)\n",
    "\n",
    "print(\"\\n----------------Nilai Prediksi dari Data Training-----------------\")\n",
    "pred_train_linear = randomized_searchcv_linear.predict(x_train)\n",
    "print(pred_train_linear)"
   ]
  },
  {
   "cell_type": "code",
   "execution_count": 334,
   "metadata": {},
   "outputs": [
    {
     "data": {
      "text/plain": [
       "2.743099875673436"
      ]
     },
     "execution_count": 334,
     "metadata": {},
     "output_type": "execute_result"
    }
   ],
   "source": [
    "from sklearn.metrics import mean_absolute_error\n",
    "\n",
    "mean_absolute_error(x_test, pred_test_linear)"
   ]
  },
  {
   "cell_type": "code",
   "execution_count": 331,
   "metadata": {},
   "outputs": [],
   "source": [
    "# Membuat fungsi untuk menampung nilai-nilai metrics yang akan digunakan dalam proses prediksi dengan model regresi linear\n",
    "from sklearn import metrics\n",
    "\n",
    "def metrics_linear(x_test, pred_test_linear):\n",
    "    mean_absolute_error = metrics.mean_absolute_error(y_train, y_test)\n",
    "    mean_squared_error = metrics.mean_squared_error(y_train, y_test)\n",
    "    root_mean_squared_error = np.sqrt(metrics.mean_squared_error(y_train, y_test))\n",
    "        \n",
    "    # Print metrics result\n",
    "    print(\"Nilai Dari Metric Mean Absolute Error Adalah: \", \"%.2f\" % mean_absolute_error)\n",
    "    print(\"Nilai Dari Metric Mean Squared Error Adalah: \", \"%.2f\" % mean_squared_error)\n",
    "    print(\"Nilai Dari Metric Root Mean Squared Error: \", \"%.2f\" % root_mean_squared_error)"
   ]
  },
  {
   "cell_type": "code",
   "execution_count": 332,
   "metadata": {},
   "outputs": [
    {
     "name": "stdout",
     "output_type": "stream",
     "text": [
      "Hasil Prediksi Dari Data Testing: \n",
      "Nilai Dari Metric Mean Absolute Error Adalah:  1.58\n",
      "Nilai Dari Metric Mean Squared Error Adalah:  3.02\n",
      "Nilai Dari Metric Root Mean Squared Error:  1.74\n",
      "\n",
      "Hasil Prediksi dari Data Training: \n",
      "Nilai Dari Metric Mean Absolute Error Adalah:  1.57\n",
      "Nilai Dari Metric Mean Squared Error Adalah:  2.99\n",
      "Nilai Dari Metric Root Mean Squared Error:  1.73\n"
     ]
    }
   ],
   "source": [
    "# Melihat nilai dari masing-masing metrics terbaik dalam memprediksi tingkat pengangkutan sampah perharinya\n",
    "print(\"Hasil Prediksi Dari Data Testing: \")\n",
    "metrics_linear(y_test, pred_test_linear)\n",
    "\n",
    "print(\"\\nHasil Prediksi dari Data Training: \")\n",
    "metrics_linear(y_train, pred_train_linear)"
   ]
  },
  {
   "cell_type": "code",
   "execution_count": 322,
   "metadata": {},
   "outputs": [
    {
     "data": {
      "text/plain": [
       "Text(0.5, 1.0, 'Hasil Prediksi dengan Data Training di Model Regresi Linear')"
      ]
     },
     "execution_count": 322,
     "metadata": {},
     "output_type": "execute_result"
    },
    {
     "data": {
      "image/png": "[encoded data removed]",
      "text/plain": [
       "<Figure size 1800x1440 with 2 Axes>"
      ]
     },
     "metadata": {},
     "output_type": "display_data"
    }
   ],
   "source": [
    "# Membuat grafik untuk melihat trend data dari volume pengangkutan sampah setelah dilakukan proses pemodelan regresi linear\n",
    "plt.figure(figsize=(25, 20))\n",
    "\n",
    "# Grafik untuk melihat trend data testing setelah dilakukan proses pemodelan regresi linear\n",
    "plt.subplot(4, 3, 1)\n",
    "sns.lineplot(y_test, pred_test_linear)\n",
    "plt.title(\"Hasil Prediksi dengan Data Testing di Model Regresi Linear\", fontsize=13, pad=13)\n",
    "\n",
    "# Grafik untuk melihat trend data training setelah dilakukan proses pemodelan regresi linear\n",
    "plt.subplot(4, 3, 2)\n",
    "sns.lineplot(y_train, pred_train_linear)\n",
    "plt.title(\"Hasil Prediksi dengan Data Training di Model Regresi Linear\", fontsize=13, pad=13)"
   ]
  },
  {
   "cell_type": "markdown",
   "metadata": {},
   "source": [
    "### 4.3. Regresi Random Forest"
   ]
  },
  {
   "cell_type": "markdown",
   "metadata": {},
   "source": [
    "Setelah memprediksi menggunakan model regresi linear, selanjutnya saya akan memprediksi tingkat pengangkutan sampah per harinya menggunakan model regresi random forest."
   ]
  },
  {
   "cell_type": "code",
   "execution_count": 323,
   "metadata": {},
   "outputs": [
    {
     "name": "stdout",
     "output_type": "stream",
     "text": [
      "Parameter Terbaik dari Parameter n_estimators adalah:  22\n",
      "Parameter Terbaik dari Parameter max_depth adalah:  19\n",
      "Parameter Terbaik dari Parameter min_samples_split adalah:  27\n",
      "Parameter Terbaik dari Parameter min_samples_leaf adalah:  8\n",
      "Parameter Terbaik dari Parameter max_leaf_nodes adalah:  7\n"
     ]
    }
   ],
   "source": [
    "# Memanggil model regresi random forest dan mencari nilai parameter yang terbaik menggunakan randomized search cv\n",
    "from sklearn.ensemble import RandomForestRegressor\n",
    "\n",
    "randomforest_regression = RandomForestRegressor()\n",
    "\n",
    "parameters_randomforest_regression = {\n",
    "    \"n_estimators\": [22, 26, 40, 30, 37],\n",
    "    \"max_depth\": [23, 19, 16, 13, 31],\n",
    "    \"min_samples_split\": [17, 7, 13, 23, 27],\n",
    "    \"min_samples_leaf\": [8, 13, 15, 24, 28],\n",
    "    \"max_leaf_nodes\": [4, 5, 6, 7, 8]\n",
    "}\n",
    "\n",
    "\"\"\"\n",
    "Memanggil paramater yang telah di deskripsikan dan memasukkannya ke dalam library yang berfungsi untuk \n",
    "mencari nilai terbaik dari masing-masing parameter yang telah dipanggil\n",
    "\"\"\"\n",
    "randomized_searchcv_randomforest = RandomizedSearchCV(randomforest_regression, parameters_randomforest_regression)\n",
    "randomized_searchcv_randomforest.fit(x_train, y_train)\n",
    "\n",
    "# Melihat paramater terbaik dari model regresi linear\n",
    "print(\"Parameter Terbaik dari Parameter n_estimators adalah: \", \n",
    "      randomized_searchcv_randomforest.best_estimator_.get_params()[\"n_estimators\"])\n",
    "print(\"Parameter Terbaik dari Parameter max_depth adalah: \", \n",
    "      randomized_searchcv_randomforest.best_estimator_.get_params()[\"max_depth\"])\n",
    "print(\"Parameter Terbaik dari Parameter min_samples_split adalah: \", \n",
    "      randomized_searchcv_randomforest.best_estimator_.get_params()[\"min_samples_split\"])\n",
    "print(\"Parameter Terbaik dari Parameter min_samples_leaf adalah: \", \n",
    "      randomized_searchcv_randomforest.best_estimator_.get_params()[\"min_samples_leaf\"])\n",
    "print(\"Parameter Terbaik dari Parameter max_leaf_nodes adalah: \", \n",
    "      randomized_searchcv_randomforest.best_estimator_.get_params()[\"max_leaf_nodes\"])\n",
    "\n",
    "#print(randomized_searchcv.get_params().keys())\n",
    "#randomized_searchcv.fit(x_train, y_train)"
   ]
  },
  {
   "cell_type": "code",
   "execution_count": 324,
   "metadata": {},
   "outputs": [
    {
     "name": "stdout",
     "output_type": "stream",
     "text": [
      "----------------Nilai Prediksi dari Data Testing------------------\n",
      "[2.65609748 2.74622831 2.71810742 ... 2.77058326 2.7043579  2.75965366]\n",
      "\n",
      "---------------Nilai Prediksi dari Data Training-----------------\n",
      "[2.98573451 2.69698234 2.98573451 ... 2.64049135 2.77058326 2.77534297]\n"
     ]
    }
   ],
   "source": [
    "# Melihat nilai prediksi dari data training dan data testing setelah dilakukan proses pencarian nilai parameters terbaik\n",
    "print(\"----------------Nilai Prediksi dari Data Testing------------------\")\n",
    "pred_test_randomforest = randomized_searchcv_randomforest.predict(x_test)\n",
    "print(pred_test_randomforest)\n",
    "\n",
    "print(\"\\n---------------Nilai Prediksi dari Data Training-----------------\")\n",
    "pred_train_randomforest = randomized_searchcv_randomforest.predict(x_train)\n",
    "print(pred_train_randomforest)"
   ]
  },
  {
   "cell_type": "code",
   "execution_count": 325,
   "metadata": {},
   "outputs": [],
   "source": [
    "# Membuat fungsi untuk menampung metrics yang akan digunakan dalam proses prediksi dengan model regresi random forest\n",
    "from sklearn import metrics\n",
    "\n",
    "def model_regresi_randomforest(x_test, pred_test_randomforest):\n",
    "    mean_absolute_error = metrics.mean_absolute_error(x_test, pred_test_randomforest)\n",
    "    mean_squared_error = metrics.mean_squared_error(x_test, pred_test_randomforest)\n",
    "    root_mean_squared_error = np.sqrt(metrics.mean_squared_error(x_test, pred_test_randomforest))\n",
    "        \n",
    "    # Print metrics result\n",
    "    print(\"Nilai Dari Metric Mean Absolute Error Adalah: \", \"%.2f\" % mean_absolute_error)\n",
    "    print(\"Nilai Dari Metric Mean Squared Error Adalah: \", \"%.2f\" % mean_squared_error)\n",
    "    print(\"Nilai Dari Metric Root Mean Squared Error: \", \"%.2f\" % root_mean_squared_error)"
   ]
  },
  {
   "cell_type": "code",
   "execution_count": 326,
   "metadata": {},
   "outputs": [
    {
     "name": "stdout",
     "output_type": "stream",
     "text": [
      "Hasil Prediksi Dari Data Testing: \n",
      "Nilai Dari Metric Mean Absolute Error Adalah:  1.57\n",
      "Nilai Dari Metric Mean Squared Error Adalah:  3.02\n",
      "Nilai Dari Metric Root Mean Squared Error:  1.74\n",
      "Nilai Dari Metric R2 Score Adalah:  2.6968576895103347e-05\n",
      "\n",
      "Hasil Prediksi dari Data Training: \n",
      "Nilai Dari Metric Mean Absolute Error Adalah:  1.56\n",
      "Nilai Dari Metric Mean Squared Error Adalah:  2.98\n",
      "Nilai Dari Metric Root Mean Squared Error:  1.73\n",
      "Nilai Dari Metric R2 Score Adalah:  0.002980402933680959\n"
     ]
    }
   ],
   "source": [
    "# Melihat nilai dari masing-masing metrics terbaik dalam memprediksi tingkat pengangkutan sampah perharinya\n",
    "print(\"Hasil Prediksi Dari Data Testing: \")\n",
    "model_regresi_randomforest(y_test, pred_test_randomforest)\n",
    "\n",
    "print(\"\\nHasil Prediksi dari Data Training: \")\n",
    "model_regresi_randomforest(y_train, pred_train_randomforest)"
   ]
  },
  {
   "cell_type": "code",
   "execution_count": null,
   "metadata": {},
   "outputs": [],
   "source": []
  }
 ],
 "metadata": {
  "kernelspec": {
   "display_name": "Python 3",
   "language": "python",
   "name": "python3"
  },
  "language_info": {
   "codemirror_mode": {
    "name": "ipython",
    "version": 3
   },
   "file_extension": ".py",
   "mimetype": "text/x-python",
   "name": "python",
   "nbconvert_exporter": "python",
   "pygments_lexer": "ipython3",
   "version": "3.8.5"
  }
 },
 "nbformat": 4,
 "nbformat_minor": 4
}
