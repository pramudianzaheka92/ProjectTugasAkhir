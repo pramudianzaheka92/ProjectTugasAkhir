{
 "cells": [
  {
   "cell_type": "markdown",
   "metadata": {},
   "source": [
    "## 1. Import Library & Melakukan Eksplorasi Dataset dengan Pandas"
   ]
  },
  {
   "cell_type": "code",
   "execution_count": 96,
   "metadata": {},
   "outputs": [],
   "source": [
    "# Import library yang akan digunakan\n",
    "import pandas as pd\n",
    "import numpy as np\n",
    "import matplotlib.pyplot as plt\n",
    "import seaborn as sns\n",
    "plt.style.use(\"seaborn\")\n",
    "import warnings\n",
    "warnings.filterwarnings(\"ignore\")\n",
    "from sklearn.model_selection import train_test_split, KFold, cross_val_score\n",
    "from sklearn.metrics import mean_absolute_error, mean_squared_error"
   ]
  },
  {
   "cell_type": "code",
   "execution_count": 97,
   "metadata": {},
   "outputs": [
    {
     "data": {
      "text/html": [
       "<div>\n",
       "<style scoped>\n",
       "    .dataframe tbody tr th:only-of-type {\n",
       "        vertical-align: middle;\n",
       "    }\n",
       "\n",
       "    .dataframe tbody tr th {\n",
       "        vertical-align: top;\n",
       "    }\n",
       "\n",
       "    .dataframe thead th {\n",
       "        text-align: right;\n",
       "    }\n",
       "</style>\n",
       "<table border=\"1\" class=\"dataframe\">\n",
       "  <thead>\n",
       "    <tr style=\"text-align: right;\">\n",
       "      <th></th>\n",
       "      <th>bulan</th>\n",
       "      <th>titik_lokasi</th>\n",
       "      <th>kecamatan</th>\n",
       "      <th>wilayah</th>\n",
       "      <th>panjang/luas</th>\n",
       "      <th>satuan_panjang/luas</th>\n",
       "      <th>tanggal</th>\n",
       "      <th>volume_sampah_perhari(m3)</th>\n",
       "    </tr>\n",
       "  </thead>\n",
       "  <tbody>\n",
       "    <tr>\n",
       "      <th>0</th>\n",
       "      <td>4</td>\n",
       "      <td>Kali / Sungai Sentiong - Ruas Dewi Sri</td>\n",
       "      <td>Johar Baru</td>\n",
       "      <td>Jakarta Pusat</td>\n",
       "      <td>464</td>\n",
       "      <td>m</td>\n",
       "      <td>1</td>\n",
       "      <td>3</td>\n",
       "    </tr>\n",
       "    <tr>\n",
       "      <th>1</th>\n",
       "      <td>4</td>\n",
       "      <td>Kali / Sungai Sentiong - Ruas Abapon</td>\n",
       "      <td>Johar Baru</td>\n",
       "      <td>Jakarta Pusat</td>\n",
       "      <td>464</td>\n",
       "      <td>m</td>\n",
       "      <td>1</td>\n",
       "      <td>3</td>\n",
       "    </tr>\n",
       "    <tr>\n",
       "      <th>2</th>\n",
       "      <td>4</td>\n",
       "      <td>Kali / Sungai Sentiong - JL Tanah Tinggi</td>\n",
       "      <td>Johar Baru</td>\n",
       "      <td>Jakarta Pusat</td>\n",
       "      <td>464</td>\n",
       "      <td>m</td>\n",
       "      <td>1</td>\n",
       "      <td>3</td>\n",
       "    </tr>\n",
       "    <tr>\n",
       "      <th>3</th>\n",
       "      <td>4</td>\n",
       "      <td>Kali / Sungai Sentiong Jl.Galur - Pombensin</td>\n",
       "      <td>Johar Baru</td>\n",
       "      <td>Jakarta Pusat</td>\n",
       "      <td>606</td>\n",
       "      <td>m</td>\n",
       "      <td>1</td>\n",
       "      <td>3</td>\n",
       "    </tr>\n",
       "    <tr>\n",
       "      <th>4</th>\n",
       "      <td>4</td>\n",
       "      <td>Kali / Sungai Sentiong - Jl. Timah</td>\n",
       "      <td>Johar Baru</td>\n",
       "      <td>Jakarta Pusat</td>\n",
       "      <td>310</td>\n",
       "      <td>m</td>\n",
       "      <td>1</td>\n",
       "      <td>4</td>\n",
       "    </tr>\n",
       "  </tbody>\n",
       "</table>\n",
       "</div>"
      ],
      "text/plain": [
       "   bulan                                titik_lokasi   kecamatan   \\\n",
       "0      4       Kali / Sungai Sentiong - Ruas Dewi Sri  Johar Baru   \n",
       "1      4         Kali / Sungai Sentiong - Ruas Abapon  Johar Baru   \n",
       "2      4     Kali / Sungai Sentiong - JL Tanah Tinggi  Johar Baru   \n",
       "3      4  Kali / Sungai Sentiong Jl.Galur - Pombensin  Johar Baru   \n",
       "4      4           Kali / Sungai Sentiong - Jl. Timah  Johar Baru   \n",
       "\n",
       "        wilayah   panjang/luas  satuan_panjang/luas  tanggal  \\\n",
       "0  Jakarta Pusat            464                   m        1   \n",
       "1  Jakarta Pusat            464                   m        1   \n",
       "2  Jakarta Pusat            464                   m        1   \n",
       "3  Jakarta Pusat            606                   m        1   \n",
       "4  Jakarta Pusat            310                   m        1   \n",
       "\n",
       "  volume_sampah_perhari(m3)  \n",
       "0                         3  \n",
       "1                         3  \n",
       "2                         3  \n",
       "3                         3  \n",
       "4                         4  "
      ]
     },
     "execution_count": 97,
     "metadata": {},
     "output_type": "execute_result"
    }
   ],
   "source": [
    "# Read dataset\n",
    "data_april = pd.read_csv(\"volume-pengangkutan-sampah-di-kali-sungai-situ-waduk-bulan-april-tahun-2021.csv\", \n",
    "                         encoding=\"latin-1\")\n",
    "data_april.head()"
   ]
  },
  {
   "cell_type": "code",
   "execution_count": 98,
   "metadata": {},
   "outputs": [
    {
     "data": {
      "text/plain": [
       "bulan                        53100\n",
       " titik_lokasi                53100\n",
       " kecamatan                   53100\n",
       " wilayah                     53100\n",
       " panjang/luas                52170\n",
       "satuan_panjang/luas          32460\n",
       "tanggal                      53100\n",
       "volume_sampah_perhari(m3)    53100\n",
       "dtype: int64"
      ]
     },
     "execution_count": 98,
     "metadata": {},
     "output_type": "execute_result"
    }
   ],
   "source": [
    "# Melihat total data pada masing-masing kolom di dalam dataframe\n",
    "data_april.count()"
   ]
  },
  {
   "cell_type": "code",
   "execution_count": 99,
   "metadata": {},
   "outputs": [
    {
     "data": {
      "text/plain": [
       "bulan                         int64\n",
       " titik_lokasi                object\n",
       " kecamatan                   object\n",
       " wilayah                     object\n",
       " panjang/luas                object\n",
       "satuan_panjang/luas          object\n",
       "tanggal                       int64\n",
       "volume_sampah_perhari(m3)    object\n",
       "dtype: object"
      ]
     },
     "execution_count": 99,
     "metadata": {},
     "output_type": "execute_result"
    }
   ],
   "source": [
    "# Melihat tipe data dari masing-masing kolom yang ada di dalam dataframe\n",
    "data_april.dtypes"
   ]
  },
  {
   "cell_type": "code",
   "execution_count": 100,
   "metadata": {},
   "outputs": [
    {
     "data": {
      "text/plain": [
       "Index(['bulan', ' titik_lokasi ', ' kecamatan ', ' wilayah ', ' panjang/luas ',\n",
       "       'satuan_panjang/luas', 'tanggal', 'volume_sampah_perhari(m3)'],\n",
       "      dtype='object')"
      ]
     },
     "execution_count": 100,
     "metadata": {},
     "output_type": "execute_result"
    }
   ],
   "source": [
    "# Melihat nama kolom yang ada di dalam dataframe\n",
    "data_april.columns"
   ]
  },
  {
   "cell_type": "code",
   "execution_count": 101,
   "metadata": {},
   "outputs": [
    {
     "data": {
      "text/plain": [
       "(53100, 8)"
      ]
     },
     "execution_count": 101,
     "metadata": {},
     "output_type": "execute_result"
    }
   ],
   "source": [
    "# Melihat jumlah rows dan kolom pada dataframe\n",
    "data_april.shape"
   ]
  },
  {
   "cell_type": "code",
   "execution_count": 102,
   "metadata": {},
   "outputs": [
    {
     "name": "stdout",
     "output_type": "stream",
     "text": [
      "<class 'pandas.core.frame.DataFrame'>\n",
      "RangeIndex: 53100 entries, 0 to 53099\n",
      "Data columns (total 8 columns):\n",
      " #   Column                     Non-Null Count  Dtype \n",
      "---  ------                     --------------  ----- \n",
      " 0   bulan                      53100 non-null  int64 \n",
      " 1    titik_lokasi              53100 non-null  object\n",
      " 2    kecamatan                 53100 non-null  object\n",
      " 3    wilayah                   53100 non-null  object\n",
      " 4    panjang/luas              52170 non-null  object\n",
      " 5   satuan_panjang/luas        32460 non-null  object\n",
      " 6   tanggal                    53100 non-null  int64 \n",
      " 7   volume_sampah_perhari(m3)  53100 non-null  object\n",
      "dtypes: int64(2), object(6)\n",
      "memory usage: 3.2+ MB\n"
     ]
    }
   ],
   "source": [
    "# Melihat info dataset (tipe data, total record data, dll)\n",
    "data_april.info()"
   ]
  },
  {
   "cell_type": "code",
   "execution_count": 103,
   "metadata": {},
   "outputs": [],
   "source": [
    "# Menghapus jarak spasi pada kolom dataset\n",
    "data_april.columns = data_april.columns.str.replace(\" \", \"\")"
   ]
  },
  {
   "cell_type": "code",
   "execution_count": 104,
   "metadata": {},
   "outputs": [
    {
     "data": {
      "text/html": [
       "<div>\n",
       "<style scoped>\n",
       "    .dataframe tbody tr th:only-of-type {\n",
       "        vertical-align: middle;\n",
       "    }\n",
       "\n",
       "    .dataframe tbody tr th {\n",
       "        vertical-align: top;\n",
       "    }\n",
       "\n",
       "    .dataframe thead th {\n",
       "        text-align: right;\n",
       "    }\n",
       "</style>\n",
       "<table border=\"1\" class=\"dataframe\">\n",
       "  <thead>\n",
       "    <tr style=\"text-align: right;\">\n",
       "      <th></th>\n",
       "      <th>bulan</th>\n",
       "      <th>titik_lokasi</th>\n",
       "      <th>kecamatan</th>\n",
       "      <th>wilayah</th>\n",
       "      <th>panjang/luas</th>\n",
       "      <th>satuan_panjang/luas</th>\n",
       "      <th>tanggal</th>\n",
       "      <th>volume_sampah_perhari(m3)</th>\n",
       "    </tr>\n",
       "  </thead>\n",
       "  <tbody>\n",
       "    <tr>\n",
       "      <th>count</th>\n",
       "      <td>53100.0</td>\n",
       "      <td>53100</td>\n",
       "      <td>53100</td>\n",
       "      <td>53100</td>\n",
       "      <td>52170</td>\n",
       "      <td>32460</td>\n",
       "      <td>53100.000000</td>\n",
       "      <td>53100</td>\n",
       "    </tr>\n",
       "    <tr>\n",
       "      <th>unique</th>\n",
       "      <td>NaN</td>\n",
       "      <td>1764</td>\n",
       "      <td>42</td>\n",
       "      <td>5</td>\n",
       "      <td>421</td>\n",
       "      <td>10</td>\n",
       "      <td>NaN</td>\n",
       "      <td>84</td>\n",
       "    </tr>\n",
       "    <tr>\n",
       "      <th>top</th>\n",
       "      <td>NaN</td>\n",
       "      <td>Saluran PHB Bungur</td>\n",
       "      <td>Kalideres</td>\n",
       "      <td>Jakarta Barat</td>\n",
       "      <td>1000</td>\n",
       "      <td>m</td>\n",
       "      <td>NaN</td>\n",
       "      <td>-</td>\n",
       "    </tr>\n",
       "    <tr>\n",
       "      <th>freq</th>\n",
       "      <td>NaN</td>\n",
       "      <td>60</td>\n",
       "      <td>2850</td>\n",
       "      <td>16080</td>\n",
       "      <td>6450</td>\n",
       "      <td>30810</td>\n",
       "      <td>NaN</td>\n",
       "      <td>15656</td>\n",
       "    </tr>\n",
       "    <tr>\n",
       "      <th>mean</th>\n",
       "      <td>4.0</td>\n",
       "      <td>NaN</td>\n",
       "      <td>NaN</td>\n",
       "      <td>NaN</td>\n",
       "      <td>NaN</td>\n",
       "      <td>NaN</td>\n",
       "      <td>15.500000</td>\n",
       "      <td>NaN</td>\n",
       "    </tr>\n",
       "    <tr>\n",
       "      <th>std</th>\n",
       "      <td>0.0</td>\n",
       "      <td>NaN</td>\n",
       "      <td>NaN</td>\n",
       "      <td>NaN</td>\n",
       "      <td>NaN</td>\n",
       "      <td>NaN</td>\n",
       "      <td>8.655523</td>\n",
       "      <td>NaN</td>\n",
       "    </tr>\n",
       "    <tr>\n",
       "      <th>min</th>\n",
       "      <td>4.0</td>\n",
       "      <td>NaN</td>\n",
       "      <td>NaN</td>\n",
       "      <td>NaN</td>\n",
       "      <td>NaN</td>\n",
       "      <td>NaN</td>\n",
       "      <td>1.000000</td>\n",
       "      <td>NaN</td>\n",
       "    </tr>\n",
       "    <tr>\n",
       "      <th>25%</th>\n",
       "      <td>4.0</td>\n",
       "      <td>NaN</td>\n",
       "      <td>NaN</td>\n",
       "      <td>NaN</td>\n",
       "      <td>NaN</td>\n",
       "      <td>NaN</td>\n",
       "      <td>8.000000</td>\n",
       "      <td>NaN</td>\n",
       "    </tr>\n",
       "    <tr>\n",
       "      <th>50%</th>\n",
       "      <td>4.0</td>\n",
       "      <td>NaN</td>\n",
       "      <td>NaN</td>\n",
       "      <td>NaN</td>\n",
       "      <td>NaN</td>\n",
       "      <td>NaN</td>\n",
       "      <td>15.500000</td>\n",
       "      <td>NaN</td>\n",
       "    </tr>\n",
       "    <tr>\n",
       "      <th>75%</th>\n",
       "      <td>4.0</td>\n",
       "      <td>NaN</td>\n",
       "      <td>NaN</td>\n",
       "      <td>NaN</td>\n",
       "      <td>NaN</td>\n",
       "      <td>NaN</td>\n",
       "      <td>23.000000</td>\n",
       "      <td>NaN</td>\n",
       "    </tr>\n",
       "    <tr>\n",
       "      <th>max</th>\n",
       "      <td>4.0</td>\n",
       "      <td>NaN</td>\n",
       "      <td>NaN</td>\n",
       "      <td>NaN</td>\n",
       "      <td>NaN</td>\n",
       "      <td>NaN</td>\n",
       "      <td>30.000000</td>\n",
       "      <td>NaN</td>\n",
       "    </tr>\n",
       "  </tbody>\n",
       "</table>\n",
       "</div>"
      ],
      "text/plain": [
       "          bulan        titik_lokasi  kecamatan        wilayah panjang/luas  \\\n",
       "count   53100.0               53100      53100          53100        52170   \n",
       "unique      NaN                1764         42              5          421   \n",
       "top         NaN  Saluran PHB Bungur  Kalideres  Jakarta Barat         1000   \n",
       "freq        NaN                  60       2850          16080         6450   \n",
       "mean        4.0                 NaN        NaN            NaN          NaN   \n",
       "std         0.0                 NaN        NaN            NaN          NaN   \n",
       "min         4.0                 NaN        NaN            NaN          NaN   \n",
       "25%         4.0                 NaN        NaN            NaN          NaN   \n",
       "50%         4.0                 NaN        NaN            NaN          NaN   \n",
       "75%         4.0                 NaN        NaN            NaN          NaN   \n",
       "max         4.0                 NaN        NaN            NaN          NaN   \n",
       "\n",
       "       satuan_panjang/luas       tanggal volume_sampah_perhari(m3)  \n",
       "count                32460  53100.000000                     53100  \n",
       "unique                  10           NaN                        84  \n",
       "top                      m           NaN                         -  \n",
       "freq                 30810           NaN                     15656  \n",
       "mean                   NaN     15.500000                       NaN  \n",
       "std                    NaN      8.655523                       NaN  \n",
       "min                    NaN      1.000000                       NaN  \n",
       "25%                    NaN      8.000000                       NaN  \n",
       "50%                    NaN     15.500000                       NaN  \n",
       "75%                    NaN     23.000000                       NaN  \n",
       "max                    NaN     30.000000                       NaN  "
      ]
     },
     "execution_count": 104,
     "metadata": {},
     "output_type": "execute_result"
    }
   ],
   "source": [
    "# Melihat nilai statistik deskriptif dari dataframe untuk keseluruhan kolom\n",
    "data_april.describe(include=\"all\")"
   ]
  },
  {
   "cell_type": "markdown",
   "metadata": {},
   "source": [
    "Hasil keluaran diatas menandakan beberapa nilai-nilai dari statistik deskriptif dari kedua jenis data yakni numerik (tipe data int & float) dan kategorik (tipe data object/string) dan tentu saja setiap jenis data memiliki nilai deskriptif yang berbeda. Seperti misalnya jenis data numerik memiliki nilai deskriptif seperti count, mean, std (standard deviasi), maximum, minimum, quartil 1 (25%), quartil 2/median (50%) dan quartil 3 (75%). Sedangkan jenis data kategorik memiliki nilai deskriptif seperti count, unique, top dan freq (frekuensi data).\n",
    "\n",
    "Sebagai contoh dapat dilihat pada penjelasan dibawah ini:\n",
    "\n",
    "- Pada kolom titik_lokasi tidak memiliki nilai mean, standard deviasi, min, dll, tetapi memiliki nilai top, unique, freq, dll. Hal tersebut dikarenakan kolom titik_lokasi bersifat kategorik (karena memiliki tipe data string). Maka dari itu kolom titik_lokasi memiliki nilai top yakni Saluran PHB Pertanian, nilai freq adalah 60, dst.\n",
    "\n",
    "- Sedangkan pada kolom tanggal tidak memiliki nilai top, freq, dll tetapi memiliki nilai mean, standard deviasi, min, max, dll. Hal tersebut dikarenakan kolom tanggal bersifat numerik. Hal ini dapat dilihat dari nilai mean pada kolom tanggal adalah 15.5, nilai max adalah 30, nilai quartil 3 adalah 23, dst.\n",
    "\n",
    "Berikut adalah kolom-kolom yang bersifat kategorik dan numerik:\n",
    "\n",
    "- Kategorik: titik_lokasi, kecamatan, wilayah, panjang/luas, satuan_panjang/luas dan volume_sampah_perhari(m3).\n",
    "- Numerik: bulan dan tanggal."
   ]
  },
  {
   "cell_type": "code",
   "execution_count": 105,
   "metadata": {},
   "outputs": [
    {
     "name": "stdout",
     "output_type": "stream",
     "text": [
      "Kalideres            2850\n",
      "Tanjung Priok        2820\n",
      "Penjaringan          2670\n",
      "Cengkareng           2460\n",
      "Cilincing            2460\n",
      "Grogol Petamburan    2250\n",
      "Kembangan            2250\n",
      "Cakung               2190\n",
      "Tamansari            1890\n",
      "Pademangan           1830\n",
      "Kebon Jeruk          1530\n",
      "Tambora              1500\n",
      "Kelapa Gading        1440\n",
      "Palmerah             1350\n",
      "Koja                 1350\n",
      "Jatinegara           1320\n",
      "Pulo Gadung          1290\n",
      "Duren Sawit          1260\n",
      "Jagakarsa            1170\n",
      "Pasar Rebo           1110\n",
      "Kramat Jati          1080\n",
      "Makasar               990\n",
      "Ciracas               960\n",
      "Matraman              930\n",
      "Gambir                900\n",
      "Tanah Abang           870\n",
      "Pancoran              840\n",
      "Cilandak              810\n",
      "Kebayoran Baru        810\n",
      "Pasar Minggu          810\n",
      "Kebayoran Lama        780\n",
      "Setiabudi             750\n",
      "Tebet                 720\n",
      "Mampang Prapatan      690\n",
      "Cipayung              630\n",
      "Pesanggrahan          600\n",
      "Sawah Besar           540\n",
      "Cempaka Putih         510\n",
      "Kemayoran             510\n",
      "Senen                 510\n",
      "Menteng               480\n",
      "Johar Baru            390\n",
      "Name: kecamatan, dtype: int64\n",
      "\n",
      "Jakarta Barat      16080\n",
      "Jakarta Utara      12570\n",
      "Jakarta Timur      11760\n",
      "Jakarta Selatan     7980\n",
      "Jakarta Pusat       4710\n",
      "Name: wilayah, dtype: int64\n",
      "\n",
      "m         30810\n",
      "Ha         1320\n",
      "H            90\n",
      "HA           60\n",
      "m²           30\n",
      "m³           30\n",
      "hektar       30\n",
      "km           30\n",
      "Hektar       30\n",
      "m2           30\n",
      "Name: satuan_panjang/luas, dtype: int64\n"
     ]
    }
   ],
   "source": [
    "\"\"\"\n",
    "Menghitung nilai dari beberapa kolom (kecamatan, wilayah, satuan_panjang/satuan) \n",
    "dari yang sering muncul - tidak sering muncul di dalam dataframe\n",
    "\"\"\"\n",
    "print(data_april[\"kecamatan\"].value_counts())\n",
    "print()\n",
    "\n",
    "print(data_april[\"wilayah\"].value_counts())\n",
    "print()\n",
    "\n",
    "print(data_april[\"satuan_panjang/luas\"].value_counts())"
   ]
  },
  {
   "cell_type": "code",
   "execution_count": 106,
   "metadata": {},
   "outputs": [
    {
     "data": {
      "text/plain": [
       "Index(['bulan', 'titik_lokasi', 'kecamatan', 'wilayah', 'panjang_luas',\n",
       "       'satuan_panjang', 'tanggal', 'volume_sampah_perhari(m3)'],\n",
       "      dtype='object')"
      ]
     },
     "execution_count": 106,
     "metadata": {},
     "output_type": "execute_result"
    }
   ],
   "source": [
    "# Mengubah nama kolom dari yang semula \"panjang/luas\" dan \"satuan_panjang/luas\" menjadi \"panjang_luas\" dan \"satuan_panjang\"\n",
    "rename_column_data = data_april.rename(columns={\"panjang/luas\": \"panjang_luas\", \"satuan_panjang/luas\":\"satuan_panjang\"})\n",
    "\n",
    "rename_column_data.columns"
   ]
  },
  {
   "cell_type": "code",
   "execution_count": 107,
   "metadata": {},
   "outputs": [
    {
     "data": {
      "text/html": [
       "<div>\n",
       "<style scoped>\n",
       "    .dataframe tbody tr th:only-of-type {\n",
       "        vertical-align: middle;\n",
       "    }\n",
       "\n",
       "    .dataframe tbody tr th {\n",
       "        vertical-align: top;\n",
       "    }\n",
       "\n",
       "    .dataframe thead th {\n",
       "        text-align: right;\n",
       "    }\n",
       "</style>\n",
       "<table border=\"1\" class=\"dataframe\">\n",
       "  <thead>\n",
       "    <tr style=\"text-align: right;\">\n",
       "      <th></th>\n",
       "      <th>bulan</th>\n",
       "      <th>titik_lokasi</th>\n",
       "      <th>kecamatan</th>\n",
       "      <th>wilayah</th>\n",
       "      <th>panjang_luas</th>\n",
       "      <th>satuan_panjang</th>\n",
       "      <th>tanggal</th>\n",
       "      <th>volume_sampah_perhari(m3)</th>\n",
       "    </tr>\n",
       "  </thead>\n",
       "  <tbody>\n",
       "    <tr>\n",
       "      <th>1487</th>\n",
       "      <td>4</td>\n",
       "      <td>Kali Ciliwung KOPASSUS</td>\n",
       "      <td>Pasar Rebo</td>\n",
       "      <td>Jakarta Timur</td>\n",
       "      <td>7</td>\n",
       "      <td>km</td>\n",
       "      <td>1</td>\n",
       "      <td>2</td>\n",
       "    </tr>\n",
       "    <tr>\n",
       "      <th>3257</th>\n",
       "      <td>4</td>\n",
       "      <td>Kali Ciliwung KOPASSUS</td>\n",
       "      <td>Pasar Rebo</td>\n",
       "      <td>Jakarta Timur</td>\n",
       "      <td>7</td>\n",
       "      <td>km</td>\n",
       "      <td>2</td>\n",
       "      <td>-</td>\n",
       "    </tr>\n",
       "    <tr>\n",
       "      <th>5027</th>\n",
       "      <td>4</td>\n",
       "      <td>Kali Ciliwung KOPASSUS</td>\n",
       "      <td>Pasar Rebo</td>\n",
       "      <td>Jakarta Timur</td>\n",
       "      <td>7</td>\n",
       "      <td>km</td>\n",
       "      <td>3</td>\n",
       "      <td>-</td>\n",
       "    </tr>\n",
       "    <tr>\n",
       "      <th>6797</th>\n",
       "      <td>4</td>\n",
       "      <td>Kali Ciliwung KOPASSUS</td>\n",
       "      <td>Pasar Rebo</td>\n",
       "      <td>Jakarta Timur</td>\n",
       "      <td>7</td>\n",
       "      <td>km</td>\n",
       "      <td>4</td>\n",
       "      <td>-</td>\n",
       "    </tr>\n",
       "    <tr>\n",
       "      <th>8567</th>\n",
       "      <td>4</td>\n",
       "      <td>Kali Ciliwung KOPASSUS</td>\n",
       "      <td>Pasar Rebo</td>\n",
       "      <td>Jakarta Timur</td>\n",
       "      <td>7</td>\n",
       "      <td>km</td>\n",
       "      <td>5</td>\n",
       "      <td>2</td>\n",
       "    </tr>\n",
       "    <tr>\n",
       "      <th>10337</th>\n",
       "      <td>4</td>\n",
       "      <td>Kali Ciliwung KOPASSUS</td>\n",
       "      <td>Pasar Rebo</td>\n",
       "      <td>Jakarta Timur</td>\n",
       "      <td>7</td>\n",
       "      <td>km</td>\n",
       "      <td>6</td>\n",
       "      <td>-</td>\n",
       "    </tr>\n",
       "    <tr>\n",
       "      <th>12107</th>\n",
       "      <td>4</td>\n",
       "      <td>Kali Ciliwung KOPASSUS</td>\n",
       "      <td>Pasar Rebo</td>\n",
       "      <td>Jakarta Timur</td>\n",
       "      <td>7</td>\n",
       "      <td>km</td>\n",
       "      <td>7</td>\n",
       "      <td>-</td>\n",
       "    </tr>\n",
       "    <tr>\n",
       "      <th>13877</th>\n",
       "      <td>4</td>\n",
       "      <td>Kali Ciliwung KOPASSUS</td>\n",
       "      <td>Pasar Rebo</td>\n",
       "      <td>Jakarta Timur</td>\n",
       "      <td>7</td>\n",
       "      <td>km</td>\n",
       "      <td>8</td>\n",
       "      <td>-</td>\n",
       "    </tr>\n",
       "    <tr>\n",
       "      <th>15647</th>\n",
       "      <td>4</td>\n",
       "      <td>Kali Ciliwung KOPASSUS</td>\n",
       "      <td>Pasar Rebo</td>\n",
       "      <td>Jakarta Timur</td>\n",
       "      <td>7</td>\n",
       "      <td>km</td>\n",
       "      <td>9</td>\n",
       "      <td>-</td>\n",
       "    </tr>\n",
       "    <tr>\n",
       "      <th>17417</th>\n",
       "      <td>4</td>\n",
       "      <td>Kali Ciliwung KOPASSUS</td>\n",
       "      <td>Pasar Rebo</td>\n",
       "      <td>Jakarta Timur</td>\n",
       "      <td>7</td>\n",
       "      <td>km</td>\n",
       "      <td>10</td>\n",
       "      <td>4</td>\n",
       "    </tr>\n",
       "  </tbody>\n",
       "</table>\n",
       "</div>"
      ],
      "text/plain": [
       "       bulan            titik_lokasi   kecamatan        wilayah panjang_luas  \\\n",
       "1487       4  Kali Ciliwung KOPASSUS  Pasar Rebo  Jakarta Timur            7   \n",
       "3257       4  Kali Ciliwung KOPASSUS  Pasar Rebo  Jakarta Timur            7   \n",
       "5027       4  Kali Ciliwung KOPASSUS  Pasar Rebo  Jakarta Timur            7   \n",
       "6797       4  Kali Ciliwung KOPASSUS  Pasar Rebo  Jakarta Timur            7   \n",
       "8567       4  Kali Ciliwung KOPASSUS  Pasar Rebo  Jakarta Timur            7   \n",
       "10337      4  Kali Ciliwung KOPASSUS  Pasar Rebo  Jakarta Timur            7   \n",
       "12107      4  Kali Ciliwung KOPASSUS  Pasar Rebo  Jakarta Timur            7   \n",
       "13877      4  Kali Ciliwung KOPASSUS  Pasar Rebo  Jakarta Timur            7   \n",
       "15647      4  Kali Ciliwung KOPASSUS  Pasar Rebo  Jakarta Timur            7   \n",
       "17417      4  Kali Ciliwung KOPASSUS  Pasar Rebo  Jakarta Timur            7   \n",
       "\n",
       "      satuan_panjang  tanggal volume_sampah_perhari(m3)  \n",
       "1487              km        1                         2  \n",
       "3257              km        2                         -  \n",
       "5027              km        3                         -  \n",
       "6797              km        4                         -  \n",
       "8567              km        5                         2  \n",
       "10337             km        6                         -  \n",
       "12107             km        7                         -  \n",
       "13877             km        8                         -  \n",
       "15647             km        9                         -  \n",
       "17417             km       10                         4  "
      ]
     },
     "execution_count": 107,
     "metadata": {},
     "output_type": "execute_result"
    }
   ],
   "source": [
    "# Memisahkan semua data yang memiliki satuan_panjang = km dan ditampilkan sebanyak 10 data teratas\n",
    "data_km = rename_column_data[rename_column_data.satuan_panjang == \"km\"]\n",
    "data_km.head(10)"
   ]
  },
  {
   "cell_type": "code",
   "execution_count": 108,
   "metadata": {},
   "outputs": [
    {
     "data": {
      "text/html": [
       "<div>\n",
       "<style scoped>\n",
       "    .dataframe tbody tr th:only-of-type {\n",
       "        vertical-align: middle;\n",
       "    }\n",
       "\n",
       "    .dataframe tbody tr th {\n",
       "        vertical-align: top;\n",
       "    }\n",
       "\n",
       "    .dataframe thead th {\n",
       "        text-align: right;\n",
       "    }\n",
       "</style>\n",
       "<table border=\"1\" class=\"dataframe\">\n",
       "  <thead>\n",
       "    <tr style=\"text-align: right;\">\n",
       "      <th></th>\n",
       "      <th>bulan</th>\n",
       "      <th>titik_lokasi</th>\n",
       "      <th>kecamatan</th>\n",
       "      <th>wilayah</th>\n",
       "      <th>panjang_luas</th>\n",
       "      <th>satuan_panjang</th>\n",
       "      <th>tanggal</th>\n",
       "      <th>volume_sampah_perhari(m3)</th>\n",
       "    </tr>\n",
       "  </thead>\n",
       "  <tbody>\n",
       "    <tr>\n",
       "      <th>50067</th>\n",
       "      <td>4</td>\n",
       "      <td>PHB Atmajaya</td>\n",
       "      <td>Penjaringan</td>\n",
       "      <td>Jakarta Utara</td>\n",
       "      <td>600/3</td>\n",
       "      <td>NaN</td>\n",
       "      <td>29</td>\n",
       "      <td>0</td>\n",
       "    </tr>\n",
       "    <tr>\n",
       "      <th>51552</th>\n",
       "      <td>4</td>\n",
       "      <td>PHB Pure Dewaruci Kel. Semper Barat</td>\n",
       "      <td>Cilincing</td>\n",
       "      <td>Jakarta Utara</td>\n",
       "      <td>600/3</td>\n",
       "      <td>NaN</td>\n",
       "      <td>30</td>\n",
       "      <td>0</td>\n",
       "    </tr>\n",
       "    <tr>\n",
       "      <th>51559</th>\n",
       "      <td>4</td>\n",
       "      <td>PHB Grandong Jl Bakti VI Samping Kantor Kel. C...</td>\n",
       "      <td>Cilincing</td>\n",
       "      <td>Jakarta Utara</td>\n",
       "      <td>600/3</td>\n",
       "      <td>NaN</td>\n",
       "      <td>30</td>\n",
       "      <td>0</td>\n",
       "    </tr>\n",
       "    <tr>\n",
       "      <th>51633</th>\n",
       "      <td>4</td>\n",
       "      <td>PHB Rawa Badak Utara</td>\n",
       "      <td>Koja</td>\n",
       "      <td>Jakarta Utara</td>\n",
       "      <td>600/3</td>\n",
       "      <td>NaN</td>\n",
       "      <td>30</td>\n",
       "      <td>0</td>\n",
       "    </tr>\n",
       "    <tr>\n",
       "      <th>51741</th>\n",
       "      <td>4</td>\n",
       "      <td>PHB Trio Ruas Warakas Raya Kel. Warakas</td>\n",
       "      <td>Tanjung Priok</td>\n",
       "      <td>Jakarta Utara</td>\n",
       "      <td>600/3</td>\n",
       "      <td>NaN</td>\n",
       "      <td>30</td>\n",
       "      <td>0</td>\n",
       "    </tr>\n",
       "    <tr>\n",
       "      <th>51751</th>\n",
       "      <td>4</td>\n",
       "      <td>PHB Pasar Kober</td>\n",
       "      <td>Tanjung Priok</td>\n",
       "      <td>Jakarta Utara</td>\n",
       "      <td>600/3</td>\n",
       "      <td>NaN</td>\n",
       "      <td>30</td>\n",
       "      <td>0</td>\n",
       "    </tr>\n",
       "    <tr>\n",
       "      <th>51819</th>\n",
       "      <td>4</td>\n",
       "      <td>Kali Gendong Pabrik Benang</td>\n",
       "      <td>Penjaringan</td>\n",
       "      <td>Jakarta Utara</td>\n",
       "      <td>600/3</td>\n",
       "      <td>NaN</td>\n",
       "      <td>30</td>\n",
       "      <td>0</td>\n",
       "    </tr>\n",
       "    <tr>\n",
       "      <th>51837</th>\n",
       "      <td>4</td>\n",
       "      <td>PHB Atmajaya</td>\n",
       "      <td>Penjaringan</td>\n",
       "      <td>Jakarta Utara</td>\n",
       "      <td>600/3</td>\n",
       "      <td>NaN</td>\n",
       "      <td>30</td>\n",
       "      <td>0</td>\n",
       "    </tr>\n",
       "  </tbody>\n",
       "</table>\n",
       "</div>"
      ],
      "text/plain": [
       "       bulan                                       titik_lokasi  \\\n",
       "50067      4                                       PHB Atmajaya   \n",
       "51552      4                PHB Pure Dewaruci Kel. Semper Barat   \n",
       "51559      4  PHB Grandong Jl Bakti VI Samping Kantor Kel. C...   \n",
       "51633      4                               PHB Rawa Badak Utara   \n",
       "51741      4            PHB Trio Ruas Warakas Raya Kel. Warakas   \n",
       "51751      4                                    PHB Pasar Kober   \n",
       "51819      4                         Kali Gendong Pabrik Benang   \n",
       "51837      4                                       PHB Atmajaya   \n",
       "\n",
       "           kecamatan        wilayah panjang_luas satuan_panjang  tanggal  \\\n",
       "50067    Penjaringan  Jakarta Utara        600/3            NaN       29   \n",
       "51552      Cilincing  Jakarta Utara        600/3            NaN       30   \n",
       "51559      Cilincing  Jakarta Utara        600/3            NaN       30   \n",
       "51633           Koja  Jakarta Utara        600/3            NaN       30   \n",
       "51741  Tanjung Priok  Jakarta Utara        600/3            NaN       30   \n",
       "51751  Tanjung Priok  Jakarta Utara        600/3            NaN       30   \n",
       "51819    Penjaringan  Jakarta Utara        600/3            NaN       30   \n",
       "51837    Penjaringan  Jakarta Utara        600/3            NaN       30   \n",
       "\n",
       "      volume_sampah_perhari(m3)  \n",
       "50067                         0  \n",
       "51552                         0  \n",
       "51559                         0  \n",
       "51633                         0  \n",
       "51741                         0  \n",
       "51751                         0  \n",
       "51819                         0  \n",
       "51837                         0  "
      ]
     },
     "execution_count": 108,
     "metadata": {},
     "output_type": "execute_result"
    }
   ],
   "source": [
    "# Memisahkan semua data yang memiliki panjang_luas = 600/3 dan ditampilkan sebanyak 8 baris data terakhir\n",
    "data_panjang_luas = rename_column_data[rename_column_data.panjang_luas == \"600/3\"]\n",
    "data_panjang_luas.tail(8)"
   ]
  },
  {
   "cell_type": "code",
   "execution_count": 109,
   "metadata": {},
   "outputs": [
    {
     "data": {
      "text/html": [
       "<div>\n",
       "<style scoped>\n",
       "    .dataframe tbody tr th:only-of-type {\n",
       "        vertical-align: middle;\n",
       "    }\n",
       "\n",
       "    .dataframe tbody tr th {\n",
       "        vertical-align: top;\n",
       "    }\n",
       "\n",
       "    .dataframe thead th {\n",
       "        text-align: right;\n",
       "    }\n",
       "</style>\n",
       "<table border=\"1\" class=\"dataframe\">\n",
       "  <thead>\n",
       "    <tr style=\"text-align: right;\">\n",
       "      <th></th>\n",
       "      <th>bulan</th>\n",
       "      <th>titik_lokasi</th>\n",
       "      <th>kecamatan</th>\n",
       "      <th>wilayah</th>\n",
       "      <th>panjang_luas</th>\n",
       "      <th>satuan_panjang</th>\n",
       "      <th>tanggal</th>\n",
       "      <th>volume_sampah_perhari(m3)</th>\n",
       "    </tr>\n",
       "  </thead>\n",
       "  <tbody>\n",
       "    <tr>\n",
       "      <th>30</th>\n",
       "      <td>4</td>\n",
       "      <td>Kali / Sungai Ciliwung Ruas Veteran</td>\n",
       "      <td>Gambir</td>\n",
       "      <td>Jakarta Pusat</td>\n",
       "      <td>2000</td>\n",
       "      <td>m</td>\n",
       "      <td>1</td>\n",
       "      <td>2</td>\n",
       "    </tr>\n",
       "    <tr>\n",
       "      <th>31</th>\n",
       "      <td>4</td>\n",
       "      <td>Kali / Sungai Ciliwung Ruas Pejambon</td>\n",
       "      <td>Gambir</td>\n",
       "      <td>Jakarta Pusat</td>\n",
       "      <td>1000</td>\n",
       "      <td>m</td>\n",
       "      <td>1</td>\n",
       "      <td>0</td>\n",
       "    </tr>\n",
       "    <tr>\n",
       "      <th>32</th>\n",
       "      <td>4</td>\n",
       "      <td>Kali / Sungai Ciliwung Ruas Belakang Kemenkeu</td>\n",
       "      <td>Gambir</td>\n",
       "      <td>Jakarta Pusat</td>\n",
       "      <td>1000</td>\n",
       "      <td>m</td>\n",
       "      <td>1</td>\n",
       "      <td>0</td>\n",
       "    </tr>\n",
       "    <tr>\n",
       "      <th>33</th>\n",
       "      <td>4</td>\n",
       "      <td>Kali / Sungai Ciliwung Ruas Pintu Istiqlal</td>\n",
       "      <td>Gambir</td>\n",
       "      <td>Jakarta Pusat</td>\n",
       "      <td>700</td>\n",
       "      <td>m</td>\n",
       "      <td>1</td>\n",
       "      <td>0</td>\n",
       "    </tr>\n",
       "    <tr>\n",
       "      <th>34</th>\n",
       "      <td>4</td>\n",
       "      <td>Kali / Sungai Ciliwung Ruas jl Perwira</td>\n",
       "      <td>Gambir</td>\n",
       "      <td>Jakarta Pusat</td>\n",
       "      <td>800</td>\n",
       "      <td>m</td>\n",
       "      <td>1</td>\n",
       "      <td>0</td>\n",
       "    </tr>\n",
       "    <tr>\n",
       "      <th>35</th>\n",
       "      <td>4</td>\n",
       "      <td>Kali / Sungai Cideng Ruas Siantar</td>\n",
       "      <td>Gambir</td>\n",
       "      <td>Jakarta Pusat</td>\n",
       "      <td>900</td>\n",
       "      <td>m</td>\n",
       "      <td>1</td>\n",
       "      <td>0</td>\n",
       "    </tr>\n",
       "    <tr>\n",
       "      <th>36</th>\n",
       "      <td>4</td>\n",
       "      <td>Kali / Sungai Cideng Ruas Zainul Arifin</td>\n",
       "      <td>Gambir</td>\n",
       "      <td>Jakarta Pusat</td>\n",
       "      <td>950</td>\n",
       "      <td>m</td>\n",
       "      <td>1</td>\n",
       "      <td>12</td>\n",
       "    </tr>\n",
       "    <tr>\n",
       "      <th>37</th>\n",
       "      <td>4</td>\n",
       "      <td>Kali / Sungai Cideng Ruas Holand Bakeri</td>\n",
       "      <td>Gambir</td>\n",
       "      <td>Jakarta Pusat</td>\n",
       "      <td>950</td>\n",
       "      <td>m</td>\n",
       "      <td>1</td>\n",
       "      <td>12</td>\n",
       "    </tr>\n",
       "    <tr>\n",
       "      <th>38</th>\n",
       "      <td>4</td>\n",
       "      <td>Kali / Sungai Cideng Ruas Tarakan</td>\n",
       "      <td>Gambir</td>\n",
       "      <td>Jakarta Pusat</td>\n",
       "      <td>800</td>\n",
       "      <td>m</td>\n",
       "      <td>1</td>\n",
       "      <td>12</td>\n",
       "    </tr>\n",
       "    <tr>\n",
       "      <th>39</th>\n",
       "      <td>4</td>\n",
       "      <td>Kali / Sungai Cideng Ruas Jembatan MCDonald's</td>\n",
       "      <td>Gambir</td>\n",
       "      <td>Jakarta Pusat</td>\n",
       "      <td>1000</td>\n",
       "      <td>m</td>\n",
       "      <td>1</td>\n",
       "      <td>2</td>\n",
       "    </tr>\n",
       "  </tbody>\n",
       "</table>\n",
       "</div>"
      ],
      "text/plain": [
       "    bulan                                   titik_lokasi kecamatan  \\\n",
       "30      4            Kali / Sungai Ciliwung Ruas Veteran    Gambir   \n",
       "31      4           Kali / Sungai Ciliwung Ruas Pejambon    Gambir   \n",
       "32      4  Kali / Sungai Ciliwung Ruas Belakang Kemenkeu    Gambir   \n",
       "33      4     Kali / Sungai Ciliwung Ruas Pintu Istiqlal    Gambir   \n",
       "34      4         Kali / Sungai Ciliwung Ruas jl Perwira    Gambir   \n",
       "35      4              Kali / Sungai Cideng Ruas Siantar    Gambir   \n",
       "36      4        Kali / Sungai Cideng Ruas Zainul Arifin    Gambir   \n",
       "37      4        Kali / Sungai Cideng Ruas Holand Bakeri    Gambir   \n",
       "38      4              Kali / Sungai Cideng Ruas Tarakan    Gambir   \n",
       "39      4  Kali / Sungai Cideng Ruas Jembatan MCDonald's    Gambir   \n",
       "\n",
       "          wilayah panjang_luas satuan_panjang  tanggal  \\\n",
       "30  Jakarta Pusat         2000              m        1   \n",
       "31  Jakarta Pusat         1000              m        1   \n",
       "32  Jakarta Pusat         1000              m        1   \n",
       "33  Jakarta Pusat          700              m        1   \n",
       "34  Jakarta Pusat          800              m        1   \n",
       "35  Jakarta Pusat          900              m        1   \n",
       "36  Jakarta Pusat          950              m        1   \n",
       "37  Jakarta Pusat          950              m        1   \n",
       "38  Jakarta Pusat          800              m        1   \n",
       "39  Jakarta Pusat         1000              m        1   \n",
       "\n",
       "   volume_sampah_perhari(m3)  \n",
       "30                         2  \n",
       "31                         0  \n",
       "32                         0  \n",
       "33                         0  \n",
       "34                         0  \n",
       "35                         0  \n",
       "36                        12  \n",
       "37                        12  \n",
       "38                        12  \n",
       "39                         2  "
      ]
     },
     "execution_count": 109,
     "metadata": {},
     "output_type": "execute_result"
    }
   ],
   "source": [
    "# Memisahkan semua data yang memiliki kecamatan = Gambir dari 10 data teratas\n",
    "data_gambir = rename_column_data[rename_column_data.kecamatan == \"Gambir\"]\n",
    "data_gambir.head(10)"
   ]
  },
  {
   "cell_type": "code",
   "execution_count": 110,
   "metadata": {},
   "outputs": [
    {
     "data": {
      "text/html": [
       "<div>\n",
       "<style scoped>\n",
       "    .dataframe tbody tr th:only-of-type {\n",
       "        vertical-align: middle;\n",
       "    }\n",
       "\n",
       "    .dataframe tbody tr th {\n",
       "        vertical-align: top;\n",
       "    }\n",
       "\n",
       "    .dataframe thead th {\n",
       "        text-align: right;\n",
       "    }\n",
       "</style>\n",
       "<table border=\"1\" class=\"dataframe\">\n",
       "  <thead>\n",
       "    <tr style=\"text-align: right;\">\n",
       "      <th></th>\n",
       "      <th>bulan</th>\n",
       "      <th>titik_lokasi</th>\n",
       "      <th>kecamatan</th>\n",
       "      <th>wilayah</th>\n",
       "      <th>panjang/luas</th>\n",
       "      <th>satuan_panjang/luas</th>\n",
       "      <th>tanggal</th>\n",
       "      <th>volume_sampah_perhari(m3)</th>\n",
       "    </tr>\n",
       "  </thead>\n",
       "  <tbody>\n",
       "    <tr>\n",
       "      <th>53095</th>\n",
       "      <td>4</td>\n",
       "      <td>Kali Cakung Drain (Jembatan Tinggi-Perbatasan ...</td>\n",
       "      <td>Cakung</td>\n",
       "      <td>Jakarta Timur</td>\n",
       "      <td>800</td>\n",
       "      <td>m</td>\n",
       "      <td>30</td>\n",
       "      <td>3</td>\n",
       "    </tr>\n",
       "    <tr>\n",
       "      <th>53096</th>\n",
       "      <td>4</td>\n",
       "      <td>PHB Rawa Teratai</td>\n",
       "      <td>Cakung</td>\n",
       "      <td>Jakarta Timur</td>\n",
       "      <td>700</td>\n",
       "      <td>m</td>\n",
       "      <td>30</td>\n",
       "      <td>-</td>\n",
       "    </tr>\n",
       "    <tr>\n",
       "      <th>53097</th>\n",
       "      <td>4</td>\n",
       "      <td>PHB Rawa Gelam III</td>\n",
       "      <td>Cakung</td>\n",
       "      <td>Jakarta Timur</td>\n",
       "      <td>1000</td>\n",
       "      <td>m</td>\n",
       "      <td>30</td>\n",
       "      <td>-</td>\n",
       "    </tr>\n",
       "    <tr>\n",
       "      <th>53098</th>\n",
       "      <td>4</td>\n",
       "      <td>PHB Metropos KIP</td>\n",
       "      <td>Cakung</td>\n",
       "      <td>Jakarta Timur</td>\n",
       "      <td>1000</td>\n",
       "      <td>m</td>\n",
       "      <td>30</td>\n",
       "      <td>-</td>\n",
       "    </tr>\n",
       "    <tr>\n",
       "      <th>53099</th>\n",
       "      <td>4</td>\n",
       "      <td>PHB Warung Jengkol</td>\n",
       "      <td>Cakung</td>\n",
       "      <td>Jakarta Timur</td>\n",
       "      <td>400</td>\n",
       "      <td>m</td>\n",
       "      <td>30</td>\n",
       "      <td>-</td>\n",
       "    </tr>\n",
       "  </tbody>\n",
       "</table>\n",
       "</div>"
      ],
      "text/plain": [
       "       bulan                                       titik_lokasi kecamatan  \\\n",
       "53095      4  Kali Cakung Drain (Jembatan Tinggi-Perbatasan ...    Cakung   \n",
       "53096      4                                   PHB Rawa Teratai    Cakung   \n",
       "53097      4                                 PHB Rawa Gelam III    Cakung   \n",
       "53098      4                                   PHB Metropos KIP    Cakung   \n",
       "53099      4                                 PHB Warung Jengkol    Cakung   \n",
       "\n",
       "             wilayah panjang/luas satuan_panjang/luas  tanggal  \\\n",
       "53095  Jakarta Timur          800                   m       30   \n",
       "53096  Jakarta Timur          700                   m       30   \n",
       "53097  Jakarta Timur         1000                   m       30   \n",
       "53098  Jakarta Timur         1000                   m       30   \n",
       "53099  Jakarta Timur          400                   m       30   \n",
       "\n",
       "      volume_sampah_perhari(m3)  \n",
       "53095                         3  \n",
       "53096                         -  \n",
       "53097                         -  \n",
       "53098                         -  \n",
       "53099                         -  "
      ]
     },
     "execution_count": 110,
     "metadata": {},
     "output_type": "execute_result"
    }
   ],
   "source": [
    "# Melihat susunan dataframe dari 5 data terbawah\n",
    "data_april.tail()"
   ]
  },
  {
   "cell_type": "markdown",
   "metadata": {},
   "source": [
    "## 2. Data Preprocessing"
   ]
  },
  {
   "cell_type": "code",
   "execution_count": 111,
   "metadata": {},
   "outputs": [
    {
     "data": {
      "text/plain": [
       "0"
      ]
     },
     "execution_count": 111,
     "metadata": {},
     "output_type": "execute_result"
    }
   ],
   "source": [
    "# Mengecek apakah di dalam dataframe terdapat nilai duplikat/tidak\n",
    "data_april.duplicated().sum()"
   ]
  },
  {
   "cell_type": "code",
   "execution_count": 112,
   "metadata": {},
   "outputs": [
    {
     "data": {
      "text/plain": [
       "Index(['Bulan', 'Titik_Lokasi', 'Kecamatan', 'Wilayah', 'Panjang/Luas',\n",
       "       'Satuan_Panjang/Luas', 'Tanggal', 'Volume_Sampah_Perhari(M3)'],\n",
       "      dtype='object')"
      ]
     },
     "execution_count": 112,
     "metadata": {},
     "output_type": "execute_result"
    }
   ],
   "source": [
    "# Mengubah format penamaan kolom dari yang semula huruf kecil menjadi huruf gabungan (huruf besar & kecil)\n",
    "data_april = data_april.rename(str.title, axis=\"columns\")\n",
    "data_april.columns"
   ]
  },
  {
   "cell_type": "code",
   "execution_count": 113,
   "metadata": {},
   "outputs": [
    {
     "data": {
      "text/plain": [
       "Bulan                            0\n",
       "Titik_Lokasi                     0\n",
       "Kecamatan                        0\n",
       "Wilayah                          0\n",
       "Panjang/Luas                   930\n",
       "Satuan_Panjang/Luas          20640\n",
       "Tanggal                          0\n",
       "Volume_Sampah_Perhari(M3)        0\n",
       "dtype: int64"
      ]
     },
     "execution_count": 113,
     "metadata": {},
     "output_type": "execute_result"
    }
   ],
   "source": [
    "# Mengecek nilai kosong (NaN) dari masing-masing kolom di dataframe\n",
    "data_april.isnull().sum()"
   ]
  },
  {
   "cell_type": "markdown",
   "metadata": {},
   "source": [
    "Jika dilihat dari hasil diatas maka hanya terdapat 2 kolom yang memiliki nilai NaN (Not a Number) atau nilai kosong yaitu kolom \"Panjang/Luas\" dan \"Satuan_Panjang/Luas\". Namun jika diperhatikan kembali terdapat 3 kolom yang memiliki nilai NaN yakni kolom \"Panjang/Luas\", \"Satuan_Panjang/Luas\", dan kolom \"Volume_Sampah_Perhari(M3)\".\n",
    "\n",
    "Mengapa terdapat kolom \"Volume_Sampah_Perhari(M3)\"?\n",
    "\n",
    "Hal tersebut dikarenakan nilai kosong yang ada di kolom \"Volume_Sampah_Perhari(M3)\" ditulis dengan simbol \"-\". Karena kolom ini merupakan kolom prediksi maka dari itu saya akan mengubahnya menjadi nilai mean atau nilai rata-rata. Tetapi sebelum itu nilai \"-\" ini akan saya ubah terlebih dahulu menjadi nilai NaN (Not a Number)."
   ]
  },
  {
   "cell_type": "code",
   "execution_count": 114,
   "metadata": {},
   "outputs": [],
   "source": [
    "# Menghapus karakter yang berada di kolom \"Panjang/Luas\" seperti pada data 700/10 yang dapat dilihat pada tahapan sebelumnya\n",
    "data_april[\"Panjang/Luas\"] = data_april[\"Panjang/Luas\"].str.replace(r\"\\D\", \"\")"
   ]
  },
  {
   "cell_type": "code",
   "execution_count": 115,
   "metadata": {},
   "outputs": [
    {
     "data": {
      "text/html": [
       "<div>\n",
       "<style scoped>\n",
       "    .dataframe tbody tr th:only-of-type {\n",
       "        vertical-align: middle;\n",
       "    }\n",
       "\n",
       "    .dataframe tbody tr th {\n",
       "        vertical-align: top;\n",
       "    }\n",
       "\n",
       "    .dataframe thead th {\n",
       "        text-align: right;\n",
       "    }\n",
       "</style>\n",
       "<table border=\"1\" class=\"dataframe\">\n",
       "  <thead>\n",
       "    <tr style=\"text-align: right;\">\n",
       "      <th></th>\n",
       "      <th>Bulan</th>\n",
       "      <th>Titik_Lokasi</th>\n",
       "      <th>Kecamatan</th>\n",
       "      <th>Wilayah</th>\n",
       "      <th>Panjang/Luas</th>\n",
       "      <th>Satuan_Panjang/Luas</th>\n",
       "      <th>Tanggal</th>\n",
       "      <th>Volume_Sampah_Perhari(M3)</th>\n",
       "    </tr>\n",
       "  </thead>\n",
       "  <tbody>\n",
       "    <tr>\n",
       "      <th>53090</th>\n",
       "      <td>4</td>\n",
       "      <td>Waduk Aneka Elok</td>\n",
       "      <td>Cakung</td>\n",
       "      <td>Jakarta Timur</td>\n",
       "      <td>700</td>\n",
       "      <td>m</td>\n",
       "      <td>30</td>\n",
       "      <td>NaN</td>\n",
       "    </tr>\n",
       "    <tr>\n",
       "      <th>53091</th>\n",
       "      <td>4</td>\n",
       "      <td>PHB Aneka Elok</td>\n",
       "      <td>Cakung</td>\n",
       "      <td>Jakarta Timur</td>\n",
       "      <td>600</td>\n",
       "      <td>m</td>\n",
       "      <td>30</td>\n",
       "      <td>NaN</td>\n",
       "    </tr>\n",
       "    <tr>\n",
       "      <th>53092</th>\n",
       "      <td>4</td>\n",
       "      <td>PHB KP Bulak Penggilingan</td>\n",
       "      <td>Cakung</td>\n",
       "      <td>Jakarta Timur</td>\n",
       "      <td>800</td>\n",
       "      <td>m</td>\n",
       "      <td>30</td>\n",
       "      <td>NaN</td>\n",
       "    </tr>\n",
       "    <tr>\n",
       "      <th>53093</th>\n",
       "      <td>4</td>\n",
       "      <td>Kali Cakung Drain (Jl. Raya Bekasi-Lion)</td>\n",
       "      <td>Cakung</td>\n",
       "      <td>Jakarta Timur</td>\n",
       "      <td>1000</td>\n",
       "      <td>m</td>\n",
       "      <td>30</td>\n",
       "      <td>3</td>\n",
       "    </tr>\n",
       "    <tr>\n",
       "      <th>53094</th>\n",
       "      <td>4</td>\n",
       "      <td>Kali Cakung Drain (Lion-Wing's)</td>\n",
       "      <td>Cakung</td>\n",
       "      <td>Jakarta Timur</td>\n",
       "      <td>800</td>\n",
       "      <td>m</td>\n",
       "      <td>30</td>\n",
       "      <td>3</td>\n",
       "    </tr>\n",
       "    <tr>\n",
       "      <th>53095</th>\n",
       "      <td>4</td>\n",
       "      <td>Kali Cakung Drain (Jembatan Tinggi-Perbatasan ...</td>\n",
       "      <td>Cakung</td>\n",
       "      <td>Jakarta Timur</td>\n",
       "      <td>800</td>\n",
       "      <td>m</td>\n",
       "      <td>30</td>\n",
       "      <td>3</td>\n",
       "    </tr>\n",
       "    <tr>\n",
       "      <th>53096</th>\n",
       "      <td>4</td>\n",
       "      <td>PHB Rawa Teratai</td>\n",
       "      <td>Cakung</td>\n",
       "      <td>Jakarta Timur</td>\n",
       "      <td>700</td>\n",
       "      <td>m</td>\n",
       "      <td>30</td>\n",
       "      <td>NaN</td>\n",
       "    </tr>\n",
       "    <tr>\n",
       "      <th>53097</th>\n",
       "      <td>4</td>\n",
       "      <td>PHB Rawa Gelam III</td>\n",
       "      <td>Cakung</td>\n",
       "      <td>Jakarta Timur</td>\n",
       "      <td>1000</td>\n",
       "      <td>m</td>\n",
       "      <td>30</td>\n",
       "      <td>NaN</td>\n",
       "    </tr>\n",
       "    <tr>\n",
       "      <th>53098</th>\n",
       "      <td>4</td>\n",
       "      <td>PHB Metropos KIP</td>\n",
       "      <td>Cakung</td>\n",
       "      <td>Jakarta Timur</td>\n",
       "      <td>1000</td>\n",
       "      <td>m</td>\n",
       "      <td>30</td>\n",
       "      <td>NaN</td>\n",
       "    </tr>\n",
       "    <tr>\n",
       "      <th>53099</th>\n",
       "      <td>4</td>\n",
       "      <td>PHB Warung Jengkol</td>\n",
       "      <td>Cakung</td>\n",
       "      <td>Jakarta Timur</td>\n",
       "      <td>400</td>\n",
       "      <td>m</td>\n",
       "      <td>30</td>\n",
       "      <td>NaN</td>\n",
       "    </tr>\n",
       "  </tbody>\n",
       "</table>\n",
       "</div>"
      ],
      "text/plain": [
       "       Bulan                                       Titik_Lokasi Kecamatan  \\\n",
       "53090      4                                   Waduk Aneka Elok    Cakung   \n",
       "53091      4                                     PHB Aneka Elok    Cakung   \n",
       "53092      4                          PHB KP Bulak Penggilingan    Cakung   \n",
       "53093      4           Kali Cakung Drain (Jl. Raya Bekasi-Lion)    Cakung   \n",
       "53094      4                    Kali Cakung Drain (Lion-Wing's)    Cakung   \n",
       "53095      4  Kali Cakung Drain (Jembatan Tinggi-Perbatasan ...    Cakung   \n",
       "53096      4                                   PHB Rawa Teratai    Cakung   \n",
       "53097      4                                 PHB Rawa Gelam III    Cakung   \n",
       "53098      4                                   PHB Metropos KIP    Cakung   \n",
       "53099      4                                 PHB Warung Jengkol    Cakung   \n",
       "\n",
       "             Wilayah Panjang/Luas Satuan_Panjang/Luas  Tanggal  \\\n",
       "53090  Jakarta Timur          700                   m       30   \n",
       "53091  Jakarta Timur          600                   m       30   \n",
       "53092  Jakarta Timur          800                   m       30   \n",
       "53093  Jakarta Timur         1000                   m       30   \n",
       "53094  Jakarta Timur          800                   m       30   \n",
       "53095  Jakarta Timur          800                   m       30   \n",
       "53096  Jakarta Timur          700                   m       30   \n",
       "53097  Jakarta Timur         1000                   m       30   \n",
       "53098  Jakarta Timur         1000                   m       30   \n",
       "53099  Jakarta Timur          400                   m       30   \n",
       "\n",
       "      Volume_Sampah_Perhari(M3)  \n",
       "53090                       NaN  \n",
       "53091                       NaN  \n",
       "53092                       NaN  \n",
       "53093                         3  \n",
       "53094                         3  \n",
       "53095                         3  \n",
       "53096                       NaN  \n",
       "53097                       NaN  \n",
       "53098                       NaN  \n",
       "53099                       NaN  "
      ]
     },
     "execution_count": 115,
     "metadata": {},
     "output_type": "execute_result"
    }
   ],
   "source": [
    "# Mengahapus karakter \"-\" di kolom \"Volume_Sampah_Perhari(M3)\" dengan nilai NaN\n",
    "data_april[\"Volume_Sampah_Perhari(M3)\"] = data_april[\"Volume_Sampah_Perhari(M3)\"].replace(\"-\", np.nan)\n",
    "\n",
    "data_april.tail(10)"
   ]
  },
  {
   "cell_type": "code",
   "execution_count": 116,
   "metadata": {},
   "outputs": [],
   "source": [
    "# Mengubah tipe data di kolom \"Panjang/Luas\" dari string menjadi float\n",
    "data_april[[\"Panjang/Luas\"]] = data_april[[\"Panjang/Luas\"]].apply(pd.to_numeric)"
   ]
  },
  {
   "cell_type": "code",
   "execution_count": 117,
   "metadata": {},
   "outputs": [
    {
     "data": {
      "text/plain": [
       "Bulan                          int64\n",
       "Titik_Lokasi                  object\n",
       "Kecamatan                     object\n",
       "Wilayah                       object\n",
       "Panjang/Luas                 float64\n",
       "Satuan_Panjang/Luas           object\n",
       "Tanggal                        int64\n",
       "Volume_Sampah_Perhari(M3)    float64\n",
       "dtype: object"
      ]
     },
     "execution_count": 117,
     "metadata": {},
     "output_type": "execute_result"
    }
   ],
   "source": [
    "# Mengubah tipe data pada kolom \"Volume_Sampah_Perhari(M3)\" dari string menjadi float\n",
    "data_april[\"Volume_Sampah_Perhari(M3)\"] = pd.to_numeric(data_april[\"Volume_Sampah_Perhari(M3)\"], errors=\"coerce\")\n",
    "\n",
    "data_april.dtypes"
   ]
  },
  {
   "cell_type": "code",
   "execution_count": 118,
   "metadata": {},
   "outputs": [
    {
     "data": {
      "text/plain": [
       "m         30810\n",
       "Ha         1320\n",
       "H            90\n",
       "HA           60\n",
       "m²           30\n",
       "m³           30\n",
       "hektar       30\n",
       "km           30\n",
       "Hektar       30\n",
       "m2           30\n",
       "Name: Satuan_Panjang/Luas, dtype: int64"
      ]
     },
     "execution_count": 118,
     "metadata": {},
     "output_type": "execute_result"
    }
   ],
   "source": [
    "# Melihat nilai total dari masing-masing data yang ada di kolom \"Satuan_Panjang/Luas\"\n",
    "data_april[\"Satuan_Panjang/Luas\"].value_counts()"
   ]
  },
  {
   "cell_type": "markdown",
   "metadata": {},
   "source": [
    "Berdasarkan hasil diatas dapat dilihat bahwa nilai data hektar (yang dilambangkan dengan Ha) memiliki banyak sekali penulisan yang berbeda-beda seperti H, HA, Hektar, dan hektar. Padahal semuanya memiliki satu kesatuan yaitu Ha. Maka dari itu saya akan menjadikan nilai data H, HA, Hektar, dan hektar ini menjadi satu kesatuan saja yakni data Ha.\n",
    "\n",
    "Selain itu nilai dari data seperti m2 akan saya jadikan sebagai nilai m² saja."
   ]
  },
  {
   "cell_type": "code",
   "execution_count": 119,
   "metadata": {},
   "outputs": [
    {
     "data": {
      "text/plain": [
       "m     30810\n",
       "Ha     1530\n",
       "m²       60\n",
       "m³       30\n",
       "km       30\n",
       "Name: Satuan_Panjang/Luas, dtype: int64"
      ]
     },
     "execution_count": 119,
     "metadata": {},
     "output_type": "execute_result"
    }
   ],
   "source": [
    "# Mengganti nilai data yang mirip seperti Ha, dan m²\n",
    "\n",
    "# Mengganti nilai H\", \"HA\". \"Hektar\", dan \"hektar\"\n",
    "data_april = data_april.replace(to_replace =[\"H\", \"HA\", \"Hektar\", \"hektar\"], value=\"Ha\")\n",
    "\n",
    "# Mengganti nilai \"m2\" menjadi \"m²\"\n",
    "data_april = data_april.replace(to_replace = \"m2\", value=\"m²\")\n",
    "\n",
    "data_april[\"Satuan_Panjang/Luas\"].value_counts()"
   ]
  },
  {
   "cell_type": "code",
   "execution_count": 120,
   "metadata": {},
   "outputs": [
    {
     "data": {
      "text/plain": [
       "Bulan                            0\n",
       "Titik_Lokasi                     0\n",
       "Kecamatan                        0\n",
       "Wilayah                          0\n",
       "Panjang/Luas                   930\n",
       "Satuan_Panjang/Luas          20640\n",
       "Tanggal                          0\n",
       "Volume_Sampah_Perhari(M3)    17852\n",
       "dtype: int64"
      ]
     },
     "execution_count": 120,
     "metadata": {},
     "output_type": "execute_result"
    }
   ],
   "source": [
    "# Mengecek kembali nilai NaN di masing-masing kolom yang ada di dataframe\n",
    "data_april.isnull().sum()"
   ]
  },
  {
   "cell_type": "code",
   "execution_count": 121,
   "metadata": {},
   "outputs": [
    {
     "data": {
      "text/plain": [
       "Bulan                            0\n",
       "Titik_Lokasi                     0\n",
       "Kecamatan                        0\n",
       "Wilayah                          0\n",
       "Panjang/Luas                     0\n",
       "Satuan_Panjang/Luas          20640\n",
       "Tanggal                          0\n",
       "Volume_Sampah_Perhari(M3)        0\n",
       "dtype: int64"
      ]
     },
     "execution_count": 121,
     "metadata": {},
     "output_type": "execute_result"
    }
   ],
   "source": [
    "# Mengganti nilai NaN yang ada disetiap kolom di dataframe data_maret dengan nilai mean\n",
    "mean = data_april.mean()\n",
    "data_april = data_april.replace(np.nan, mean)\n",
    "\n",
    "data_april.isnull().sum()"
   ]
  },
  {
   "cell_type": "markdown",
   "metadata": {},
   "source": [
    "Setelah mengisi nilai kosong (NaN) dengan nilai mean (rata-rata) selanjutnya saya akan mengubah tipe data pada kolom \"Panjang/Luas\" dan \"Volume_Sampah_Perhari(M3)\" dari yang semula float menjadi integer."
   ]
  },
  {
   "cell_type": "code",
   "execution_count": 122,
   "metadata": {},
   "outputs": [
    {
     "data": {
      "text/html": [
       "<div>\n",
       "<style scoped>\n",
       "    .dataframe tbody tr th:only-of-type {\n",
       "        vertical-align: middle;\n",
       "    }\n",
       "\n",
       "    .dataframe tbody tr th {\n",
       "        vertical-align: top;\n",
       "    }\n",
       "\n",
       "    .dataframe thead th {\n",
       "        text-align: right;\n",
       "    }\n",
       "</style>\n",
       "<table border=\"1\" class=\"dataframe\">\n",
       "  <thead>\n",
       "    <tr style=\"text-align: right;\">\n",
       "      <th></th>\n",
       "      <th>Bulan</th>\n",
       "      <th>Titik_Lokasi</th>\n",
       "      <th>Kecamatan</th>\n",
       "      <th>Wilayah</th>\n",
       "      <th>Panjang/Luas</th>\n",
       "      <th>Satuan_Panjang/Luas</th>\n",
       "      <th>Tanggal</th>\n",
       "      <th>Volume_Sampah_Perhari(M3)</th>\n",
       "    </tr>\n",
       "  </thead>\n",
       "  <tbody>\n",
       "    <tr>\n",
       "      <th>53095</th>\n",
       "      <td>4</td>\n",
       "      <td>Kali Cakung Drain (Jembatan Tinggi-Perbatasan ...</td>\n",
       "      <td>Cakung</td>\n",
       "      <td>Jakarta Timur</td>\n",
       "      <td>800</td>\n",
       "      <td>m</td>\n",
       "      <td>30</td>\n",
       "      <td>3</td>\n",
       "    </tr>\n",
       "    <tr>\n",
       "      <th>53096</th>\n",
       "      <td>4</td>\n",
       "      <td>PHB Rawa Teratai</td>\n",
       "      <td>Cakung</td>\n",
       "      <td>Jakarta Timur</td>\n",
       "      <td>700</td>\n",
       "      <td>m</td>\n",
       "      <td>30</td>\n",
       "      <td>2</td>\n",
       "    </tr>\n",
       "    <tr>\n",
       "      <th>53097</th>\n",
       "      <td>4</td>\n",
       "      <td>PHB Rawa Gelam III</td>\n",
       "      <td>Cakung</td>\n",
       "      <td>Jakarta Timur</td>\n",
       "      <td>1000</td>\n",
       "      <td>m</td>\n",
       "      <td>30</td>\n",
       "      <td>2</td>\n",
       "    </tr>\n",
       "    <tr>\n",
       "      <th>53098</th>\n",
       "      <td>4</td>\n",
       "      <td>PHB Metropos KIP</td>\n",
       "      <td>Cakung</td>\n",
       "      <td>Jakarta Timur</td>\n",
       "      <td>1000</td>\n",
       "      <td>m</td>\n",
       "      <td>30</td>\n",
       "      <td>2</td>\n",
       "    </tr>\n",
       "    <tr>\n",
       "      <th>53099</th>\n",
       "      <td>4</td>\n",
       "      <td>PHB Warung Jengkol</td>\n",
       "      <td>Cakung</td>\n",
       "      <td>Jakarta Timur</td>\n",
       "      <td>400</td>\n",
       "      <td>m</td>\n",
       "      <td>30</td>\n",
       "      <td>2</td>\n",
       "    </tr>\n",
       "  </tbody>\n",
       "</table>\n",
       "</div>"
      ],
      "text/plain": [
       "       Bulan                                       Titik_Lokasi Kecamatan  \\\n",
       "53095      4  Kali Cakung Drain (Jembatan Tinggi-Perbatasan ...    Cakung   \n",
       "53096      4                                   PHB Rawa Teratai    Cakung   \n",
       "53097      4                                 PHB Rawa Gelam III    Cakung   \n",
       "53098      4                                   PHB Metropos KIP    Cakung   \n",
       "53099      4                                 PHB Warung Jengkol    Cakung   \n",
       "\n",
       "             Wilayah  Panjang/Luas Satuan_Panjang/Luas  Tanggal  \\\n",
       "53095  Jakarta Timur           800                   m       30   \n",
       "53096  Jakarta Timur           700                   m       30   \n",
       "53097  Jakarta Timur          1000                   m       30   \n",
       "53098  Jakarta Timur          1000                   m       30   \n",
       "53099  Jakarta Timur           400                   m       30   \n",
       "\n",
       "       Volume_Sampah_Perhari(M3)  \n",
       "53095                          3  \n",
       "53096                          2  \n",
       "53097                          2  \n",
       "53098                          2  \n",
       "53099                          2  "
      ]
     },
     "execution_count": 122,
     "metadata": {},
     "output_type": "execute_result"
    }
   ],
   "source": [
    "# Mengubah tipe data pada kolom \"Panjang/Luas\" dan \"Volume_Sampah_Perhari(M3)\" dari float menjadi integer\n",
    "data_april[\"Panjang/Luas\"] = data_april[\"Panjang/Luas\"].astype(int)\n",
    "data_april[\"Volume_Sampah_Perhari(M3)\"] = data_april[\"Volume_Sampah_Perhari(M3)\"].astype(int)\n",
    "\n",
    "data_april.tail()"
   ]
  },
  {
   "cell_type": "code",
   "execution_count": 123,
   "metadata": {},
   "outputs": [
    {
     "name": "stdout",
     "output_type": "stream",
     "text": [
      "Ukuran Data dari Kolom Panjang/Luas Sebelum Nilai Outliers Dibuang:  (53100, 8)\n",
      "Ukuran Data dari Kolom Panjang/Luas Setelah Nilai Outliers Dibuang:  (42870, 8)\n"
     ]
    }
   ],
   "source": [
    "# Mengecek nilai outliers untuk kolom \"Panjang/Luas\" dengan nilai quartil dan IQR\n",
    "Q1 = data_april[\"Panjang/Luas\"].quantile(0.25)\n",
    "Q3 = data_april[\"Panjang/Luas\"].quantile(0.75)\n",
    "\n",
    "# Menghitung interquartile range maka rumusnya adalah quartil 3 (75%) - quartil 1 (25%)\n",
    "IQR = Q3 - Q1\n",
    "\n",
    "# Melihat ukuran (baris dan kolom) sebelum data yang outliers dibuang\n",
    "print(\"Ukuran Data dari Kolom Panjang/Luas Sebelum Nilai Outliers Dibuang: \", data_april.shape)\n",
    "\n",
    "# Menghapus nilai outlier dari kolom \"Panjang/Luas\"\n",
    "data_april = data_april[~((data_april[\"Panjang/Luas\"] < (Q1 - 1.5 * IQR)) | \n",
    "                          (data_april[\"Panjang/Luas\"] > (Q3 + 1.5 * IQR)))]\n",
    "\n",
    "# Melihat ukuran (baris dan kolom) setelah data outliers dibuang dari kolom \"Panjang/Luas\"\n",
    "print(\"Ukuran Data dari Kolom Panjang/Luas Setelah Nilai Outliers Dibuang: \", data_april.shape)"
   ]
  },
  {
   "cell_type": "markdown",
   "metadata": {},
   "source": [
    "Terdapat 10.230 nilai outliers yang ada di kolom \"Panjang/Luas\" yang ada di dalam dataframe. Walaupun kolom \"Panjang/Luas\" tidak akan digunakan dalam proses prediksi tingkat pengangkutan volume sampah (kolom \"Panjang/Luas\" tidak termasuk ke dalam variabel independen maupun variabel dependen) tetapi penghapusan nilai outliers ini tetap saya lakukan karena pada tahap data visualisasi akan saya gunakan untuk melihat presentase berdasarkan wilayah dan juga melihat perbandingan data berdasarkan kolom \"Satuan_Panjang/Luas\"."
   ]
  },
  {
   "cell_type": "code",
   "execution_count": 124,
   "metadata": {},
   "outputs": [],
   "source": [
    "# Menghapus kolom yang sudah tidak dibutuhkan yaitu kolom \"Bulan\"\n",
    "data_april = data_april.drop([\"Bulan\"], axis=1)"
   ]
  },
  {
   "cell_type": "markdown",
   "metadata": {},
   "source": [
    "## 3. Data Visualisasi + Analisis Data per Grafik"
   ]
  },
  {
   "cell_type": "code",
   "execution_count": 125,
   "metadata": {},
   "outputs": [
    {
     "data": {
      "image/png": "[encoded data removed]",
      "text/plain": [
       "<Figure size 1800x1440 with 2 Axes>"
      ]
     },
     "metadata": {},
     "output_type": "display_data"
    }
   ],
   "source": [
    "# Melihat perbandingan antar wilayah di Provinsi DKI Jakarta (berdasarkan volume sampah per hari)\n",
    "plt.figure(figsize=(25, 20))\n",
    "\n",
    "plt.subplot(4, 3, 1)\n",
    "sns.barplot(x=\"Wilayah\", y=\"Volume_Sampah_Perhari(M3)\", data=data_april)\n",
    "plt.title(\"Grafik Wilayah Jakarta Berdasarkan \\n Volume Sampah Per Hari di Bulan April 2021\", \n",
    "          fontsize=13, pad=13)\n",
    "\n",
    "plt.subplot(4, 3, 2)\n",
    "sns.countplot(x=\"Wilayah\", data=data_april)\n",
    "plt.title(\"Perbandingan Wilayah Provinsi DKI Jakarta pada Bulan April 2021\", fontsize=13, pad=13)\n",
    "plt.show()"
   ]
  },
  {
   "cell_type": "markdown",
   "metadata": {},
   "source": [
    "Berdasarkan grafik diagram diatas maka dapat diambil beberapa kesimpulan diantaranya:\n",
    "\n",
    "1. Wilayah Jakarta Pusat memiliki volume sampah yang paling tinggi diantara wilayah yang lain sedangkan Wilayah Jakarta Utara memiliki tingkat volume pengangkutan sampah yang sangat kecil dan sedikit. Jika diurutkan dalam hal volume sampah yang berhasil diangkut di setiap wilayah yang ada di Provinsi DKI Jakarta maka akan terjadi susunan seperti dibawah ini:\n",
    "\n",
    "- Jakarta Pusat.\n",
    "- Jakarta Selatan.\n",
    "- Jakarta Barat.\n",
    "- Jakarta Timur.\n",
    "- Jakarta Utara.\n",
    "\n",
    "2. Grafik kedua merupakan grafik yang memperlihatkan perbandingan Wilayah yang ada di Provinsi DKI Jakarta tanpa adanya keterkaitan atau hubungan wilayah dengan kegiatan pengangkutan sampah di setiap harinya. Wilayah Jakarta Barat memiliki nilai yang sangat tinggi yakni mencapai 15.840 sedangkan Wilayah Jakarta Utara memiliki nilai perhitungan yang sangat kecil yakni hanya mencapai 3.180 saja. Jika diurutkan maka hasilnya adalah sebagai berikut:\n",
    "\n",
    "- Jakarta Barat.\n",
    "- Jakarta Timur.\n",
    "- Jakarta Selatan.\n",
    "- Jakarta Pusat.\n",
    "- Jakarta Utara."
   ]
  },
  {
   "cell_type": "code",
   "execution_count": 126,
   "metadata": {},
   "outputs": [
    {
     "data": {
      "image/png": "[encoded data removed]",
      "text/plain": [
       "<Figure size 1080x720 with 1 Axes>"
      ]
     },
     "metadata": {},
     "output_type": "display_data"
    }
   ],
   "source": [
    "# Melihat perbandingan antar kecamatan dalam hal pengangkutan sampah yang ada di Provinsi DKI Jakarta\n",
    "plt.figure(figsize=(15, 10))\n",
    "plt.xticks(rotation=90)\n",
    "\n",
    "sns.countplot(x=\"Kecamatan\", data=data_april)\n",
    "plt.title(\"Perbandingan Kecamatan Yang Paling Sering Mengangkut Sampah Sungai Pada Bulan April 2021\", fontsize=13, pad=13)\n",
    "plt.show()"
   ]
  },
  {
   "cell_type": "markdown",
   "metadata": {},
   "source": [
    "Berdasarkan grafik diatas terkait perbandingan jumlah perhitungan total antar Kecamatan yang didasari oleh kolom Titik_Lokasi dalam menghasilkan atau mengumpulkan volume sampah per harinya di Provinsi DKI Jakarta bulan April 2021, maka dapat diambil kesimpulan sebagai berikut:\n",
    "\n",
    "1. Kecamatan yang mempunyai nilai tertinggi yakni Kecamatan Kalideres yang memiliki data sebanyak 2.790. Jumlah nilai tersebut tidak ada keterkaitannya dengan volume sampah per harinya melainkan didasarkan atas Titik_Lokasi dari setiap Kecamatan yang berhasil mengangkut sampah-sampah di setiap harinya.\n",
    "2. Kecamatan yang memiliki nilai tertinggi selanjutnya setelah Kecamatan Kalideres (2.790) adalah kecamatan Cengkareng yang memiliki data sebanyak 2.430 dan kecamatan tertinggi selanjutnya setelah Kalideres dan Cengkareng adalah kecamatan Kembangan yang memiliki data sebanyak 2.220.\n",
    "3. Sedangkan Kecamatan yang memiliki titik lokasi terendah dalam hal pengangkutan sampah di Provinsi DKI Jakarta adalah Kecamatan Koja yang berada di Wilayah Jakarta Utara yang memiliki 210 titik lokasi saja. Kalah tipis dari Kecamatan Cilinding (240) yang berada di Wilayah yang sama (Jakarta Utara).\n",
    "\n",
    "Harus diingat bahwa perhitungan dalam memilih Kecamatan tertinggi sampai terendah didasarkan bukan dari volume sampah yang berhasil dingkut per harinya melainkan dari pengumpulan sampah di suatu titik lokasi tertentu saja seperti melalui kali, saluran penghubung (PHB), waduk, sungai di masing-masing kecamatan, dll."
   ]
  },
  {
   "cell_type": "code",
   "execution_count": 127,
   "metadata": {},
   "outputs": [
    {
     "data": {
      "image/png": "[encoded data removed]",
      "text/plain": [
       "<Figure size 720x360 with 2 Axes>"
      ]
     },
     "metadata": {},
     "output_type": "display_data"
    }
   ],
   "source": [
    "# Melihat korelasi antar kolom yang memiliki bersifat numerik\n",
    "plt.figure(figsize=(10, 5))\n",
    "\n",
    "korelasi_data_april = sns.heatmap(data_april.corr(), cmap=\"RdGy\", annot=True)\n",
    "korelasi_data_april.set_title(\"Melihat Korelasi Antar Kolom yang Bersifat Numerik (Angka) di data_april\", \n",
    "                              fontsize=13, pad=13);"
   ]
  },
  {
   "cell_type": "markdown",
   "metadata": {},
   "source": [
    "Grafik diatas dinamakan sebagai grafik heatmap atau grafik peta panas dengan menunjukkan nilai korelasi antar masing-masing kolom yang bersifat numerik sedangkan kategorik tidak. Cara membaca grafik ini yaitu membaca dari sumbu y ke sumbu x atau sebaliknya dengan memfokuskan/memperhatikan nilai yang ada di box persegi sebagai penanda nilai korelasinya. Contohnya adalah sebagai berikut:\n",
    "\n",
    "1. Variabel \"Panjang/Luas\" yang ada di sumbu y memiliki nilai korelasi 1 dengan variabel yang sama (Panjang/Luas) yang berada di sumbu x. Sedangkan variabel Panjang/Luas yang ada di sumbu y memiliki nilai korelasi -0.064 dengan variabel \"Volume_Sampah_Perhari(M3)\" yang ada di sumbu x. Hal tersebut menandakan tidak memiliki hubungan timbal-balik.\n",
    "2. Variabel \"Volume_Sampah_Perhari(M3)\" yang ada di sumbu y memiliki nilai korelasi = 0.0073 dengan variabel Tanggal yang ada di sumbu x. Hal ini menandakan bahwasanya kedua variabel ini (Variabel \"Volume_Sampah_Perhari(M3)\" yang ada di sumbu y dengan variabel \"Tanggal\" di sumbu x) sedikit memiliki hubungan timbal balik walaupun penilaian dominannya cenderung tidak memiliki hubungan timbal-balik.\n",
    "\n",
    "\n",
    "Jadi intinya setiap kolom-kolom yang ada di sumbu y (yang berada di sisi kiri) dibaca/diperhatikan setiap nilainya dengan kolom-kolom yang berada di sumbu x (yang berada di bawah). Untuk memudahkan dalam membedakan apakah nilai korelasinya bagus/tidak dapat dilihat dari indikator warna yang di sebelah paling kanan dari grafik heatmap. Semakin bagus nilai korelasinya maka warnanya menjadi hitam tetapi semakin buruk/kecil nilai korelasinya maka nilai warna pada box persegi di nilai tersebut menjadi warna merah darah (merah gelap)."
   ]
  },
  {
   "cell_type": "code",
   "execution_count": 128,
   "metadata": {},
   "outputs": [
    {
     "data": {
      "image/png": "[encoded data removed]",
      "text/plain": [
       "<Figure size 720x360 with 1 Axes>"
      ]
     },
     "metadata": {},
     "output_type": "display_data"
    }
   ],
   "source": [
    "# Melihat trend dalam pengangkutan sampah per harinya berdasarkan tanggal pengangkutan\n",
    "plt.figure(figsize=(10, 5))\n",
    "    \n",
    "sns.lineplot(x=\"Tanggal\", y=\"Volume_Sampah_Perhari(M3)\", color=\"green\", data=data_april)\n",
    "plt.title(\"Trend Pengangkutan Volume Sampah berdasarkan \\n Tanggal Pengangkutan Sampah di Bulan April 2021\", \n",
    "          fontsize=13, pad=13)\n",
    "plt.show()"
   ]
  },
  {
   "cell_type": "markdown",
   "metadata": {},
   "source": [
    "Dari grafik garis (Line plot) diatas menunjukkan intensitas pengangkutan sampah yang dilakukan oleh Dinas Lingkungan Hidup Provinsi DKI Jakarta di setiap hari pada bulan April tahun 2021.\n",
    "\n",
    "Hasilnya adalah bahwa trend dalam pengangkutan volume sampah yang berhasil diangkut dari berbagai titik lokasi yang ada di kecamatan Provinsi DKI Jakarta cenderung mengalami kenaikan dan juga penurunan intensitas volume sampah selama bulan Maret tahun 2021. Namun jika diperhatikan secara teliti maka saya jadi dapat mengetahui bahwasanya sampah yang berhasil diangkut dari beberapa titik lokasi yang tersebar di kecamatan Provinsi DKI Jakarta pada bulan April tahun 2021 ini cenderung tidak meninggi dari pada bulan-bulan sebelumnya (Januari - Maret 2021)."
   ]
  },
  {
   "cell_type": "code",
   "execution_count": 129,
   "metadata": {},
   "outputs": [
    {
     "data": {
      "image/png": "[encoded data removed]",
      "text/plain": [
       "<Figure size 720x360 with 1 Axes>"
      ]
     },
     "metadata": {},
     "output_type": "display_data"
    }
   ],
   "source": [
    "# Membandingkan nilai data di kolom \"Satuan_Panjang/Luas\" berdasarkan volume sampah yang berhasil diangkut per harinya\n",
    "plt.figure(figsize=(10, 5))\n",
    "\n",
    "sns.barplot(x=\"Satuan_Panjang/Luas\", y=\"Volume_Sampah_Perhari(M3)\", data=data_april)\n",
    "plt.title(\"Perbandingan Satuan Panjang/Luas dari Volume Sampah Yang Berhasil Diangkut di Setiap harinya\", fontsize=13, pad=13)\n",
    "plt.show()"
   ]
  },
  {
   "cell_type": "markdown",
   "metadata": {},
   "source": [
    "Berdasarkan grafik batang dari hasil output diatas dapat diketahui dan diambil kesimpulan seperti:\n",
    "\n",
    "1. Data yang memiliki nilai dominan dari kolom satuan panjang/luas yang dilihat berdasarkan volume sampah yang berhasil diangkut di setiap harinya adalah data satuan panjang yakni m yang disusul oleh nilai m².\n",
    "2. Sedangkan nilai satuan panjang/luas yang memiliki nilai terkecil dalam hal volume sampah dalam setiap harinya adalah satuan m³.\n",
    "\n",
    "Untuk susunan nilai dari yang terbanyak hingga terkecil adalah sebagai berikut:\n",
    "\n",
    "- m².\n",
    "- m.\n",
    "- km.\n",
    "- Ha.\n",
    "- m³."
   ]
  },
  {
   "cell_type": "code",
   "execution_count": 130,
   "metadata": {},
   "outputs": [
    {
     "data": {
      "image/png": "[encoded data removed]",
      "text/plain": [
       "<Figure size 720x576 with 1 Axes>"
      ]
     },
     "metadata": {},
     "output_type": "display_data"
    }
   ],
   "source": [
    "# Melihat komposisi masing-masing wilayah Provinsi DKI Jakarta berdasarkan panjang/luas sampah yang berhasil dikumpulkan\n",
    "plt.figure(figsize=(10, 8))\n",
    "\n",
    "data_pie_april = data_april.groupby(\"Wilayah\")[\"Panjang/Luas\"].count().reset_index()\n",
    "plt.pie(data_pie_april[\"Panjang/Luas\"], labels = data_pie_april[\"Wilayah\"], autopct = \"%.2f%%\")\n",
    "plt.title(\"Melihat Presentase Panjang/Luas Sampah yang Berhasil Dikumpulkan \\n\"\n",
    "          \"di Masing-Masing Wilayah Provinsi DKI Jakarta pada Bulan April 2021\", \n",
    "          fontsize=13, pad=13)\n",
    "plt.show()"
   ]
  },
  {
   "cell_type": "markdown",
   "metadata": {},
   "source": [
    "Grafik Pie merupakan sebuah grafik yang berfungsi untuk menunjukkan komposisi dari data yang bersifat kategorik dengan memperlihatkan nilai presentase dari masing-masing data dan jumlah total presentase tersebut harus 100% (tidak boleh lebih/kurang).\n",
    "\n",
    "Berdasarkan grafik pie diatas maka saya dapat menganalisis komposisi data dari kolom Wilayah berdasarkan perhitungan keseluruhan dari kolom Panjang/Luas yang dihitung berdasarkan wilayah dari Provinsi DKI Jakarta. Kolom Panjang/Luas ini merupakan sebuah kolom yang menandakan seberapa luasnya area penanganan sampah yang dilakukan oleh Dinas Lingkungan Hidup (DLH) Provinsi DKI Jakarta. Berikut adalah hasil analisa dari saya:\n",
    "\n",
    "1. Wilayah yang memiliki area penanganan yang paling luas dalam menangani sampah di Provinsi DKI Jakarta adalah wilayah Jakarta Barat yang memiliki nilai presentase sebesar 36.95%.\n",
    "2. Sedangkan wilayah Jakarta Utara memiliki area penanganan sampah yang paling kecil dan sempit diantara wilayah-wilayah yang lain (seperti wilayah Jakarta Barat (36.95%), Jakarta Timur (26.87%), Jakarta Selatan (18.05%), dan Jakarta Pusat (10.71%)) dengan total nilai presentase hanya sebesar 7.42% dalam sisi luas area penanganan sampah."
   ]
  },
  {
   "cell_type": "markdown",
   "metadata": {},
   "source": [
    "## 4. Data Modelling"
   ]
  },
  {
   "cell_type": "markdown",
   "metadata": {},
   "source": [
    "### 4.1. Pra-Pemodelan"
   ]
  },
  {
   "cell_type": "code",
   "execution_count": 131,
   "metadata": {},
   "outputs": [
    {
     "name": "stdout",
     "output_type": "stream",
     "text": [
      "Ukuran Data dari Kolom Panjang/Luas Sebelum Nilai Outliers Dibuang:  (42870, 7)\n",
      "Ukuran Data dari Kolom Panjang/Luas Setelah Nilai Outliers Dibuang:  (38124, 7)\n"
     ]
    }
   ],
   "source": [
    "# Mengecek nilai outliers untuk kolom \"Volume_Sampah_Perhari(M3)\" dengan nilai quartil dan IQR\n",
    "Q1 = data_april[\"Volume_Sampah_Perhari(M3)\"].quantile(0.25)\n",
    "Q3 = data_april[\"Volume_Sampah_Perhari(M3)\"].quantile(0.75)\n",
    "\n",
    "# Menghitung interquartile range maka rumusnya adalah quartil 3 (75%) - quartil 1 (25%)\n",
    "IQR = Q3 - Q1\n",
    "\n",
    "# Melihat ukuran (baris dan kolom) sebelum data yang outliers dibuang\n",
    "print(\"Ukuran Data dari Kolom Panjang/Luas Sebelum Nilai Outliers Dibuang: \", data_april.shape)\n",
    "\n",
    "# Menghapus nilai outlier dari kolom \"Volume_Sampah_Perhari(M3)\"\n",
    "data_april = data_april[~((data_april[\"Volume_Sampah_Perhari(M3)\"] < (Q1 - 1.5 * IQR)) | \n",
    "                          (data_april[\"Volume_Sampah_Perhari(M3)\"] > (Q3 + 1.5 * IQR)))]\n",
    "\n",
    "# Melihat ukuran (baris dan kolom) setelah data outliers dibuang dari kolom \"Volume_Sampah_Perhari(M3)\"\n",
    "print(\"Ukuran Data dari Kolom Panjang/Luas Setelah Nilai Outliers Dibuang: \", data_april.shape)"
   ]
  },
  {
   "cell_type": "markdown",
   "metadata": {},
   "source": [
    "Berdasarkan hasil output diatas terdapat 4.746 nilai outliers dari kolom \"Volume_Sampah_Perhari(M3)\" di dalam dataframe data_april dan jika tidak dihapus akan mengakibatkan nilai metrics dan prediksi yang dihasilkan oleh kedua model (Regresi Linear & Regresi Random Forest) tidak tepat."
   ]
  },
  {
   "cell_type": "code",
   "execution_count": 132,
   "metadata": {},
   "outputs": [],
   "source": [
    "# Melakukan pemisahan data menjadi variabel independen (x) dan variabel dependen (y)\n",
    "x = data_april[[\"Tanggal\"]]\n",
    "\n",
    "y = data_april[\"Volume_Sampah_Perhari(M3)\"]"
   ]
  },
  {
   "cell_type": "markdown",
   "metadata": {},
   "source": [
    "#### 4.1.1. Menggunakan Split Validation dalam Melakukan Prediksi Model Regresi Linear (4.2) dan Regresi Random Forest (4.3)"
   ]
  },
  {
   "cell_type": "code",
   "execution_count": 133,
   "metadata": {},
   "outputs": [],
   "source": [
    "# Proses split validation yaitu membagi variabel independen dan dependen menjadi data training dan data testing\n",
    "\n",
    "x_train, x_test, y_train, y_test = train_test_split(x, y, test_size=0.2, random_state=37)"
   ]
  },
  {
   "cell_type": "markdown",
   "metadata": {},
   "source": [
    "Penjelasan dari proses split validation:\n",
    "\n",
    "1. x: Merupakan sebuah variabel independen atau variabel yang dipengaruhi dari variabel dependen\n",
    "2. y: Merupakan sebuah variabel dependen atau variabel yang mempengaruhi variabel independen. Variabel y juga biasa dikenal sebagai label prediksi.\n",
    "3. test_size: Nilai presentase atau komposisi dari dalam membagi data menjadi data training dan data testing. Dalam pengujian ini saya memakai nilai test_size = 0.2 yang dimana ukuran dari data test mencapai 20% dan data train mencapai 80%.\n",
    "4. random_state: Menetapkan nilai. Jika nilainya sama maka fungsi train_test_split akan menghasilkan pemisahan nilai yang sama persis di setiap waktunya. Namun jika ditentukan nilai random_statenya maka data akan diacak secara random."
   ]
  },
  {
   "cell_type": "code",
   "execution_count": 134,
   "metadata": {},
   "outputs": [
    {
     "name": "stdout",
     "output_type": "stream",
     "text": [
      "Jumlah Rows dan Kolom di Data Training Setelah Dilakukan Split Validation:  (30499, 1) (30499,)\n",
      "Jumlah Rows dan Kolom di Data Testing Setelah Dilakukan Split Validation:  (7625, 1) (7625,)\n"
     ]
    }
   ],
   "source": [
    "# Melihat ukuran dimensi dari kolom dan rows dari data training dan data testing\n",
    "print(\"Jumlah Rows dan Kolom di Data Training Setelah Dilakukan Split Validation: \", x_train.shape, y_train.shape)\n",
    "print(\"Jumlah Rows dan Kolom di Data Testing Setelah Dilakukan Split Validation: \", x_test.shape, y_test.shape)"
   ]
  },
  {
   "cell_type": "code",
   "execution_count": 135,
   "metadata": {},
   "outputs": [],
   "source": [
    "# Melakukan scaling data (training & testing) dengan standard scaler\n",
    "from sklearn.preprocessing import StandardScaler\n",
    "\n",
    "standard_scaler = StandardScaler()\n",
    "\n",
    "x_train = standard_scaler.fit_transform(x_train)\n",
    "x_test = standard_scaler.fit_transform(x_test)"
   ]
  },
  {
   "cell_type": "markdown",
   "metadata": {},
   "source": [
    "StandardScaler merupakan salah satu dari proses scaling data ketika ingin melakukan tahapan pemodelan machine learning. StandardScaler akan melakukan proses standarisasi data yang ada di kolom fitur dengan mengurangi nilai mean (rata-rata) dan kemudian nilai tersebut akan diskalakan ke varians unit. Nilai yang ada di varians unit tersebut akan membagi semua nilai yang ada dengan nilai standar deviasi.\n",
    "\n",
    "StandardScaler akan membuat nilai mean (rata-rata) yang telah di observasi menjadi 0 sedangkan nilai standar deviasinya menjadi 1. Begitu pula dengan nilai varians yang menjadi 1 karena nilai varians = nilai standar deviasi yang di kuadratkan. Rumus dari scaling data StandardScaler adalah sebagai berikut:\n",
    "\n",
    "x_scaled = x - mean(x) / Standard Deviation"
   ]
  },
  {
   "cell_type": "code",
   "execution_count": 136,
   "metadata": {},
   "outputs": [
    {
     "name": "stdout",
     "output_type": "stream",
     "text": [
      "Nilai Scaling dari Hasil StandardScaler pada Data Testing: \n",
      " [[-1.43703587]\n",
      " [-0.97511255]\n",
      " [-1.09059338]\n",
      " ...\n",
      " [-0.62867006]\n",
      " [ 0.52613823]\n",
      " [-0.62867006]]\n",
      "\n",
      " ---------------------------------------------------------------------------- \n",
      "\n",
      "Nilai Scaling dari Hasil StandardScaler pada Data Training: \n",
      " [[ 1.21203302]\n",
      " [-0.51635284]\n",
      " [ 0.98158157]\n",
      " ...\n",
      " [-0.86203002]\n",
      " [ 0.1750015 ]\n",
      " [ 1.44248446]]\n"
     ]
    }
   ],
   "source": [
    "# Melihat hasil dari proses scalling dengan standardscaler\n",
    "print(\"Nilai Scaling dari Hasil StandardScaler pada Data Testing: \\n\", x_test)\n",
    "\n",
    "print(\"\\n\", \"----------------------------------------------------------------------------\", \"\\n\")\n",
    "\n",
    "print(\"Nilai Scaling dari Hasil StandardScaler pada Data Training: \\n\", x_train)"
   ]
  },
  {
   "cell_type": "markdown",
   "metadata": {},
   "source": [
    "### 4.3. Regresi Linear"
   ]
  },
  {
   "cell_type": "code",
   "execution_count": 137,
   "metadata": {},
   "outputs": [
    {
     "name": "stdout",
     "output_type": "stream",
     "text": [
      "{'copy_X': True, 'fit_intercept': True, 'n_jobs': None, 'normalize': 'deprecated', 'positive': False}\n"
     ]
    }
   ],
   "source": [
    "# Memanggil model regresi linear dari library sklearn dan kemudian melatihnya dengan data training\n",
    "from sklearn.linear_model import LinearRegression\n",
    "\n",
    "split_linear_regression_apr = LinearRegression()\n",
    "split_linear_regression_apr.fit(x_train, y_train)\n",
    "\n",
    "# Melihat nilai terbaik beserta parameter dari model regresi linear\n",
    "print(split_linear_regression_apr.get_params())"
   ]
  },
  {
   "cell_type": "markdown",
   "metadata": {},
   "source": [
    "Berdasarkan hasil output terkait pencarian parameter terbaik dari model regresi linear didapatkan beberapa kesimpulan diantaranya:\n",
    "\n",
    "1. Pada parameter copy_X, nilai terbaik dari parameter ini adalah True.\n",
    "2. Di dalam parameter fit_intercept, parameter ini memiliki nilai terbaik yakni nilai True.\n",
    "3. Parameter n_jobs tidak memiliki nilai karena nilai yang dimunculkan adalah None (Kosong).\n",
    "4. Nilai terbaik dari parameter normalize adalah deprecated.\n",
    "5. Sedangkan nilai terbaik dari parameter positive adalah False.\n",
    "\n",
    "Nilai-nilai tersebut merupakan nilai terbaik dari model regresi linear yang dimunculkan secara otomatis sebab dari awal regresi linear memang telah memiliki nilai-nilai diatas. Nilai-nilai tersebut bisa dilihat di dokumentasi scikit learn dalam pembahasan regresi linear."
   ]
  },
  {
   "cell_type": "code",
   "execution_count": 138,
   "metadata": {},
   "outputs": [
    {
     "name": "stdout",
     "output_type": "stream",
     "text": [
      "----------------Nilai Prediksi dari Data Testing------------------\n",
      "[1.40997169 1.40872038 1.40903321 ... 1.4077819  1.40465363 1.4077819 ]\n",
      "\n",
      "----------------Nilai Prediksi dari Data Training-----------------\n",
      "[1.4027956  1.40747764 1.40341987 ... 1.40841405 1.40560482 1.40217132]\n"
     ]
    }
   ],
   "source": [
    "# Melihat nilai prediksi dari data training dan data testing setelah dilakukan proses tuning hyperparameters\n",
    "print(\"----------------Nilai Prediksi dari Data Testing------------------\")\n",
    "pred_test_linear_apr = split_linear_regression_apr.predict(x_test)\n",
    "print(pred_test_linear_apr)\n",
    "\n",
    "print(\"\\n----------------Nilai Prediksi dari Data Training-----------------\")\n",
    "pred_train_linear_apr = split_linear_regression_apr.predict(x_train)\n",
    "print(pred_train_linear_apr)"
   ]
  },
  {
   "cell_type": "code",
   "execution_count": 139,
   "metadata": {},
   "outputs": [
    {
     "name": "stdout",
     "output_type": "stream",
     "text": [
      "----------------------------Data Testing dari Split Validation----------------------------\n",
      "Nilai Metric Mean Absolute Error di Data Test adalah:  0.91\n",
      "Nilai Metric Mean Squared Error di Data Test adalah:  1.12 \n",
      "\n",
      "----------------------------Data Training dari Split Validation---------------------------\n",
      "Nilai Metric Mean Absolute Error di Data Train adalah:  0.90\n",
      "Nilai Metric Mean Squared Error di Data Train adalah:  1.09\n"
     ]
    }
   ],
   "source": [
    "# Melihat hasil prediksi regresi linear dari data testing dan juga data training\n",
    "from sklearn.metrics import r2_score\n",
    "\n",
    "print(\"----------------------------Data Testing dari Split Validation----------------------------\")\n",
    "print(\"Nilai Metric Mean Absolute Error di Data Test adalah: \", \"%.2f\" % mean_absolute_error\n",
    "      (y_test, pred_test_linear_apr))\n",
    "print(\"Nilai Metric Mean Squared Error di Data Test adalah: \", \"%.2f\" % mean_squared_error\n",
    "      (y_test, pred_test_linear_apr), \"\\n\")\n",
    "#print(\"Nilai Metric Mean Squared Log Error di Data Test Adalah: \", \"%.2f\" % mean_squared_log_error(y_test, pred_test_linear))\n",
    "\n",
    "print(\"----------------------------Data Training dari Split Validation---------------------------\")\n",
    "print(\"Nilai Metric Mean Absolute Error di Data Train adalah: \", \"%.2f\" % mean_absolute_error\n",
    "      (y_train, pred_train_linear_apr))\n",
    "print(\"Nilai Metric Mean Squared Error di Data Train adalah: \", \"%.2f\" % mean_squared_error\n",
    "      (y_train, pred_train_linear_apr))\n",
    "#print(\"Nilai Metric Mean Squared Log Error Adalah: \", \"%.2f\" % mean_squared_log_error(y_train, pred_train_linear))"
   ]
  },
  {
   "cell_type": "code",
   "execution_count": 140,
   "metadata": {},
   "outputs": [
    {
     "data": {
      "image/png": "[encoded data removed]",
      "text/plain": [
       "<Figure size 1800x1440 with 2 Axes>"
      ]
     },
     "metadata": {},
     "output_type": "display_data"
    }
   ],
   "source": [
    "# Membuat grafik untuk melihat trend data dari volume pengangkutan sampah setelah dilakukan proses pemodelan regresi linear\n",
    "plt.figure(figsize=(25, 20))\n",
    "\n",
    "# Grafik untuk melihat trend data testing setelah dilakukan proses pemodelan regresi linear\n",
    "plt.subplot(4, 3, 1)\n",
    "sns.lineplot(y_test, pred_test_linear_apr)\n",
    "plt.title(\"Grafik Trend Setelah Di Prediksi dengan \\n Data Testing di Model Regresi Linear pada Bulan April 2021\", \n",
    "          fontsize=13, pad=13)\n",
    "\n",
    "# Grafik untuk melihat trend data training setelah dilakukan proses pemodelan regresi linear\n",
    "plt.subplot(4, 3, 2)\n",
    "sns.lineplot(y_train, pred_train_linear_apr)\n",
    "plt.title(\"Grafik Trend Setelah Di Prediksi dengan \\n Data Training di Model Regresi Linear pada Bulan April 2021\", \n",
    "          fontsize=13, pad=13)\n",
    "plt.show()"
   ]
  },
  {
   "cell_type": "code",
   "execution_count": 141,
   "metadata": {},
   "outputs": [
    {
     "data": {
      "image/png": "[encoded data removed]",
      "text/plain": [
       "<Figure size 1800x1440 with 2 Axes>"
      ]
     },
     "metadata": {},
     "output_type": "display_data"
    }
   ],
   "source": [
    "\"\"\"\n",
    "Melihat korelasi/hubungan keterkaitan terhadap data testing dan data training \n",
    "setelah dilakukan proses prediksi menggunakan algoritma regresi linear\n",
    "\"\"\"\n",
    "plt.figure(figsize=(25, 20))\n",
    "\n",
    "plt.subplot(4, 3, 1)\n",
    "plt.scatter(x_test, y_test, color=\"yellow\")\n",
    "plt.plot(x_test, pred_test_linear_apr, color=\"green\")\n",
    "plt.title(\"Hasi Prediksi terhadap Data Testing terkait \\n Pengangkutan Volume Sampah di Bulan Maret 2021\", \n",
    "          fontsize=13, pad=13)\n",
    "\n",
    "plt.subplot(4, 3, 2)\n",
    "plt.scatter(x_train, y_train, color=\"yellow\")\n",
    "plt.plot(x_train, pred_train_linear_apr, color=\"green\")\n",
    "plt.title(\"Hasil Prediksi terhadap Data Training terkait \\n Pengangkutan Volume Sampah di Bulan Maret 2021\", \n",
    "          fontsize=13, pad=13)\n",
    "plt.show()\n"
   ]
  },
  {
   "cell_type": "markdown",
   "metadata": {},
   "source": [
    "#### 4.1.2. Menggunakan K-Fold Cross Validation dalam Melakukan Prediksi Model Regresi Linear"
   ]
  },
  {
   "cell_type": "code",
   "execution_count": 142,
   "metadata": {},
   "outputs": [
    {
     "data": {
      "text/plain": [
       "KFold(n_splits=20, random_state=37, shuffle=True)"
      ]
     },
     "execution_count": 142,
     "metadata": {},
     "output_type": "execute_result"
    }
   ],
   "source": [
    "# Memanggil library K-Fold Cross Validation yang telah dipanggil diawal pemrosesan\n",
    "kfold = KFold(n_splits=20, random_state=37, shuffle=True)\n",
    "kfold"
   ]
  },
  {
   "cell_type": "markdown",
   "metadata": {},
   "source": [
    "K-Fold Cross Validation memiliki 3 parameters yaitu n_splits, shuffle, dan random_state. Berikut adalah penjelasan dari parameters di teknik k-fold cross validation adalah sebagai berikut:\n",
    "\n",
    "1. n_splits: parameter ini berfungsi sebagai lipatan dalam memvalidasi sebuah data. Jika n_split yang dibuat 5 maka terdapat 5 iterasi dalam memvalidasi serta juga melatih data sebanyak 5x pemrosesan dan setiap iterasi tersebut akan memiliki 5 baris untuk pengujiannya.\n",
    "2. shuffle: parameter ini berfungsi untuk mengacak data sebelum dipecah ke beberapa iterasi (sesuai n_splits yang dibuat).\n",
    "3. random_state: parameter terakhir yang dimiliki oleh teknik k-fold cross validation adalah random_state. Parameter ini berfungsi dalam mempengaruhi urutan indeks yang telah diacak (ketika nilai dari parameter shuffle di setting True) dan juga mengontrol keacakan dari setiap iterasi yang dilakukan"
   ]
  },
  {
   "cell_type": "code",
   "execution_count": 143,
   "metadata": {},
   "outputs": [
    {
     "data": {
      "text/plain": [
       "LinearRegression()"
      ]
     },
     "execution_count": 143,
     "metadata": {},
     "output_type": "execute_result"
    }
   ],
   "source": [
    "# Membuat model regresi linear + nilai parameter default yang kemudian akan diimplementasikan ke teknik k-fold cross validation\n",
    "\n",
    "kfold_linear_regression_apr = LinearRegression()\n",
    "kfold_linear_regression_apr.fit(x_train, y_train)"
   ]
  },
  {
   "cell_type": "code",
   "execution_count": 144,
   "metadata": {},
   "outputs": [
    {
     "name": "stdout",
     "output_type": "stream",
     "text": [
      "dict_keys(['explained_variance', 'r2', 'max_error', 'neg_median_absolute_error', 'neg_mean_absolute_error', 'neg_mean_absolute_percentage_error', 'neg_mean_squared_error', 'neg_mean_squared_log_error', 'neg_root_mean_squared_error', 'neg_mean_poisson_deviance', 'neg_mean_gamma_deviance', 'accuracy', 'top_k_accuracy', 'roc_auc', 'roc_auc_ovr', 'roc_auc_ovo', 'roc_auc_ovr_weighted', 'roc_auc_ovo_weighted', 'balanced_accuracy', 'average_precision', 'neg_log_loss', 'neg_brier_score', 'adjusted_rand_score', 'rand_score', 'homogeneity_score', 'completeness_score', 'v_measure_score', 'mutual_info_score', 'adjusted_mutual_info_score', 'normalized_mutual_info_score', 'fowlkes_mallows_score', 'precision', 'precision_macro', 'precision_micro', 'precision_samples', 'precision_weighted', 'recall', 'recall_macro', 'recall_micro', 'recall_samples', 'recall_weighted', 'f1', 'f1_macro', 'f1_micro', 'f1_samples', 'f1_weighted', 'jaccard', 'jaccard_macro', 'jaccard_micro', 'jaccard_samples', 'jaccard_weighted'])\n"
     ]
    }
   ],
   "source": [
    "# Melihat metrics-metrics yang bisa digunakan untuk memprediksi model machine learning\n",
    "import sklearn\n",
    "\n",
    "print(sklearn.metrics.SCORERS.keys())"
   ]
  },
  {
   "cell_type": "markdown",
   "metadata": {},
   "source": [
    "Diatas adalah metrics-metrics yang bisa digunakan dalam melihat hasil prediksi yang telah dibangun oleh model machine learning. Untuk pengujian kali ini saya akan menggunakan metrics yang bernama neg_mean_absolute_error dan neg_mean_squared_error."
   ]
  },
  {
   "cell_type": "code",
   "execution_count": 145,
   "metadata": {},
   "outputs": [],
   "source": [
    "# Memanggil library cross_val_score untuk memvalidasi data training dan data test menggunakan metrics MAE & MSE\n",
    "\n",
    "# Metric MAE untuk Data Training dan Data Testing\n",
    "mae_score_kfold_train_apr = cross_val_score(kfold_linear_regression_apr, x_train, y_train, \n",
    "                                            scoring=\"neg_mean_absolute_error\", cv=kfold, n_jobs=1)\n",
    "\n",
    "mae_score_kfold_test_apr = cross_val_score(kfold_linear_regression_apr, x_test, y_test, \n",
    "                                           scoring=\"neg_mean_absolute_error\", cv=kfold, n_jobs=1)\n",
    "\n",
    "# Metric MSE untuk Data Training dan Data Testing\n",
    "mse_score_kfold_train_apr = cross_val_score(kfold_linear_regression_apr, x_train, y_train, \n",
    "                                            scoring=\"neg_mean_squared_error\", cv=kfold, n_jobs=1)\n",
    "\n",
    "mse_score_kfold_test_apr = cross_val_score(kfold_linear_regression_apr, x_test, y_test, \n",
    "                                           scoring=\"neg_mean_squared_error\", cv=kfold, n_jobs=1)"
   ]
  },
  {
   "cell_type": "code",
   "execution_count": 146,
   "metadata": {},
   "outputs": [
    {
     "name": "stdout",
     "output_type": "stream",
     "text": [
      "Skor Setiap Iterasi Data Training dari Metrics Mean Absolute Error: \n",
      " [-0.88429442 -0.90143367 -0.89281962 -0.89756659 -0.90881755 -0.88033959\n",
      " -0.91828602 -0.89557271 -0.89130911 -0.90279183 -0.89710723 -0.91769779\n",
      " -0.90762379 -0.89310583 -0.88956099 -0.89995249 -0.89472555 -0.91065937\n",
      " -0.88275102 -0.86976261] \n",
      "\n",
      "Skor Setiap Iterasi Data Testing dari Metrics Mean Absolute Error: \n",
      " [-0.88692798 -0.88274069 -0.90527921 -0.94272743 -0.9045349  -0.92220912\n",
      " -0.89819092 -0.90704347 -0.95597699 -0.94332125 -0.91989975 -0.87193227\n",
      " -0.9054356  -0.88423495 -0.89460162 -0.9318236  -0.92766898 -0.8811109\n",
      " -0.87797046 -0.91785769] \n",
      "\n",
      "Skor Setiap Iterasi Data Training dari Metrics Mean Absolute Error: \n",
      " [-1.04719623 -1.10426639 -1.07952436 -1.09897664 -1.13465873 -1.05092763\n",
      " -1.1400911  -1.09425115 -1.06258605 -1.12486748 -1.07504644 -1.13213528\n",
      " -1.1372344  -1.07451118 -1.04804005 -1.10981357 -1.07243277 -1.10921063\n",
      " -1.06345307 -1.00315982] \n",
      "\n",
      "Skor Setiap Iterasi Data Testing dari Metrics Mean Absolute Error: \n",
      " [-1.04670661 -1.04251469 -1.11442076 -1.21142021 -1.12823009 -1.16515689\n",
      " -1.08787796 -1.11712485 -1.22669536 -1.21415066 -1.12156936 -1.01046894\n",
      " -1.09602218 -1.04514459 -1.10441155 -1.19705935 -1.1935058  -1.06595414\n",
      " -1.038551   -1.14418947]\n"
     ]
    }
   ],
   "source": [
    "# Melihat nilai dari setiap iterasi dari metrics mean absolute error dan mean squared error\n",
    "\n",
    "print(\"Skor Setiap Iterasi Data Training dari Metrics Mean Absolute Error: \\n\", mae_score_kfold_train_apr, \"\\n\")\n",
    "print(\"Skor Setiap Iterasi Data Testing dari Metrics Mean Absolute Error: \\n\", mae_score_kfold_test_apr, \"\\n\")\n",
    "print(\"Skor Setiap Iterasi Data Training dari Metrics Mean Absolute Error: \\n\", mse_score_kfold_train_apr, \"\\n\")\n",
    "print(\"Skor Setiap Iterasi Data Testing dari Metrics Mean Absolute Error: \\n\", mse_score_kfold_test_apr)"
   ]
  },
  {
   "cell_type": "code",
   "execution_count": 147,
   "metadata": {},
   "outputs": [
    {
     "name": "stdout",
     "output_type": "stream",
     "text": [
      "---------------------------------Data Testing K-Fold----------------------------------\n",
      "Nilai Prediksi dari Data Test Menggunakan Metrics MAE adalah: 0.90 \n",
      "Nilai Prediksi dari Data Test Menggunakan Metrics MSE adalah: 1.12  \n",
      "\n",
      "---------------------------------Data Training K-Fold----------------------------------\n",
      "Nilai Prediksi dari Data Train Menggunakan Metrics MAE adalah: 0.90 \n",
      "Nilai Prediksi dari Data Train Menggunakan Metrics MSE adalah: 1.09 \n"
     ]
    }
   ],
   "source": [
    "# Melihat hasil prediksi data test dan data train dengan metric MAE & MSE dari hasil K-Fold Cross Validation\n",
    "\n",
    "print(\"---------------------------------Data Testing K-Fold----------------------------------\")\n",
    "print(\"Nilai Prediksi dari Data Test Menggunakan Metrics MAE adalah: %.2f \" % np.mean(np.absolute\n",
    "                                                                                      (mae_score_kfold_train_apr)))\n",
    "print(\"Nilai Prediksi dari Data Test Menggunakan Metrics MSE adalah: %.2f \" % np.mean(np.absolute\n",
    "                                                                                      (mse_score_kfold_test_apr)), \"\\n\")\n",
    "\n",
    "print(\"---------------------------------Data Training K-Fold----------------------------------\")\n",
    "print(\"Nilai Prediksi dari Data Train Menggunakan Metrics MAE adalah: %.2f \" % np.mean(np.absolute\n",
    "                                                                                       (mae_score_kfold_train_apr)))\n",
    "print(\"Nilai Prediksi dari Data Train Menggunakan Metrics MSE adalah: %.2f \" % np.mean(np.absolute\n",
    "                                                                                       (mse_score_kfold_train_apr)))"
   ]
  },
  {
   "cell_type": "markdown",
   "metadata": {},
   "source": [
    "### 4.3. Regresi Random Forest"
   ]
  },
  {
   "cell_type": "code",
   "execution_count": 148,
   "metadata": {},
   "outputs": [
    {
     "name": "stdout",
     "output_type": "stream",
     "text": [
      "{'bootstrap': True, 'ccp_alpha': 0.0, 'criterion': 'squared_error', 'max_depth': None, 'max_features': 'auto', 'max_leaf_nodes': None, 'max_samples': None, 'min_impurity_decrease': 0.0, 'min_samples_leaf': 1, 'min_samples_split': 2, 'min_weight_fraction_leaf': 0.0, 'n_estimators': 100, 'n_jobs': None, 'oob_score': False, 'random_state': None, 'verbose': 0, 'warm_start': False}\n"
     ]
    }
   ],
   "source": [
    "# Memanggil model regresi random forest dari library sklearn\n",
    "from sklearn.ensemble import RandomForestRegressor\n",
    "\n",
    "split_randomforest_regression_apr = RandomForestRegressor()\n",
    "split_randomforest_regression_apr.fit(x_train, y_train)\n",
    "\n",
    "# Melihat parameter dari regresi random forest beserta nilai terbaik dari masing-masing parameter\n",
    "print(split_randomforest_regression_apr.get_params())"
   ]
  },
  {
   "cell_type": "markdown",
   "metadata": {},
   "source": [
    "Berdasarkan hasil output terkait pencarian parameter terbaik dari model regresi linear didapatkan beberapa kesimpulan diantaranya:\n",
    "\n",
    "1. Pada parameter bootstrap, nilai terbaik dari parameter ini adalah True.\n",
    "2. Di dalam parameter ccp_alpha, parameter ini memiliki nilai terbaik yakni nilai 0.0.\n",
    "3. Parameter criterion memiliki nilai terbaik yakni squared_error.\n",
    "4. Parameter max_depth tidak memiliki nilai karena nilai yang dimunculkan adalah None (Kosong).\n",
    "5. Di dalam parameter max_features, parameter ini memiliki nilai terbaik yakni nilai auto.\n",
    "6. Di dalam parameter max_leaf_nodes tidak memiliki nilai karena nilai yang dimunculkan adalah None (Kosong).\n",
    "7. Di dalam parameter max_samples tidak memiliki nilai karena nilai yang dimunculkan adalah None (Kosong).\n",
    "7. Di dalam parameter min_impurity_decrease, parameter ini memiliki nilai terbaik yakni nilai 0.0.\n",
    "8. Nilai terbaik dari parameter min_samples_leaf adalah 1.\n",
    "9. Nilai terbaik dari parameter min_samples_split adalah 2.\n",
    "10. Pada parameter min_weight_fraction_leaf, nilai yang muncul adalah nilai 0.0.\n",
    "11. Di parameter n_estimators, nilai yang muncul pada parameter ini adalah 100.\n",
    "12. Pada parameter n_jobs, nilai yang muncul adalah nilai None.\n",
    "13. Pada parameter oob_score, nilai yang muncul adalah nilai False.\n",
    "14. Pada parameter random_state, nilai yang muncul adalah nilai None.\n",
    "15. Di parameter verbose, nilai yang muncul pada parameter ini adalah 0.\n",
    "16. Sedangkan nilai yang muncul dari parameter warm_start adalah False.\n",
    "\n",
    "Nilai-nilai tersebut merupakan nilai terbaik dari model regresi random forest yang dimunculkan secara otomatis sebab dari awal regresi random forest telah memiliki nilai-nilai diatas sebagai nilai default. Nilai-nilai tersebut bisa dilihat di dokumentasi scikit learn dalam pembahasan regresi random forest (random forest regressor)."
   ]
  },
  {
   "cell_type": "code",
   "execution_count": 149,
   "metadata": {},
   "outputs": [
    {
     "name": "stdout",
     "output_type": "stream",
     "text": [
      "----------------Nilai Prediksi dari Data Testing------------------\n",
      "[1.38609278 1.42536881 1.39888047 ... 1.40548965 1.38845092 1.40548965]\n",
      "\n",
      "---------------Nilai Prediksi dari Data Training-----------------\n",
      "[1.39109392 1.49711255 1.43266444 ... 1.37229555 1.43922554 1.3957686 ]\n"
     ]
    }
   ],
   "source": [
    "# Melihat nilai prediksi dari data training dan data testing setelah dilakukan proses pencarian nilai parameters terbaik\n",
    "print(\"----------------Nilai Prediksi dari Data Testing------------------\")\n",
    "pred_test_randomforest_apr = split_randomforest_regression_apr.predict(x_test)\n",
    "print(pred_test_randomforest_apr)\n",
    "\n",
    "print(\"\\n---------------Nilai Prediksi dari Data Training-----------------\")\n",
    "pred_train_randomforest_apr = split_randomforest_regression_apr.predict(x_train)\n",
    "print(pred_train_randomforest_apr)"
   ]
  },
  {
   "cell_type": "code",
   "execution_count": 150,
   "metadata": {},
   "outputs": [
    {
     "name": "stdout",
     "output_type": "stream",
     "text": [
      "----------------------------Data Testing dari Split Validation----------------------------\n",
      "Nilai Metric Mean Absolute Error di Data Test adalah:  0.91\n",
      "Nilai Metric Mean Squared Error di Data Test adalah:  1.12 \n",
      "\n",
      "----------------------------Data Training dari Split Validation---------------------------\n",
      "Nilai Metric Mean Absolute Error di Data Train adalah:  0.90\n",
      "Nilai Metric Mean Squared Error di Data Train adalah:  1.09\n"
     ]
    }
   ],
   "source": [
    "# Melihat hasil prediksi regresi random forest dari data testing dan juga data training\n",
    "\n",
    "print(\"----------------------------Data Testing dari Split Validation----------------------------\")\n",
    "print(\"Nilai Metric Mean Absolute Error di Data Test adalah: \", \"%.2f\" % mean_absolute_error\n",
    "      (y_test, pred_test_randomforest_apr))\n",
    "print(\"Nilai Metric Mean Squared Error di Data Test adalah: \", \"%.2f\" % mean_squared_error\n",
    "      (y_test,  pred_test_randomforest_apr), \"\\n\")\n",
    "#print(\"Nilai Metric Mean Squared Log Error di Data Test Adalah: \", \"%.2f\" % mean_squared_log_error(y_test, pred_test_linear))\n",
    "\n",
    "print(\"----------------------------Data Training dari Split Validation---------------------------\")\n",
    "print(\"Nilai Metric Mean Absolute Error di Data Train adalah: \", \"%.2f\" % mean_absolute_error\n",
    "      (y_train, pred_train_randomforest_apr))\n",
    "print(\"Nilai Metric Mean Squared Error di Data Train adalah: \", \"%.2f\" % mean_squared_error\n",
    "      (y_train, pred_train_randomforest_apr))\n",
    "#print(\"Nilai Metric Mean Squared Log Error Adalah: \", \"%.2f\" % mean_squared_log_error(y_train, pred_train_linear))"
   ]
  },
  {
   "cell_type": "code",
   "execution_count": 151,
   "metadata": {},
   "outputs": [
    {
     "data": {
      "image/png": "[encoded data removed]",
      "text/plain": [
       "<Figure size 1800x1440 with 2 Axes>"
      ]
     },
     "metadata": {},
     "output_type": "display_data"
    }
   ],
   "source": [
    "# Membuat grafik untuk melihat trend data dari volume pengangkutan sampah setelah melalui proses pemodelan regresi random forest\n",
    "plt.figure(figsize=(25, 20))\n",
    "\n",
    "# Grafik untuk melihat trend data testing setelah dilakukan proses pemodelan regresi random forest\n",
    "plt.subplot(4, 3, 1)\n",
    "sns.lineplot(y_test, pred_test_randomforest_apr)\n",
    "plt.title(\"Hasil Prediksi dengan Data Testing \\n di Model Regresi Random Forest pada Bulan April 2021\", \n",
    "          fontsize=13, pad=13)\n",
    "\n",
    "# Grafik untuk melihat trend data training setelah dilakukan proses pemodelan regresi linear\n",
    "plt.subplot(4, 3, 2)\n",
    "sns.lineplot(y_train, pred_train_randomforest_apr)\n",
    "plt.title(\"Hasil Prediksi dengan Data Training \\n di Model Regresi Random Forest pada Bulan April 2021\", \n",
    "          fontsize=13, pad=13)\n",
    "plt.show()"
   ]
  },
  {
   "cell_type": "markdown",
   "metadata": {},
   "source": [
    "#### 4.1.3. Menggunakan K-Fold Cross Validation dalam Melakukan Prediksi Model Regresi Random Forest"
   ]
  },
  {
   "cell_type": "code",
   "execution_count": 152,
   "metadata": {},
   "outputs": [
    {
     "data": {
      "text/plain": [
       "KFold(n_splits=20, random_state=37, shuffle=True)"
      ]
     },
     "execution_count": 152,
     "metadata": {},
     "output_type": "execute_result"
    }
   ],
   "source": [
    "# Memanggil library K-Fold Cross Validation yang telah dipanggil diawal pemrosesan\n",
    "kfold = KFold(n_splits=20, random_state=37, shuffle=True)\n",
    "kfold"
   ]
  },
  {
   "cell_type": "markdown",
   "metadata": {},
   "source": [
    "K-Fold Cross Validation memiliki 3 parameters yaitu n_splits, shuffle, dan random_state. Berikut adalah penjelasan dari parameters di teknik k-fold cross validation adalah sebagai berikut:\n",
    "\n",
    "1. n_splits: parameter ini berfungsi sebagai lipatan dalam memvalidasi sebuah data. Jika n_split yang dibuat 5 maka terdapat 5 iterasi dalam memvalidasi serta juga melatih data sebanyak 5x pemrosesan dan setiap iterasi tersebut akan memiliki 5 baris untuk pengujiannya.\n",
    "2. shuffle: parameter ini berfungsi untuk mengacak data sebelum dipecah ke beberapa iterasi (sesuai n_splits yang dibuat).\n",
    "3. random_state: dan parameter terakhir yang dimiliki oleh teknik k-fold cross validation adalah random_state. Parameter ini berfungsi dalam mempengaruhi urutan indeks yang telah diacak (ketika nilai dari parameter shuffle di setting True) dan juga mengontrol keacakan dari setiap iterasi yang dilakukan."
   ]
  },
  {
   "cell_type": "code",
   "execution_count": 153,
   "metadata": {},
   "outputs": [
    {
     "data": {
      "text/plain": [
       "RandomForestRegressor()"
      ]
     },
     "execution_count": 153,
     "metadata": {},
     "output_type": "execute_result"
    }
   ],
   "source": [
    "# Membuat model regresi random forest untuk k-fold cross validation dengan menggunakan nilai-nilai parameter default\n",
    "\n",
    "kfold_randomforest_regression_apr = RandomForestRegressor()\n",
    "kfold_randomforest_regression_apr.fit(x_train, y_train)"
   ]
  },
  {
   "cell_type": "code",
   "execution_count": 154,
   "metadata": {},
   "outputs": [],
   "source": [
    "\"\"\"\n",
    "Memanggil library cross_val_score untuk memvalidasi data training dan data test di model regresi random forest \n",
    "dengan menggunakan metrics MAE & MSE\n",
    "\"\"\"\n",
    "\n",
    "# Metric MAE untuk Data Training dan Data Testing\n",
    "mae_score_kfold_train_apr = cross_val_score(kfold_randomforest_regression_apr, x_train, y_train, \n",
    "                                            scoring=\"neg_mean_absolute_error\", cv=kfold, n_jobs=1)\n",
    "\n",
    "mae_score_kfold_test_apr = cross_val_score(kfold_randomforest_regression_apr, x_test, y_test, \n",
    "                                           scoring=\"neg_mean_absolute_error\", cv=kfold, n_jobs=1)\n",
    "\n",
    "# Metric MSE untuk Data Training dan Data Testing\n",
    "mse_score_kfold_train_apr = cross_val_score(kfold_randomforest_regression_apr, x_train, y_train, \n",
    "                                            scoring=\"neg_mean_squared_error\", cv=kfold, n_jobs=1)\n",
    "\n",
    "mse_score_kfold_test_apr = cross_val_score(kfold_randomforest_regression_apr, x_test, y_test, \n",
    "                                           scoring=\"neg_mean_squared_error\", cv=kfold, n_jobs=1)"
   ]
  },
  {
   "cell_type": "code",
   "execution_count": 155,
   "metadata": {},
   "outputs": [
    {
     "name": "stdout",
     "output_type": "stream",
     "text": [
      "Skor Setiap Iterasi Data Training dari Metrics Mean Absolute Error: \n",
      " [-0.88353002 -0.90000241 -0.89343783 -0.8961525  -0.9083193  -0.87952311\n",
      " -0.91746007 -0.89459916 -0.89085806 -0.90371725 -0.89697599 -0.91669655\n",
      " -0.90660959 -0.89336606 -0.88782456 -0.89973223 -0.89443652 -0.91003678\n",
      " -0.88325924 -0.86814376] \n",
      "\n",
      "Skor Setiap Iterasi Data Testing dari Metrics Mean Absolute Error: \n",
      " [-0.89043774 -0.88272367 -0.90783862 -0.95124242 -0.90672525 -0.91927885\n",
      " -0.8976502  -0.90825586 -0.95697927 -0.95253511 -0.92212021 -0.87315231\n",
      " -0.90142974 -0.88746385 -0.89576706 -0.93394175 -0.9234382  -0.879906\n",
      " -0.88280445 -0.91484543] \n",
      "\n",
      "Skor Setiap Iterasi Data Training dari Metrics Mean Absolute Error: \n",
      " [-1.04964965 -1.10403135 -1.08389497 -1.099418   -1.13548461 -1.05095028\n",
      " -1.13922771 -1.09464724 -1.06256985 -1.12827845 -1.07570584 -1.13286364\n",
      " -1.13965821 -1.07599579 -1.04568268 -1.10876139 -1.07187041 -1.10997496\n",
      " -1.06591549 -1.00148025] \n",
      "\n",
      "Skor Setiap Iterasi Data Testing dari Metrics Mean Absolute Error: \n",
      " [-1.04880171 -1.04978809 -1.11898542 -1.22891599 -1.13090764 -1.16904478\n",
      " -1.09797245 -1.11756738 -1.23625681 -1.23833628 -1.12479264 -1.0142339\n",
      " -1.0866085  -1.05304455 -1.11176849 -1.20222637 -1.18871996 -1.06995317\n",
      " -1.05324356 -1.14369899]\n"
     ]
    }
   ],
   "source": [
    "# Melihat nilai dari setiap iterasi dari metrics mean absolute error dan mean squared error\n",
    "\n",
    "print(\"Skor Setiap Iterasi Data Training dari Metrics Mean Absolute Error: \\n\", mae_score_kfold_train_apr, \"\\n\")\n",
    "print(\"Skor Setiap Iterasi Data Testing dari Metrics Mean Absolute Error: \\n\", mae_score_kfold_test_apr, \"\\n\")\n",
    "print(\"Skor Setiap Iterasi Data Training dari Metrics Mean Absolute Error: \\n\", mse_score_kfold_train_apr, \"\\n\")\n",
    "print(\"Skor Setiap Iterasi Data Testing dari Metrics Mean Absolute Error: \\n\", mse_score_kfold_test_apr)"
   ]
  },
  {
   "cell_type": "code",
   "execution_count": 156,
   "metadata": {},
   "outputs": [
    {
     "name": "stdout",
     "output_type": "stream",
     "text": [
      "---------------------------------Data Testing K-Fold----------------------------------\n",
      "Nilai Prediksi dari Data Test Menggunakan Metrics MAE adalah: 0.91 \n",
      "Nilai Prediksi dari Data Test Menggunakan Metrics MSE adalah: 1.12 \n",
      "\n",
      " ---------------------------------Data Training K-Fold----------------------------------\n",
      "Nilai Prediksi dari Data Train Menggunakan Metrics MAE adalah: 0.90 \n",
      "Nilai Prediksi dari Data Train Menggunakan Metrics MSE adalah: 1.09 \n"
     ]
    }
   ],
   "source": [
    "# Melihat hasil prediksi data test dan data train dengan metric MAE & MSE dari hasil K-Fold Cross Validation\n",
    "\n",
    "print(\"---------------------------------Data Testing K-Fold----------------------------------\")\n",
    "print(\"Nilai Prediksi dari Data Test Menggunakan Metrics MAE adalah: %.2f \" % np.mean(np.absolute\n",
    "                                                                                      (mae_score_kfold_test_apr)))\n",
    "print(\"Nilai Prediksi dari Data Test Menggunakan Metrics MSE adalah: %.2f \" % np.mean(np.absolute\n",
    "                                                                                      (mse_score_kfold_test_apr)))\n",
    "\n",
    "print(\"\\n\", \"---------------------------------Data Training K-Fold----------------------------------\")\n",
    "print(\"Nilai Prediksi dari Data Train Menggunakan Metrics MAE adalah: %.2f \" % np.mean(np.absolute\n",
    "                                                                                       (mae_score_kfold_train_apr)))\n",
    "print(\"Nilai Prediksi dari Data Train Menggunakan Metrics MSE adalah: %.2f \" % np.mean(np.absolute\n",
    "                                                                                       (mse_score_kfold_train_apr)))"
   ]
  }
 ],
 "metadata": {
  "kernelspec": {
   "display_name": "Python 3",
   "language": "python",
   "name": "python3"
  },
  "language_info": {
   "codemirror_mode": {
    "name": "ipython",
    "version": 3
   },
   "file_extension": ".py",
   "mimetype": "text/x-python",
   "name": "python",
   "nbconvert_exporter": "python",
   "pygments_lexer": "ipython3",
   "version": "3.8.5"
  }
 },
 "nbformat": 4,
 "nbformat_minor": 4
}
