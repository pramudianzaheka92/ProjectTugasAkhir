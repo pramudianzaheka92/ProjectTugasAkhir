{
 "cells": [
  {
   "cell_type": "markdown",
   "metadata": {},
   "source": [
    "## 1. Import Library & Melakukan Eksplorasi Dataset dengan Pandas"
   ]
  },
  {
   "cell_type": "code",
   "execution_count": 1,
   "metadata": {},
   "outputs": [],
   "source": [
    "# Import library yang akan digunakan\n",
    "import pandas as pd\n",
    "import numpy as np\n",
    "import matplotlib.pyplot as plt\n",
    "import seaborn as sns\n",
    "plt.style.use(\"seaborn\")\n",
    "import warnings\n",
    "warnings.filterwarnings(\"ignore\")\n",
    "from sklearn.model_selection import train_test_split, KFold, cross_val_score\n",
    "from sklearn.metrics import mean_absolute_error, mean_squared_error"
   ]
  },
  {
   "cell_type": "code",
   "execution_count": 2,
   "metadata": {},
   "outputs": [
    {
     "data": {
      "text/html": [
       "<div>\n",
       "<style scoped>\n",
       "    .dataframe tbody tr th:only-of-type {\n",
       "        vertical-align: middle;\n",
       "    }\n",
       "\n",
       "    .dataframe tbody tr th {\n",
       "        vertical-align: top;\n",
       "    }\n",
       "\n",
       "    .dataframe thead th {\n",
       "        text-align: right;\n",
       "    }\n",
       "</style>\n",
       "<table border=\"1\" class=\"dataframe\">\n",
       "  <thead>\n",
       "    <tr style=\"text-align: right;\">\n",
       "      <th></th>\n",
       "      <th>bulan</th>\n",
       "      <th>titik_lokasi</th>\n",
       "      <th>kecamatan</th>\n",
       "      <th>wilayah</th>\n",
       "      <th>panjang/luas</th>\n",
       "      <th>satuan_panjang/luas</th>\n",
       "      <th>tanggal</th>\n",
       "      <th>volume_sampah_perhari(m3)</th>\n",
       "    </tr>\n",
       "  </thead>\n",
       "  <tbody>\n",
       "    <tr>\n",
       "      <th>0</th>\n",
       "      <td>5</td>\n",
       "      <td>Kali / Sungai Sentiong - Ruas Dewi Sri</td>\n",
       "      <td>Johar Baru</td>\n",
       "      <td>Jakarta Pusat</td>\n",
       "      <td>464</td>\n",
       "      <td>m</td>\n",
       "      <td>1</td>\n",
       "      <td>3</td>\n",
       "    </tr>\n",
       "    <tr>\n",
       "      <th>1</th>\n",
       "      <td>5</td>\n",
       "      <td>Kali / Sungai Sentiong - Ruas Abapon</td>\n",
       "      <td>Johar Baru</td>\n",
       "      <td>Jakarta Pusat</td>\n",
       "      <td>464</td>\n",
       "      <td>m</td>\n",
       "      <td>1</td>\n",
       "      <td>3</td>\n",
       "    </tr>\n",
       "    <tr>\n",
       "      <th>2</th>\n",
       "      <td>5</td>\n",
       "      <td>Kali / Sungai Sentiong - JL Tanah Tinggi</td>\n",
       "      <td>Johar Baru</td>\n",
       "      <td>Jakarta Pusat</td>\n",
       "      <td>464</td>\n",
       "      <td>m</td>\n",
       "      <td>1</td>\n",
       "      <td>3</td>\n",
       "    </tr>\n",
       "    <tr>\n",
       "      <th>3</th>\n",
       "      <td>5</td>\n",
       "      <td>Kali / Sungai Sentiong Jl.Galur - Pombensin</td>\n",
       "      <td>Johar Baru</td>\n",
       "      <td>Jakarta Pusat</td>\n",
       "      <td>606</td>\n",
       "      <td>m</td>\n",
       "      <td>1</td>\n",
       "      <td>4</td>\n",
       "    </tr>\n",
       "    <tr>\n",
       "      <th>4</th>\n",
       "      <td>5</td>\n",
       "      <td>Kali / Sungai Sentiong - Jl. Timah</td>\n",
       "      <td>Johar Baru</td>\n",
       "      <td>Jakarta Pusat</td>\n",
       "      <td>310</td>\n",
       "      <td>m</td>\n",
       "      <td>1</td>\n",
       "      <td>4</td>\n",
       "    </tr>\n",
       "  </tbody>\n",
       "</table>\n",
       "</div>"
      ],
      "text/plain": [
       "   bulan                                titik_lokasi   kecamatan   \\\n",
       "0      5       Kali / Sungai Sentiong - Ruas Dewi Sri  Johar Baru   \n",
       "1      5         Kali / Sungai Sentiong - Ruas Abapon  Johar Baru   \n",
       "2      5     Kali / Sungai Sentiong - JL Tanah Tinggi  Johar Baru   \n",
       "3      5  Kali / Sungai Sentiong Jl.Galur - Pombensin  Johar Baru   \n",
       "4      5           Kali / Sungai Sentiong - Jl. Timah  Johar Baru   \n",
       "\n",
       "        wilayah   panjang/luas  satuan_panjang/luas  tanggal  \\\n",
       "0  Jakarta Pusat            464                   m        1   \n",
       "1  Jakarta Pusat            464                   m        1   \n",
       "2  Jakarta Pusat            464                   m        1   \n",
       "3  Jakarta Pusat            606                   m        1   \n",
       "4  Jakarta Pusat            310                   m        1   \n",
       "\n",
       "  volume_sampah_perhari(m3)  \n",
       "0                         3  \n",
       "1                         3  \n",
       "2                         3  \n",
       "3                         4  \n",
       "4                         4  "
      ]
     },
     "execution_count": 2,
     "metadata": {},
     "output_type": "execute_result"
    }
   ],
   "source": [
    "# Read dataset\n",
    "data_mei = pd.read_csv(\"volume-pengangkutan-sampah-di-kali-sungai-situ-waduk-bulan-mei-tahun-2021.csv\", \n",
    "                       encoding=\"latin-1\")\n",
    "data_mei.head()"
   ]
  },
  {
   "cell_type": "code",
   "execution_count": 3,
   "metadata": {},
   "outputs": [
    {
     "data": {
      "text/plain": [
       "bulan                        54870\n",
       " titik_lokasi                54870\n",
       " kecamatan                   54870\n",
       " wilayah                     54870\n",
       " panjang/luas                54002\n",
       "satuan_panjang/luas          33883\n",
       "tanggal                      54870\n",
       "volume_sampah_perhari(m3)    54870\n",
       "dtype: int64"
      ]
     },
     "execution_count": 3,
     "metadata": {},
     "output_type": "execute_result"
    }
   ],
   "source": [
    "# Melihat total data pada masing-masing kolom di dalam dataframe\n",
    "data_mei.count()"
   ]
  },
  {
   "cell_type": "code",
   "execution_count": 4,
   "metadata": {},
   "outputs": [
    {
     "data": {
      "text/plain": [
       "bulan                         int64\n",
       " titik_lokasi                object\n",
       " kecamatan                   object\n",
       " wilayah                     object\n",
       " panjang/luas                object\n",
       "satuan_panjang/luas          object\n",
       "tanggal                       int64\n",
       "volume_sampah_perhari(m3)    object\n",
       "dtype: object"
      ]
     },
     "execution_count": 4,
     "metadata": {},
     "output_type": "execute_result"
    }
   ],
   "source": [
    "# Melihat tipe data dari masing-masing kolom yang ada di dalam dataframe\n",
    "data_mei.dtypes"
   ]
  },
  {
   "cell_type": "code",
   "execution_count": 5,
   "metadata": {},
   "outputs": [
    {
     "data": {
      "text/plain": [
       "Index(['bulan', ' titik_lokasi ', ' kecamatan ', ' wilayah ', ' panjang/luas ',\n",
       "       'satuan_panjang/luas', 'tanggal', 'volume_sampah_perhari(m3)'],\n",
       "      dtype='object')"
      ]
     },
     "execution_count": 5,
     "metadata": {},
     "output_type": "execute_result"
    }
   ],
   "source": [
    "# Melihat nama kolom yang ada di dalam dataframe\n",
    "data_mei.columns"
   ]
  },
  {
   "cell_type": "code",
   "execution_count": 6,
   "metadata": {},
   "outputs": [
    {
     "data": {
      "text/plain": [
       "(54870, 8)"
      ]
     },
     "execution_count": 6,
     "metadata": {},
     "output_type": "execute_result"
    }
   ],
   "source": [
    "# Melihat jumlah rows dan kolom pada dataframe\n",
    "data_mei.shape"
   ]
  },
  {
   "cell_type": "code",
   "execution_count": 7,
   "metadata": {},
   "outputs": [
    {
     "name": "stdout",
     "output_type": "stream",
     "text": [
      "<class 'pandas.core.frame.DataFrame'>\n",
      "RangeIndex: 54870 entries, 0 to 54869\n",
      "Data columns (total 8 columns):\n",
      " #   Column                     Non-Null Count  Dtype \n",
      "---  ------                     --------------  ----- \n",
      " 0   bulan                      54870 non-null  int64 \n",
      " 1    titik_lokasi              54870 non-null  object\n",
      " 2    kecamatan                 54870 non-null  object\n",
      " 3    wilayah                   54870 non-null  object\n",
      " 4    panjang/luas              54002 non-null  object\n",
      " 5   satuan_panjang/luas        33883 non-null  object\n",
      " 6   tanggal                    54870 non-null  int64 \n",
      " 7   volume_sampah_perhari(m3)  54870 non-null  object\n",
      "dtypes: int64(2), object(6)\n",
      "memory usage: 3.3+ MB\n"
     ]
    }
   ],
   "source": [
    "# Melihat info dataset (tipe data, total record data, dll)\n",
    "data_mei.info()"
   ]
  },
  {
   "cell_type": "code",
   "execution_count": 8,
   "metadata": {},
   "outputs": [],
   "source": [
    "# Menghapus jarak spasi pada kolom dataset\n",
    "data_mei.columns = data_mei.columns.str.replace(\" \", \"\")"
   ]
  },
  {
   "cell_type": "code",
   "execution_count": 9,
   "metadata": {},
   "outputs": [
    {
     "data": {
      "text/html": [
       "<div>\n",
       "<style scoped>\n",
       "    .dataframe tbody tr th:only-of-type {\n",
       "        vertical-align: middle;\n",
       "    }\n",
       "\n",
       "    .dataframe tbody tr th {\n",
       "        vertical-align: top;\n",
       "    }\n",
       "\n",
       "    .dataframe thead th {\n",
       "        text-align: right;\n",
       "    }\n",
       "</style>\n",
       "<table border=\"1\" class=\"dataframe\">\n",
       "  <thead>\n",
       "    <tr style=\"text-align: right;\">\n",
       "      <th></th>\n",
       "      <th>bulan</th>\n",
       "      <th>titik_lokasi</th>\n",
       "      <th>kecamatan</th>\n",
       "      <th>wilayah</th>\n",
       "      <th>panjang/luas</th>\n",
       "      <th>satuan_panjang/luas</th>\n",
       "      <th>tanggal</th>\n",
       "      <th>volume_sampah_perhari(m3)</th>\n",
       "    </tr>\n",
       "  </thead>\n",
       "  <tbody>\n",
       "    <tr>\n",
       "      <th>count</th>\n",
       "      <td>54870.0</td>\n",
       "      <td>54870</td>\n",
       "      <td>54870</td>\n",
       "      <td>54870</td>\n",
       "      <td>54002</td>\n",
       "      <td>33883</td>\n",
       "      <td>54870.000000</td>\n",
       "      <td>54870</td>\n",
       "    </tr>\n",
       "    <tr>\n",
       "      <th>unique</th>\n",
       "      <td>NaN</td>\n",
       "      <td>1764</td>\n",
       "      <td>42</td>\n",
       "      <td>5</td>\n",
       "      <td>417</td>\n",
       "      <td>10</td>\n",
       "      <td>NaN</td>\n",
       "      <td>70</td>\n",
       "    </tr>\n",
       "    <tr>\n",
       "      <th>top</th>\n",
       "      <td>NaN</td>\n",
       "      <td>Saluran PHB Pertanian</td>\n",
       "      <td>Kalideres</td>\n",
       "      <td>Jakarta Barat</td>\n",
       "      <td>1000</td>\n",
       "      <td>m</td>\n",
       "      <td>NaN</td>\n",
       "      <td>-</td>\n",
       "    </tr>\n",
       "    <tr>\n",
       "      <th>freq</th>\n",
       "      <td>NaN</td>\n",
       "      <td>62</td>\n",
       "      <td>2945</td>\n",
       "      <td>16616</td>\n",
       "      <td>6665</td>\n",
       "      <td>32116</td>\n",
       "      <td>NaN</td>\n",
       "      <td>17285</td>\n",
       "    </tr>\n",
       "    <tr>\n",
       "      <th>mean</th>\n",
       "      <td>5.0</td>\n",
       "      <td>NaN</td>\n",
       "      <td>NaN</td>\n",
       "      <td>NaN</td>\n",
       "      <td>NaN</td>\n",
       "      <td>NaN</td>\n",
       "      <td>16.000000</td>\n",
       "      <td>NaN</td>\n",
       "    </tr>\n",
       "    <tr>\n",
       "      <th>std</th>\n",
       "      <td>0.0</td>\n",
       "      <td>NaN</td>\n",
       "      <td>NaN</td>\n",
       "      <td>NaN</td>\n",
       "      <td>NaN</td>\n",
       "      <td>NaN</td>\n",
       "      <td>8.944353</td>\n",
       "      <td>NaN</td>\n",
       "    </tr>\n",
       "    <tr>\n",
       "      <th>min</th>\n",
       "      <td>5.0</td>\n",
       "      <td>NaN</td>\n",
       "      <td>NaN</td>\n",
       "      <td>NaN</td>\n",
       "      <td>NaN</td>\n",
       "      <td>NaN</td>\n",
       "      <td>1.000000</td>\n",
       "      <td>NaN</td>\n",
       "    </tr>\n",
       "    <tr>\n",
       "      <th>25%</th>\n",
       "      <td>5.0</td>\n",
       "      <td>NaN</td>\n",
       "      <td>NaN</td>\n",
       "      <td>NaN</td>\n",
       "      <td>NaN</td>\n",
       "      <td>NaN</td>\n",
       "      <td>8.000000</td>\n",
       "      <td>NaN</td>\n",
       "    </tr>\n",
       "    <tr>\n",
       "      <th>50%</th>\n",
       "      <td>5.0</td>\n",
       "      <td>NaN</td>\n",
       "      <td>NaN</td>\n",
       "      <td>NaN</td>\n",
       "      <td>NaN</td>\n",
       "      <td>NaN</td>\n",
       "      <td>16.000000</td>\n",
       "      <td>NaN</td>\n",
       "    </tr>\n",
       "    <tr>\n",
       "      <th>75%</th>\n",
       "      <td>5.0</td>\n",
       "      <td>NaN</td>\n",
       "      <td>NaN</td>\n",
       "      <td>NaN</td>\n",
       "      <td>NaN</td>\n",
       "      <td>NaN</td>\n",
       "      <td>24.000000</td>\n",
       "      <td>NaN</td>\n",
       "    </tr>\n",
       "    <tr>\n",
       "      <th>max</th>\n",
       "      <td>5.0</td>\n",
       "      <td>NaN</td>\n",
       "      <td>NaN</td>\n",
       "      <td>NaN</td>\n",
       "      <td>NaN</td>\n",
       "      <td>NaN</td>\n",
       "      <td>31.000000</td>\n",
       "      <td>NaN</td>\n",
       "    </tr>\n",
       "  </tbody>\n",
       "</table>\n",
       "</div>"
      ],
      "text/plain": [
       "          bulan           titik_lokasi  kecamatan        wilayah panjang/luas  \\\n",
       "count   54870.0                  54870      54870          54870        54002   \n",
       "unique      NaN                   1764         42              5          417   \n",
       "top         NaN  Saluran PHB Pertanian  Kalideres  Jakarta Barat         1000   \n",
       "freq        NaN                     62       2945          16616         6665   \n",
       "mean        5.0                    NaN        NaN            NaN          NaN   \n",
       "std         0.0                    NaN        NaN            NaN          NaN   \n",
       "min         5.0                    NaN        NaN            NaN          NaN   \n",
       "25%         5.0                    NaN        NaN            NaN          NaN   \n",
       "50%         5.0                    NaN        NaN            NaN          NaN   \n",
       "75%         5.0                    NaN        NaN            NaN          NaN   \n",
       "max         5.0                    NaN        NaN            NaN          NaN   \n",
       "\n",
       "       satuan_panjang/luas       tanggal volume_sampah_perhari(m3)  \n",
       "count                33883  54870.000000                     54870  \n",
       "unique                  10           NaN                        70  \n",
       "top                      m           NaN                         -  \n",
       "freq                 32116           NaN                     17285  \n",
       "mean                   NaN     16.000000                       NaN  \n",
       "std                    NaN      8.944353                       NaN  \n",
       "min                    NaN      1.000000                       NaN  \n",
       "25%                    NaN      8.000000                       NaN  \n",
       "50%                    NaN     16.000000                       NaN  \n",
       "75%                    NaN     24.000000                       NaN  \n",
       "max                    NaN     31.000000                       NaN  "
      ]
     },
     "execution_count": 9,
     "metadata": {},
     "output_type": "execute_result"
    }
   ],
   "source": [
    "# Melihat nilai statistik deskriptif dari dataframe untuk keseluruhan kolom\n",
    "data_mei.describe(include=\"all\")"
   ]
  },
  {
   "cell_type": "markdown",
   "metadata": {},
   "source": [
    "Hasil keluaran diatas menandakan beberapa nilai-nilai dari statistik deskriptif dari kedua jenis data yakni numerik (tipe data int & float) dan kategorik (tipe data object/string) dan tentu saja setiap jenis data memiliki nilai deskriptif yang berbeda. Seperti misalnya jenis data numerik memiliki nilai deskriptif seperti count, mean, std (standard deviasi), maximum, minimum, quartil 1 (25%), quartil 2/median (50%) dan quartil 3 (75%). Sedangkan jenis data kategorik memiliki nilai deskriptif seperti count, unique, top dan freq (frekuensi data).\n",
    "\n",
    "Sebagai contoh dapat dilihat pada penjelasan dibawah ini:\n",
    "\n",
    "- Pada kolom titik_lokasi tidak memiliki nilai mean, standard deviasi, min, dll, tetapi memiliki nilai top, unique, freq, dll. Hal tersebut dikarenakan kolom titik_lokasi bersifat kategorik (karena memiliki tipe data string). Maka dari itu kolom titik_lokasi memiliki nilai top yakni Saluran PHB Pramuka, nilai freq adalah 62, dst.\n",
    "\n",
    "- Sedangkan pada kolom tanggal tidak memiliki nilai top, freq, dll tetapi memiliki nilai mean, standard deviasi, min, max, dll. Hal tersebut dikarenakan kolom tanggal bersifat numerik. Hal ini dapat dilihat dari nilai mean pada kolom tanggal adalah 16, nilai max adalah 31, nilai quartil 3 adalah 24, dst.\n",
    "\n",
    "Berikut adalah kolom-kolom yang bersifat kategorik dan numerik:\n",
    "\n",
    "- Kategorik: titik_lokasi, kecamatan, wilayah, panjang/luas, satuan_panjang/luas dan volume_sampah_perhari(m3).\n",
    "- Numerik: bulan dan tanggal."
   ]
  },
  {
   "cell_type": "code",
   "execution_count": 10,
   "metadata": {},
   "outputs": [
    {
     "name": "stdout",
     "output_type": "stream",
     "text": [
      "Kalideres            2945\n",
      "Tanjung Priok        2914\n",
      "Penjaringan          2759\n",
      "Cengkareng           2542\n",
      "Cilincing            2542\n",
      "Kembangan            2325\n",
      "Grogol Petamburan    2325\n",
      "Cakung               2263\n",
      "Tamansari            1953\n",
      "Pademangan           1891\n",
      "Kebon Jeruk          1581\n",
      "Tambora              1550\n",
      "Kelapa Gading        1488\n",
      "Palmerah             1395\n",
      "Koja                 1395\n",
      "Jatinegara           1364\n",
      "Pulo Gadung          1333\n",
      "Duren Sawit          1302\n",
      "Jagakarsa            1209\n",
      "Pasar Rebo           1147\n",
      "Kramat Jati          1116\n",
      "Makasar              1023\n",
      "Ciracas               992\n",
      "Matraman              961\n",
      "Gambir                930\n",
      "Tanah Abang           899\n",
      "Pancoran              868\n",
      "Kebayoran Baru        837\n",
      "Pasar Minggu          837\n",
      "Cilandak              837\n",
      "Kebayoran Lama        806\n",
      "Setiabudi             775\n",
      "Tebet                 744\n",
      "Mampang Prapatan      713\n",
      "Cipayung              651\n",
      "Pesanggrahan          620\n",
      "Sawah Besar           558\n",
      "Kemayoran             527\n",
      "Senen                 527\n",
      "Cempaka Putih         527\n",
      "Menteng               496\n",
      "Johar Baru            403\n",
      "Name: kecamatan, dtype: int64\n",
      "\n",
      "Jakarta Barat      16616\n",
      "Jakarta Utara      12989\n",
      "Jakarta Timur      12152\n",
      "Jakarta Selatan     8246\n",
      "Jakarta Pusat       4867\n",
      "Name: wilayah, dtype: int64\n",
      "\n",
      "m          32116\n",
      "Ha          1426\n",
      "H             93\n",
      "HA            62\n",
      "Hektar        31\n",
      "m³            31\n",
      "m²            31\n",
      "hectare       31\n",
      "km            31\n",
      "hektar        31\n",
      "Name: satuan_panjang/luas, dtype: int64\n"
     ]
    }
   ],
   "source": [
    "\"\"\"\n",
    "Menghitung nilai dari beberapa kolom (kecamatan, wilayah, satuan_panjang/satuan) \n",
    "dari yang sering muncul - tidak sering muncul di dalam dataframe\n",
    "\"\"\"\n",
    "print(data_mei[\"kecamatan\"].value_counts())\n",
    "print()\n",
    "\n",
    "print(data_mei[\"wilayah\"].value_counts())\n",
    "print()\n",
    "\n",
    "print(data_mei[\"satuan_panjang/luas\"].value_counts())"
   ]
  },
  {
   "cell_type": "code",
   "execution_count": 11,
   "metadata": {},
   "outputs": [
    {
     "data": {
      "text/plain": [
       "Index(['bulan', 'titik_lokasi', 'kecamatan', 'wilayah', 'panjang_luas',\n",
       "       'satuan_panjang', 'tanggal', 'volume_sampah_perhari(m3)'],\n",
       "      dtype='object')"
      ]
     },
     "execution_count": 11,
     "metadata": {},
     "output_type": "execute_result"
    }
   ],
   "source": [
    "# Mengubah nama kolom dari yang semula \"panjang/luas\" dan \"satuan_panjang/luas\" menjadi \"panjang_luas\" dan \"satuan_panjang\"\n",
    "rename_column_data = data_mei.rename(columns={\"panjang/luas\": \"panjang_luas\", \"satuan_panjang/luas\":\"satuan_panjang\"})\n",
    "\n",
    "rename_column_data.columns"
   ]
  },
  {
   "cell_type": "code",
   "execution_count": 12,
   "metadata": {},
   "outputs": [
    {
     "data": {
      "text/html": [
       "<div>\n",
       "<style scoped>\n",
       "    .dataframe tbody tr th:only-of-type {\n",
       "        vertical-align: middle;\n",
       "    }\n",
       "\n",
       "    .dataframe tbody tr th {\n",
       "        vertical-align: top;\n",
       "    }\n",
       "\n",
       "    .dataframe thead th {\n",
       "        text-align: right;\n",
       "    }\n",
       "</style>\n",
       "<table border=\"1\" class=\"dataframe\">\n",
       "  <thead>\n",
       "    <tr style=\"text-align: right;\">\n",
       "      <th></th>\n",
       "      <th>bulan</th>\n",
       "      <th>titik_lokasi</th>\n",
       "      <th>kecamatan</th>\n",
       "      <th>wilayah</th>\n",
       "      <th>panjang_luas</th>\n",
       "      <th>satuan_panjang</th>\n",
       "      <th>tanggal</th>\n",
       "      <th>volume_sampah_perhari(m3)</th>\n",
       "    </tr>\n",
       "  </thead>\n",
       "  <tbody>\n",
       "    <tr>\n",
       "      <th>58</th>\n",
       "      <td>5</td>\n",
       "      <td>Emplasment Pompa Cideng</td>\n",
       "      <td>Gambir</td>\n",
       "      <td>Jakarta Pusat</td>\n",
       "      <td>4</td>\n",
       "      <td>m³</td>\n",
       "      <td>1</td>\n",
       "      <td>0</td>\n",
       "    </tr>\n",
       "    <tr>\n",
       "      <th>1828</th>\n",
       "      <td>5</td>\n",
       "      <td>Emplasment Pompa Cideng</td>\n",
       "      <td>Gambir</td>\n",
       "      <td>Jakarta Pusat</td>\n",
       "      <td>4</td>\n",
       "      <td>m³</td>\n",
       "      <td>2</td>\n",
       "      <td>0.5</td>\n",
       "    </tr>\n",
       "    <tr>\n",
       "      <th>3598</th>\n",
       "      <td>5</td>\n",
       "      <td>Emplasment Pompa Cideng</td>\n",
       "      <td>Gambir</td>\n",
       "      <td>Jakarta Pusat</td>\n",
       "      <td>4</td>\n",
       "      <td>m³</td>\n",
       "      <td>3</td>\n",
       "      <td>0.5</td>\n",
       "    </tr>\n",
       "    <tr>\n",
       "      <th>5368</th>\n",
       "      <td>5</td>\n",
       "      <td>Emplasment Pompa Cideng</td>\n",
       "      <td>Gambir</td>\n",
       "      <td>Jakarta Pusat</td>\n",
       "      <td>4</td>\n",
       "      <td>m³</td>\n",
       "      <td>4</td>\n",
       "      <td>0.5</td>\n",
       "    </tr>\n",
       "    <tr>\n",
       "      <th>7138</th>\n",
       "      <td>5</td>\n",
       "      <td>Emplasment Pompa Cideng</td>\n",
       "      <td>Gambir</td>\n",
       "      <td>Jakarta Pusat</td>\n",
       "      <td>4</td>\n",
       "      <td>m³</td>\n",
       "      <td>5</td>\n",
       "      <td>0.5</td>\n",
       "    </tr>\n",
       "    <tr>\n",
       "      <th>8908</th>\n",
       "      <td>5</td>\n",
       "      <td>Emplasment Pompa Cideng</td>\n",
       "      <td>Gambir</td>\n",
       "      <td>Jakarta Pusat</td>\n",
       "      <td>4</td>\n",
       "      <td>m³</td>\n",
       "      <td>6</td>\n",
       "      <td>2</td>\n",
       "    </tr>\n",
       "    <tr>\n",
       "      <th>10678</th>\n",
       "      <td>5</td>\n",
       "      <td>Emplasment Pompa Cideng</td>\n",
       "      <td>Gambir</td>\n",
       "      <td>Jakarta Pusat</td>\n",
       "      <td>4</td>\n",
       "      <td>m³</td>\n",
       "      <td>7</td>\n",
       "      <td>0.5</td>\n",
       "    </tr>\n",
       "    <tr>\n",
       "      <th>12448</th>\n",
       "      <td>5</td>\n",
       "      <td>Emplasment Pompa Cideng</td>\n",
       "      <td>Gambir</td>\n",
       "      <td>Jakarta Pusat</td>\n",
       "      <td>4</td>\n",
       "      <td>m³</td>\n",
       "      <td>8</td>\n",
       "      <td>0.5</td>\n",
       "    </tr>\n",
       "    <tr>\n",
       "      <th>14218</th>\n",
       "      <td>5</td>\n",
       "      <td>Emplasment Pompa Cideng</td>\n",
       "      <td>Gambir</td>\n",
       "      <td>Jakarta Pusat</td>\n",
       "      <td>4</td>\n",
       "      <td>m³</td>\n",
       "      <td>9</td>\n",
       "      <td>4</td>\n",
       "    </tr>\n",
       "    <tr>\n",
       "      <th>15988</th>\n",
       "      <td>5</td>\n",
       "      <td>Emplasment Pompa Cideng</td>\n",
       "      <td>Gambir</td>\n",
       "      <td>Jakarta Pusat</td>\n",
       "      <td>4</td>\n",
       "      <td>m³</td>\n",
       "      <td>10</td>\n",
       "      <td>0.5</td>\n",
       "    </tr>\n",
       "    <tr>\n",
       "      <th>17758</th>\n",
       "      <td>5</td>\n",
       "      <td>Emplasment Pompa Cideng</td>\n",
       "      <td>Gambir</td>\n",
       "      <td>Jakarta Pusat</td>\n",
       "      <td>4</td>\n",
       "      <td>m³</td>\n",
       "      <td>11</td>\n",
       "      <td>1</td>\n",
       "    </tr>\n",
       "    <tr>\n",
       "      <th>19528</th>\n",
       "      <td>5</td>\n",
       "      <td>Emplasment Pompa Cideng</td>\n",
       "      <td>Gambir</td>\n",
       "      <td>Jakarta Pusat</td>\n",
       "      <td>4</td>\n",
       "      <td>m³</td>\n",
       "      <td>12</td>\n",
       "      <td>0.5</td>\n",
       "    </tr>\n",
       "    <tr>\n",
       "      <th>21298</th>\n",
       "      <td>5</td>\n",
       "      <td>Emplasment Pompa Cideng</td>\n",
       "      <td>Gambir</td>\n",
       "      <td>Jakarta Pusat</td>\n",
       "      <td>4</td>\n",
       "      <td>m³</td>\n",
       "      <td>13</td>\n",
       "      <td>0</td>\n",
       "    </tr>\n",
       "  </tbody>\n",
       "</table>\n",
       "</div>"
      ],
      "text/plain": [
       "       bulan             titik_lokasi kecamatan        wilayah panjang_luas  \\\n",
       "58         5  Emplasment Pompa Cideng    Gambir  Jakarta Pusat            4   \n",
       "1828       5  Emplasment Pompa Cideng    Gambir  Jakarta Pusat            4   \n",
       "3598       5  Emplasment Pompa Cideng    Gambir  Jakarta Pusat            4   \n",
       "5368       5  Emplasment Pompa Cideng    Gambir  Jakarta Pusat            4   \n",
       "7138       5  Emplasment Pompa Cideng    Gambir  Jakarta Pusat            4   \n",
       "8908       5  Emplasment Pompa Cideng    Gambir  Jakarta Pusat            4   \n",
       "10678      5  Emplasment Pompa Cideng    Gambir  Jakarta Pusat            4   \n",
       "12448      5  Emplasment Pompa Cideng    Gambir  Jakarta Pusat            4   \n",
       "14218      5  Emplasment Pompa Cideng    Gambir  Jakarta Pusat            4   \n",
       "15988      5  Emplasment Pompa Cideng    Gambir  Jakarta Pusat            4   \n",
       "17758      5  Emplasment Pompa Cideng    Gambir  Jakarta Pusat            4   \n",
       "19528      5  Emplasment Pompa Cideng    Gambir  Jakarta Pusat            4   \n",
       "21298      5  Emplasment Pompa Cideng    Gambir  Jakarta Pusat            4   \n",
       "\n",
       "      satuan_panjang  tanggal volume_sampah_perhari(m3)  \n",
       "58                m³        1                         0  \n",
       "1828              m³        2                       0.5  \n",
       "3598              m³        3                       0.5  \n",
       "5368              m³        4                       0.5  \n",
       "7138              m³        5                       0.5  \n",
       "8908              m³        6                         2  \n",
       "10678             m³        7                       0.5  \n",
       "12448             m³        8                       0.5  \n",
       "14218             m³        9                         4  \n",
       "15988             m³       10                       0.5  \n",
       "17758             m³       11                         1  \n",
       "19528             m³       12                       0.5  \n",
       "21298             m³       13                         0  "
      ]
     },
     "execution_count": 12,
     "metadata": {},
     "output_type": "execute_result"
    }
   ],
   "source": [
    "# Memisahkan semua data yang memiliki satuan_panjang = m³ dan ditampilkan sebanyak 13 data teratas\n",
    "data_m3 = rename_column_data[rename_column_data.satuan_panjang == \"m³\"]\n",
    "data_m3.head(13)"
   ]
  },
  {
   "cell_type": "code",
   "execution_count": 13,
   "metadata": {},
   "outputs": [
    {
     "data": {
      "text/html": [
       "<div>\n",
       "<style scoped>\n",
       "    .dataframe tbody tr th:only-of-type {\n",
       "        vertical-align: middle;\n",
       "    }\n",
       "\n",
       "    .dataframe tbody tr th {\n",
       "        vertical-align: top;\n",
       "    }\n",
       "\n",
       "    .dataframe thead th {\n",
       "        text-align: right;\n",
       "    }\n",
       "</style>\n",
       "<table border=\"1\" class=\"dataframe\">\n",
       "  <thead>\n",
       "    <tr style=\"text-align: right;\">\n",
       "      <th></th>\n",
       "      <th>bulan</th>\n",
       "      <th>titik_lokasi</th>\n",
       "      <th>kecamatan</th>\n",
       "      <th>wilayah</th>\n",
       "      <th>panjang_luas</th>\n",
       "      <th>satuan_panjang</th>\n",
       "      <th>tanggal</th>\n",
       "      <th>volume_sampah_perhari(m3)</th>\n",
       "    </tr>\n",
       "  </thead>\n",
       "  <tbody>\n",
       "    <tr>\n",
       "      <th>51875</th>\n",
       "      <td>5</td>\n",
       "      <td>PHB Pademangan A</td>\n",
       "      <td>Pademangan</td>\n",
       "      <td>Jakarta Utara</td>\n",
       "      <td>150/1</td>\n",
       "      <td>NaN</td>\n",
       "      <td>30</td>\n",
       "      <td>1</td>\n",
       "    </tr>\n",
       "    <tr>\n",
       "      <th>51876</th>\n",
       "      <td>5</td>\n",
       "      <td>PHB Pademangan B</td>\n",
       "      <td>Pademangan</td>\n",
       "      <td>Jakarta Utara</td>\n",
       "      <td>150/1</td>\n",
       "      <td>NaN</td>\n",
       "      <td>30</td>\n",
       "      <td>1</td>\n",
       "    </tr>\n",
       "    <tr>\n",
       "      <th>51877</th>\n",
       "      <td>5</td>\n",
       "      <td>PHB Pademangan C</td>\n",
       "      <td>Pademangan</td>\n",
       "      <td>Jakarta Utara</td>\n",
       "      <td>150/1</td>\n",
       "      <td>NaN</td>\n",
       "      <td>30</td>\n",
       "      <td>0</td>\n",
       "    </tr>\n",
       "    <tr>\n",
       "      <th>51879</th>\n",
       "      <td>5</td>\n",
       "      <td>PHB Ancol Barat 1</td>\n",
       "      <td>Pademangan</td>\n",
       "      <td>Jakarta Utara</td>\n",
       "      <td>150/1</td>\n",
       "      <td>NaN</td>\n",
       "      <td>30</td>\n",
       "      <td>0</td>\n",
       "    </tr>\n",
       "    <tr>\n",
       "      <th>51883</th>\n",
       "      <td>5</td>\n",
       "      <td>PHB Masjid Kampung Bandan</td>\n",
       "      <td>Pademangan</td>\n",
       "      <td>Jakarta Utara</td>\n",
       "      <td>150/1</td>\n",
       "      <td>NaN</td>\n",
       "      <td>30</td>\n",
       "      <td>0</td>\n",
       "    </tr>\n",
       "    <tr>\n",
       "      <th>51898</th>\n",
       "      <td>5</td>\n",
       "      <td>PHB Pademangan 22</td>\n",
       "      <td>Pademangan</td>\n",
       "      <td>Jakarta Utara</td>\n",
       "      <td>150/1</td>\n",
       "      <td>NaN</td>\n",
       "      <td>30</td>\n",
       "      <td>1</td>\n",
       "    </tr>\n",
       "    <tr>\n",
       "      <th>51903</th>\n",
       "      <td>5</td>\n",
       "      <td>PHB Parang Tritis</td>\n",
       "      <td>Pademangan</td>\n",
       "      <td>Jakarta Utara</td>\n",
       "      <td>150/1</td>\n",
       "      <td>NaN</td>\n",
       "      <td>30</td>\n",
       "      <td>0</td>\n",
       "    </tr>\n",
       "    <tr>\n",
       "      <th>51904</th>\n",
       "      <td>5</td>\n",
       "      <td>PHB Indofood Jalan Ancol Parang Tritis</td>\n",
       "      <td>Pademangan</td>\n",
       "      <td>Jakarta Utara</td>\n",
       "      <td>150/1</td>\n",
       "      <td>NaN</td>\n",
       "      <td>30</td>\n",
       "      <td>0</td>\n",
       "    </tr>\n",
       "    <tr>\n",
       "      <th>53644</th>\n",
       "      <td>5</td>\n",
       "      <td>PHB Pademangan 5 (Sejajar Rel Kereta Api)</td>\n",
       "      <td>Pademangan</td>\n",
       "      <td>Jakarta Utara</td>\n",
       "      <td>150/1</td>\n",
       "      <td>NaN</td>\n",
       "      <td>31</td>\n",
       "      <td>1</td>\n",
       "    </tr>\n",
       "    <tr>\n",
       "      <th>53645</th>\n",
       "      <td>5</td>\n",
       "      <td>PHB Pademangan A</td>\n",
       "      <td>Pademangan</td>\n",
       "      <td>Jakarta Utara</td>\n",
       "      <td>150/1</td>\n",
       "      <td>NaN</td>\n",
       "      <td>31</td>\n",
       "      <td>1</td>\n",
       "    </tr>\n",
       "    <tr>\n",
       "      <th>53646</th>\n",
       "      <td>5</td>\n",
       "      <td>PHB Pademangan B</td>\n",
       "      <td>Pademangan</td>\n",
       "      <td>Jakarta Utara</td>\n",
       "      <td>150/1</td>\n",
       "      <td>NaN</td>\n",
       "      <td>31</td>\n",
       "      <td>1</td>\n",
       "    </tr>\n",
       "    <tr>\n",
       "      <th>53647</th>\n",
       "      <td>5</td>\n",
       "      <td>PHB Pademangan C</td>\n",
       "      <td>Pademangan</td>\n",
       "      <td>Jakarta Utara</td>\n",
       "      <td>150/1</td>\n",
       "      <td>NaN</td>\n",
       "      <td>31</td>\n",
       "      <td>0</td>\n",
       "    </tr>\n",
       "    <tr>\n",
       "      <th>53649</th>\n",
       "      <td>5</td>\n",
       "      <td>PHB Ancol Barat 1</td>\n",
       "      <td>Pademangan</td>\n",
       "      <td>Jakarta Utara</td>\n",
       "      <td>150/1</td>\n",
       "      <td>NaN</td>\n",
       "      <td>31</td>\n",
       "      <td>0</td>\n",
       "    </tr>\n",
       "    <tr>\n",
       "      <th>53653</th>\n",
       "      <td>5</td>\n",
       "      <td>PHB Masjid Kampung Bandan</td>\n",
       "      <td>Pademangan</td>\n",
       "      <td>Jakarta Utara</td>\n",
       "      <td>150/1</td>\n",
       "      <td>NaN</td>\n",
       "      <td>31</td>\n",
       "      <td>0</td>\n",
       "    </tr>\n",
       "    <tr>\n",
       "      <th>53668</th>\n",
       "      <td>5</td>\n",
       "      <td>PHB Pademangan 22</td>\n",
       "      <td>Pademangan</td>\n",
       "      <td>Jakarta Utara</td>\n",
       "      <td>150/1</td>\n",
       "      <td>NaN</td>\n",
       "      <td>31</td>\n",
       "      <td>1</td>\n",
       "    </tr>\n",
       "    <tr>\n",
       "      <th>53673</th>\n",
       "      <td>5</td>\n",
       "      <td>PHB Parang Tritis</td>\n",
       "      <td>Pademangan</td>\n",
       "      <td>Jakarta Utara</td>\n",
       "      <td>150/1</td>\n",
       "      <td>NaN</td>\n",
       "      <td>31</td>\n",
       "      <td>0</td>\n",
       "    </tr>\n",
       "    <tr>\n",
       "      <th>53674</th>\n",
       "      <td>5</td>\n",
       "      <td>PHB Indofood Jalan Ancol Parang Tritis</td>\n",
       "      <td>Pademangan</td>\n",
       "      <td>Jakarta Utara</td>\n",
       "      <td>150/1</td>\n",
       "      <td>NaN</td>\n",
       "      <td>31</td>\n",
       "      <td>0</td>\n",
       "    </tr>\n",
       "  </tbody>\n",
       "</table>\n",
       "</div>"
      ],
      "text/plain": [
       "       bulan                               titik_lokasi   kecamatan  \\\n",
       "51875      5                           PHB Pademangan A  Pademangan   \n",
       "51876      5                           PHB Pademangan B  Pademangan   \n",
       "51877      5                           PHB Pademangan C  Pademangan   \n",
       "51879      5                          PHB Ancol Barat 1  Pademangan   \n",
       "51883      5                  PHB Masjid Kampung Bandan  Pademangan   \n",
       "51898      5                          PHB Pademangan 22  Pademangan   \n",
       "51903      5                          PHB Parang Tritis  Pademangan   \n",
       "51904      5     PHB Indofood Jalan Ancol Parang Tritis  Pademangan   \n",
       "53644      5  PHB Pademangan 5 (Sejajar Rel Kereta Api)  Pademangan   \n",
       "53645      5                           PHB Pademangan A  Pademangan   \n",
       "53646      5                           PHB Pademangan B  Pademangan   \n",
       "53647      5                           PHB Pademangan C  Pademangan   \n",
       "53649      5                          PHB Ancol Barat 1  Pademangan   \n",
       "53653      5                  PHB Masjid Kampung Bandan  Pademangan   \n",
       "53668      5                          PHB Pademangan 22  Pademangan   \n",
       "53673      5                          PHB Parang Tritis  Pademangan   \n",
       "53674      5     PHB Indofood Jalan Ancol Parang Tritis  Pademangan   \n",
       "\n",
       "             wilayah panjang_luas satuan_panjang  tanggal  \\\n",
       "51875  Jakarta Utara        150/1            NaN       30   \n",
       "51876  Jakarta Utara        150/1            NaN       30   \n",
       "51877  Jakarta Utara        150/1            NaN       30   \n",
       "51879  Jakarta Utara        150/1            NaN       30   \n",
       "51883  Jakarta Utara        150/1            NaN       30   \n",
       "51898  Jakarta Utara        150/1            NaN       30   \n",
       "51903  Jakarta Utara        150/1            NaN       30   \n",
       "51904  Jakarta Utara        150/1            NaN       30   \n",
       "53644  Jakarta Utara        150/1            NaN       31   \n",
       "53645  Jakarta Utara        150/1            NaN       31   \n",
       "53646  Jakarta Utara        150/1            NaN       31   \n",
       "53647  Jakarta Utara        150/1            NaN       31   \n",
       "53649  Jakarta Utara        150/1            NaN       31   \n",
       "53653  Jakarta Utara        150/1            NaN       31   \n",
       "53668  Jakarta Utara        150/1            NaN       31   \n",
       "53673  Jakarta Utara        150/1            NaN       31   \n",
       "53674  Jakarta Utara        150/1            NaN       31   \n",
       "\n",
       "      volume_sampah_perhari(m3)  \n",
       "51875                         1  \n",
       "51876                         1  \n",
       "51877                         0  \n",
       "51879                         0  \n",
       "51883                         0  \n",
       "51898                         1  \n",
       "51903                         0  \n",
       "51904                         0  \n",
       "53644                         1  \n",
       "53645                         1  \n",
       "53646                         1  \n",
       "53647                         0  \n",
       "53649                         0  \n",
       "53653                         0  \n",
       "53668                         1  \n",
       "53673                         0  \n",
       "53674                         0  "
      ]
     },
     "execution_count": 13,
     "metadata": {},
     "output_type": "execute_result"
    }
   ],
   "source": [
    "# Memisahkan semua data yang memiliki panjang_luas = 150/1 dan ditampilkan sebanyak 17 baris data terakhir\n",
    "data_panjang_luas = rename_column_data[rename_column_data.panjang_luas == \"150/1\"]\n",
    "data_panjang_luas.tail(17)"
   ]
  },
  {
   "cell_type": "code",
   "execution_count": 14,
   "metadata": {},
   "outputs": [
    {
     "data": {
      "text/html": [
       "<div>\n",
       "<style scoped>\n",
       "    .dataframe tbody tr th:only-of-type {\n",
       "        vertical-align: middle;\n",
       "    }\n",
       "\n",
       "    .dataframe tbody tr th {\n",
       "        vertical-align: top;\n",
       "    }\n",
       "\n",
       "    .dataframe thead th {\n",
       "        text-align: right;\n",
       "    }\n",
       "</style>\n",
       "<table border=\"1\" class=\"dataframe\">\n",
       "  <thead>\n",
       "    <tr style=\"text-align: right;\">\n",
       "      <th></th>\n",
       "      <th>bulan</th>\n",
       "      <th>titik_lokasi</th>\n",
       "      <th>kecamatan</th>\n",
       "      <th>wilayah</th>\n",
       "      <th>panjang_luas</th>\n",
       "      <th>satuan_panjang</th>\n",
       "      <th>tanggal</th>\n",
       "      <th>volume_sampah_perhari(m3)</th>\n",
       "    </tr>\n",
       "  </thead>\n",
       "  <tbody>\n",
       "    <tr>\n",
       "      <th>696</th>\n",
       "      <td>5</td>\n",
       "      <td>Kali Sodetan Sekretaris (Pos Polisi Duri Kepa ...</td>\n",
       "      <td>Kebon Jeruk</td>\n",
       "      <td>Jakarta Barat</td>\n",
       "      <td>310</td>\n",
       "      <td>m</td>\n",
       "      <td>1</td>\n",
       "      <td>-</td>\n",
       "    </tr>\n",
       "    <tr>\n",
       "      <th>697</th>\n",
       "      <td>5</td>\n",
       "      <td>Kali Sodetan Sekretaris ( Belakang Studio 5 In...</td>\n",
       "      <td>Kebon Jeruk</td>\n",
       "      <td>Jakarta Barat</td>\n",
       "      <td>360</td>\n",
       "      <td>m</td>\n",
       "      <td>1</td>\n",
       "      <td>-</td>\n",
       "    </tr>\n",
       "    <tr>\n",
       "      <th>698</th>\n",
       "      <td>5</td>\n",
       "      <td>Kali Sodetan Sekretaris ( Centro City - Sampin...</td>\n",
       "      <td>Kebon Jeruk</td>\n",
       "      <td>Jakarta Barat</td>\n",
       "      <td>300</td>\n",
       "      <td>m</td>\n",
       "      <td>1</td>\n",
       "      <td>-</td>\n",
       "    </tr>\n",
       "    <tr>\n",
       "      <th>699</th>\n",
       "      <td>5</td>\n",
       "      <td>Kali Sodetan Sekretaris ( Samping Rumah Pompa ...</td>\n",
       "      <td>Kebon Jeruk</td>\n",
       "      <td>Jakarta Barat</td>\n",
       "      <td>331</td>\n",
       "      <td>m</td>\n",
       "      <td>1</td>\n",
       "      <td>-</td>\n",
       "    </tr>\n",
       "    <tr>\n",
       "      <th>700</th>\n",
       "      <td>5</td>\n",
       "      <td>Kali Sodetan Sekretaris ( Jembatan Rel KAI - J...</td>\n",
       "      <td>Kebon Jeruk</td>\n",
       "      <td>Jakarta Barat</td>\n",
       "      <td>300</td>\n",
       "      <td>m</td>\n",
       "      <td>1</td>\n",
       "      <td>2</td>\n",
       "    </tr>\n",
       "    <tr>\n",
       "      <th>701</th>\n",
       "      <td>5</td>\n",
       "      <td>Stasiun Pompa Air Saluran PHB. Gang Macan ( Jl...</td>\n",
       "      <td>Kebon Jeruk</td>\n",
       "      <td>Jakarta Barat</td>\n",
       "      <td>700</td>\n",
       "      <td>m</td>\n",
       "      <td>1</td>\n",
       "      <td>2</td>\n",
       "    </tr>\n",
       "    <tr>\n",
       "      <th>702</th>\n",
       "      <td>5</td>\n",
       "      <td>Saluran PHB. Da'an Mogot 1 Sisi Barat ( Jln. D...</td>\n",
       "      <td>Kebon Jeruk</td>\n",
       "      <td>Jakarta Barat</td>\n",
       "      <td>610</td>\n",
       "      <td>m</td>\n",
       "      <td>1</td>\n",
       "      <td>1</td>\n",
       "    </tr>\n",
       "    <tr>\n",
       "      <th>703</th>\n",
       "      <td>5</td>\n",
       "      <td>Saluran PHB. Da'an Mogot 1 Sisi Timur ( Jln.Da...</td>\n",
       "      <td>Kebon Jeruk</td>\n",
       "      <td>Jakarta Barat</td>\n",
       "      <td>610</td>\n",
       "      <td>m</td>\n",
       "      <td>1</td>\n",
       "      <td>1</td>\n",
       "    </tr>\n",
       "    <tr>\n",
       "      <th>704</th>\n",
       "      <td>5</td>\n",
       "      <td>Saluran PHB. Da'an Mogot 2 ( Jln. Da'an Mogot ...</td>\n",
       "      <td>Kebon Jeruk</td>\n",
       "      <td>Jakarta Barat</td>\n",
       "      <td>1070</td>\n",
       "      <td>m</td>\n",
       "      <td>1</td>\n",
       "      <td>0</td>\n",
       "    </tr>\n",
       "    <tr>\n",
       "      <th>705</th>\n",
       "      <td>5</td>\n",
       "      <td>Saluran PHB. Jln. Inspeksi Sekretaris (Pos Pol...</td>\n",
       "      <td>Kebon Jeruk</td>\n",
       "      <td>Jakarta Barat</td>\n",
       "      <td>1070</td>\n",
       "      <td>m</td>\n",
       "      <td>1</td>\n",
       "      <td>0</td>\n",
       "    </tr>\n",
       "  </tbody>\n",
       "</table>\n",
       "</div>"
      ],
      "text/plain": [
       "     bulan                                       titik_lokasi    kecamatan  \\\n",
       "696      5  Kali Sodetan Sekretaris (Pos Polisi Duri Kepa ...  Kebon Jeruk   \n",
       "697      5  Kali Sodetan Sekretaris ( Belakang Studio 5 In...  Kebon Jeruk   \n",
       "698      5  Kali Sodetan Sekretaris ( Centro City - Sampin...  Kebon Jeruk   \n",
       "699      5  Kali Sodetan Sekretaris ( Samping Rumah Pompa ...  Kebon Jeruk   \n",
       "700      5  Kali Sodetan Sekretaris ( Jembatan Rel KAI - J...  Kebon Jeruk   \n",
       "701      5  Stasiun Pompa Air Saluran PHB. Gang Macan ( Jl...  Kebon Jeruk   \n",
       "702      5  Saluran PHB. Da'an Mogot 1 Sisi Barat ( Jln. D...  Kebon Jeruk   \n",
       "703      5  Saluran PHB. Da'an Mogot 1 Sisi Timur ( Jln.Da...  Kebon Jeruk   \n",
       "704      5  Saluran PHB. Da'an Mogot 2 ( Jln. Da'an Mogot ...  Kebon Jeruk   \n",
       "705      5  Saluran PHB. Jln. Inspeksi Sekretaris (Pos Pol...  Kebon Jeruk   \n",
       "\n",
       "           wilayah panjang_luas satuan_panjang  tanggal  \\\n",
       "696  Jakarta Barat          310              m        1   \n",
       "697  Jakarta Barat          360              m        1   \n",
       "698  Jakarta Barat          300              m        1   \n",
       "699  Jakarta Barat          331              m        1   \n",
       "700  Jakarta Barat          300              m        1   \n",
       "701  Jakarta Barat          700              m        1   \n",
       "702  Jakarta Barat          610              m        1   \n",
       "703  Jakarta Barat          610              m        1   \n",
       "704  Jakarta Barat         1070              m        1   \n",
       "705  Jakarta Barat         1070              m        1   \n",
       "\n",
       "    volume_sampah_perhari(m3)  \n",
       "696                         -  \n",
       "697                         -  \n",
       "698                         -  \n",
       "699                         -  \n",
       "700                         2  \n",
       "701                         2  \n",
       "702                         1  \n",
       "703                         1  \n",
       "704                         0  \n",
       "705                         0  "
      ]
     },
     "execution_count": 14,
     "metadata": {},
     "output_type": "execute_result"
    }
   ],
   "source": [
    "# Memisahkan semua data yang memiliki kecamatan = Kebon Jeruk dari 12 data teratas\n",
    "data_kebon_jeruk = rename_column_data[rename_column_data.kecamatan == \"Kebon Jeruk\"]\n",
    "data_kebon_jeruk.head(10)"
   ]
  },
  {
   "cell_type": "code",
   "execution_count": 15,
   "metadata": {},
   "outputs": [
    {
     "data": {
      "text/html": [
       "<div>\n",
       "<style scoped>\n",
       "    .dataframe tbody tr th:only-of-type {\n",
       "        vertical-align: middle;\n",
       "    }\n",
       "\n",
       "    .dataframe tbody tr th {\n",
       "        vertical-align: top;\n",
       "    }\n",
       "\n",
       "    .dataframe thead th {\n",
       "        text-align: right;\n",
       "    }\n",
       "</style>\n",
       "<table border=\"1\" class=\"dataframe\">\n",
       "  <thead>\n",
       "    <tr style=\"text-align: right;\">\n",
       "      <th></th>\n",
       "      <th>bulan</th>\n",
       "      <th>titik_lokasi</th>\n",
       "      <th>kecamatan</th>\n",
       "      <th>wilayah</th>\n",
       "      <th>panjang/luas</th>\n",
       "      <th>satuan_panjang/luas</th>\n",
       "      <th>tanggal</th>\n",
       "      <th>volume_sampah_perhari(m3)</th>\n",
       "    </tr>\n",
       "  </thead>\n",
       "  <tbody>\n",
       "    <tr>\n",
       "      <th>54851</th>\n",
       "      <td>5</td>\n",
       "      <td>Kali Pedaengan (Ujung Krawang - Kp. Sawah)</td>\n",
       "      <td>Cakung</td>\n",
       "      <td>Jakarta Timur</td>\n",
       "      <td>800</td>\n",
       "      <td>m</td>\n",
       "      <td>31</td>\n",
       "      <td>-</td>\n",
       "    </tr>\n",
       "    <tr>\n",
       "      <th>54852</th>\n",
       "      <td>5</td>\n",
       "      <td>Kali Pedaengan (Kp. Sawah - Jl. Raya Penggilin...</td>\n",
       "      <td>Cakung</td>\n",
       "      <td>Jakarta Timur</td>\n",
       "      <td>800</td>\n",
       "      <td>m</td>\n",
       "      <td>31</td>\n",
       "      <td>-</td>\n",
       "    </tr>\n",
       "    <tr>\n",
       "      <th>54853</th>\n",
       "      <td>5</td>\n",
       "      <td>Kali Pedaengan (Jl. Raya Penggilingan - Kali B...</td>\n",
       "      <td>Cakung</td>\n",
       "      <td>Jakarta Timur</td>\n",
       "      <td>600</td>\n",
       "      <td>m</td>\n",
       "      <td>31</td>\n",
       "      <td>-</td>\n",
       "    </tr>\n",
       "    <tr>\n",
       "      <th>54854</th>\n",
       "      <td>5</td>\n",
       "      <td>PHB Pintu Tol Cakung</td>\n",
       "      <td>Cakung</td>\n",
       "      <td>Jakarta Timur</td>\n",
       "      <td>700</td>\n",
       "      <td>m</td>\n",
       "      <td>31</td>\n",
       "      <td>-</td>\n",
       "    </tr>\n",
       "    <tr>\n",
       "      <th>54855</th>\n",
       "      <td>5</td>\n",
       "      <td>PHB Pasar Cakung</td>\n",
       "      <td>Cakung</td>\n",
       "      <td>Jakarta Timur</td>\n",
       "      <td>600</td>\n",
       "      <td>m</td>\n",
       "      <td>31</td>\n",
       "      <td>-</td>\n",
       "    </tr>\n",
       "    <tr>\n",
       "      <th>54856</th>\n",
       "      <td>5</td>\n",
       "      <td>Kali Buaran (Yamaha-Pintu Air UT)</td>\n",
       "      <td>Cakung</td>\n",
       "      <td>Jakarta Timur</td>\n",
       "      <td>600</td>\n",
       "      <td>m</td>\n",
       "      <td>31</td>\n",
       "      <td>20</td>\n",
       "    </tr>\n",
       "    <tr>\n",
       "      <th>54857</th>\n",
       "      <td>5</td>\n",
       "      <td>PHB United Tractor</td>\n",
       "      <td>Cakung</td>\n",
       "      <td>Jakarta Timur</td>\n",
       "      <td>600</td>\n",
       "      <td>m</td>\n",
       "      <td>31</td>\n",
       "      <td>2</td>\n",
       "    </tr>\n",
       "    <tr>\n",
       "      <th>54858</th>\n",
       "      <td>5</td>\n",
       "      <td>PHB Kramayudha Rawa Teratai</td>\n",
       "      <td>Cakung</td>\n",
       "      <td>Jakarta Timur</td>\n",
       "      <td>1500</td>\n",
       "      <td>m</td>\n",
       "      <td>31</td>\n",
       "      <td>1</td>\n",
       "    </tr>\n",
       "    <tr>\n",
       "      <th>54859</th>\n",
       "      <td>5</td>\n",
       "      <td>Kali Buaran (PHB United Tractor-Kali Cakung Lama)</td>\n",
       "      <td>Cakung</td>\n",
       "      <td>Jakarta Timur</td>\n",
       "      <td>1500</td>\n",
       "      <td>m</td>\n",
       "      <td>31</td>\n",
       "      <td>1</td>\n",
       "    </tr>\n",
       "    <tr>\n",
       "      <th>54860</th>\n",
       "      <td>5</td>\n",
       "      <td>Waduk Aneka Elok</td>\n",
       "      <td>Cakung</td>\n",
       "      <td>Jakarta Timur</td>\n",
       "      <td>700</td>\n",
       "      <td>m</td>\n",
       "      <td>31</td>\n",
       "      <td>-</td>\n",
       "    </tr>\n",
       "    <tr>\n",
       "      <th>54861</th>\n",
       "      <td>5</td>\n",
       "      <td>PHB Aneka Elok</td>\n",
       "      <td>Cakung</td>\n",
       "      <td>Jakarta Timur</td>\n",
       "      <td>600</td>\n",
       "      <td>m</td>\n",
       "      <td>31</td>\n",
       "      <td>-</td>\n",
       "    </tr>\n",
       "    <tr>\n",
       "      <th>54862</th>\n",
       "      <td>5</td>\n",
       "      <td>PHB KP Bulak Penggilingan</td>\n",
       "      <td>Cakung</td>\n",
       "      <td>Jakarta Timur</td>\n",
       "      <td>800</td>\n",
       "      <td>m</td>\n",
       "      <td>31</td>\n",
       "      <td>-</td>\n",
       "    </tr>\n",
       "    <tr>\n",
       "      <th>54863</th>\n",
       "      <td>5</td>\n",
       "      <td>Kali Cakung Drain (Jl. Raya Bekasi-Lion)</td>\n",
       "      <td>Cakung</td>\n",
       "      <td>Jakarta Timur</td>\n",
       "      <td>1000</td>\n",
       "      <td>m</td>\n",
       "      <td>31</td>\n",
       "      <td>2</td>\n",
       "    </tr>\n",
       "    <tr>\n",
       "      <th>54864</th>\n",
       "      <td>5</td>\n",
       "      <td>Kali Cakung Drain (Lion-Wing's)</td>\n",
       "      <td>Cakung</td>\n",
       "      <td>Jakarta Timur</td>\n",
       "      <td>800</td>\n",
       "      <td>m</td>\n",
       "      <td>31</td>\n",
       "      <td>2</td>\n",
       "    </tr>\n",
       "    <tr>\n",
       "      <th>54865</th>\n",
       "      <td>5</td>\n",
       "      <td>Kali Cakung Drain (Jembatan Tinggi-Perbatasan ...</td>\n",
       "      <td>Cakung</td>\n",
       "      <td>Jakarta Timur</td>\n",
       "      <td>800</td>\n",
       "      <td>m</td>\n",
       "      <td>31</td>\n",
       "      <td>3</td>\n",
       "    </tr>\n",
       "    <tr>\n",
       "      <th>54866</th>\n",
       "      <td>5</td>\n",
       "      <td>PHB Rawa Teratai</td>\n",
       "      <td>Cakung</td>\n",
       "      <td>Jakarta Timur</td>\n",
       "      <td>700</td>\n",
       "      <td>m</td>\n",
       "      <td>31</td>\n",
       "      <td>3</td>\n",
       "    </tr>\n",
       "    <tr>\n",
       "      <th>54867</th>\n",
       "      <td>5</td>\n",
       "      <td>PHB Rawa Gelam III</td>\n",
       "      <td>Cakung</td>\n",
       "      <td>Jakarta Timur</td>\n",
       "      <td>1000</td>\n",
       "      <td>m</td>\n",
       "      <td>31</td>\n",
       "      <td>-</td>\n",
       "    </tr>\n",
       "    <tr>\n",
       "      <th>54868</th>\n",
       "      <td>5</td>\n",
       "      <td>PHB Metropos KIP</td>\n",
       "      <td>Cakung</td>\n",
       "      <td>Jakarta Timur</td>\n",
       "      <td>1000</td>\n",
       "      <td>m</td>\n",
       "      <td>31</td>\n",
       "      <td>-</td>\n",
       "    </tr>\n",
       "    <tr>\n",
       "      <th>54869</th>\n",
       "      <td>5</td>\n",
       "      <td>PHB Warung Jengkol</td>\n",
       "      <td>Cakung</td>\n",
       "      <td>Jakarta Timur</td>\n",
       "      <td>400</td>\n",
       "      <td>m</td>\n",
       "      <td>31</td>\n",
       "      <td>-</td>\n",
       "    </tr>\n",
       "  </tbody>\n",
       "</table>\n",
       "</div>"
      ],
      "text/plain": [
       "       bulan                                       titik_lokasi kecamatan  \\\n",
       "54851      5         Kali Pedaengan (Ujung Krawang - Kp. Sawah)    Cakung   \n",
       "54852      5  Kali Pedaengan (Kp. Sawah - Jl. Raya Penggilin...    Cakung   \n",
       "54853      5  Kali Pedaengan (Jl. Raya Penggilingan - Kali B...    Cakung   \n",
       "54854      5                               PHB Pintu Tol Cakung    Cakung   \n",
       "54855      5                                   PHB Pasar Cakung    Cakung   \n",
       "54856      5                  Kali Buaran (Yamaha-Pintu Air UT)    Cakung   \n",
       "54857      5                                 PHB United Tractor    Cakung   \n",
       "54858      5                        PHB Kramayudha Rawa Teratai    Cakung   \n",
       "54859      5  Kali Buaran (PHB United Tractor-Kali Cakung Lama)    Cakung   \n",
       "54860      5                                   Waduk Aneka Elok    Cakung   \n",
       "54861      5                                     PHB Aneka Elok    Cakung   \n",
       "54862      5                          PHB KP Bulak Penggilingan    Cakung   \n",
       "54863      5           Kali Cakung Drain (Jl. Raya Bekasi-Lion)    Cakung   \n",
       "54864      5                    Kali Cakung Drain (Lion-Wing's)    Cakung   \n",
       "54865      5  Kali Cakung Drain (Jembatan Tinggi-Perbatasan ...    Cakung   \n",
       "54866      5                                   PHB Rawa Teratai    Cakung   \n",
       "54867      5                                 PHB Rawa Gelam III    Cakung   \n",
       "54868      5                                   PHB Metropos KIP    Cakung   \n",
       "54869      5                                 PHB Warung Jengkol    Cakung   \n",
       "\n",
       "             wilayah panjang/luas satuan_panjang/luas  tanggal  \\\n",
       "54851  Jakarta Timur          800                   m       31   \n",
       "54852  Jakarta Timur          800                   m       31   \n",
       "54853  Jakarta Timur          600                   m       31   \n",
       "54854  Jakarta Timur          700                   m       31   \n",
       "54855  Jakarta Timur          600                   m       31   \n",
       "54856  Jakarta Timur          600                   m       31   \n",
       "54857  Jakarta Timur          600                   m       31   \n",
       "54858  Jakarta Timur         1500                   m       31   \n",
       "54859  Jakarta Timur         1500                   m       31   \n",
       "54860  Jakarta Timur          700                   m       31   \n",
       "54861  Jakarta Timur          600                   m       31   \n",
       "54862  Jakarta Timur          800                   m       31   \n",
       "54863  Jakarta Timur         1000                   m       31   \n",
       "54864  Jakarta Timur          800                   m       31   \n",
       "54865  Jakarta Timur          800                   m       31   \n",
       "54866  Jakarta Timur          700                   m       31   \n",
       "54867  Jakarta Timur         1000                   m       31   \n",
       "54868  Jakarta Timur         1000                   m       31   \n",
       "54869  Jakarta Timur          400                   m       31   \n",
       "\n",
       "      volume_sampah_perhari(m3)  \n",
       "54851                         -  \n",
       "54852                         -  \n",
       "54853                         -  \n",
       "54854                         -  \n",
       "54855                         -  \n",
       "54856                        20  \n",
       "54857                         2  \n",
       "54858                         1  \n",
       "54859                         1  \n",
       "54860                         -  \n",
       "54861                         -  \n",
       "54862                         -  \n",
       "54863                         2  \n",
       "54864                         2  \n",
       "54865                         3  \n",
       "54866                         3  \n",
       "54867                         -  \n",
       "54868                         -  \n",
       "54869                         -  "
      ]
     },
     "execution_count": 15,
     "metadata": {},
     "output_type": "execute_result"
    }
   ],
   "source": [
    "# Melihat susunan dataframe dari 19 data terbawah\n",
    "data_mei.tail(19)"
   ]
  },
  {
   "cell_type": "code",
   "execution_count": 16,
   "metadata": {},
   "outputs": [
    {
     "data": {
      "text/plain": [
       "0        False\n",
       "1        False\n",
       "2        False\n",
       "3        False\n",
       "4        False\n",
       "         ...  \n",
       "54865    False\n",
       "54866    False\n",
       "54867    False\n",
       "54868    False\n",
       "54869    False\n",
       "Length: 54870, dtype: bool"
      ]
     },
     "execution_count": 16,
     "metadata": {},
     "output_type": "execute_result"
    }
   ],
   "source": [
    "# Mengecek apakah di dalam dataframe memiliki data duplikat/tidak\n",
    "data_mei.duplicated()"
   ]
  },
  {
   "cell_type": "markdown",
   "metadata": {},
   "source": [
    "## 2. Data Preprocessing"
   ]
  },
  {
   "cell_type": "code",
   "execution_count": 17,
   "metadata": {},
   "outputs": [
    {
     "data": {
      "text/plain": [
       "Index(['Bulan', 'Titik_Lokasi', 'Kecamatan', 'Wilayah', 'Panjang/Luas',\n",
       "       'Satuan_Panjang/Luas', 'Tanggal', 'Volume_Sampah_Perhari(M3)'],\n",
       "      dtype='object')"
      ]
     },
     "execution_count": 17,
     "metadata": {},
     "output_type": "execute_result"
    }
   ],
   "source": [
    "# Mengubah format penamaan kolom dari yang semula huruf kecil menjadi huruf gabungan (huruf besar & kecil)\n",
    "data_mei = data_mei.rename(str.title, axis=\"columns\")\n",
    "data_mei.columns"
   ]
  },
  {
   "cell_type": "code",
   "execution_count": 18,
   "metadata": {},
   "outputs": [
    {
     "data": {
      "text/plain": [
       "Bulan                            0\n",
       "Titik_Lokasi                     0\n",
       "Kecamatan                        0\n",
       "Wilayah                          0\n",
       "Panjang/Luas                   868\n",
       "Satuan_Panjang/Luas          20987\n",
       "Tanggal                          0\n",
       "Volume_Sampah_Perhari(M3)        0\n",
       "dtype: int64"
      ]
     },
     "execution_count": 18,
     "metadata": {},
     "output_type": "execute_result"
    }
   ],
   "source": [
    "# Mengecek nilai kosong (NaN) dari masing-masing kolom di dataframe\n",
    "data_mei.isnull().sum()"
   ]
  },
  {
   "cell_type": "markdown",
   "metadata": {},
   "source": [
    "Jika dilihat dari hasil diatas maka hanya terdapat 2 kolom yang memiliki nilai NaN (Not a Number) atau nilai kosong yaitu kolom \"Panjang/Luas\" dan \"Satuan_Panjang/Luas\". Namun jika diperhatikan kembali terdapat 3 kolom yang memiliki nilai NaN yakni kolom \"Panjang/Luas\", \"Satuan_Panjang/Luas\", dan kolom \"Volume_Sampah_Perhari(M3)\".\n",
    "\n",
    "Mengapa terdapat kolom \"Volume_Sampah_Perhari(M3)\"?\n",
    "\n",
    "Hal tersebut dikarenakan nilai kosong yang ada di kolom \"Volume_Sampah_Perhari(M3)\" ditulis dengan simbol \"-\". Karena kolom ini merupakan kolom prediksi maka dari itu saya akan mengubahnya menjadi nilai mean atau nilai rata-rata. Tetapi sebelum itu nilai \"-\" ini akan saya ubah terlebih dahulu menjadi nilai NaN (Not a Number)."
   ]
  },
  {
   "cell_type": "code",
   "execution_count": 19,
   "metadata": {},
   "outputs": [],
   "source": [
    "# Menghapus karakter yang berada di kolom \"Panjang/Luas\" seperti pada data 150/1 yang dapat dilihat pada tahapan sebelumnya\n",
    "data_mei[\"Panjang/Luas\"] = data_mei[\"Panjang/Luas\"].str.replace(r\"\\D\", \"\")"
   ]
  },
  {
   "cell_type": "code",
   "execution_count": 20,
   "metadata": {},
   "outputs": [
    {
     "data": {
      "text/html": [
       "<div>\n",
       "<style scoped>\n",
       "    .dataframe tbody tr th:only-of-type {\n",
       "        vertical-align: middle;\n",
       "    }\n",
       "\n",
       "    .dataframe tbody tr th {\n",
       "        vertical-align: top;\n",
       "    }\n",
       "\n",
       "    .dataframe thead th {\n",
       "        text-align: right;\n",
       "    }\n",
       "</style>\n",
       "<table border=\"1\" class=\"dataframe\">\n",
       "  <thead>\n",
       "    <tr style=\"text-align: right;\">\n",
       "      <th></th>\n",
       "      <th>Bulan</th>\n",
       "      <th>Titik_Lokasi</th>\n",
       "      <th>Kecamatan</th>\n",
       "      <th>Wilayah</th>\n",
       "      <th>Panjang/Luas</th>\n",
       "      <th>Satuan_Panjang/Luas</th>\n",
       "      <th>Tanggal</th>\n",
       "      <th>Volume_Sampah_Perhari(M3)</th>\n",
       "    </tr>\n",
       "  </thead>\n",
       "  <tbody>\n",
       "    <tr>\n",
       "      <th>54860</th>\n",
       "      <td>5</td>\n",
       "      <td>Waduk Aneka Elok</td>\n",
       "      <td>Cakung</td>\n",
       "      <td>Jakarta Timur</td>\n",
       "      <td>700</td>\n",
       "      <td>m</td>\n",
       "      <td>31</td>\n",
       "      <td>NaN</td>\n",
       "    </tr>\n",
       "    <tr>\n",
       "      <th>54861</th>\n",
       "      <td>5</td>\n",
       "      <td>PHB Aneka Elok</td>\n",
       "      <td>Cakung</td>\n",
       "      <td>Jakarta Timur</td>\n",
       "      <td>600</td>\n",
       "      <td>m</td>\n",
       "      <td>31</td>\n",
       "      <td>NaN</td>\n",
       "    </tr>\n",
       "    <tr>\n",
       "      <th>54862</th>\n",
       "      <td>5</td>\n",
       "      <td>PHB KP Bulak Penggilingan</td>\n",
       "      <td>Cakung</td>\n",
       "      <td>Jakarta Timur</td>\n",
       "      <td>800</td>\n",
       "      <td>m</td>\n",
       "      <td>31</td>\n",
       "      <td>NaN</td>\n",
       "    </tr>\n",
       "    <tr>\n",
       "      <th>54863</th>\n",
       "      <td>5</td>\n",
       "      <td>Kali Cakung Drain (Jl. Raya Bekasi-Lion)</td>\n",
       "      <td>Cakung</td>\n",
       "      <td>Jakarta Timur</td>\n",
       "      <td>1000</td>\n",
       "      <td>m</td>\n",
       "      <td>31</td>\n",
       "      <td>2</td>\n",
       "    </tr>\n",
       "    <tr>\n",
       "      <th>54864</th>\n",
       "      <td>5</td>\n",
       "      <td>Kali Cakung Drain (Lion-Wing's)</td>\n",
       "      <td>Cakung</td>\n",
       "      <td>Jakarta Timur</td>\n",
       "      <td>800</td>\n",
       "      <td>m</td>\n",
       "      <td>31</td>\n",
       "      <td>2</td>\n",
       "    </tr>\n",
       "    <tr>\n",
       "      <th>54865</th>\n",
       "      <td>5</td>\n",
       "      <td>Kali Cakung Drain (Jembatan Tinggi-Perbatasan ...</td>\n",
       "      <td>Cakung</td>\n",
       "      <td>Jakarta Timur</td>\n",
       "      <td>800</td>\n",
       "      <td>m</td>\n",
       "      <td>31</td>\n",
       "      <td>3</td>\n",
       "    </tr>\n",
       "    <tr>\n",
       "      <th>54866</th>\n",
       "      <td>5</td>\n",
       "      <td>PHB Rawa Teratai</td>\n",
       "      <td>Cakung</td>\n",
       "      <td>Jakarta Timur</td>\n",
       "      <td>700</td>\n",
       "      <td>m</td>\n",
       "      <td>31</td>\n",
       "      <td>3</td>\n",
       "    </tr>\n",
       "    <tr>\n",
       "      <th>54867</th>\n",
       "      <td>5</td>\n",
       "      <td>PHB Rawa Gelam III</td>\n",
       "      <td>Cakung</td>\n",
       "      <td>Jakarta Timur</td>\n",
       "      <td>1000</td>\n",
       "      <td>m</td>\n",
       "      <td>31</td>\n",
       "      <td>NaN</td>\n",
       "    </tr>\n",
       "    <tr>\n",
       "      <th>54868</th>\n",
       "      <td>5</td>\n",
       "      <td>PHB Metropos KIP</td>\n",
       "      <td>Cakung</td>\n",
       "      <td>Jakarta Timur</td>\n",
       "      <td>1000</td>\n",
       "      <td>m</td>\n",
       "      <td>31</td>\n",
       "      <td>NaN</td>\n",
       "    </tr>\n",
       "    <tr>\n",
       "      <th>54869</th>\n",
       "      <td>5</td>\n",
       "      <td>PHB Warung Jengkol</td>\n",
       "      <td>Cakung</td>\n",
       "      <td>Jakarta Timur</td>\n",
       "      <td>400</td>\n",
       "      <td>m</td>\n",
       "      <td>31</td>\n",
       "      <td>NaN</td>\n",
       "    </tr>\n",
       "  </tbody>\n",
       "</table>\n",
       "</div>"
      ],
      "text/plain": [
       "       Bulan                                       Titik_Lokasi Kecamatan  \\\n",
       "54860      5                                   Waduk Aneka Elok    Cakung   \n",
       "54861      5                                     PHB Aneka Elok    Cakung   \n",
       "54862      5                          PHB KP Bulak Penggilingan    Cakung   \n",
       "54863      5           Kali Cakung Drain (Jl. Raya Bekasi-Lion)    Cakung   \n",
       "54864      5                    Kali Cakung Drain (Lion-Wing's)    Cakung   \n",
       "54865      5  Kali Cakung Drain (Jembatan Tinggi-Perbatasan ...    Cakung   \n",
       "54866      5                                   PHB Rawa Teratai    Cakung   \n",
       "54867      5                                 PHB Rawa Gelam III    Cakung   \n",
       "54868      5                                   PHB Metropos KIP    Cakung   \n",
       "54869      5                                 PHB Warung Jengkol    Cakung   \n",
       "\n",
       "             Wilayah Panjang/Luas Satuan_Panjang/Luas  Tanggal  \\\n",
       "54860  Jakarta Timur          700                   m       31   \n",
       "54861  Jakarta Timur          600                   m       31   \n",
       "54862  Jakarta Timur          800                   m       31   \n",
       "54863  Jakarta Timur         1000                   m       31   \n",
       "54864  Jakarta Timur          800                   m       31   \n",
       "54865  Jakarta Timur          800                   m       31   \n",
       "54866  Jakarta Timur          700                   m       31   \n",
       "54867  Jakarta Timur         1000                   m       31   \n",
       "54868  Jakarta Timur         1000                   m       31   \n",
       "54869  Jakarta Timur          400                   m       31   \n",
       "\n",
       "      Volume_Sampah_Perhari(M3)  \n",
       "54860                       NaN  \n",
       "54861                       NaN  \n",
       "54862                       NaN  \n",
       "54863                         2  \n",
       "54864                         2  \n",
       "54865                         3  \n",
       "54866                         3  \n",
       "54867                       NaN  \n",
       "54868                       NaN  \n",
       "54869                       NaN  "
      ]
     },
     "execution_count": 20,
     "metadata": {},
     "output_type": "execute_result"
    }
   ],
   "source": [
    "# Mengahapus karakter \"-\" di kolom \"Volume_Sampah_Perhari(M3)\" dengan nilai NaN\n",
    "data_mei[\"Volume_Sampah_Perhari(M3)\"] = data_mei[\"Volume_Sampah_Perhari(M3)\"].replace(\"-\", np.nan)\n",
    "\n",
    "data_mei.tail(10)"
   ]
  },
  {
   "cell_type": "code",
   "execution_count": 21,
   "metadata": {},
   "outputs": [],
   "source": [
    "# Mengubah tipe data di kolom \"Panjang/Luas\" dari string menjadi float\n",
    "data_mei[[\"Panjang/Luas\"]] = data_mei[[\"Panjang/Luas\"]].apply(pd.to_numeric)"
   ]
  },
  {
   "cell_type": "code",
   "execution_count": 22,
   "metadata": {},
   "outputs": [
    {
     "data": {
      "text/plain": [
       "Bulan                          int64\n",
       "Titik_Lokasi                  object\n",
       "Kecamatan                     object\n",
       "Wilayah                       object\n",
       "Panjang/Luas                 float64\n",
       "Satuan_Panjang/Luas           object\n",
       "Tanggal                        int64\n",
       "Volume_Sampah_Perhari(M3)    float64\n",
       "dtype: object"
      ]
     },
     "execution_count": 22,
     "metadata": {},
     "output_type": "execute_result"
    }
   ],
   "source": [
    "# Mengubah tipe data pada kolom \"Volume_Sampah_Perhari(M3)\" dari string menjadi float\n",
    "data_mei[\"Volume_Sampah_Perhari(M3)\"] = pd.to_numeric(data_mei[\"Volume_Sampah_Perhari(M3)\"], errors=\"coerce\")\n",
    "\n",
    "data_mei.dtypes"
   ]
  },
  {
   "cell_type": "code",
   "execution_count": 23,
   "metadata": {},
   "outputs": [
    {
     "data": {
      "text/plain": [
       "m          32116\n",
       "Ha          1426\n",
       "H             93\n",
       "HA            62\n",
       "Hektar        31\n",
       "m³            31\n",
       "m²            31\n",
       "hectare       31\n",
       "km            31\n",
       "hektar        31\n",
       "Name: Satuan_Panjang/Luas, dtype: int64"
      ]
     },
     "execution_count": 23,
     "metadata": {},
     "output_type": "execute_result"
    }
   ],
   "source": [
    "# Melihat nilai total dari masing-masing data yang ada di kolom \"Satuan_Panjang/Luas\"\n",
    "data_mei[\"Satuan_Panjang/Luas\"].value_counts()"
   ]
  },
  {
   "cell_type": "markdown",
   "metadata": {},
   "source": [
    "Berdasarkan hasil diatas dapat dilihat bahwa nilai data hektar (yang dilambangkan dengan Ha) memiliki banyak sekali penulisan yang berbeda-beda seperti H, HA, hectare, Hektar, dan hektar. Padahal semuanya memiliki satu kesatuan yaitu Ha. Maka dari itu saya akan menjadikan nilai data H, HA, Hektar, dan hektar ini menjadi satu kesatuan saja yakni data Ha."
   ]
  },
  {
   "cell_type": "code",
   "execution_count": 24,
   "metadata": {},
   "outputs": [
    {
     "data": {
      "text/plain": [
       "m     32116\n",
       "Ha     1674\n",
       "m³       31\n",
       "m²       31\n",
       "km       31\n",
       "Name: Satuan_Panjang/Luas, dtype: int64"
      ]
     },
     "execution_count": 24,
     "metadata": {},
     "output_type": "execute_result"
    }
   ],
   "source": [
    "# Mengganti nilai data yang mirip seperti Ha, dan m²\n",
    "\n",
    "# Mengganti nilai H\", \"HA\". \"Hektar\", dan \"hektar\"\n",
    "data_mei = data_mei.replace(to_replace =[\"H\", \"HA\", \"hectare\", \"Hektar\", \"hektar\"], value=\"Ha\")\n",
    "\n",
    "data_mei[\"Satuan_Panjang/Luas\"].value_counts()"
   ]
  },
  {
   "cell_type": "code",
   "execution_count": 25,
   "metadata": {},
   "outputs": [
    {
     "data": {
      "text/plain": [
       "Bulan                            0\n",
       "Titik_Lokasi                     0\n",
       "Kecamatan                        0\n",
       "Wilayah                          0\n",
       "Panjang/Luas                   992\n",
       "Satuan_Panjang/Luas          20987\n",
       "Tanggal                          0\n",
       "Volume_Sampah_Perhari(M3)    20012\n",
       "dtype: int64"
      ]
     },
     "execution_count": 25,
     "metadata": {},
     "output_type": "execute_result"
    }
   ],
   "source": [
    "# Mengecek kembali nilai NaN di masing-masing kolom yang ada di dataframe\n",
    "data_mei.isnull().sum()"
   ]
  },
  {
   "cell_type": "code",
   "execution_count": 26,
   "metadata": {},
   "outputs": [
    {
     "data": {
      "text/plain": [
       "Bulan                            0\n",
       "Titik_Lokasi                     0\n",
       "Kecamatan                        0\n",
       "Wilayah                          0\n",
       "Panjang/Luas                     0\n",
       "Satuan_Panjang/Luas          20987\n",
       "Tanggal                          0\n",
       "Volume_Sampah_Perhari(M3)        0\n",
       "dtype: int64"
      ]
     },
     "execution_count": 26,
     "metadata": {},
     "output_type": "execute_result"
    }
   ],
   "source": [
    "# Mengganti nilai NaN yang ada disetiap kolom di dataframe data_mei dengan nilai mean\n",
    "mean = data_mei.mean()\n",
    "data_mei = data_mei.replace(np.nan, mean)\n",
    "\n",
    "data_mei.isnull().sum()"
   ]
  },
  {
   "cell_type": "markdown",
   "metadata": {},
   "source": [
    "Setelah mengisi nilai kosong (NaN) dengan nilai mean (rata-rata) selanjutnya saya akan mengubah tipe data pada kolom \"Panjang/Luas\" dan \"Volume_Sampah_Perhari(M3)\" dari yang semula float menjadi integer."
   ]
  },
  {
   "cell_type": "code",
   "execution_count": 27,
   "metadata": {},
   "outputs": [
    {
     "data": {
      "text/html": [
       "<div>\n",
       "<style scoped>\n",
       "    .dataframe tbody tr th:only-of-type {\n",
       "        vertical-align: middle;\n",
       "    }\n",
       "\n",
       "    .dataframe tbody tr th {\n",
       "        vertical-align: top;\n",
       "    }\n",
       "\n",
       "    .dataframe thead th {\n",
       "        text-align: right;\n",
       "    }\n",
       "</style>\n",
       "<table border=\"1\" class=\"dataframe\">\n",
       "  <thead>\n",
       "    <tr style=\"text-align: right;\">\n",
       "      <th></th>\n",
       "      <th>Bulan</th>\n",
       "      <th>Titik_Lokasi</th>\n",
       "      <th>Kecamatan</th>\n",
       "      <th>Wilayah</th>\n",
       "      <th>Panjang/Luas</th>\n",
       "      <th>Satuan_Panjang/Luas</th>\n",
       "      <th>Tanggal</th>\n",
       "      <th>Volume_Sampah_Perhari(M3)</th>\n",
       "    </tr>\n",
       "  </thead>\n",
       "  <tbody>\n",
       "    <tr>\n",
       "      <th>54865</th>\n",
       "      <td>5</td>\n",
       "      <td>Kali Cakung Drain (Jembatan Tinggi-Perbatasan ...</td>\n",
       "      <td>Cakung</td>\n",
       "      <td>Jakarta Timur</td>\n",
       "      <td>800</td>\n",
       "      <td>m</td>\n",
       "      <td>31</td>\n",
       "      <td>3</td>\n",
       "    </tr>\n",
       "    <tr>\n",
       "      <th>54866</th>\n",
       "      <td>5</td>\n",
       "      <td>PHB Rawa Teratai</td>\n",
       "      <td>Cakung</td>\n",
       "      <td>Jakarta Timur</td>\n",
       "      <td>700</td>\n",
       "      <td>m</td>\n",
       "      <td>31</td>\n",
       "      <td>3</td>\n",
       "    </tr>\n",
       "    <tr>\n",
       "      <th>54867</th>\n",
       "      <td>5</td>\n",
       "      <td>PHB Rawa Gelam III</td>\n",
       "      <td>Cakung</td>\n",
       "      <td>Jakarta Timur</td>\n",
       "      <td>1000</td>\n",
       "      <td>m</td>\n",
       "      <td>31</td>\n",
       "      <td>2</td>\n",
       "    </tr>\n",
       "    <tr>\n",
       "      <th>54868</th>\n",
       "      <td>5</td>\n",
       "      <td>PHB Metropos KIP</td>\n",
       "      <td>Cakung</td>\n",
       "      <td>Jakarta Timur</td>\n",
       "      <td>1000</td>\n",
       "      <td>m</td>\n",
       "      <td>31</td>\n",
       "      <td>2</td>\n",
       "    </tr>\n",
       "    <tr>\n",
       "      <th>54869</th>\n",
       "      <td>5</td>\n",
       "      <td>PHB Warung Jengkol</td>\n",
       "      <td>Cakung</td>\n",
       "      <td>Jakarta Timur</td>\n",
       "      <td>400</td>\n",
       "      <td>m</td>\n",
       "      <td>31</td>\n",
       "      <td>2</td>\n",
       "    </tr>\n",
       "  </tbody>\n",
       "</table>\n",
       "</div>"
      ],
      "text/plain": [
       "       Bulan                                       Titik_Lokasi Kecamatan  \\\n",
       "54865      5  Kali Cakung Drain (Jembatan Tinggi-Perbatasan ...    Cakung   \n",
       "54866      5                                   PHB Rawa Teratai    Cakung   \n",
       "54867      5                                 PHB Rawa Gelam III    Cakung   \n",
       "54868      5                                   PHB Metropos KIP    Cakung   \n",
       "54869      5                                 PHB Warung Jengkol    Cakung   \n",
       "\n",
       "             Wilayah  Panjang/Luas Satuan_Panjang/Luas  Tanggal  \\\n",
       "54865  Jakarta Timur           800                   m       31   \n",
       "54866  Jakarta Timur           700                   m       31   \n",
       "54867  Jakarta Timur          1000                   m       31   \n",
       "54868  Jakarta Timur          1000                   m       31   \n",
       "54869  Jakarta Timur           400                   m       31   \n",
       "\n",
       "       Volume_Sampah_Perhari(M3)  \n",
       "54865                          3  \n",
       "54866                          3  \n",
       "54867                          2  \n",
       "54868                          2  \n",
       "54869                          2  "
      ]
     },
     "execution_count": 27,
     "metadata": {},
     "output_type": "execute_result"
    }
   ],
   "source": [
    "# Mengubah tipe data pada kolom \"Panjang/Luas\" dan \"Volume_Sampah_Perhari(M3)\" dari float menjadi integer\n",
    "data_mei[\"Panjang/Luas\"] = data_mei[\"Panjang/Luas\"].astype(int)\n",
    "data_mei[\"Volume_Sampah_Perhari(M3)\"] = data_mei[\"Volume_Sampah_Perhari(M3)\"].astype(int)\n",
    "\n",
    "data_mei.tail()"
   ]
  },
  {
   "cell_type": "code",
   "execution_count": 28,
   "metadata": {},
   "outputs": [
    {
     "name": "stdout",
     "output_type": "stream",
     "text": [
      "Ukuran Data dari Kolom Panjang/Luas Sebelum Nilai Outliers Dibuang:  (54870, 8)\n",
      "Ukuran Data dari Kolom Panjang/Luas Setelah Nilai Outliers Dibuang:  (44299, 8)\n"
     ]
    }
   ],
   "source": [
    "# Mengecek nilai outliers untuk kolom \"Panjang/Luas\" dengan nilai quartil dan IQR\n",
    "Q1 = data_mei[\"Panjang/Luas\"].quantile(0.25)\n",
    "Q3 = data_mei[\"Panjang/Luas\"].quantile(0.75)\n",
    "\n",
    "# Menghitung interquartile range maka rumusnya adalah quartil 3 (75%) - quartil 1 (25%)\n",
    "IQR = Q3 - Q1\n",
    "\n",
    "# Melihat ukuran (baris dan kolom) sebelum data yang outliers dibuang\n",
    "print(\"Ukuran Data dari Kolom Panjang/Luas Sebelum Nilai Outliers Dibuang: \", data_mei.shape)\n",
    "\n",
    "# Menghapus nilai outlier dari kolom \"Panjang/Luas\"\n",
    "data_mei = data_mei[~((data_mei[\"Panjang/Luas\"] < (Q1 - 1.5 * IQR)) | \n",
    "                      (data_mei[\"Panjang/Luas\"] > (Q3 + 1.5 * IQR)))]\n",
    "\n",
    "# Melihat ukuran (baris dan kolom) setelah data outliers dibuang dari kolom \"Panjang/Luas\"\n",
    "print(\"Ukuran Data dari Kolom Panjang/Luas Setelah Nilai Outliers Dibuang: \", data_mei.shape)"
   ]
  },
  {
   "cell_type": "markdown",
   "metadata": {},
   "source": [
    "Terdapat 10.571 nilai outliers yang ada di kolom \"Panjang/Luas\" yang ada di dalam dataframe. Walaupun kolom \"Panjang/Luas\" tidak akan digunakan dalam proses prediksi tingkat pengangkutan volume sampah (kolom \"Panjang/Luas\" tidak termasuk ke dalam variabel independen maupun variabel dependen) tetapi penghapusan nilai outliers ini tetap saya lakukan karena pada tahap data visualisasi akan saya gunakan untuk melihat presentase berdasarkan wilayah dan juga melihat perbandingan data berdasarkan kolom \"Satuan_Panjang/Luas\"."
   ]
  },
  {
   "cell_type": "code",
   "execution_count": 29,
   "metadata": {},
   "outputs": [],
   "source": [
    "# Menghapus kolom yang sudah tidak dibutuhkan yaitu kolom \"Bulan\"\n",
    "data_mei = data_mei.drop([\"Bulan\"], axis=1)"
   ]
  },
  {
   "cell_type": "markdown",
   "metadata": {},
   "source": [
    "## 3. Data Visualisasi + Analisis Data per Grafik"
   ]
  },
  {
   "cell_type": "code",
   "execution_count": 30,
   "metadata": {},
   "outputs": [
    {
     "data": {
      "image/png": "[encoded data removed]",
      "text/plain": [
       "<Figure size 1800x1440 with 2 Axes>"
      ]
     },
     "metadata": {},
     "output_type": "display_data"
    }
   ],
   "source": [
    "# Melihat perbandingan antar wilayah di Provinsi DKI Jakarta (berdasarkan volume sampah per hari)\n",
    "plt.figure(figsize=(25, 20))\n",
    "\n",
    "plt.subplot(4, 3, 1)\n",
    "sns.barplot(x=\"Wilayah\", y=\"Volume_Sampah_Perhari(M3)\", data=data_mei)\n",
    "plt.title(\"Grafik Wilayah Jakarta Berdasarkan \\n Volume Sampah per Hari di Bulan Mei 2021\", \n",
    "          fontsize=13, pad=13)\n",
    "\n",
    "plt.subplot(4, 3, 2)\n",
    "sns.countplot(x=\"Wilayah\", data=data_mei)\n",
    "plt.title(\"Perbandingan Wilayah Provinsi DKI Jakarta pada Bulan Mei 2021\", fontsize=13, pad=13)\n",
    "plt.show()"
   ]
  },
  {
   "cell_type": "markdown",
   "metadata": {},
   "source": [
    "Berdasarkan grafik diagram diatas maka dapat diambil beberapa kesimpulan diantaranya:\n",
    "\n",
    "1. Wilayah Jakarta Pusat memiliki volume sampah yang paling tinggi diantara wilayah yang lain sedangkan Wilayah Jakarta Utara memiliki tingkat volume pengangkutan sampah yang sangat kecil dan sedikit. Jika diurutkan dalam hal volume sampah yang berhasil diangkut di setiap wilayah yang ada di Provinsi DKI Jakarta maka akan terjadi susunan seperti dibawah ini:\n",
    "\n",
    "- Jakarta Pusat.\n",
    "- Jakarta Selatan.\n",
    "- Jakarta Barat.\n",
    "- Jakarta Timur.\n",
    "- Jakarta Utara.\n",
    "\n",
    "2. Grafik kedua merupakan grafik yang memperlihatkan perbandingan Wilayah yang ada di Provinsi DKI Jakarta tanpa adanya keterkaitan atau hubungan wilayah dengan kegiatan pengangkutan sampah di setiap harinya. Wilayah Jakarta Barat memiliki nilai yang sangat tinggi yakni mencapai 16.399 sedangkan Wilayah Jakarta Utara memiliki nilai perhitungan yang sangat kecil yakni hanya mencapai 3.286 saja. Jika diurutkan maka hasilnya adalah sebagai berikut:\n",
    "\n",
    "- Jakarta Barat.\n",
    "- Jakarta Timur.\n",
    "- Jakarta Selatan.\n",
    "- Jakarta Pusat.\n",
    "- Jakarta Utara."
   ]
  },
  {
   "cell_type": "code",
   "execution_count": 31,
   "metadata": {},
   "outputs": [
    {
     "data": {
      "image/png": "[encoded data removed]",
      "text/plain": [
       "<Figure size 1080x720 with 1 Axes>"
      ]
     },
     "metadata": {},
     "output_type": "display_data"
    }
   ],
   "source": [
    "# Melihat perbandingan antar kecamatan dalam hal pengangkutan sampah yang ada di Provinsi DKI Jakarta\n",
    "plt.figure(figsize=(15, 10))\n",
    "plt.xticks(rotation=90)\n",
    "\n",
    "sns.countplot(x=\"Kecamatan\", data=data_mei)\n",
    "plt.title(\"Perbandingan Kecamatan Yang Paling Sering Mengangkut Sampah Sungai pada Bulan Mei 2021\", fontsize=13, pad=13)\n",
    "plt.show()"
   ]
  },
  {
   "cell_type": "markdown",
   "metadata": {},
   "source": [
    "Berdasarkan grafik diatas terkait perbandingan jumlah perhitungan total antar Kecamatan yang didasari oleh kolom Titik_Lokasi dalam menghasilkan atau mengumpulkan volume sampah per harinya di Provinsi DKI Jakarta bulan April 2021, maka dapat diambil kesimpulan sebagai berikut:\n",
    "\n",
    "1. Kecamatan yang mempunyai nilai tertinggi yakni Kecamatan Kalideres yang memiliki data sebanyak 2.914. Jumlah nilai tersebut tidak ada keterkaitannya dengan volume sampah per harinya melainkan didasarkan atas Titik_Lokasi dari setiap Kecamatan yang berhasil mengangkut sampah-sampah di setiap harinya.\n",
    "2. Kecamatan yang memiliki nilai tertinggi selanjutnya setelah Kecamatan Kalideres (2.914) adalah kecamatan Cengkareng yang memiliki data sebanyak 2.511 dan kecamatan tertinggi selanjutnya setelah Kalideres dan Cengkareng adalah kecamatan Kembangan yang memiliki total data sebanyak 2.294.\n",
    "3. Sedangkan Kecamatan yang memiliki titik lokasi terendah dalam hal pengangkutan sampah di Provinsi DKI Jakarta adalah Kecamatan Koja yang berada di Wilayah Jakarta Utara yang memiliki 217 titik lokasi saja. Kalah tipis dari Kecamatan Cilinding (248) yang berada di Wilayah yang sama (Jakarta Utara).\n",
    "\n",
    "Harus diingat bahwa perhitungan dalam memilih Kecamatan tertinggi sampai terendah didasarkan bukan dari volume sampah yang berhasil dingkut per harinya melainkan dari pengumpulan sampah di suatu titik lokasi tertentu saja seperti melalui kali, saluran penghubung (PHB), waduk, sungai di masing-masing kecamatan, dll."
   ]
  },
  {
   "cell_type": "code",
   "execution_count": 32,
   "metadata": {},
   "outputs": [
    {
     "data": {
      "image/png": "[encoded data removed]",
      "text/plain": [
       "<Figure size 720x360 with 2 Axes>"
      ]
     },
     "metadata": {},
     "output_type": "display_data"
    }
   ],
   "source": [
    "# Melihat korelasi antar kolom yang memiliki bersifat numerik\n",
    "plt.figure(figsize=(10, 5))\n",
    "\n",
    "korelasi_data_mei = sns.heatmap(data_mei.corr(), cmap=\"YlOrRd\", annot=True)\n",
    "korelasi_data_mei.set_title(\"Melihat Korelasi Antar Kolom yang Bersifat Numerik (Angka) di data_mei\", fontsize=13, pad=13);"
   ]
  },
  {
   "cell_type": "markdown",
   "metadata": {},
   "source": [
    "Grafik diatas dinamakan sebagai grafik heatmap atau grafik peta panas dengan menunjukkan nilai korelasi antar masing-masing kolom yang bersifat numerik sedangkan kategorik tidak. Cara membaca grafik ini yaitu membaca dari sumbu y ke sumbu x atau sebaliknya dengan memfokuskan/memperhatikan nilai yang ada di box persegi sebagai penanda nilai korelasinya. Contohnya adalah sebagai berikut:\n",
    "\n",
    "1. Variabel \"Panjang/Luas\" yang ada di sumbu y memiliki nilai korelasi 1 dengan variabel yang sama (Panjang/Luas) yang berada di sumbu x. Sedangkan variabel Panjang/Luas yang ada di sumbu y memiliki nilai korelasi -0.11 dengan variabel \"Volume_Sampah_Perhari(M3)\" yang ada di sumbu x. Hal tersebut menandakan tidak memiliki hubungan timbal-balik.\n",
    "2. Variabel \"Volume_Sampah_Perhari(M3)\" yang ada di sumbu y memiliki nilai korelasi = 0.017 dengan variabel Tanggal yang ada di sumbu x. Hal ini menandakan bahwasanya kedua variabel ini (Variabel \"Volume_Sampah_Perhari(M3)\" yang ada di sumbu y dengan variabel \"Tanggal\" di sumbu x) sedikit memiliki hubungan timbal balik walaupun penilaian dominannya cenderung tidak memiliki hubungan timbal-balik.\n",
    "\n",
    "\n",
    "Jadi intinya setiap kolom-kolom yang ada di sumbu y (yang berada di sisi kiri) dibaca/diperhatikan setiap nilainya dengan kolom-kolom yang berada di sumbu x (yang berada di bawah). Untuk memudahkan dalam membedakan apakah nilai korelasinya bagus/tidak dapat dilihat dari indikator warna yang di sebelah paling kanan dari grafik heatmap. Semakin bagus nilai korelasinya maka warnanya menjadi hitam tetapi semakin buruk/kecil nilai korelasinya maka nilai warna pada box persegi di nilai tersebut menjadi warna kream."
   ]
  },
  {
   "cell_type": "code",
   "execution_count": 33,
   "metadata": {},
   "outputs": [
    {
     "data": {
      "image/png": "[encoded data removed]",
      "text/plain": [
       "<Figure size 720x360 with 1 Axes>"
      ]
     },
     "metadata": {},
     "output_type": "display_data"
    }
   ],
   "source": [
    "# Melihat trend dalam pengangkutan sampah per harinya berdasarkan tanggal pengangkutan\n",
    "plt.figure(figsize=(10, 5))\n",
    "    \n",
    "sns.lineplot(x=\"Tanggal\", y=\"Volume_Sampah_Perhari(M3)\", color=\"green\", data=data_mei)\n",
    "plt.title(\"Trend Pengangkutan Volume Sampah berdasarkan \\n Tanggal Pengangkutan Sampah di Bulan Mei 2021\", \n",
    "          fontsize=13, pad=13)\n",
    "plt.show()"
   ]
  },
  {
   "cell_type": "markdown",
   "metadata": {},
   "source": [
    "Dari grafik garis (Line plot) diatas menunjukkan intensitas pengangkutan sampah yang dilakukan oleh Dinas Lingkungan Hidup Provinsi DKI Jakarta di setiap hari pada bulan Mei tahun 2021.\n",
    "\n",
    "Hasilnya adalah bahwa trend dalam pengangkutan volume sampah yang berhasil diangkut dari berbagai titik lokasi yang ada di kecamatan Provinsi DKI Jakarta cenderung mengalami kenaikan dan juga penurunan intensitas volume sampah selama bulan Mei tahun 2021. Namun jika diperhatikan secara teliti maka saya dapat mengetahui bahwasanya sampah yang berhasil diangkut dari beberapa titik lokasi yang tersebar di kecamatan Provinsi DKI Jakarta pada bulan Mei tahun 2021 ini memiliki penurunan intensitas dalam mengangkut sampah yang sangat parah, tepatnya di tanggal 13 Mei 2021 sampah yang berhasil diangkut cenderung menurun dari pada biasanya bahkan penurunan ini yang jadi terendah dibandingkan bulan-bulan sebelumnya (Januari - April 2021)."
   ]
  },
  {
   "cell_type": "code",
   "execution_count": 34,
   "metadata": {},
   "outputs": [
    {
     "data": {
      "image/png": "[encoded data removed]",
      "text/plain": [
       "<Figure size 720x360 with 1 Axes>"
      ]
     },
     "metadata": {},
     "output_type": "display_data"
    }
   ],
   "source": [
    "# Membandingkan nilai data di kolom \"Satuan_Panjang/Luas\" berdasarkan volume sampah yang berhasil diangkut per harinya\n",
    "plt.figure(figsize=(10, 5))\n",
    "\n",
    "sns.barplot(x=\"Satuan_Panjang/Luas\", y=\"Volume_Sampah_Perhari(M3)\", data=data_mei)\n",
    "plt.title(\"Perbandingan Satuan Panjang/Luas dari Volume Sampah Yang Berhasil Diangkut di Setiap harinya\", fontsize=13, pad=13)\n",
    "plt.show()"
   ]
  },
  {
   "cell_type": "markdown",
   "metadata": {},
   "source": [
    "Berdasarkan grafik batang dari hasil output diatas dapat diketahui dan diambil kesimpulan seperti:\n",
    "\n",
    "1. Data yang memiliki nilai dominan dari kolom satuan panjang/luas yang dilihat berdasarkan volume sampah yang berhasil diangkut di setiap harinya adalah data satuan panjang yakni m yang disusul oleh nilai km.\n",
    "2. Sedangkan nilai satuan panjang/luas yang memiliki nilai terkecil dalam hal volume sampah dalam setiap harinya adalah satuan m³.\n",
    "\n",
    "Untuk susunan nilai dari yang terbanyak hingga terkecil adalah sebagai berikut:\n",
    "\n",
    "- m.\n",
    "- km.\n",
    "- Ha.\n",
    "- m².\n",
    "- m³."
   ]
  },
  {
   "cell_type": "code",
   "execution_count": 35,
   "metadata": {},
   "outputs": [
    {
     "data": {
      "image/png": "[encoded data removed]",
      "text/plain": [
       "<Figure size 720x576 with 1 Axes>"
      ]
     },
     "metadata": {},
     "output_type": "display_data"
    }
   ],
   "source": [
    "# Melihat komposisi masing-masing wilayah Provinsi DKI Jakarta berdasarkan panjang/luas sampah yang berhasil dikumpulkan\n",
    "plt.figure(figsize=(10, 8))\n",
    "\n",
    "data_pie_mei = data_mei.groupby(\"Wilayah\")[\"Panjang/Luas\"].count().reset_index()\n",
    "plt.pie(data_pie_mei[\"Panjang/Luas\"], labels = data_pie_mei[\"Wilayah\"], autopct = \"%.2f%%\")\n",
    "plt.title(\"Melihat Presentase Panjang/Luas Sampah yang Berhasil Dikumpulkan \\n\"\n",
    "          \"di Masing-Masing Wilayah Provinsi DKI Jakarta pada Bulan Mei 2021\", \n",
    "          fontsize=13, pad=13)\n",
    "plt.show()"
   ]
  },
  {
   "cell_type": "markdown",
   "metadata": {},
   "source": [
    "Grafik Pie merupakan sebuah grafik yang berfungsi untuk menunjukkan komposisi dari data yang bersifat kategorik dengan memperlihatkan nilai presentase dari masing-masing data dan jumlah total presentase tersebut harus 100% (tidak boleh lebih/kurang).\n",
    "\n",
    "Berdasarkan grafik pie diatas maka saya dapat menganalisis komposisi data dari kolom Wilayah berdasarkan perhitungan keseluruhan dari kolom Panjang/Luas yang dihitung berdasarkan wilayah dari Provinsi DKI Jakarta. Kolom Panjang/Luas ini merupakan sebuah kolom yang menandakan seberapa luasnya area penanganan sampah yang dilakukan oleh Dinas Lingkungan Hidup (DLH) Provinsi DKI Jakarta. Berikut adalah hasil analisa dari saya:\n",
    "\n",
    "1. Wilayah yang memiliki area penanganan yang paling luas dalam menangani sampah di Provinsi DKI Jakarta adalah wilayah Jakarta Barat yang memiliki nilai presentase sebesar 37.02%.\n",
    "2. Sedangkan wilayah Jakarta Utara memiliki area penanganan sampah yang paling kecil dan sempit diantara wilayah-wilayah yang lain (seperti wilayah Jakarta Barat (37.02%), Jakarta Timur (26.87%), Jakarta Selatan (18.05%), dan Jakarta Pusat (10.64%)) dengan total nilai presentase hanya sebesar 7.42% dalam sisi luas area penanganan sampah."
   ]
  },
  {
   "cell_type": "markdown",
   "metadata": {},
   "source": [
    "## 4. Data Modelling"
   ]
  },
  {
   "cell_type": "markdown",
   "metadata": {},
   "source": [
    "### 4.1. Pra-Pemodelan"
   ]
  },
  {
   "cell_type": "code",
   "execution_count": 36,
   "metadata": {},
   "outputs": [
    {
     "name": "stdout",
     "output_type": "stream",
     "text": [
      "Ukuran Data dari Kolom Volume_Sampah_Perhari(M3) Sebelum Nilai Outliers Dibuang:  (44299, 7)\n",
      "Ukuran Data dari Kolom Volume_Sampah_Perhari(M3) Setelah Nilai Outliers Dibuang:  (38203, 7)\n"
     ]
    }
   ],
   "source": [
    "# Mengecek nilai outliers untuk kolom \"Volume_Sampah_Perhari(M3)\" dengan nilai quartil dan IQR\n",
    "Q1 = data_mei[\"Volume_Sampah_Perhari(M3)\"].quantile(0.25)\n",
    "Q3 = data_mei[\"Volume_Sampah_Perhari(M3)\"].quantile(0.75)\n",
    "\n",
    "# Menghitung interquartile range maka rumusnya adalah quartil 3 (75%) - quartil 1 (25%)\n",
    "IQR = Q3 - Q1\n",
    "\n",
    "# Melihat ukuran (baris dan kolom) sebelum data yang outliers dibuang\n",
    "print(\"Ukuran Data dari Kolom Volume_Sampah_Perhari(M3) Sebelum Nilai Outliers Dibuang: \", data_mei.shape)\n",
    "\n",
    "# Menghapus nilai outlier dari kolom \"Volume_Sampah_Perhari(M3)\"\n",
    "data_mei = data_mei[~((data_mei[\"Volume_Sampah_Perhari(M3)\"] < (Q1 - 1.5 * IQR)) | \n",
    "                      (data_mei[\"Volume_Sampah_Perhari(M3)\"] > (Q3 + 1.5 * IQR)))]\n",
    "\n",
    "# Melihat ukuran (baris dan kolom) setelah data outliers dibuang dari kolom \"Volume_Sampah_Perhari(M3)\"\n",
    "print(\"Ukuran Data dari Kolom Volume_Sampah_Perhari(M3) Setelah Nilai Outliers Dibuang: \", data_mei.shape)"
   ]
  },
  {
   "cell_type": "markdown",
   "metadata": {},
   "source": [
    "Berdasarkan hasil output diatas terdapat 6.096 nilai outliers dari kolom \"Volume_Sampah_Perhari(M3)\" di dalam dataframe data_mei dan jika tidak dihapus akan mengakibatkan nilai metrics dan prediksi yang dihasilkan oleh kedua model (Regresi Linear & Regresi Random Forest) tidak tepat."
   ]
  },
  {
   "cell_type": "code",
   "execution_count": 37,
   "metadata": {},
   "outputs": [],
   "source": [
    "# Melakukan pemisahan data menjadi variabel independen (x) dan variabel dependen (y)\n",
    "x = data_mei[[\"Tanggal\"]]\n",
    "\n",
    "y = data_mei[\"Volume_Sampah_Perhari(M3)\"]"
   ]
  },
  {
   "cell_type": "markdown",
   "metadata": {},
   "source": [
    "#### 4.1.1. Menggunakan Split Validation dalam Melakukan Prediksi Model Regresi Linear (4.2) dan Regresi Random Forest (4.3)"
   ]
  },
  {
   "cell_type": "code",
   "execution_count": 38,
   "metadata": {},
   "outputs": [],
   "source": [
    "# Proses split validation yaitu membagi variabel independen dan dependen menjadi data training dan data testing\n",
    "\n",
    "x_train, x_test, y_train, y_test = train_test_split(x, y, test_size=0.2, random_state=37)"
   ]
  },
  {
   "cell_type": "markdown",
   "metadata": {},
   "source": [
    "Penjelasan dari proses split validation:\n",
    "\n",
    "1. x: Merupakan sebuah variabel independen atau variabel yang dipengaruhi dari variabel dependen\n",
    "2. y: Merupakan sebuah variabel dependen atau variabel yang mempengaruhi variabel independen. Variabel y juga biasa dikenal sebagai label prediksi.\n",
    "3. test_size: Nilai presentase atau komposisi dari dalam membagi data menjadi data training dan data testing. Dalam pengujian ini saya memakai nilai test_size = 0.2 yang dimana ukuran dari data test mencapai 20% dan data train mencapai 80%.\n",
    "4. random_state: Menetapkan nilai. Jika nilainya sama maka fungsi train_test_split akan menghasilkan pemisahan nilai yang sama persis di setiap waktunya. Namun jika ditentukan nilai random_statenya maka data akan diacak secara random."
   ]
  },
  {
   "cell_type": "code",
   "execution_count": 39,
   "metadata": {},
   "outputs": [
    {
     "name": "stdout",
     "output_type": "stream",
     "text": [
      "Jumlah Rows dan Kolom di Data Training Setelah Dilakukan Split Validation:  (30562, 1) (30562,)\n",
      "Jumlah Rows dan Kolom di Data Testing Setelah Dilakukan Split Validation:  (7641, 1) (7641,)\n"
     ]
    }
   ],
   "source": [
    "# Melihat ukuran dimensi dari kolom dan rows dari data training dan data testing\n",
    "print(\"Jumlah Rows dan Kolom di Data Training Setelah Dilakukan Split Validation: \", x_train.shape, y_train.shape)\n",
    "print(\"Jumlah Rows dan Kolom di Data Testing Setelah Dilakukan Split Validation: \", x_test.shape, y_test.shape)"
   ]
  },
  {
   "cell_type": "code",
   "execution_count": 40,
   "metadata": {},
   "outputs": [],
   "source": [
    "# Melakukan scaling data (training & testing) dengan standard scaler\n",
    "from sklearn.preprocessing import StandardScaler\n",
    "\n",
    "standard_scaler = StandardScaler()\n",
    "\n",
    "x_train = standard_scaler.fit_transform(x_train)\n",
    "x_test = standard_scaler.fit_transform(x_test)"
   ]
  },
  {
   "cell_type": "markdown",
   "metadata": {},
   "source": [
    "StandardScaler merupakan salah satu dari proses scaling data ketika ingin melakukan tahapan pemodelan machine learning. StandardScaler akan melakukan proses standarisasi data yang ada di kolom fitur dengan mengurangi nilai mean (rata-rata) dan kemudian nilai tersebut akan diskalakan ke varians unit. Nilai yang ada di varians unit tersebut akan membagi semua nilai yang ada dengan nilai standar deviasi.\n",
    "\n",
    "StandardScaler akan membuat nilai mean (rata-rata) yang telah di observasi menjadi 0 sedangkan nilai standar deviasinya menjadi 1. Begitu pula dengan nilai varians yang menjadi 1 karena nilai varians = nilai standar deviasi yang di kuadratkan. Rumus dari scaling data StandardScaler adalah sebagai berikut:\n",
    "\n",
    "x_scaled = x - mean(x) / Standard Deviation"
   ]
  },
  {
   "cell_type": "code",
   "execution_count": 41,
   "metadata": {},
   "outputs": [
    {
     "name": "stdout",
     "output_type": "stream",
     "text": [
      "Nilai Scaling dari Hasil StandardScaler pada Data Testing: \n",
      " [[-0.20866759]\n",
      " [ 0.8045976 ]\n",
      " [-0.99676274]\n",
      " ...\n",
      " [-1.44710282]\n",
      " [ 0.46684253]\n",
      " [-0.65900768]]\n",
      "\n",
      " ---------------------------------------------------------------------------- \n",
      "\n",
      "Nilai Scaling dari Hasil StandardScaler pada Data Training: \n",
      " [[-0.7767325 ]\n",
      " [ 1.68740563]\n",
      " [-0.32870739]\n",
      " ...\n",
      " [-0.88873878]\n",
      " [ 0.11931773]\n",
      " [ 1.46339308]]\n"
     ]
    }
   ],
   "source": [
    "# Melihat hasil dari proses scalling dengan standardscaler\n",
    "print(\"Nilai Scaling dari Hasil StandardScaler pada Data Testing: \\n\", x_test)\n",
    "\n",
    "print(\"\\n\", \"----------------------------------------------------------------------------\", \"\\n\")\n",
    "\n",
    "print(\"Nilai Scaling dari Hasil StandardScaler pada Data Training: \\n\", x_train)"
   ]
  },
  {
   "cell_type": "markdown",
   "metadata": {},
   "source": [
    "### 4.2. Regresi Linear"
   ]
  },
  {
   "cell_type": "code",
   "execution_count": 42,
   "metadata": {},
   "outputs": [
    {
     "name": "stdout",
     "output_type": "stream",
     "text": [
      "{'copy_X': True, 'fit_intercept': True, 'n_jobs': None, 'normalize': 'deprecated', 'positive': False}\n"
     ]
    }
   ],
   "source": [
    "# Memanggil model regresi linear dari library sklearn dan kemudian melatihnya dengan data training\n",
    "from sklearn.linear_model import LinearRegression\n",
    "\n",
    "split_linear_regression_mei = LinearRegression()\n",
    "split_linear_regression_mei.fit(x_train, y_train)\n",
    "\n",
    "# Melihat nilai terbaik beserta parameter dari model regresi linear\n",
    "print(split_linear_regression_mei.get_params())"
   ]
  },
  {
   "cell_type": "markdown",
   "metadata": {},
   "source": [
    "Berdasarkan hasil output terkait pencarian parameter terbaik dari model regresi linear didapatkan beberapa kesimpulan diantaranya:\n",
    "\n",
    "1. Pada parameter copy_X, nilai terbaik dari parameter ini adalah True.\n",
    "2. Di dalam parameter fit_intercept, parameter ini memiliki nilai terbaik yakni nilai True.\n",
    "3. Parameter n_jobs tidak memiliki nilai karena nilai yang dimunculkan adalah None (Kosong).\n",
    "4. Nilai terbaik dari parameter normalize adalah deprecated.\n",
    "5. Sedangkan nilai terbaik dari parameter positive adalah False.\n",
    "\n",
    "Nilai-nilai tersebut merupakan nilai terbaik dari model regresi linear yang dimunculkan secara otomatis sebab dari awal regresi linear memang telah memiliki nilai-nilai diatas. Nilai-nilai tersebut bisa dilihat di dokumentasi scikit learn dalam pembahasan regresi linear."
   ]
  },
  {
   "cell_type": "code",
   "execution_count": 43,
   "metadata": {},
   "outputs": [
    {
     "name": "stdout",
     "output_type": "stream",
     "text": [
      "----------------Nilai Prediksi dari Data Testing------------------\n",
      "[1.33136725 1.32815045 1.33386921 ... 1.33529889 1.32922272 1.33279694]\n",
      "\n",
      "----------------Nilai Prediksi dari Data Training-----------------\n",
      "[1.33317068 1.32534781 1.33174834 ... 1.33352626 1.330326   1.32605898]\n"
     ]
    }
   ],
   "source": [
    "# Melihat nilai prediksi dari data training dan data testing setelah dilakukan proses tuning hyperparameters\n",
    "print(\"----------------Nilai Prediksi dari Data Testing------------------\")\n",
    "pred_test_linear_mei = split_linear_regression_mei.predict(x_test)\n",
    "print(pred_test_linear_mei)\n",
    "\n",
    "print(\"\\n----------------Nilai Prediksi dari Data Training-----------------\")\n",
    "pred_train_linear_mei = split_linear_regression_mei.predict(x_train)\n",
    "print(pred_train_linear_mei)"
   ]
  },
  {
   "cell_type": "code",
   "execution_count": 44,
   "metadata": {},
   "outputs": [
    {
     "name": "stdout",
     "output_type": "stream",
     "text": [
      "----------------------------Data Testing dari Split Validation----------------------------\n",
      "Nilai Metric Mean Absolute Error di Data Test adalah:  0.83\n",
      "Nilai Metric Mean Squared Error di Data Test adalah:  0.82 \n",
      "\n",
      "----------------------------Data Training dari Split Validation---------------------------\n",
      "Nilai Metric Mean Absolute Error di Data Train adalah:  0.83\n",
      "Nilai Metric Mean Squared Error di Data Train adalah:  0.82\n"
     ]
    }
   ],
   "source": [
    "# Melihat hasil prediksi regresi linear dari data testing dan juga data training\n",
    "\n",
    "print(\"----------------------------Data Testing dari Split Validation----------------------------\")\n",
    "print(\"Nilai Metric Mean Absolute Error di Data Test adalah: \", \"%.2f\" % mean_absolute_error\n",
    "      (y_test, pred_test_linear_mei))\n",
    "print(\"Nilai Metric Mean Squared Error di Data Test adalah: \", \"%.2f\" % mean_squared_error\n",
    "      (y_test, pred_test_linear_mei), \"\\n\")\n",
    "#print(\"Nilai Metric Mean Squared Log Error di Data Test Adalah: \", \"%.2f\" % mean_squared_log_error(y_test, pred_test_linear))\n",
    "\n",
    "print(\"----------------------------Data Training dari Split Validation---------------------------\")\n",
    "print(\"Nilai Metric Mean Absolute Error di Data Train adalah: \", \"%.2f\" % mean_absolute_error\n",
    "      (y_train, pred_train_linear_mei))\n",
    "print(\"Nilai Metric Mean Squared Error di Data Train adalah: \", \"%.2f\" % mean_squared_error\n",
    "      (y_train, pred_train_linear_mei))\n",
    "#print(\"Nilai Metric Mean Squared Log Error Adalah: \", \"%.2f\" % mean_squared_log_error(y_train, pred_train_linear))"
   ]
  },
  {
   "cell_type": "code",
   "execution_count": 45,
   "metadata": {},
   "outputs": [
    {
     "data": {
      "image/png": "[encoded data removed]",
      "text/plain": [
       "<Figure size 1800x1440 with 2 Axes>"
      ]
     },
     "metadata": {},
     "output_type": "display_data"
    }
   ],
   "source": [
    "# Membuat grafik untuk melihat trend data dari volume pengangkutan sampah setelah dilakukan proses pemodelan regresi linear\n",
    "plt.figure(figsize=(25, 20))\n",
    "\n",
    "# Grafik untuk melihat trend data testing setelah dilakukan proses pemodelan regresi linear\n",
    "plt.subplot(4, 3, 1)\n",
    "sns.lineplot(y_test, pred_test_linear_mei)\n",
    "plt.title(\"Grafik Trend Setelah Di Prediksi dengan \\n Data Testing di Model Regresi Linear pada Bulan Mei 2021\", \n",
    "          fontsize=13, pad=13)\n",
    "\n",
    "# Grafik untuk melihat trend data training setelah dilakukan proses pemodelan regresi linear\n",
    "plt.subplot(4, 3, 2)\n",
    "sns.lineplot(y_train, pred_train_linear_mei)\n",
    "plt.title(\"Grafik Trend Setelah Di Prediksi dengan \\n Data Training di Model Regresi Linear pada Bulan Mei 2021\", \n",
    "          fontsize=13, pad=13)\n",
    "plt.show()"
   ]
  },
  {
   "cell_type": "code",
   "execution_count": 46,
   "metadata": {},
   "outputs": [
    {
     "data": {
      "image/png": "[encoded data removed]",
      "text/plain": [
       "<Figure size 1800x1440 with 2 Axes>"
      ]
     },
     "metadata": {},
     "output_type": "display_data"
    }
   ],
   "source": [
    "\"\"\"\n",
    "Melihat korelasi/hubungan keterkaitan terhadap data testing dan data training \n",
    "setelah dilakukan proses prediksi menggunakan algoritma regresi linear\n",
    "\"\"\"\n",
    "plt.figure(figsize=(25, 20))\n",
    "\n",
    "plt.subplot(4, 3, 1)\n",
    "plt.scatter(x_test, y_test, color=\"yellow\")\n",
    "plt.plot(x_test, pred_test_linear_mei, color=\"green\")\n",
    "plt.title(\"Hasi Prediksi terhadap Data Testing terkait \\n Pengangkutan Volume Sampah di Bulan Mei 2021\", \n",
    "          fontsize=13, pad=13)\n",
    "\n",
    "plt.subplot(4, 3, 2)\n",
    "plt.scatter(x_train, y_train, color=\"yellow\")\n",
    "plt.plot(x_train, pred_train_linear_mei, color=\"green\")\n",
    "plt.title(\"Hasil Prediksi terhadap Data Training terkait \\n Pengangkutan Volume Sampah di Bulan Mei 2021\", \n",
    "          fontsize=13, pad=13)\n",
    "plt.show()\n"
   ]
  },
  {
   "cell_type": "markdown",
   "metadata": {},
   "source": [
    "#### 4.1.2. Menggunakan K-Fold Cross Validation dalam Melakukan Prediksi Model Regresi Linear"
   ]
  },
  {
   "cell_type": "markdown",
   "metadata": {},
   "source": [
    "##### 4.1.2.1. Nilai K-Fold = 5"
   ]
  },
  {
   "cell_type": "code",
   "execution_count": 47,
   "metadata": {
    "scrolled": true
   },
   "outputs": [
    {
     "data": {
      "text/plain": [
       "KFold(n_splits=5, random_state=37, shuffle=True)"
      ]
     },
     "execution_count": 47,
     "metadata": {},
     "output_type": "execute_result"
    }
   ],
   "source": [
    "# Memanggil library K-Fold Cross Validation yang telah dipanggil diawal pemrosesan\n",
    "kfold_5 = KFold(n_splits=5, random_state=37, shuffle=True)\n",
    "kfold_5"
   ]
  },
  {
   "cell_type": "markdown",
   "metadata": {},
   "source": [
    "K-Fold Cross Validation memiliki 3 parameters yaitu n_splits, shuffle, dan random_state. Berikut adalah penjelasan dari parameters di teknik k-fold cross validation adalah sebagai berikut:\n",
    "\n",
    "1. n_splits: parameter ini berfungsi sebagai lipatan dalam memvalidasi sebuah data. Jika n_split yang dibuat 5 maka terdapat 5 iterasi dalam memvalidasi serta juga melatih data sebanyak 5x pemrosesan dan setiap iterasi tersebut akan memiliki 5 baris untuk pengujiannya.\n",
    "2. shuffle: parameter ini berfungsi untuk mengacak data sebelum dipecah ke beberapa iterasi (sesuai n_splits yang dibuat).\n",
    "3. random_state: parameter terakhir yang dimiliki oleh teknik k-fold cross validation adalah random_state. Parameter ini berfungsi dalam mempengaruhi urutan indeks yang telah diacak (ketika nilai dari parameter shuffle di setting True) dan juga mengontrol keacakan dari setiap iterasi yang dilakukan."
   ]
  },
  {
   "cell_type": "code",
   "execution_count": 48,
   "metadata": {
    "scrolled": true
   },
   "outputs": [
    {
     "data": {
      "text/plain": [
       "LinearRegression()"
      ]
     },
     "execution_count": 48,
     "metadata": {},
     "output_type": "execute_result"
    }
   ],
   "source": [
    "\"\"\"\n",
    "Membuat model regresi linear + nilai parameter deafult yang \n",
    "kemudian akan diimplementasikan ke nilai 5 pada teknik k-fold cross validation\n",
    "\"\"\"\n",
    "\n",
    "kfold_linear_regression_mei_5 = LinearRegression()\n",
    "kfold_linear_regression_mei_5.fit(x_train, y_train)"
   ]
  },
  {
   "cell_type": "code",
   "execution_count": 49,
   "metadata": {
    "scrolled": true
   },
   "outputs": [
    {
     "name": "stdout",
     "output_type": "stream",
     "text": [
      "dict_keys(['explained_variance', 'r2', 'max_error', 'neg_median_absolute_error', 'neg_mean_absolute_error', 'neg_mean_absolute_percentage_error', 'neg_mean_squared_error', 'neg_mean_squared_log_error', 'neg_root_mean_squared_error', 'neg_mean_poisson_deviance', 'neg_mean_gamma_deviance', 'accuracy', 'top_k_accuracy', 'roc_auc', 'roc_auc_ovr', 'roc_auc_ovo', 'roc_auc_ovr_weighted', 'roc_auc_ovo_weighted', 'balanced_accuracy', 'average_precision', 'neg_log_loss', 'neg_brier_score', 'adjusted_rand_score', 'rand_score', 'homogeneity_score', 'completeness_score', 'v_measure_score', 'mutual_info_score', 'adjusted_mutual_info_score', 'normalized_mutual_info_score', 'fowlkes_mallows_score', 'precision', 'precision_macro', 'precision_micro', 'precision_samples', 'precision_weighted', 'recall', 'recall_macro', 'recall_micro', 'recall_samples', 'recall_weighted', 'f1', 'f1_macro', 'f1_micro', 'f1_samples', 'f1_weighted', 'jaccard', 'jaccard_macro', 'jaccard_micro', 'jaccard_samples', 'jaccard_weighted'])\n"
     ]
    }
   ],
   "source": [
    "# Melihat metrics-metrics yang bisa digunakan untuk memprediksi model machine learning\n",
    "import sklearn\n",
    "\n",
    "print(sklearn.metrics.SCORERS.keys())"
   ]
  },
  {
   "cell_type": "markdown",
   "metadata": {},
   "source": [
    "Diatas adalah metrics-metrics yang bisa digunakan dalam melihat hasil prediksi yang telah dibangun oleh model machine learning. Untuk pengujian kali ini saya akan menggunakan metrics yang bernama neg_mean_absolute_error dan neg_mean_squared_error."
   ]
  },
  {
   "cell_type": "code",
   "execution_count": 50,
   "metadata": {},
   "outputs": [],
   "source": [
    "# Memanggil library cross_val_score untuk memvalidasi data training dan data test menggunakan metrics MAE & MSE\n",
    "\n",
    "# Metric MAE untuk Data Training dan Data Testing\n",
    "mae_score_kfold_train_mei_5 = cross_val_score(kfold_linear_regression_mei_5, x_train, y_train, \n",
    "                                              scoring=\"neg_mean_absolute_error\", cv=kfold_5, n_jobs=1)\n",
    "\n",
    "mae_score_kfold_test_mei_5 = cross_val_score(kfold_linear_regression_mei_5, x_test, y_test, \n",
    "                                             scoring=\"neg_mean_absolute_error\", cv=kfold_5, n_jobs=1)\n",
    "\n",
    "# Metric MSE untuk Data Training dan Data Testing\n",
    "mse_score_kfold_train_mei_5 = cross_val_score(kfold_linear_regression_mei_5, x_train, y_train, \n",
    "                                              scoring=\"neg_mean_squared_error\", cv=kfold_5, n_jobs=1)\n",
    "\n",
    "mse_score_kfold_test_mei_5 = cross_val_score(kfold_linear_regression_mei_5, x_test, y_test, \n",
    "                                             scoring=\"neg_mean_squared_error\", cv=kfold_5, n_jobs=1)"
   ]
  },
  {
   "cell_type": "code",
   "execution_count": 51,
   "metadata": {
    "scrolled": false
   },
   "outputs": [
    {
     "name": "stdout",
     "output_type": "stream",
     "text": [
      "Skor Setiap Iterasi Data Training dari Metrics Mean Absolute Error: \n",
      " [-0.83349252 -0.83008849 -0.83295977 -0.83782424 -0.83301257] \n",
      "\n",
      "Skor Setiap Iterasi Data Testing dari Metrics Mean Absolute Error: \n",
      " [-0.84858821 -0.83253113 -0.84037209 -0.82697758 -0.81243249] \n",
      "\n",
      "Skor Setiap Iterasi Data Training dari Metrics Mean Absolute Error: \n",
      " [-0.82377117 -0.81332047 -0.81627312 -0.82884065 -0.8202739 ] \n",
      "\n",
      "Skor Setiap Iterasi Data Testing dari Metrics Mean Absolute Error: \n",
      " [-0.85900681 -0.82248126 -0.82779067 -0.80888215 -0.77455302]\n"
     ]
    }
   ],
   "source": [
    "# Melihat nilai dari setiap iterasi dari metrics mean absolute error dan mean squared error\n",
    "\n",
    "print(\"Skor Setiap Iterasi Data Training dari Metrics Mean Absolute Error: \\n\", mae_score_kfold_train_mei_5, \"\\n\")\n",
    "print(\"Skor Setiap Iterasi Data Testing dari Metrics Mean Absolute Error: \\n\", mae_score_kfold_test_mei_5, \"\\n\")\n",
    "print(\"Skor Setiap Iterasi Data Training dari Metrics Mean Absolute Error: \\n\", mse_score_kfold_train_mei_5, \"\\n\")\n",
    "print(\"Skor Setiap Iterasi Data Testing dari Metrics Mean Absolute Error: \\n\", mse_score_kfold_test_mei_5)"
   ]
  },
  {
   "cell_type": "code",
   "execution_count": 52,
   "metadata": {
    "scrolled": false
   },
   "outputs": [
    {
     "name": "stdout",
     "output_type": "stream",
     "text": [
      "---------------------------------Data Testing K-Fold----------------------------------\n",
      "Nilai Prediksi dari Data Test Menggunakan Metrics MAE adalah: 0.83 \n",
      "Nilai Prediksi dari Data Test Menggunakan Metrics MSE adalah: 0.82  \n",
      "\n",
      "---------------------------------Data Training K-Fold----------------------------------\n",
      "Nilai Prediksi dari Data Train Menggunakan Metrics MAE adalah: 0.83 \n",
      "Nilai Prediksi dari Data Train Menggunakan Metrics MSE adalah: 0.82 \n"
     ]
    }
   ],
   "source": [
    "# Melihat hasil prediksi data test dan data train dengan metric MAE & MSE dari hasil K-Fold Cross Validation\n",
    "\n",
    "print(\"---------------------------------Data Testing K-Fold----------------------------------\")\n",
    "print(\"Nilai Prediksi dari Data Test Menggunakan Metrics MAE adalah: %.2f \" % np.mean(np.absolute\n",
    "                                                                                      (mae_score_kfold_test_mei_5)))\n",
    "print(\"Nilai Prediksi dari Data Test Menggunakan Metrics MSE adalah: %.2f \" % np.mean(np.absolute\n",
    "                                                                                      (mse_score_kfold_test_mei_5)), \"\\n\")\n",
    "\n",
    "print(\"---------------------------------Data Training K-Fold----------------------------------\")\n",
    "print(\"Nilai Prediksi dari Data Train Menggunakan Metrics MAE adalah: %.2f \" % np.mean(np.absolute\n",
    "                                                                                       (mae_score_kfold_train_mei_5)))\n",
    "print(\"Nilai Prediksi dari Data Train Menggunakan Metrics MSE adalah: %.2f \" % np.mean(np.absolute\n",
    "                                                                                       (mse_score_kfold_train_mei_5)))"
   ]
  },
  {
   "cell_type": "markdown",
   "metadata": {},
   "source": [
    "##### 4.1.2.2. Nilai K-Fold = 10"
   ]
  },
  {
   "cell_type": "code",
   "execution_count": 53,
   "metadata": {
    "scrolled": true
   },
   "outputs": [
    {
     "data": {
      "text/plain": [
       "KFold(n_splits=10, random_state=37, shuffle=True)"
      ]
     },
     "execution_count": 53,
     "metadata": {},
     "output_type": "execute_result"
    }
   ],
   "source": [
    "# Memanggil library K-Fold Cross Validation yang telah dipanggil diawal pemrosesan\n",
    "kfold_10 = KFold(n_splits=10, random_state=37, shuffle=True)\n",
    "kfold_10"
   ]
  },
  {
   "cell_type": "code",
   "execution_count": 54,
   "metadata": {
    "scrolled": true
   },
   "outputs": [
    {
     "data": {
      "text/plain": [
       "LinearRegression()"
      ]
     },
     "execution_count": 54,
     "metadata": {},
     "output_type": "execute_result"
    }
   ],
   "source": [
    "\"\"\"\n",
    "Membuat model regresi linear + nilai parameter deafult yang \n",
    "kemudian akan diimplementasikan ke nilai 10 pada teknik k-fold cross validation\n",
    "\"\"\"\n",
    "\n",
    "kfold_linear_regression_mei_10 = LinearRegression()\n",
    "kfold_linear_regression_mei_10.fit(x_train, y_train)"
   ]
  },
  {
   "cell_type": "code",
   "execution_count": 55,
   "metadata": {},
   "outputs": [],
   "source": [
    "# Memanggil library cross_val_score untuk memvalidasi data training dan data test menggunakan metrics MAE & MSE\n",
    "\n",
    "# Metric MAE untuk Data Training dan Data Testing\n",
    "mae_score_kfold_train_mei_10 = cross_val_score(kfold_linear_regression_mei_10, x_train, y_train, \n",
    "                                               scoring=\"neg_mean_absolute_error\", cv=kfold_10, n_jobs=1)\n",
    "\n",
    "mae_score_kfold_test_mei_10 = cross_val_score(kfold_linear_regression_mei_10, x_test, y_test, \n",
    "                                              scoring=\"neg_mean_absolute_error\", cv=kfold_10, n_jobs=1)\n",
    "\n",
    "# Metric MSE untuk Data Training dan Data Testing\n",
    "mse_score_kfold_train_mei_10 = cross_val_score(kfold_linear_regression_mei_10, x_train, y_train, \n",
    "                                               scoring=\"neg_mean_squared_error\", cv=kfold_10, n_jobs=1)\n",
    "\n",
    "mse_score_kfold_test_mei_10 = cross_val_score(kfold_linear_regression_mei_10, x_test, y_test, \n",
    "                                              scoring=\"neg_mean_squared_error\", cv=kfold_10, n_jobs=1)"
   ]
  },
  {
   "cell_type": "code",
   "execution_count": 56,
   "metadata": {
    "scrolled": false
   },
   "outputs": [
    {
     "name": "stdout",
     "output_type": "stream",
     "text": [
      "Skor Setiap Iterasi Data Training dari Metrics Mean Absolute Error: \n",
      " [-0.82911643 -0.83875892 -0.82880615 -0.83092057 -0.83070623 -0.83409784\n",
      " -0.83910165 -0.83648541 -0.83006052 -0.83632804] \n",
      "\n",
      "Skor Setiap Iterasi Data Testing dari Metrics Mean Absolute Error: \n",
      " [-0.85547522 -0.84369556 -0.81961318 -0.84589964 -0.83802509 -0.84276334\n",
      " -0.81742419 -0.83657843 -0.81268298 -0.80926727] \n",
      "\n",
      "Skor Setiap Iterasi Data Training dari Metrics Mean Absolute Error: \n",
      " [-0.81621749 -0.83104079 -0.81309952 -0.81361085 -0.81426966 -0.81796853\n",
      " -0.83102143 -0.82636964 -0.81385412 -0.82690926] \n",
      "\n",
      "Skor Setiap Iterasi Data Testing dari Metrics Mean Absolute Error: \n",
      " [-0.8732516  -0.84317697 -0.7983076  -0.84781732 -0.82090842 -0.83553627\n",
      " -0.78912688 -0.82927381 -0.77669343 -0.77138339]\n"
     ]
    }
   ],
   "source": [
    "# Melihat nilai dari setiap iterasi dari metrics mean absolute error dan mean squared error\n",
    "\n",
    "print(\"Skor Setiap Iterasi Data Training dari Metrics Mean Absolute Error: \\n\", mae_score_kfold_train_mei_10, \"\\n\")\n",
    "print(\"Skor Setiap Iterasi Data Testing dari Metrics Mean Absolute Error: \\n\", mae_score_kfold_test_mei_10, \"\\n\")\n",
    "print(\"Skor Setiap Iterasi Data Training dari Metrics Mean Absolute Error: \\n\", mse_score_kfold_train_mei_10, \"\\n\")\n",
    "print(\"Skor Setiap Iterasi Data Testing dari Metrics Mean Absolute Error: \\n\", mse_score_kfold_test_mei_10)"
   ]
  },
  {
   "cell_type": "code",
   "execution_count": 57,
   "metadata": {
    "scrolled": false
   },
   "outputs": [
    {
     "name": "stdout",
     "output_type": "stream",
     "text": [
      "---------------------------------Data Testing K-Fold----------------------------------\n",
      "Nilai Prediksi dari Data Test Menggunakan Metrics MAE adalah: 0.83 \n",
      "Nilai Prediksi dari Data Test Menggunakan Metrics MSE adalah: 0.82  \n",
      "\n",
      "---------------------------------Data Training K-Fold----------------------------------\n",
      "Nilai Prediksi dari Data Train Menggunakan Metrics MAE adalah: 0.83 \n",
      "Nilai Prediksi dari Data Train Menggunakan Metrics MSE adalah: 0.82 \n"
     ]
    }
   ],
   "source": [
    "# Melihat hasil prediksi data test dan data train dengan metric MAE & MSE dari hasil K-Fold Cross Validation\n",
    "\n",
    "print(\"---------------------------------Data Testing K-Fold----------------------------------\")\n",
    "print(\"Nilai Prediksi dari Data Test Menggunakan Metrics MAE adalah: %.2f \" % np.mean(np.absolute\n",
    "                                                                                      (mae_score_kfold_test_mei_10)))\n",
    "print(\"Nilai Prediksi dari Data Test Menggunakan Metrics MSE adalah: %.2f \" % np.mean(np.absolute\n",
    "                                                                                      (mse_score_kfold_test_mei_10)), \"\\n\")\n",
    "\n",
    "print(\"---------------------------------Data Training K-Fold----------------------------------\")\n",
    "print(\"Nilai Prediksi dari Data Train Menggunakan Metrics MAE adalah: %.2f \" % np.mean(np.absolute\n",
    "                                                                                       (mae_score_kfold_train_mei_10)))\n",
    "print(\"Nilai Prediksi dari Data Train Menggunakan Metrics MSE adalah: %.2f \" % np.mean(np.absolute\n",
    "                                                                                       (mse_score_kfold_train_mei_10)))"
   ]
  },
  {
   "cell_type": "markdown",
   "metadata": {},
   "source": [
    "##### 4.1.2.3. Nilai K-Fold = 15"
   ]
  },
  {
   "cell_type": "code",
   "execution_count": 58,
   "metadata": {
    "scrolled": false
   },
   "outputs": [
    {
     "data": {
      "text/plain": [
       "KFold(n_splits=15, random_state=37, shuffle=True)"
      ]
     },
     "execution_count": 58,
     "metadata": {},
     "output_type": "execute_result"
    }
   ],
   "source": [
    "# Memanggil library K-Fold Cross Validation yang telah dipanggil diawal pemrosesan\n",
    "kfold_15 = KFold(n_splits=15, random_state=37, shuffle=True)\n",
    "kfold_15"
   ]
  },
  {
   "cell_type": "code",
   "execution_count": 59,
   "metadata": {
    "scrolled": true
   },
   "outputs": [
    {
     "data": {
      "text/plain": [
       "LinearRegression()"
      ]
     },
     "execution_count": 59,
     "metadata": {},
     "output_type": "execute_result"
    }
   ],
   "source": [
    "\"\"\"\n",
    "Membuat model regresi linear + nilai parameter deafult yang \n",
    "kemudian akan diimplementasikan ke nilai 15 pada teknik k-fold cross validation\n",
    "\"\"\"\n",
    "\n",
    "kfold_linear_regression_mei_15 = LinearRegression()\n",
    "kfold_linear_regression_mei_15.fit(x_train, y_train)"
   ]
  },
  {
   "cell_type": "code",
   "execution_count": 60,
   "metadata": {},
   "outputs": [],
   "source": [
    "# Memanggil library cross_val_score untuk memvalidasi data training dan data test menggunakan metrics MAE & MSE\n",
    "\n",
    "# Metric MAE untuk Data Training dan Data Testing\n",
    "mae_score_kfold_train_mei_15 = cross_val_score(kfold_linear_regression_mei_15, x_train, y_train, \n",
    "                                               scoring=\"neg_mean_absolute_error\", cv=kfold_15, n_jobs=1)\n",
    "\n",
    "mae_score_kfold_test_mei_15 = cross_val_score(kfold_linear_regression_mei_15, x_test, y_test, \n",
    "                                              scoring=\"neg_mean_absolute_error\", cv=kfold_15, n_jobs=1)\n",
    "\n",
    "# Metric MSE untuk Data Training dan Data Testing\n",
    "mse_score_kfold_train_mei_15 = cross_val_score(kfold_linear_regression_mei_15, x_train, y_train, \n",
    "                                               scoring=\"neg_mean_squared_error\", cv=kfold_15, n_jobs=1)\n",
    "\n",
    "mse_score_kfold_test_mei_15 = cross_val_score(kfold_linear_regression_mei_15, x_test, y_test, \n",
    "                                              scoring=\"neg_mean_squared_error\", cv=kfold_15, n_jobs=1)"
   ]
  },
  {
   "cell_type": "code",
   "execution_count": 61,
   "metadata": {
    "scrolled": true
   },
   "outputs": [
    {
     "name": "stdout",
     "output_type": "stream",
     "text": [
      "Skor Setiap Iterasi Data Training dari Metrics Mean Absolute Error: \n",
      " [-0.83458975 -0.83238538 -0.83529511 -0.83180795 -0.82612312 -0.83138298\n",
      " -0.82710279 -0.83632747 -0.83359095 -0.84078426 -0.83035187 -0.84254051\n",
      " -0.83337944 -0.82456482 -0.84131665] \n",
      "\n",
      "Skor Setiap Iterasi Data Testing dari Metrics Mean Absolute Error: \n",
      " [-0.8636159  -0.8377899  -0.8483567  -0.83317452 -0.82095341 -0.84446913\n",
      " -0.82979835 -0.84948259 -0.84112638 -0.81824295 -0.81860007 -0.8436152\n",
      " -0.80977362 -0.80330485 -0.81888197] \n",
      "\n",
      "Skor Setiap Iterasi Data Training dari Metrics Mean Absolute Error: \n",
      " [-0.82753235 -0.81890494 -0.82442595 -0.81756391 -0.80844151 -0.81378195\n",
      " -0.80825951 -0.82318772 -0.81744096 -0.83238255 -0.8150791  -0.83928671\n",
      " -0.82171014 -0.80321696 -0.83519842] \n",
      "\n",
      "Skor Setiap Iterasi Data Testing dari Metrics Mean Absolute Error: \n",
      " [-0.88765953 -0.83846385 -0.84860561 -0.82231782 -0.80517031 -0.84188734\n",
      " -0.80621204 -0.84321009 -0.83477003 -0.78850727 -0.79374687 -0.84362417\n",
      " -0.77321163 -0.75861432 -0.79027182]\n"
     ]
    }
   ],
   "source": [
    "# Melihat nilai dari setiap iterasi dari metrics mean absolute error dan mean squared error\n",
    "\n",
    "print(\"Skor Setiap Iterasi Data Training dari Metrics Mean Absolute Error: \\n\", mae_score_kfold_train_mei_15, \"\\n\")\n",
    "print(\"Skor Setiap Iterasi Data Testing dari Metrics Mean Absolute Error: \\n\", mae_score_kfold_test_mei_15, \"\\n\")\n",
    "print(\"Skor Setiap Iterasi Data Training dari Metrics Mean Absolute Error: \\n\", mse_score_kfold_train_mei_15, \"\\n\")\n",
    "print(\"Skor Setiap Iterasi Data Testing dari Metrics Mean Absolute Error: \\n\", mse_score_kfold_test_mei_15)"
   ]
  },
  {
   "cell_type": "code",
   "execution_count": 62,
   "metadata": {
    "scrolled": true
   },
   "outputs": [
    {
     "name": "stdout",
     "output_type": "stream",
     "text": [
      "---------------------------------Data Testing K-Fold----------------------------------\n",
      "Nilai Prediksi dari Data Test Menggunakan Metrics MAE adalah: 0.83 \n",
      "Nilai Prediksi dari Data Test Menggunakan Metrics MSE adalah: 0.82  \n",
      "\n",
      "---------------------------------Data Training K-Fold----------------------------------\n",
      "Nilai Prediksi dari Data Train Menggunakan Metrics MAE adalah: 0.83 \n",
      "Nilai Prediksi dari Data Train Menggunakan Metrics MSE adalah: 0.82 \n"
     ]
    }
   ],
   "source": [
    "# Melihat hasil prediksi data test dan data train dengan metric MAE & MSE dari hasil K-Fold Cross Validation\n",
    "\n",
    "print(\"---------------------------------Data Testing K-Fold----------------------------------\")\n",
    "print(\"Nilai Prediksi dari Data Test Menggunakan Metrics MAE adalah: %.2f \" % np.mean(np.absolute\n",
    "                                                                                      (mae_score_kfold_test_mei_15)))\n",
    "print(\"Nilai Prediksi dari Data Test Menggunakan Metrics MSE adalah: %.2f \" % np.mean(np.absolute\n",
    "                                                                                      (mse_score_kfold_test_mei_15)), \"\\n\")\n",
    "\n",
    "print(\"---------------------------------Data Training K-Fold----------------------------------\")\n",
    "print(\"Nilai Prediksi dari Data Train Menggunakan Metrics MAE adalah: %.2f \" % np.mean(np.absolute\n",
    "                                                                                       (mae_score_kfold_train_mei_15)))\n",
    "print(\"Nilai Prediksi dari Data Train Menggunakan Metrics MSE adalah: %.2f \" % np.mean(np.absolute\n",
    "                                                                                       (mse_score_kfold_train_mei_15)))"
   ]
  },
  {
   "cell_type": "markdown",
   "metadata": {},
   "source": [
    "### 4.3. Regresi Random Forest"
   ]
  },
  {
   "cell_type": "code",
   "execution_count": 63,
   "metadata": {},
   "outputs": [
    {
     "name": "stdout",
     "output_type": "stream",
     "text": [
      "{'bootstrap': True, 'ccp_alpha': 0.0, 'criterion': 'squared_error', 'max_depth': None, 'max_features': 'auto', 'max_leaf_nodes': None, 'max_samples': None, 'min_impurity_decrease': 0.0, 'min_samples_leaf': 1, 'min_samples_split': 2, 'min_weight_fraction_leaf': 0.0, 'n_estimators': 100, 'n_jobs': None, 'oob_score': False, 'random_state': None, 'verbose': 0, 'warm_start': False}\n"
     ]
    }
   ],
   "source": [
    "# Memanggil model regresi random forest dari library sklearn\n",
    "from sklearn.ensemble import RandomForestRegressor\n",
    "\n",
    "split_randomforest_regression_mei = RandomForestRegressor()\n",
    "split_randomforest_regression_mei.fit(x_train, y_train)\n",
    "\n",
    "# Melihat parameter dari regresi random forest beserta nilai terbaik dari masing-masing parameter\n",
    "print(split_randomforest_regression_mei.get_params())"
   ]
  },
  {
   "cell_type": "markdown",
   "metadata": {},
   "source": [
    "Berdasarkan hasil output terkait pencarian parameter terbaik dari model regresi random forest didapatkan beberapa kesimpulan diantaranya:\n",
    "\n",
    "1. Pada parameter bootstrap, nilai terbaik dari parameter ini adalah True.\n",
    "2. Di dalam parameter ccp_alpha, parameter ini memiliki nilai terbaik yakni nilai 0.0.\n",
    "3. Parameter criterion memiliki nilai terbaik yakni squared_error.\n",
    "4. Parameter max_depth tidak memiliki nilai karena nilai yang dimunculkan adalah None (Kosong).\n",
    "5. Di dalam parameter max_features, parameter ini memiliki nilai terbaik yakni nilai auto.\n",
    "6. Di dalam parameter max_leaf_nodes tidak memiliki nilai karena nilai yang dimunculkan adalah None (Kosong).\n",
    "7. Di dalam parameter max_samples tidak memiliki nilai karena nilai yang dimunculkan adalah None (Kosong).\n",
    "7. Di dalam parameter min_impurity_decrease, parameter ini memiliki nilai terbaik yakni nilai 0.0.\n",
    "8. Nilai terbaik dari parameter min_samples_leaf adalah 1.\n",
    "9. Nilai terbaik dari parameter min_samples_split adalah 2.\n",
    "10. Pada parameter min_weight_fraction_leaf, nilai yang muncul adalah nilai 0.0.\n",
    "11. Di parameter n_estimators, nilai yang muncul pada parameter ini adalah 100.\n",
    "12. Pada parameter n_jobs, nilai yang muncul adalah nilai None.\n",
    "13. Pada parameter oob_score, nilai yang muncul adalah nilai False.\n",
    "14. Pada parameter random_state, nilai yang muncul adalah nilai None.\n",
    "15. Di parameter verbose, nilai yang muncul pada parameter ini adalah 0.\n",
    "16. Sedangkan nilai yang muncul dari parameter warm_start adalah False.\n",
    "\n",
    "Nilai-nilai tersebut merupakan nilai terbaik dari model regresi random forest yang dimunculkan secara otomatis sebab dari awal regresi random forest telah memiliki nilai-nilai diatas sebagai nilai default. Nilai-nilai tersebut bisa dilihat di dokumentasi scikit learn dalam pembahasan regresi random forest (random forest regressor)."
   ]
  },
  {
   "cell_type": "code",
   "execution_count": 64,
   "metadata": {},
   "outputs": [
    {
     "name": "stdout",
     "output_type": "stream",
     "text": [
      "----------------Nilai Prediksi dari Data Testing------------------\n",
      "[1.66921092 1.31337833 1.3376443  ... 1.34943147 1.30174658 1.32634904]\n",
      "\n",
      "---------------Nilai Prediksi dari Data Training-----------------\n",
      "[1.29130637 1.33204679 1.62022953 ... 1.28699216 1.31434877 1.29097397]\n"
     ]
    }
   ],
   "source": [
    "# Melihat nilai prediksi dari data training dan data testing setelah dilakukan proses pencarian nilai parameters terbaik\n",
    "print(\"----------------Nilai Prediksi dari Data Testing------------------\")\n",
    "pred_test_randomforest_mei = split_randomforest_regression_mei.predict(x_test)\n",
    "print(pred_test_randomforest_mei)\n",
    "\n",
    "print(\"\\n---------------Nilai Prediksi dari Data Training-----------------\")\n",
    "pred_train_randomforest_mei = split_randomforest_regression_mei.predict(x_train)\n",
    "print(pred_train_randomforest_mei)"
   ]
  },
  {
   "cell_type": "code",
   "execution_count": 65,
   "metadata": {},
   "outputs": [
    {
     "name": "stdout",
     "output_type": "stream",
     "text": [
      "----------------------------Data Testing dari Split Validation----------------------------\n",
      "Nilai Metric Mean Absolute Error di Data Test adalah:  0.82\n",
      "Nilai Metric Mean Squared Error di Data Test adalah:  0.81 \n",
      "\n",
      "----------------------------Data Training dari Split Validation---------------------------\n",
      "Nilai Metric Mean Absolute Error di Data Train adalah:  0.82\n",
      "Nilai Metric Mean Squared Error di Data Train adalah:  0.81\n"
     ]
    }
   ],
   "source": [
    "# Melihat hasil prediksi regresi random forest dari data testing dan juga data training\n",
    "\n",
    "print(\"----------------------------Data Testing dari Split Validation----------------------------\")\n",
    "print(\"Nilai Metric Mean Absolute Error di Data Test adalah: \", \"%.2f\" % mean_absolute_error\n",
    "      (y_test, pred_test_randomforest_mei))\n",
    "print(\"Nilai Metric Mean Squared Error di Data Test adalah: \", \"%.2f\" % mean_squared_error\n",
    "      (y_test,  pred_test_randomforest_mei), \"\\n\")\n",
    "#print(\"Nilai Metric Mean Squared Log Error di Data Test Adalah: \", \"%.2f\" % mean_squared_log_error(y_test, pred_test_linear))\n",
    "\n",
    "print(\"----------------------------Data Training dari Split Validation---------------------------\")\n",
    "print(\"Nilai Metric Mean Absolute Error di Data Train adalah: \", \"%.2f\" % mean_absolute_error\n",
    "      (y_train, pred_train_randomforest_mei))\n",
    "print(\"Nilai Metric Mean Squared Error di Data Train adalah: \", \"%.2f\" % mean_squared_error\n",
    "      (y_train, pred_train_randomforest_mei))\n",
    "#print(\"Nilai Metric Mean Squared Log Error Adalah: \", \"%.2f\" % mean_squared_log_error(y_train, pred_train_linear))"
   ]
  },
  {
   "cell_type": "code",
   "execution_count": 66,
   "metadata": {},
   "outputs": [
    {
     "data": {
      "image/png": "[encoded data removed]",
      "text/plain": [
       "<Figure size 1800x1440 with 2 Axes>"
      ]
     },
     "metadata": {},
     "output_type": "display_data"
    }
   ],
   "source": [
    "# Membuat grafik untuk melihat trend data dari volume pengangkutan sampah setelah melalui proses pemodelan regresi random forest\n",
    "plt.figure(figsize=(25, 20))\n",
    "\n",
    "# Grafik untuk melihat trend data testing setelah dilakukan proses pemodelan regresi random forest\n",
    "plt.subplot(4, 3, 1)\n",
    "sns.lineplot(y_test, pred_test_randomforest_mei)\n",
    "plt.title(\"Hasil Prediksi dengan Data Testing \\n di Model Regresi Random Forest pada Bulan Mei 2021\", \n",
    "          fontsize=13, pad=13)\n",
    "\n",
    "# Grafik untuk melihat trend data training setelah dilakukan proses pemodelan regresi linear\n",
    "plt.subplot(4, 3, 2)\n",
    "sns.lineplot(y_train, pred_train_randomforest_mei)\n",
    "plt.title(\"Hasil Prediksi dengan Data Training \\n di Model Regresi Random Forest pada Bulan Mei 2021\", \n",
    "          fontsize=13, pad=13)\n",
    "plt.show()"
   ]
  },
  {
   "cell_type": "markdown",
   "metadata": {},
   "source": [
    "#### 4.1.3. Menggunakan K-Fold Cross Validation dalam Melakukan Prediksi Model Regresi Random Forest"
   ]
  },
  {
   "cell_type": "markdown",
   "metadata": {},
   "source": [
    "##### 4.1.3.1. Nilai K-Fold = 5"
   ]
  },
  {
   "cell_type": "code",
   "execution_count": 67,
   "metadata": {
    "scrolled": true
   },
   "outputs": [
    {
     "data": {
      "text/plain": [
       "KFold(n_splits=5, random_state=37, shuffle=True)"
      ]
     },
     "execution_count": 67,
     "metadata": {},
     "output_type": "execute_result"
    }
   ],
   "source": [
    "# Memanggil library K-Fold Cross Validation yang telah dipanggil diawal pemrosesan\n",
    "kfold_5 = KFold(n_splits=5, random_state=37, shuffle=True)\n",
    "kfold_5"
   ]
  },
  {
   "cell_type": "markdown",
   "metadata": {},
   "source": [
    "K-Fold Cross Validation memiliki 3 parameters yaitu n_splits, shuffle, dan random_state. Berikut adalah penjelasan dari parameters di teknik k-fold cross validation adalah sebagai berikut:\n",
    "\n",
    "1. n_splits: parameter ini berfungsi sebagai lipatan dalam memvalidasi sebuah data. Jika n_split yang dibuat 5 maka terdapat 5 iterasi dalam memvalidasi serta juga melatih data sebanyak 5x pemrosesan dan setiap iterasi tersebut akan memiliki 5 baris untuk pengujiannya.\n",
    "2. shuffle: parameter ini berfungsi untuk mengacak data sebelum dipecah ke beberapa iterasi (sesuai n_splits yang dibuat).\n",
    "3. random_state: dan parameter terakhir yang dimiliki oleh teknik k-fold cross validation adalah random_state. Parameter ini berfungsi dalam mempengaruhi urutan indeks yang telah diacak (ketika nilai dari parameter shuffle di setting True) dan juga mengontrol keacakan dari setiap iterasi yang dilakukan."
   ]
  },
  {
   "cell_type": "code",
   "execution_count": 68,
   "metadata": {
    "scrolled": false
   },
   "outputs": [
    {
     "data": {
      "text/plain": [
       "RandomForestRegressor()"
      ]
     },
     "execution_count": 68,
     "metadata": {},
     "output_type": "execute_result"
    }
   ],
   "source": [
    "\"\"\"\n",
    "Membuat model regresi random forest + nilai parameter deafult yang \n",
    "kemudian akan diimplementasikan ke nilai 5 pada teknik k-fold cross validation\n",
    "\"\"\"\n",
    "\n",
    "kfold_randomforest_regression_mei_5 = RandomForestRegressor()\n",
    "kfold_randomforest_regression_mei_5.fit(x_train, y_train)"
   ]
  },
  {
   "cell_type": "code",
   "execution_count": 69,
   "metadata": {},
   "outputs": [],
   "source": [
    "\"\"\"\n",
    "Memanggil library cross_val_score untuk memvalidasi data training dan data test di model regresi random forest \n",
    "dengan menggunakan metrics MAE & MSE\n",
    "\"\"\"\n",
    "\n",
    "# Metric MAE untuk Data Training dan Data Testing\n",
    "mae_score_kfold_train_mei_5 = cross_val_score(kfold_randomforest_regression_mei_5, x_train, y_train, \n",
    "                                              scoring=\"neg_mean_absolute_error\", cv=kfold_5, n_jobs=1)\n",
    "\n",
    "mae_score_kfold_test_mei_5 = cross_val_score(kfold_randomforest_regression_mei_5, x_test, y_test, \n",
    "                                             scoring=\"neg_mean_absolute_error\", cv=kfold_5, n_jobs=1)\n",
    "\n",
    "# Metric MSE untuk Data Training dan Data Testing\n",
    "mse_score_kfold_train_mei_5 = cross_val_score(kfold_randomforest_regression_mei_5, x_train, y_train, \n",
    "                                              scoring=\"neg_mean_squared_error\", cv=kfold_5, n_jobs=1)\n",
    "\n",
    "mse_score_kfold_test_mei_5 = cross_val_score(kfold_randomforest_regression_mei_5, x_test, y_test, \n",
    "                                             scoring=\"neg_mean_squared_error\", cv=kfold_5, n_jobs=1)"
   ]
  },
  {
   "cell_type": "code",
   "execution_count": 70,
   "metadata": {
    "scrolled": false
   },
   "outputs": [
    {
     "name": "stdout",
     "output_type": "stream",
     "text": [
      "Skor Setiap Iterasi Data Training dari Metrics Mean Absolute Error: \n",
      " [-0.8228386  -0.81735054 -0.82277522 -0.82736599 -0.82145726] \n",
      "\n",
      "Skor Setiap Iterasi Data Testing dari Metrics Mean Absolute Error: \n",
      " [-0.83563302 -0.82011472 -0.82744224 -0.81379502 -0.80515345] \n",
      "\n",
      "Skor Setiap Iterasi Data Training dari Metrics Mean Absolute Error: \n",
      " [-0.81903985 -0.80406742 -0.81035729 -0.82128615 -0.8121813 ] \n",
      "\n",
      "Skor Setiap Iterasi Data Testing dari Metrics Mean Absolute Error: \n",
      " [-0.85346651 -0.8139041  -0.82071791 -0.79923516 -0.78453049]\n"
     ]
    }
   ],
   "source": [
    "# Melihat nilai dari setiap iterasi dari metrics mean absolute error dan mean squared error\n",
    "\n",
    "print(\"Skor Setiap Iterasi Data Training dari Metrics Mean Absolute Error: \\n\", mae_score_kfold_train_mei_5, \"\\n\")\n",
    "print(\"Skor Setiap Iterasi Data Testing dari Metrics Mean Absolute Error: \\n\", mae_score_kfold_test_mei_5, \"\\n\")\n",
    "print(\"Skor Setiap Iterasi Data Training dari Metrics Mean Absolute Error: \\n\", mse_score_kfold_train_mei_5, \"\\n\")\n",
    "print(\"Skor Setiap Iterasi Data Testing dari Metrics Mean Absolute Error: \\n\", mse_score_kfold_test_mei_5)"
   ]
  },
  {
   "cell_type": "code",
   "execution_count": 71,
   "metadata": {
    "scrolled": false
   },
   "outputs": [
    {
     "name": "stdout",
     "output_type": "stream",
     "text": [
      "---------------------------------Data Testing K-Fold----------------------------------\n",
      "Nilai Prediksi dari Data Test Menggunakan Metrics MAE adalah: 0.82 \n",
      "Nilai Prediksi dari Data Test Menggunakan Metrics MSE adalah: 0.81 \n",
      "\n",
      " ---------------------------------Data Training K-Fold----------------------------------\n",
      "Nilai Prediksi dari Data Train Menggunakan Metrics MAE adalah: 0.82 \n",
      "Nilai Prediksi dari Data Train Menggunakan Metrics MSE adalah: 0.81 \n"
     ]
    }
   ],
   "source": [
    "# Melihat hasil prediksi data test dan data train dengan metric MAE & MSE dari hasil K-Fold Cross Validation\n",
    "\n",
    "print(\"---------------------------------Data Testing K-Fold----------------------------------\")\n",
    "print(\"Nilai Prediksi dari Data Test Menggunakan Metrics MAE adalah: %.2f \" % np.mean(np.absolute\n",
    "                                                                                      (mae_score_kfold_test_mei_5)))\n",
    "print(\"Nilai Prediksi dari Data Test Menggunakan Metrics MSE adalah: %.2f \" % np.mean(np.absolute\n",
    "                                                                                      (mse_score_kfold_test_mei_5)))\n",
    "\n",
    "print(\"\\n\", \"---------------------------------Data Training K-Fold----------------------------------\")\n",
    "print(\"Nilai Prediksi dari Data Train Menggunakan Metrics MAE adalah: %.2f \" % np.mean(np.absolute\n",
    "                                                                                       (mae_score_kfold_train_mei_5)))\n",
    "print(\"Nilai Prediksi dari Data Train Menggunakan Metrics MSE adalah: %.2f \" % np.mean(np.absolute\n",
    "                                                                                       (mse_score_kfold_train_mei_5)))"
   ]
  },
  {
   "cell_type": "markdown",
   "metadata": {},
   "source": [
    "##### 4.1.3.2. Nilai K-Fold = 10"
   ]
  },
  {
   "cell_type": "code",
   "execution_count": 72,
   "metadata": {
    "scrolled": true
   },
   "outputs": [
    {
     "data": {
      "text/plain": [
       "KFold(n_splits=10, random_state=37, shuffle=True)"
      ]
     },
     "execution_count": 72,
     "metadata": {},
     "output_type": "execute_result"
    }
   ],
   "source": [
    "# Memanggil library K-Fold Cross Validation yang telah dipanggil diawal pemrosesan\n",
    "kfold_10 = KFold(n_splits=10, random_state=37, shuffle=True)\n",
    "kfold_10"
   ]
  },
  {
   "cell_type": "code",
   "execution_count": 73,
   "metadata": {
    "scrolled": false
   },
   "outputs": [
    {
     "data": {
      "text/plain": [
       "RandomForestRegressor()"
      ]
     },
     "execution_count": 73,
     "metadata": {},
     "output_type": "execute_result"
    }
   ],
   "source": [
    "\"\"\"\n",
    "Membuat model regresi random forest + nilai parameter deafult yang \n",
    "kemudian akan diimplementasikan ke nilai 10 pada teknik k-fold cross validation\n",
    "\"\"\"\n",
    "kfold_randomforest_regression_mei_10 = RandomForestRegressor()\n",
    "kfold_randomforest_regression_mei_10.fit(x_train, y_train)"
   ]
  },
  {
   "cell_type": "code",
   "execution_count": 74,
   "metadata": {},
   "outputs": [],
   "source": [
    "\"\"\"\n",
    "Memanggil library cross_val_score untuk memvalidasi data training dan data test di model regresi random forest \n",
    "dengan menggunakan metrics MAE & MSE\n",
    "\"\"\"\n",
    "\n",
    "# Metric MAE untuk Data Training dan Data Testing\n",
    "mae_score_kfold_train_mei_10 = cross_val_score(kfold_randomforest_regression_mei_10, x_train, y_train,\n",
    "                                               scoring=\"neg_mean_absolute_error\", cv=kfold_10, n_jobs=1)\n",
    "\n",
    "mae_score_kfold_test_mei_10 = cross_val_score(kfold_randomforest_regression_mei_10, x_test, y_test, \n",
    "                                              scoring=\"neg_mean_absolute_error\", cv=kfold_10, n_jobs=1)\n",
    "\n",
    "# Metric MSE untuk Data Training dan Data Testing\n",
    "mse_score_kfold_train_mei_10 = cross_val_score(kfold_randomforest_regression_mei_10, x_train, y_train, \n",
    "                                               scoring=\"neg_mean_squared_error\", cv=kfold_10, n_jobs=1)\n",
    "\n",
    "mse_score_kfold_test_mei_10 = cross_val_score(kfold_randomforest_regression_mei_10, x_test, y_test, \n",
    "                                              scoring=\"neg_mean_squared_error\", cv=kfold_5, n_jobs=1)"
   ]
  },
  {
   "cell_type": "code",
   "execution_count": 75,
   "metadata": {
    "scrolled": true
   },
   "outputs": [
    {
     "name": "stdout",
     "output_type": "stream",
     "text": [
      "Skor Setiap Iterasi Data Training dari Metrics Mean Absolute Error: \n",
      " [-0.81764579 -0.82982253 -0.81716392 -0.81730265 -0.82099605 -0.82375957\n",
      " -0.82857127 -0.82641388 -0.81682062 -0.82624335] \n",
      "\n",
      "Skor Setiap Iterasi Data Testing dari Metrics Mean Absolute Error: \n",
      " [-0.83620549 -0.83468862 -0.80775058 -0.8308048  -0.82634948 -0.83122908\n",
      " -0.80242622 -0.82433457 -0.808497   -0.80114075] \n",
      "\n",
      "Skor Setiap Iterasi Data Training dari Metrics Mean Absolute Error: \n",
      " [-0.81016483 -0.82781539 -0.80548426 -0.80291724 -0.80992247 -0.81040732\n",
      " -0.8222218  -0.82109984 -0.80247413 -0.82105022] \n",
      "\n",
      "Skor Setiap Iterasi Data Testing dari Metrics Mean Absolute Error: \n",
      " [-0.85329117 -0.81322448 -0.82064057 -0.79954249 -0.78515565]\n"
     ]
    }
   ],
   "source": [
    "# Melihat nilai dari setiap iterasi dari metrics mean absolute error dan mean squared error\n",
    "\n",
    "print(\"Skor Setiap Iterasi Data Training dari Metrics Mean Absolute Error: \\n\", mae_score_kfold_train_mei_10, \"\\n\")\n",
    "print(\"Skor Setiap Iterasi Data Testing dari Metrics Mean Absolute Error: \\n\", mae_score_kfold_test_mei_10, \"\\n\")\n",
    "print(\"Skor Setiap Iterasi Data Training dari Metrics Mean Absolute Error: \\n\", mse_score_kfold_train_mei_10, \"\\n\")\n",
    "print(\"Skor Setiap Iterasi Data Testing dari Metrics Mean Absolute Error: \\n\", mse_score_kfold_test_mei_10)"
   ]
  },
  {
   "cell_type": "code",
   "execution_count": 76,
   "metadata": {
    "scrolled": false
   },
   "outputs": [
    {
     "name": "stdout",
     "output_type": "stream",
     "text": [
      "---------------------------------Data Testing K-Fold----------------------------------\n",
      "Nilai Prediksi dari Data Test Menggunakan Metrics MAE adalah: 0.82 \n",
      "Nilai Prediksi dari Data Test Menggunakan Metrics MSE adalah: 0.81 \n",
      "\n",
      " ---------------------------------Data Training K-Fold----------------------------------\n",
      "Nilai Prediksi dari Data Train Menggunakan Metrics MAE adalah: 0.82 \n",
      "Nilai Prediksi dari Data Train Menggunakan Metrics MSE adalah: 0.81 \n"
     ]
    }
   ],
   "source": [
    "# Melihat hasil prediksi data test dan data train dengan metric MAE & MSE dari hasil K-Fold Cross Validation\n",
    "\n",
    "print(\"---------------------------------Data Testing K-Fold----------------------------------\")\n",
    "print(\"Nilai Prediksi dari Data Test Menggunakan Metrics MAE adalah: %.2f \" % np.mean(np.absolute\n",
    "                                                                                      (mae_score_kfold_train_mei_10)))\n",
    "print(\"Nilai Prediksi dari Data Test Menggunakan Metrics MSE adalah: %.2f \" % np.mean(np.absolute\n",
    "                                                                                      (mse_score_kfold_test_mei_10)))\n",
    "\n",
    "print(\"\\n\", \"---------------------------------Data Training K-Fold----------------------------------\")\n",
    "print(\"Nilai Prediksi dari Data Train Menggunakan Metrics MAE adalah: %.2f \" % np.mean(np.absolute\n",
    "                                                                                       (mae_score_kfold_train_mei_10)))\n",
    "print(\"Nilai Prediksi dari Data Train Menggunakan Metrics MSE adalah: %.2f \" % np.mean(np.absolute\n",
    "                                                                                       (mse_score_kfold_train_mei_10)))"
   ]
  },
  {
   "cell_type": "markdown",
   "metadata": {},
   "source": [
    "##### 4.1.3.3. Nilai K-Fold = 15"
   ]
  },
  {
   "cell_type": "code",
   "execution_count": 77,
   "metadata": {
    "scrolled": false
   },
   "outputs": [
    {
     "data": {
      "text/plain": [
       "KFold(n_splits=15, random_state=37, shuffle=True)"
      ]
     },
     "execution_count": 77,
     "metadata": {},
     "output_type": "execute_result"
    }
   ],
   "source": [
    "# Memanggil library K-Fold Cross Validation yang telah dipanggil diawal pemrosesan\n",
    "kfold_15 = KFold(n_splits=15, random_state=37, shuffle=True)\n",
    "kfold_15"
   ]
  },
  {
   "cell_type": "code",
   "execution_count": 78,
   "metadata": {
    "scrolled": true
   },
   "outputs": [
    {
     "data": {
      "text/plain": [
       "RandomForestRegressor()"
      ]
     },
     "execution_count": 78,
     "metadata": {},
     "output_type": "execute_result"
    }
   ],
   "source": [
    "\"\"\"\n",
    "Membuat model regresi linear + nilai parameter deafult yang \n",
    "kemudian akan diimplementasikan ke nilai 15 pada teknik k-fold cross validation\n",
    "\"\"\"\n",
    "\n",
    "kfold_randomforest_regression_mei_15 = RandomForestRegressor()\n",
    "kfold_randomforest_regression_mei_15.fit(x_train, y_train)"
   ]
  },
  {
   "cell_type": "code",
   "execution_count": 79,
   "metadata": {},
   "outputs": [],
   "source": [
    "\"\"\"\n",
    "Memanggil library cross_val_score untuk memvalidasi data training dan data test di model regresi random forest \n",
    "dengan menggunakan metrics MAE & MSE\n",
    "\"\"\"\n",
    "\n",
    "# Metric MAE untuk Data Training dan Data Testing\n",
    "mae_score_kfold_train_mei_15 = cross_val_score(kfold_randomforest_regression_mei_15, x_train, y_train, \n",
    "                                               scoring=\"neg_mean_absolute_error\", cv=kfold_15, n_jobs=1)\n",
    "\n",
    "mae_score_kfold_test_mei_15 = cross_val_score(kfold_randomforest_regression_mei_15, x_test, y_test, \n",
    "                                              scoring=\"neg_mean_absolute_error\", cv=kfold_15, n_jobs=1)\n",
    "\n",
    "# Metric MSE untuk Data Training dan Data Testing\n",
    "mse_score_kfold_train_mei_15 = cross_val_score(kfold_randomforest_regression_mei_15, x_train, y_train, \n",
    "                                               scoring=\"neg_mean_squared_error\", cv=kfold_15, n_jobs=1)\n",
    "\n",
    "mse_score_kfold_test_mei_15 = cross_val_score(kfold_randomforest_regression_mei_15, x_test, y_test, \n",
    "                                              scoring=\"neg_mean_squared_error\", cv=kfold_15, n_jobs=1)"
   ]
  },
  {
   "cell_type": "code",
   "execution_count": 80,
   "metadata": {
    "scrolled": false
   },
   "outputs": [
    {
     "name": "stdout",
     "output_type": "stream",
     "text": [
      "Skor Setiap Iterasi Data Training dari Metrics Mean Absolute Error: \n",
      " [-0.82536736 -0.82128919 -0.82647559 -0.82002245 -0.81363731 -0.81824671\n",
      " -0.81977539 -0.82160525 -0.82521199 -0.82981947 -0.82133933 -0.83127611\n",
      " -0.82019187 -0.81176867 -0.83220661] \n",
      "\n",
      "Skor Setiap Iterasi Data Testing dari Metrics Mean Absolute Error: \n",
      " [-0.83990608 -0.82721817 -0.84059891 -0.81968661 -0.81191312 -0.82456839\n",
      " -0.81657988 -0.84062527 -0.82818802 -0.80786656 -0.79835005 -0.8344692\n",
      " -0.80989217 -0.7926507  -0.81188333] \n",
      "\n",
      "Skor Setiap Iterasi Data Training dari Metrics Mean Absolute Error: \n",
      " [-0.82499134 -0.81199417 -0.81976785 -0.8089917  -0.79926964 -0.80472496\n",
      " -0.80808103 -0.80955519 -0.81277409 -0.82211227 -0.810115   -0.83227066\n",
      " -0.81023262 -0.79408568 -0.83093945] \n",
      "\n",
      "Skor Setiap Iterasi Data Testing dari Metrics Mean Absolute Error: \n",
      " [-0.86107158 -0.8349983  -0.85671842 -0.81172172 -0.79970752 -0.82142758\n",
      " -0.79903287 -0.84623254 -0.82295343 -0.77903015 -0.77536921 -0.83681345\n",
      " -0.79323136 -0.76544745 -0.7900639 ]\n"
     ]
    }
   ],
   "source": [
    "# Melihat nilai dari setiap iterasi dari metrics mean absolute error dan mean squared error\n",
    "\n",
    "print(\"Skor Setiap Iterasi Data Training dari Metrics Mean Absolute Error: \\n\", mae_score_kfold_train_mei_15, \"\\n\")\n",
    "print(\"Skor Setiap Iterasi Data Testing dari Metrics Mean Absolute Error: \\n\", mae_score_kfold_test_mei_15, \"\\n\")\n",
    "print(\"Skor Setiap Iterasi Data Training dari Metrics Mean Absolute Error: \\n\", mse_score_kfold_train_mei_15, \"\\n\")\n",
    "print(\"Skor Setiap Iterasi Data Testing dari Metrics Mean Absolute Error: \\n\", mse_score_kfold_test_mei_15)"
   ]
  },
  {
   "cell_type": "code",
   "execution_count": 81,
   "metadata": {
    "scrolled": true
   },
   "outputs": [
    {
     "name": "stdout",
     "output_type": "stream",
     "text": [
      "---------------------------------Data Testing K-Fold----------------------------------\n",
      "Nilai Prediksi dari Data Test Menggunakan Metrics MAE adalah: 0.82 \n",
      "Nilai Prediksi dari Data Test Menggunakan Metrics MSE adalah: 0.81 \n",
      "\n",
      " ---------------------------------Data Training K-Fold----------------------------------\n",
      "Nilai Prediksi dari Data Train Menggunakan Metrics MAE adalah: 0.82 \n",
      "Nilai Prediksi dari Data Train Menggunakan Metrics MSE adalah: 0.81 \n"
     ]
    }
   ],
   "source": [
    "# Melihat hasil prediksi data test dan data train dengan metric MAE & MSE dari hasil K-Fold Cross Validation\n",
    "\n",
    "print(\"---------------------------------Data Testing K-Fold----------------------------------\")\n",
    "print(\"Nilai Prediksi dari Data Test Menggunakan Metrics MAE adalah: %.2f \" % np.mean(np.absolute\n",
    "                                                                                      (mae_score_kfold_train_mei_15)))\n",
    "print(\"Nilai Prediksi dari Data Test Menggunakan Metrics MSE adalah: %.2f \" % np.mean(np.absolute\n",
    "                                                                                      (mse_score_kfold_test_mei_15)))\n",
    "\n",
    "print(\"\\n\", \"---------------------------------Data Training K-Fold----------------------------------\")\n",
    "print(\"Nilai Prediksi dari Data Train Menggunakan Metrics MAE adalah: %.2f \" % np.mean(np.absolute\n",
    "                                                                                       (mae_score_kfold_train_mei_15)))\n",
    "print(\"Nilai Prediksi dari Data Train Menggunakan Metrics MSE adalah: %.2f \" % np.mean(np.absolute\n",
    "                                                                                       (mse_score_kfold_train_mei_15)))"
   ]
  }
 ],
 "metadata": {
  "kernelspec": {
   "display_name": "Python 3",
   "language": "python",
   "name": "python3"
  },
  "language_info": {
   "codemirror_mode": {
    "name": "ipython",
    "version": 3
   },
   "file_extension": ".py",
   "mimetype": "text/x-python",
   "name": "python",
   "nbconvert_exporter": "python",
   "pygments_lexer": "ipython3",
   "version": "3.8.5"
  }
 },
 "nbformat": 4,
 "nbformat_minor": 4
}
