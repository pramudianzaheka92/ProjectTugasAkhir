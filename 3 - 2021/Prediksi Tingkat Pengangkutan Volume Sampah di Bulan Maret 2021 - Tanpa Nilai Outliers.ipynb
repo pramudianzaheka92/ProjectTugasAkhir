{
 "cells": [
  {
   "cell_type": "markdown",
   "metadata": {},
   "source": [
    "## 1. Import Library & Melakukan Eksplorasi Dataset dengan Pandas"
   ]
  },
  {
   "cell_type": "code",
   "execution_count": 1,
   "metadata": {},
   "outputs": [],
   "source": [
    "# Import library yang akan digunakan dalam melakukan prediksi\n",
    "import pandas as pd\n",
    "import numpy as np\n",
    "import matplotlib.pyplot as plt\n",
    "import seaborn as sns\n",
    "plt.style.use(\"seaborn\")\n",
    "import warnings\n",
    "warnings.filterwarnings(\"ignore\")\n",
    "from sklearn.model_selection import train_test_split, KFold, cross_val_score\n",
    "from sklearn.metrics import mean_absolute_error, mean_squared_error"
   ]
  },
  {
   "cell_type": "code",
   "execution_count": 2,
   "metadata": {},
   "outputs": [
    {
     "data": {
      "text/html": [
       "<div>\n",
       "<style scoped>\n",
       "    .dataframe tbody tr th:only-of-type {\n",
       "        vertical-align: middle;\n",
       "    }\n",
       "\n",
       "    .dataframe tbody tr th {\n",
       "        vertical-align: top;\n",
       "    }\n",
       "\n",
       "    .dataframe thead th {\n",
       "        text-align: right;\n",
       "    }\n",
       "</style>\n",
       "<table border=\"1\" class=\"dataframe\">\n",
       "  <thead>\n",
       "    <tr style=\"text-align: right;\">\n",
       "      <th></th>\n",
       "      <th>bulan</th>\n",
       "      <th>titik_lokasi</th>\n",
       "      <th>kecamatan</th>\n",
       "      <th>wilayah</th>\n",
       "      <th>panjang/luas</th>\n",
       "      <th>satuan_panjang/luas</th>\n",
       "      <th>tanggal</th>\n",
       "      <th>volume_sampah_perhari(m3)</th>\n",
       "    </tr>\n",
       "  </thead>\n",
       "  <tbody>\n",
       "    <tr>\n",
       "      <th>0</th>\n",
       "      <td>3</td>\n",
       "      <td>Kali / Sungai Sentiong - Ruas Dewi Sri</td>\n",
       "      <td>Johar Baru</td>\n",
       "      <td>Jakarta Pusat</td>\n",
       "      <td>464</td>\n",
       "      <td>m</td>\n",
       "      <td>1</td>\n",
       "      <td>3</td>\n",
       "    </tr>\n",
       "    <tr>\n",
       "      <th>1</th>\n",
       "      <td>3</td>\n",
       "      <td>Kali / Sungai Sentiong - Ruas Abapon</td>\n",
       "      <td>Johar Baru</td>\n",
       "      <td>Jakarta Pusat</td>\n",
       "      <td>464</td>\n",
       "      <td>m</td>\n",
       "      <td>1</td>\n",
       "      <td>4</td>\n",
       "    </tr>\n",
       "    <tr>\n",
       "      <th>2</th>\n",
       "      <td>3</td>\n",
       "      <td>Kali / Sungai Sentiong - JL Tanah Tinggi</td>\n",
       "      <td>Johar Baru</td>\n",
       "      <td>Jakarta Pusat</td>\n",
       "      <td>464</td>\n",
       "      <td>m</td>\n",
       "      <td>1</td>\n",
       "      <td>4</td>\n",
       "    </tr>\n",
       "    <tr>\n",
       "      <th>3</th>\n",
       "      <td>3</td>\n",
       "      <td>Kali / Sungai Sentiong Jl.Galur - Pombensin</td>\n",
       "      <td>Johar Baru</td>\n",
       "      <td>Jakarta Pusat</td>\n",
       "      <td>606</td>\n",
       "      <td>m</td>\n",
       "      <td>1</td>\n",
       "      <td>5</td>\n",
       "    </tr>\n",
       "    <tr>\n",
       "      <th>4</th>\n",
       "      <td>3</td>\n",
       "      <td>Kali / Sungai Sentiong - Jl. Timah</td>\n",
       "      <td>Johar Baru</td>\n",
       "      <td>Jakarta Pusat</td>\n",
       "      <td>310</td>\n",
       "      <td>m</td>\n",
       "      <td>1</td>\n",
       "      <td>6</td>\n",
       "    </tr>\n",
       "  </tbody>\n",
       "</table>\n",
       "</div>"
      ],
      "text/plain": [
       "   bulan                                titik_lokasi   kecamatan   \\\n",
       "0      3       Kali / Sungai Sentiong - Ruas Dewi Sri  Johar Baru   \n",
       "1      3         Kali / Sungai Sentiong - Ruas Abapon  Johar Baru   \n",
       "2      3     Kali / Sungai Sentiong - JL Tanah Tinggi  Johar Baru   \n",
       "3      3  Kali / Sungai Sentiong Jl.Galur - Pombensin  Johar Baru   \n",
       "4      3           Kali / Sungai Sentiong - Jl. Timah  Johar Baru   \n",
       "\n",
       "        wilayah   panjang/luas  satuan_panjang/luas  tanggal  \\\n",
       "0  Jakarta Pusat            464                   m        1   \n",
       "1  Jakarta Pusat            464                   m        1   \n",
       "2  Jakarta Pusat            464                   m        1   \n",
       "3  Jakarta Pusat            606                   m        1   \n",
       "4  Jakarta Pusat            310                   m        1   \n",
       "\n",
       "  volume_sampah_perhari(m3)  \n",
       "0                         3  \n",
       "1                         4  \n",
       "2                         4  \n",
       "3                         5  \n",
       "4                         6  "
      ]
     },
     "execution_count": 2,
     "metadata": {},
     "output_type": "execute_result"
    }
   ],
   "source": [
    "# Read dataset\n",
    "data_maret = pd.read_csv(\"volume-pengangkutan-sampah-di-kali-sungai-situ-waduk-bulan-maret-tahun-2021.csv\", \n",
    "                         encoding=\"latin-1\")\n",
    "data_maret.head()"
   ]
  },
  {
   "cell_type": "code",
   "execution_count": 3,
   "metadata": {},
   "outputs": [
    {
     "data": {
      "text/plain": [
       "bulan                        54715\n",
       " titik_lokasi                54715\n",
       " kecamatan                   54715\n",
       " wilayah                     54715\n",
       " panjang/luas                53723\n",
       "satuan_panjang/luas          33480\n",
       "tanggal                      54715\n",
       "volume_sampah_perhari(m3)    54715\n",
       "dtype: int64"
      ]
     },
     "execution_count": 3,
     "metadata": {},
     "output_type": "execute_result"
    }
   ],
   "source": [
    "# Melihat total data pada masing-masing kolom di dalam dataframe\n",
    "data_maret.count()"
   ]
  },
  {
   "cell_type": "code",
   "execution_count": 4,
   "metadata": {},
   "outputs": [
    {
     "data": {
      "text/plain": [
       "bulan                         int64\n",
       " titik_lokasi                object\n",
       " kecamatan                   object\n",
       " wilayah                     object\n",
       " panjang/luas                object\n",
       "satuan_panjang/luas          object\n",
       "tanggal                       int64\n",
       "volume_sampah_perhari(m3)    object\n",
       "dtype: object"
      ]
     },
     "execution_count": 4,
     "metadata": {},
     "output_type": "execute_result"
    }
   ],
   "source": [
    "# Melihat tipe data dari masing-masing kolom yang ada di dalam dataframe\n",
    "data_maret.dtypes"
   ]
  },
  {
   "cell_type": "code",
   "execution_count": 5,
   "metadata": {},
   "outputs": [
    {
     "data": {
      "text/plain": [
       "Index(['bulan', ' titik_lokasi ', ' kecamatan ', ' wilayah ', ' panjang/luas ',\n",
       "       'satuan_panjang/luas', 'tanggal', 'volume_sampah_perhari(m3)'],\n",
       "      dtype='object')"
      ]
     },
     "execution_count": 5,
     "metadata": {},
     "output_type": "execute_result"
    }
   ],
   "source": [
    "# Melihat nama kolom yang ada di dalam dataframe\n",
    "data_maret.columns"
   ]
  },
  {
   "cell_type": "code",
   "execution_count": 6,
   "metadata": {},
   "outputs": [
    {
     "data": {
      "text/plain": [
       "(54715, 8)"
      ]
     },
     "execution_count": 6,
     "metadata": {},
     "output_type": "execute_result"
    }
   ],
   "source": [
    "# Melihat jumlah rows dan kolom pada dataframe\n",
    "data_maret.shape"
   ]
  },
  {
   "cell_type": "markdown",
   "metadata": {},
   "source": [
    "Sangat berbeda sekali jumlah rows atau jumlah baris dari dataframe bulan Januari dan Februari 2021 dengan bulan Maret 2021. Pada bulan Januari jumlah rows-nya sebanyak 54343, bulan Februari memiliki jumlah baris yakni 49252 sedangkan jumlah rows di bulan Maret 2021 memiliki jumlah baris yakni mencapai 54715."
   ]
  },
  {
   "cell_type": "code",
   "execution_count": 7,
   "metadata": {},
   "outputs": [
    {
     "name": "stdout",
     "output_type": "stream",
     "text": [
      "<class 'pandas.core.frame.DataFrame'>\n",
      "RangeIndex: 54715 entries, 0 to 54714\n",
      "Data columns (total 8 columns):\n",
      " #   Column                     Non-Null Count  Dtype \n",
      "---  ------                     --------------  ----- \n",
      " 0   bulan                      54715 non-null  int64 \n",
      " 1    titik_lokasi              54715 non-null  object\n",
      " 2    kecamatan                 54715 non-null  object\n",
      " 3    wilayah                   54715 non-null  object\n",
      " 4    panjang/luas              53723 non-null  object\n",
      " 5   satuan_panjang/luas        33480 non-null  object\n",
      " 6   tanggal                    54715 non-null  int64 \n",
      " 7   volume_sampah_perhari(m3)  54715 non-null  object\n",
      "dtypes: int64(2), object(6)\n",
      "memory usage: 3.3+ MB\n"
     ]
    }
   ],
   "source": [
    "# Melihat info dataset (tipe data, total record data, dll)\n",
    "data_maret.info()"
   ]
  },
  {
   "cell_type": "code",
   "execution_count": 8,
   "metadata": {},
   "outputs": [],
   "source": [
    "# Menghapus jarak spasi pada kolom dataset\n",
    "data_maret.columns = data_maret.columns.str.replace(\" \", \"\")"
   ]
  },
  {
   "cell_type": "code",
   "execution_count": 9,
   "metadata": {},
   "outputs": [
    {
     "data": {
      "text/html": [
       "<div>\n",
       "<style scoped>\n",
       "    .dataframe tbody tr th:only-of-type {\n",
       "        vertical-align: middle;\n",
       "    }\n",
       "\n",
       "    .dataframe tbody tr th {\n",
       "        vertical-align: top;\n",
       "    }\n",
       "\n",
       "    .dataframe thead th {\n",
       "        text-align: right;\n",
       "    }\n",
       "</style>\n",
       "<table border=\"1\" class=\"dataframe\">\n",
       "  <thead>\n",
       "    <tr style=\"text-align: right;\">\n",
       "      <th></th>\n",
       "      <th>bulan</th>\n",
       "      <th>titik_lokasi</th>\n",
       "      <th>kecamatan</th>\n",
       "      <th>wilayah</th>\n",
       "      <th>panjang/luas</th>\n",
       "      <th>satuan_panjang/luas</th>\n",
       "      <th>tanggal</th>\n",
       "      <th>volume_sampah_perhari(m3)</th>\n",
       "    </tr>\n",
       "  </thead>\n",
       "  <tbody>\n",
       "    <tr>\n",
       "      <th>count</th>\n",
       "      <td>54715.0</td>\n",
       "      <td>54715</td>\n",
       "      <td>54715</td>\n",
       "      <td>54715</td>\n",
       "      <td>53723</td>\n",
       "      <td>33480</td>\n",
       "      <td>54715.000000</td>\n",
       "      <td>54715</td>\n",
       "    </tr>\n",
       "    <tr>\n",
       "      <th>unique</th>\n",
       "      <td>NaN</td>\n",
       "      <td>1759</td>\n",
       "      <td>42</td>\n",
       "      <td>5</td>\n",
       "      <td>420</td>\n",
       "      <td>10</td>\n",
       "      <td>NaN</td>\n",
       "      <td>77</td>\n",
       "    </tr>\n",
       "    <tr>\n",
       "      <th>top</th>\n",
       "      <td>NaN</td>\n",
       "      <td>PHB Pramuka</td>\n",
       "      <td>Kalideres</td>\n",
       "      <td>Jakarta Barat</td>\n",
       "      <td>1000</td>\n",
       "      <td>m</td>\n",
       "      <td>NaN</td>\n",
       "      <td>-</td>\n",
       "    </tr>\n",
       "    <tr>\n",
       "      <th>freq</th>\n",
       "      <td>NaN</td>\n",
       "      <td>62</td>\n",
       "      <td>2945</td>\n",
       "      <td>16523</td>\n",
       "      <td>6634</td>\n",
       "      <td>31775</td>\n",
       "      <td>NaN</td>\n",
       "      <td>15992</td>\n",
       "    </tr>\n",
       "    <tr>\n",
       "      <th>mean</th>\n",
       "      <td>3.0</td>\n",
       "      <td>NaN</td>\n",
       "      <td>NaN</td>\n",
       "      <td>NaN</td>\n",
       "      <td>NaN</td>\n",
       "      <td>NaN</td>\n",
       "      <td>16.000000</td>\n",
       "      <td>NaN</td>\n",
       "    </tr>\n",
       "    <tr>\n",
       "      <th>std</th>\n",
       "      <td>0.0</td>\n",
       "      <td>NaN</td>\n",
       "      <td>NaN</td>\n",
       "      <td>NaN</td>\n",
       "      <td>NaN</td>\n",
       "      <td>NaN</td>\n",
       "      <td>8.944354</td>\n",
       "      <td>NaN</td>\n",
       "    </tr>\n",
       "    <tr>\n",
       "      <th>min</th>\n",
       "      <td>3.0</td>\n",
       "      <td>NaN</td>\n",
       "      <td>NaN</td>\n",
       "      <td>NaN</td>\n",
       "      <td>NaN</td>\n",
       "      <td>NaN</td>\n",
       "      <td>1.000000</td>\n",
       "      <td>NaN</td>\n",
       "    </tr>\n",
       "    <tr>\n",
       "      <th>25%</th>\n",
       "      <td>3.0</td>\n",
       "      <td>NaN</td>\n",
       "      <td>NaN</td>\n",
       "      <td>NaN</td>\n",
       "      <td>NaN</td>\n",
       "      <td>NaN</td>\n",
       "      <td>8.000000</td>\n",
       "      <td>NaN</td>\n",
       "    </tr>\n",
       "    <tr>\n",
       "      <th>50%</th>\n",
       "      <td>3.0</td>\n",
       "      <td>NaN</td>\n",
       "      <td>NaN</td>\n",
       "      <td>NaN</td>\n",
       "      <td>NaN</td>\n",
       "      <td>NaN</td>\n",
       "      <td>16.000000</td>\n",
       "      <td>NaN</td>\n",
       "    </tr>\n",
       "    <tr>\n",
       "      <th>75%</th>\n",
       "      <td>3.0</td>\n",
       "      <td>NaN</td>\n",
       "      <td>NaN</td>\n",
       "      <td>NaN</td>\n",
       "      <td>NaN</td>\n",
       "      <td>NaN</td>\n",
       "      <td>24.000000</td>\n",
       "      <td>NaN</td>\n",
       "    </tr>\n",
       "    <tr>\n",
       "      <th>max</th>\n",
       "      <td>3.0</td>\n",
       "      <td>NaN</td>\n",
       "      <td>NaN</td>\n",
       "      <td>NaN</td>\n",
       "      <td>NaN</td>\n",
       "      <td>NaN</td>\n",
       "      <td>31.000000</td>\n",
       "      <td>NaN</td>\n",
       "    </tr>\n",
       "  </tbody>\n",
       "</table>\n",
       "</div>"
      ],
      "text/plain": [
       "          bulan titik_lokasi  kecamatan        wilayah panjang/luas  \\\n",
       "count   54715.0        54715      54715          54715        53723   \n",
       "unique      NaN         1759         42              5          420   \n",
       "top         NaN  PHB Pramuka  Kalideres  Jakarta Barat         1000   \n",
       "freq        NaN           62       2945          16523         6634   \n",
       "mean        3.0          NaN        NaN            NaN          NaN   \n",
       "std         0.0          NaN        NaN            NaN          NaN   \n",
       "min         3.0          NaN        NaN            NaN          NaN   \n",
       "25%         3.0          NaN        NaN            NaN          NaN   \n",
       "50%         3.0          NaN        NaN            NaN          NaN   \n",
       "75%         3.0          NaN        NaN            NaN          NaN   \n",
       "max         3.0          NaN        NaN            NaN          NaN   \n",
       "\n",
       "       satuan_panjang/luas       tanggal volume_sampah_perhari(m3)  \n",
       "count                33480  54715.000000                     54715  \n",
       "unique                  10           NaN                        77  \n",
       "top                      m           NaN                         -  \n",
       "freq                 31775           NaN                     15992  \n",
       "mean                   NaN     16.000000                       NaN  \n",
       "std                    NaN      8.944354                       NaN  \n",
       "min                    NaN      1.000000                       NaN  \n",
       "25%                    NaN      8.000000                       NaN  \n",
       "50%                    NaN     16.000000                       NaN  \n",
       "75%                    NaN     24.000000                       NaN  \n",
       "max                    NaN     31.000000                       NaN  "
      ]
     },
     "execution_count": 9,
     "metadata": {},
     "output_type": "execute_result"
    }
   ],
   "source": [
    "# Melihat nilai statistik deskriptif dari dataframe untuk keseluruhan kolom\n",
    "data_maret.describe(include=\"all\")"
   ]
  },
  {
   "cell_type": "markdown",
   "metadata": {},
   "source": [
    "Hasil keluaran diatas menandakan beberapa nilai-nilai dari statistik deskriptif dari kedua jenis data yakni numerik (tipe data int & float) dan kategorik (tipe data object/string) dan tentu saja setiap jenis data memiliki nilai deskriptif yang berbeda. Seperti misalnya jenis data numerik memiliki nilai deskriptif seperti count, mean, std (standard deviasi), maximum, minimum, quartil 1 (25%), quartil 2/median (50%) dan quartil 3 (75%). Sedangkan jenis data kategorik memiliki nilai deskriptif seperti count, unique, top dan freq (frekuensi data).\n",
    "\n",
    "Sebagai contoh dapat dilihat pada penjelasan dibawah ini:\n",
    "\n",
    "- Pada kolom titik_lokasi tidak memiliki nilai mean, standard deviasi, min, dll, tetapi memiliki nilai top, unique, freq, dll. Hal tersebut dikarenakan kolom titik_lokasi bersifat kategorik (karena memiliki tipe data string). Maka dari itu kolom titik_lokasi memiliki nilai top yakni Saluran PHB Asem, nilai freq adalah 62, dst.\n",
    "\n",
    "- Sedangkan pada kolom tanggal tidak memiliki nilai top, freq, dll tetapi memiliki nilai mean, standard deviasi, min, max, dll. Hal tersebut dikarenakan kolom tanggal bersifat numerik. Hal ini dapat dilihat dari nilai mean pada kolom tanggal adalah 16, nilai max adalah 31, nilai quartil 3 adalah 24, dst.\n",
    "\n",
    "Berikut adalah kolom-kolom yang bersifat kategorik dan numerik:\n",
    "\n",
    "- Kategorik: titik_lokasi, kecamatan, wilayah, panjang/luas, satuan_panjang/luas dan volume_sampah_perhari(m3).\n",
    "- Numerik: bulan dan tanggal."
   ]
  },
  {
   "cell_type": "code",
   "execution_count": 10,
   "metadata": {},
   "outputs": [
    {
     "name": "stdout",
     "output_type": "stream",
     "text": [
      "Kalideres            2945\n",
      "Tanjung Priok        2914\n",
      "Penjaringan          2759\n",
      "Cengkareng           2542\n",
      "Cilincing            2542\n",
      "Grogol Petamburan    2325\n",
      "Cakung               2263\n",
      "Kembangan            2232\n",
      "Tamansari            1953\n",
      "Pademangan           1891\n",
      "Kebon Jeruk          1581\n",
      "Tambora              1550\n",
      "Kelapa Gading        1488\n",
      "Koja                 1395\n",
      "Palmerah             1395\n",
      "Jatinegara           1364\n",
      "Pulo Gadung          1333\n",
      "Duren Sawit          1302\n",
      "Jagakarsa            1209\n",
      "Pasar Rebo           1147\n",
      "Kramat Jati          1116\n",
      "Ciracas               992\n",
      "Matraman              961\n",
      "Makasar               961\n",
      "Gambir                930\n",
      "Tanah Abang           899\n",
      "Pancoran              868\n",
      "Pasar Minggu          837\n",
      "Cilandak              837\n",
      "Kebayoran Baru        837\n",
      "Kebayoran Lama        806\n",
      "Setiabudi             775\n",
      "Tebet                 744\n",
      "Mampang Prapatan      713\n",
      "Cipayung              651\n",
      "Pesanggrahan          620\n",
      "Sawah Besar           558\n",
      "Senen                 527\n",
      "Cempaka Putih         527\n",
      "Kemayoran             527\n",
      "Menteng               496\n",
      "Johar Baru            403\n",
      "Name: kecamatan, dtype: int64\n",
      "\n",
      "Jakarta Barat      16523\n",
      "Jakarta Utara      12989\n",
      "Jakarta Timur      12090\n",
      "Jakarta Selatan     8246\n",
      "Jakarta Pusat       4867\n",
      "Name: wilayah, dtype: int64\n",
      "\n",
      "m         31775\n",
      "Ha         1364\n",
      "H            93\n",
      "HA           62\n",
      "m³           31\n",
      "m²           31\n",
      "m2           31\n",
      "hektar       31\n",
      "Hektar       31\n",
      "km           31\n",
      "Name: satuan_panjang/luas, dtype: int64\n"
     ]
    }
   ],
   "source": [
    "\"\"\"\n",
    "Menghitung nilai dari beberapa kolom (kecamatan, wilayah, satuan_panjang/satuan) \n",
    "dari yang sering muncul - tidak sering muncul di dalam dataframe\n",
    "\"\"\"\n",
    "print(data_maret[\"kecamatan\"].value_counts())\n",
    "print()\n",
    "\n",
    "print(data_maret[\"wilayah\"].value_counts())\n",
    "print()\n",
    "\n",
    "print(data_maret[\"satuan_panjang/luas\"].value_counts())"
   ]
  },
  {
   "cell_type": "code",
   "execution_count": 11,
   "metadata": {},
   "outputs": [
    {
     "data": {
      "text/plain": [
       "Index(['bulan', 'titik_lokasi', 'kecamatan', 'wilayah', 'panjang_luas',\n",
       "       'satuan_panjang', 'tanggal', 'volume_sampah_perhari(m3)'],\n",
       "      dtype='object')"
      ]
     },
     "execution_count": 11,
     "metadata": {},
     "output_type": "execute_result"
    }
   ],
   "source": [
    "# Mengubah nama kolom dari yang semula \"panjang/luas\" dan \"satuan_panjang/luas\" menjadi \"panjang_luas\" dan \"satuan_panjang\"\n",
    "rename_column_data = data_maret.rename(columns={\"panjang/luas\": \"panjang_luas\", \"satuan_panjang/luas\":\"satuan_panjang\"})\n",
    "\n",
    "rename_column_data.columns"
   ]
  },
  {
   "cell_type": "code",
   "execution_count": 12,
   "metadata": {},
   "outputs": [
    {
     "data": {
      "text/html": [
       "<div>\n",
       "<style scoped>\n",
       "    .dataframe tbody tr th:only-of-type {\n",
       "        vertical-align: middle;\n",
       "    }\n",
       "\n",
       "    .dataframe tbody tr th {\n",
       "        vertical-align: top;\n",
       "    }\n",
       "\n",
       "    .dataframe thead th {\n",
       "        text-align: right;\n",
       "    }\n",
       "</style>\n",
       "<table border=\"1\" class=\"dataframe\">\n",
       "  <thead>\n",
       "    <tr style=\"text-align: right;\">\n",
       "      <th></th>\n",
       "      <th>bulan</th>\n",
       "      <th>titik_lokasi</th>\n",
       "      <th>kecamatan</th>\n",
       "      <th>wilayah</th>\n",
       "      <th>panjang_luas</th>\n",
       "      <th>satuan_panjang</th>\n",
       "      <th>tanggal</th>\n",
       "      <th>volume_sampah_perhari(m3)</th>\n",
       "    </tr>\n",
       "  </thead>\n",
       "  <tbody>\n",
       "    <tr>\n",
       "      <th>58</th>\n",
       "      <td>3</td>\n",
       "      <td>Emplasment Pompa Cideng</td>\n",
       "      <td>Gambir</td>\n",
       "      <td>Jakarta Pusat</td>\n",
       "      <td>4</td>\n",
       "      <td>m³</td>\n",
       "      <td>1</td>\n",
       "      <td>3</td>\n",
       "    </tr>\n",
       "    <tr>\n",
       "      <th>1823</th>\n",
       "      <td>3</td>\n",
       "      <td>Emplasment Pompa Cideng</td>\n",
       "      <td>Gambir</td>\n",
       "      <td>Jakarta Pusat</td>\n",
       "      <td>4</td>\n",
       "      <td>m³</td>\n",
       "      <td>2</td>\n",
       "      <td>1</td>\n",
       "    </tr>\n",
       "    <tr>\n",
       "      <th>3588</th>\n",
       "      <td>3</td>\n",
       "      <td>Emplasment Pompa Cideng</td>\n",
       "      <td>Gambir</td>\n",
       "      <td>Jakarta Pusat</td>\n",
       "      <td>4</td>\n",
       "      <td>m³</td>\n",
       "      <td>3</td>\n",
       "      <td>0.5</td>\n",
       "    </tr>\n",
       "    <tr>\n",
       "      <th>5353</th>\n",
       "      <td>3</td>\n",
       "      <td>Emplasment Pompa Cideng</td>\n",
       "      <td>Gambir</td>\n",
       "      <td>Jakarta Pusat</td>\n",
       "      <td>4</td>\n",
       "      <td>m³</td>\n",
       "      <td>4</td>\n",
       "      <td>1.5</td>\n",
       "    </tr>\n",
       "    <tr>\n",
       "      <th>7118</th>\n",
       "      <td>3</td>\n",
       "      <td>Emplasment Pompa Cideng</td>\n",
       "      <td>Gambir</td>\n",
       "      <td>Jakarta Pusat</td>\n",
       "      <td>4</td>\n",
       "      <td>m³</td>\n",
       "      <td>5</td>\n",
       "      <td>0</td>\n",
       "    </tr>\n",
       "  </tbody>\n",
       "</table>\n",
       "</div>"
      ],
      "text/plain": [
       "      bulan             titik_lokasi kecamatan        wilayah panjang_luas  \\\n",
       "58        3  Emplasment Pompa Cideng    Gambir  Jakarta Pusat            4   \n",
       "1823      3  Emplasment Pompa Cideng    Gambir  Jakarta Pusat            4   \n",
       "3588      3  Emplasment Pompa Cideng    Gambir  Jakarta Pusat            4   \n",
       "5353      3  Emplasment Pompa Cideng    Gambir  Jakarta Pusat            4   \n",
       "7118      3  Emplasment Pompa Cideng    Gambir  Jakarta Pusat            4   \n",
       "\n",
       "     satuan_panjang  tanggal volume_sampah_perhari(m3)  \n",
       "58               m³        1                         3  \n",
       "1823             m³        2                         1  \n",
       "3588             m³        3                       0.5  \n",
       "5353             m³        4                       1.5  \n",
       "7118             m³        5                         0  "
      ]
     },
     "execution_count": 12,
     "metadata": {},
     "output_type": "execute_result"
    }
   ],
   "source": [
    "# Memisahkan semua data yang memiliki panjang_luas = m³ dari 5 data teratas\n",
    "data_m3 = rename_column_data[rename_column_data.satuan_panjang == \"m³\"]\n",
    "data_m3.head()"
   ]
  },
  {
   "cell_type": "code",
   "execution_count": 13,
   "metadata": {},
   "outputs": [
    {
     "data": {
      "text/html": [
       "<div>\n",
       "<style scoped>\n",
       "    .dataframe tbody tr th:only-of-type {\n",
       "        vertical-align: middle;\n",
       "    }\n",
       "\n",
       "    .dataframe tbody tr th {\n",
       "        vertical-align: top;\n",
       "    }\n",
       "\n",
       "    .dataframe thead th {\n",
       "        text-align: right;\n",
       "    }\n",
       "</style>\n",
       "<table border=\"1\" class=\"dataframe\">\n",
       "  <thead>\n",
       "    <tr style=\"text-align: right;\">\n",
       "      <th></th>\n",
       "      <th>bulan</th>\n",
       "      <th>titik_lokasi</th>\n",
       "      <th>kecamatan</th>\n",
       "      <th>wilayah</th>\n",
       "      <th>panjang_luas</th>\n",
       "      <th>satuan_panjang</th>\n",
       "      <th>tanggal</th>\n",
       "      <th>volume_sampah_perhari(m3)</th>\n",
       "    </tr>\n",
       "  </thead>\n",
       "  <tbody>\n",
       "    <tr>\n",
       "      <th>49645</th>\n",
       "      <td>3</td>\n",
       "      <td>PHB Gading Griya Lestari Kel. Sukapura</td>\n",
       "      <td>Cilincing</td>\n",
       "      <td>Jakarta Utara</td>\n",
       "      <td>700/10</td>\n",
       "      <td>NaN</td>\n",
       "      <td>29</td>\n",
       "      <td>0</td>\n",
       "    </tr>\n",
       "    <tr>\n",
       "      <th>51348</th>\n",
       "      <td>3</td>\n",
       "      <td>Kali Sengkang Kel. Kali Baru</td>\n",
       "      <td>Cilincing</td>\n",
       "      <td>Jakarta Utara</td>\n",
       "      <td>700/10</td>\n",
       "      <td>NaN</td>\n",
       "      <td>30</td>\n",
       "      <td>0</td>\n",
       "    </tr>\n",
       "    <tr>\n",
       "      <th>51410</th>\n",
       "      <td>3</td>\n",
       "      <td>PHB Gading Griya Lestari Kel. Sukapura</td>\n",
       "      <td>Cilincing</td>\n",
       "      <td>Jakarta Utara</td>\n",
       "      <td>700/10</td>\n",
       "      <td>NaN</td>\n",
       "      <td>30</td>\n",
       "      <td>0</td>\n",
       "    </tr>\n",
       "    <tr>\n",
       "      <th>53113</th>\n",
       "      <td>3</td>\n",
       "      <td>Kali Sengkang Kel. Kali Baru</td>\n",
       "      <td>Cilincing</td>\n",
       "      <td>Jakarta Utara</td>\n",
       "      <td>700/10</td>\n",
       "      <td>NaN</td>\n",
       "      <td>31</td>\n",
       "      <td>0</td>\n",
       "    </tr>\n",
       "    <tr>\n",
       "      <th>53175</th>\n",
       "      <td>3</td>\n",
       "      <td>PHB Gading Griya Lestari Kel. Sukapura</td>\n",
       "      <td>Cilincing</td>\n",
       "      <td>Jakarta Utara</td>\n",
       "      <td>700/10</td>\n",
       "      <td>NaN</td>\n",
       "      <td>31</td>\n",
       "      <td>0</td>\n",
       "    </tr>\n",
       "  </tbody>\n",
       "</table>\n",
       "</div>"
      ],
      "text/plain": [
       "       bulan                            titik_lokasi  kecamatan  \\\n",
       "49645      3  PHB Gading Griya Lestari Kel. Sukapura  Cilincing   \n",
       "51348      3            Kali Sengkang Kel. Kali Baru  Cilincing   \n",
       "51410      3  PHB Gading Griya Lestari Kel. Sukapura  Cilincing   \n",
       "53113      3            Kali Sengkang Kel. Kali Baru  Cilincing   \n",
       "53175      3  PHB Gading Griya Lestari Kel. Sukapura  Cilincing   \n",
       "\n",
       "             wilayah panjang_luas satuan_panjang  tanggal  \\\n",
       "49645  Jakarta Utara       700/10            NaN       29   \n",
       "51348  Jakarta Utara       700/10            NaN       30   \n",
       "51410  Jakarta Utara       700/10            NaN       30   \n",
       "53113  Jakarta Utara       700/10            NaN       31   \n",
       "53175  Jakarta Utara       700/10            NaN       31   \n",
       "\n",
       "      volume_sampah_perhari(m3)  \n",
       "49645                         0  \n",
       "51348                         0  \n",
       "51410                         0  \n",
       "53113                         0  \n",
       "53175                         0  "
      ]
     },
     "execution_count": 13,
     "metadata": {},
     "output_type": "execute_result"
    }
   ],
   "source": [
    "# Memisahkan semua data yang memiliki panjang_luas = 700/10 yang dilihat dari 5 baris data terakhir\n",
    "data_satpanjang = rename_column_data[rename_column_data.panjang_luas == \"700/10\"]\n",
    "data_satpanjang.tail()"
   ]
  },
  {
   "cell_type": "code",
   "execution_count": 14,
   "metadata": {},
   "outputs": [
    {
     "data": {
      "text/html": [
       "<div>\n",
       "<style scoped>\n",
       "    .dataframe tbody tr th:only-of-type {\n",
       "        vertical-align: middle;\n",
       "    }\n",
       "\n",
       "    .dataframe tbody tr th {\n",
       "        vertical-align: top;\n",
       "    }\n",
       "\n",
       "    .dataframe thead th {\n",
       "        text-align: right;\n",
       "    }\n",
       "</style>\n",
       "<table border=\"1\" class=\"dataframe\">\n",
       "  <thead>\n",
       "    <tr style=\"text-align: right;\">\n",
       "      <th></th>\n",
       "      <th>bulan</th>\n",
       "      <th>titik_lokasi</th>\n",
       "      <th>kecamatan</th>\n",
       "      <th>wilayah</th>\n",
       "      <th>panjang_luas</th>\n",
       "      <th>satuan_panjang</th>\n",
       "      <th>tanggal</th>\n",
       "      <th>volume_sampah_perhari(m3)</th>\n",
       "    </tr>\n",
       "  </thead>\n",
       "  <tbody>\n",
       "    <tr>\n",
       "      <th>1203</th>\n",
       "      <td>3</td>\n",
       "      <td>Ciliwung MT. Haryono (Indo Mobil - Kebon Baru ...</td>\n",
       "      <td>Tebet</td>\n",
       "      <td>Jakarta Selatan</td>\n",
       "      <td>1000</td>\n",
       "      <td>NaN</td>\n",
       "      <td>1</td>\n",
       "      <td>0</td>\n",
       "    </tr>\n",
       "    <tr>\n",
       "      <th>1204</th>\n",
       "      <td>3</td>\n",
       "      <td>Ciliwung MT. Haryono (Kebon Baru Jln F - Kampu...</td>\n",
       "      <td>Tebet</td>\n",
       "      <td>Jakarta Selatan</td>\n",
       "      <td>1000</td>\n",
       "      <td>NaN</td>\n",
       "      <td>1</td>\n",
       "      <td>1</td>\n",
       "    </tr>\n",
       "    <tr>\n",
       "      <th>1205</th>\n",
       "      <td>3</td>\n",
       "      <td>Ciliwung Kampung Melayu Tongtek</td>\n",
       "      <td>Tebet</td>\n",
       "      <td>Jakarta Selatan</td>\n",
       "      <td>1000</td>\n",
       "      <td>NaN</td>\n",
       "      <td>1</td>\n",
       "      <td>0</td>\n",
       "    </tr>\n",
       "    <tr>\n",
       "      <th>1206</th>\n",
       "      <td>3</td>\n",
       "      <td>Ciliwung Tongtek Pintu Air Manggarai</td>\n",
       "      <td>Tebet</td>\n",
       "      <td>Jakarta Selatan</td>\n",
       "      <td>1000</td>\n",
       "      <td>NaN</td>\n",
       "      <td>1</td>\n",
       "      <td>2</td>\n",
       "    </tr>\n",
       "    <tr>\n",
       "      <th>1207</th>\n",
       "      <td>3</td>\n",
       "      <td>Saluran PHB Asem Baris Raya</td>\n",
       "      <td>Tebet</td>\n",
       "      <td>Jakarta Selatan</td>\n",
       "      <td>1000</td>\n",
       "      <td>NaN</td>\n",
       "      <td>1</td>\n",
       "      <td>1</td>\n",
       "    </tr>\n",
       "    <tr>\n",
       "      <th>1208</th>\n",
       "      <td>3</td>\n",
       "      <td>Saluran PHB Gudang Baru</td>\n",
       "      <td>Tebet</td>\n",
       "      <td>Jakarta Selatan</td>\n",
       "      <td>1000</td>\n",
       "      <td>NaN</td>\n",
       "      <td>1</td>\n",
       "      <td>1</td>\n",
       "    </tr>\n",
       "    <tr>\n",
       "      <th>1209</th>\n",
       "      <td>3</td>\n",
       "      <td>Saluran Kalibata Taman Seno - Rusun Berlian</td>\n",
       "      <td>Tebet</td>\n",
       "      <td>Jakarta Selatan</td>\n",
       "      <td>2000</td>\n",
       "      <td>NaN</td>\n",
       "      <td>1</td>\n",
       "      <td>0</td>\n",
       "    </tr>\n",
       "    <tr>\n",
       "      <th>1210</th>\n",
       "      <td>3</td>\n",
       "      <td>Saluran PHB Taman Honda</td>\n",
       "      <td>Tebet</td>\n",
       "      <td>Jakarta Selatan</td>\n",
       "      <td>1500</td>\n",
       "      <td>NaN</td>\n",
       "      <td>1</td>\n",
       "      <td></td>\n",
       "    </tr>\n",
       "    <tr>\n",
       "      <th>1211</th>\n",
       "      <td>3</td>\n",
       "      <td>Saluran Kalibata Rusun Berlian - Jembatan Syafei</td>\n",
       "      <td>Tebet</td>\n",
       "      <td>Jakarta Selatan</td>\n",
       "      <td>1000</td>\n",
       "      <td>NaN</td>\n",
       "      <td>1</td>\n",
       "      <td>0</td>\n",
       "    </tr>\n",
       "    <tr>\n",
       "      <th>1212</th>\n",
       "      <td>3</td>\n",
       "      <td>Saluran Kalibata Jembatan Syafei - Jembatan Me...</td>\n",
       "      <td>Tebet</td>\n",
       "      <td>Jakarta Selatan</td>\n",
       "      <td>3000</td>\n",
       "      <td>NaN</td>\n",
       "      <td>1</td>\n",
       "      <td>0</td>\n",
       "    </tr>\n",
       "  </tbody>\n",
       "</table>\n",
       "</div>"
      ],
      "text/plain": [
       "      bulan                                       titik_lokasi kecamatan  \\\n",
       "1203      3  Ciliwung MT. Haryono (Indo Mobil - Kebon Baru ...     Tebet   \n",
       "1204      3  Ciliwung MT. Haryono (Kebon Baru Jln F - Kampu...     Tebet   \n",
       "1205      3                    Ciliwung Kampung Melayu Tongtek     Tebet   \n",
       "1206      3               Ciliwung Tongtek Pintu Air Manggarai     Tebet   \n",
       "1207      3                        Saluran PHB Asem Baris Raya     Tebet   \n",
       "1208      3                            Saluran PHB Gudang Baru     Tebet   \n",
       "1209      3        Saluran Kalibata Taman Seno - Rusun Berlian     Tebet   \n",
       "1210      3                            Saluran PHB Taman Honda     Tebet   \n",
       "1211      3   Saluran Kalibata Rusun Berlian - Jembatan Syafei     Tebet   \n",
       "1212      3  Saluran Kalibata Jembatan Syafei - Jembatan Me...     Tebet   \n",
       "\n",
       "              wilayah panjang_luas satuan_panjang  tanggal  \\\n",
       "1203  Jakarta Selatan         1000            NaN        1   \n",
       "1204  Jakarta Selatan         1000            NaN        1   \n",
       "1205  Jakarta Selatan         1000            NaN        1   \n",
       "1206  Jakarta Selatan         1000            NaN        1   \n",
       "1207  Jakarta Selatan         1000            NaN        1   \n",
       "1208  Jakarta Selatan         1000            NaN        1   \n",
       "1209  Jakarta Selatan         2000            NaN        1   \n",
       "1210  Jakarta Selatan         1500            NaN        1   \n",
       "1211  Jakarta Selatan         1000            NaN        1   \n",
       "1212  Jakarta Selatan         3000            NaN        1   \n",
       "\n",
       "     volume_sampah_perhari(m3)  \n",
       "1203                         0  \n",
       "1204                         1  \n",
       "1205                         0  \n",
       "1206                         2  \n",
       "1207                         1  \n",
       "1208                         1  \n",
       "1209                         0  \n",
       "1210                           \n",
       "1211                         0  \n",
       "1212                         0  "
      ]
     },
     "execution_count": 14,
     "metadata": {},
     "output_type": "execute_result"
    }
   ],
   "source": [
    "# Memisahkan semua data yang memiliki kecamatan = Tebet dari 10 data teratas\n",
    "data_tebet = rename_column_data[rename_column_data.kecamatan == \"Tebet\"]\n",
    "data_tebet.head(10)"
   ]
  },
  {
   "cell_type": "code",
   "execution_count": 15,
   "metadata": {},
   "outputs": [
    {
     "data": {
      "text/html": [
       "<div>\n",
       "<style scoped>\n",
       "    .dataframe tbody tr th:only-of-type {\n",
       "        vertical-align: middle;\n",
       "    }\n",
       "\n",
       "    .dataframe tbody tr th {\n",
       "        vertical-align: top;\n",
       "    }\n",
       "\n",
       "    .dataframe thead th {\n",
       "        text-align: right;\n",
       "    }\n",
       "</style>\n",
       "<table border=\"1\" class=\"dataframe\">\n",
       "  <thead>\n",
       "    <tr style=\"text-align: right;\">\n",
       "      <th></th>\n",
       "      <th>bulan</th>\n",
       "      <th>titik_lokasi</th>\n",
       "      <th>kecamatan</th>\n",
       "      <th>wilayah</th>\n",
       "      <th>panjang/luas</th>\n",
       "      <th>satuan_panjang/luas</th>\n",
       "      <th>tanggal</th>\n",
       "      <th>volume_sampah_perhari(m3)</th>\n",
       "    </tr>\n",
       "  </thead>\n",
       "  <tbody>\n",
       "    <tr>\n",
       "      <th>54710</th>\n",
       "      <td>3</td>\n",
       "      <td>Kali Cakung Drain (Jembatan Tinggi-Perbatasan ...</td>\n",
       "      <td>Cakung</td>\n",
       "      <td>Jakarta Timur</td>\n",
       "      <td>800</td>\n",
       "      <td>m</td>\n",
       "      <td>31</td>\n",
       "      <td>-</td>\n",
       "    </tr>\n",
       "    <tr>\n",
       "      <th>54711</th>\n",
       "      <td>3</td>\n",
       "      <td>PHB Rawa Teratai</td>\n",
       "      <td>Cakung</td>\n",
       "      <td>Jakarta Timur</td>\n",
       "      <td>700</td>\n",
       "      <td>m</td>\n",
       "      <td>31</td>\n",
       "      <td>-</td>\n",
       "    </tr>\n",
       "    <tr>\n",
       "      <th>54712</th>\n",
       "      <td>3</td>\n",
       "      <td>PHB Rawa Gelam III</td>\n",
       "      <td>Cakung</td>\n",
       "      <td>Jakarta Timur</td>\n",
       "      <td>1000</td>\n",
       "      <td>m</td>\n",
       "      <td>31</td>\n",
       "      <td>-</td>\n",
       "    </tr>\n",
       "    <tr>\n",
       "      <th>54713</th>\n",
       "      <td>3</td>\n",
       "      <td>PHB Metropos KIP</td>\n",
       "      <td>Cakung</td>\n",
       "      <td>Jakarta Timur</td>\n",
       "      <td>1000</td>\n",
       "      <td>m</td>\n",
       "      <td>31</td>\n",
       "      <td>-</td>\n",
       "    </tr>\n",
       "    <tr>\n",
       "      <th>54714</th>\n",
       "      <td>3</td>\n",
       "      <td>PHB Warung Jengkol</td>\n",
       "      <td>Cakung</td>\n",
       "      <td>Jakarta Timur</td>\n",
       "      <td>400</td>\n",
       "      <td>m</td>\n",
       "      <td>31</td>\n",
       "      <td>2</td>\n",
       "    </tr>\n",
       "  </tbody>\n",
       "</table>\n",
       "</div>"
      ],
      "text/plain": [
       "       bulan                                       titik_lokasi kecamatan  \\\n",
       "54710      3  Kali Cakung Drain (Jembatan Tinggi-Perbatasan ...    Cakung   \n",
       "54711      3                                   PHB Rawa Teratai    Cakung   \n",
       "54712      3                                 PHB Rawa Gelam III    Cakung   \n",
       "54713      3                                   PHB Metropos KIP    Cakung   \n",
       "54714      3                                 PHB Warung Jengkol    Cakung   \n",
       "\n",
       "             wilayah panjang/luas satuan_panjang/luas  tanggal  \\\n",
       "54710  Jakarta Timur          800                   m       31   \n",
       "54711  Jakarta Timur          700                   m       31   \n",
       "54712  Jakarta Timur         1000                   m       31   \n",
       "54713  Jakarta Timur         1000                   m       31   \n",
       "54714  Jakarta Timur          400                   m       31   \n",
       "\n",
       "      volume_sampah_perhari(m3)  \n",
       "54710                         -  \n",
       "54711                         -  \n",
       "54712                         -  \n",
       "54713                         -  \n",
       "54714                         2  "
      ]
     },
     "execution_count": 15,
     "metadata": {},
     "output_type": "execute_result"
    }
   ],
   "source": [
    "# Melihat susunan dataframe dari 5 data terbawah\n",
    "data_maret.tail()"
   ]
  },
  {
   "cell_type": "markdown",
   "metadata": {},
   "source": [
    "## 2. Data Preprocessing"
   ]
  },
  {
   "cell_type": "code",
   "execution_count": 16,
   "metadata": {},
   "outputs": [
    {
     "data": {
      "text/plain": [
       "0"
      ]
     },
     "execution_count": 16,
     "metadata": {},
     "output_type": "execute_result"
    }
   ],
   "source": [
    "# Mengecek apakah di dalam dataframe terdapat nilai duplikat/tidak\n",
    "data_maret.duplicated().sum()"
   ]
  },
  {
   "cell_type": "code",
   "execution_count": 17,
   "metadata": {},
   "outputs": [
    {
     "data": {
      "text/plain": [
       "Index(['Bulan', 'Titik_Lokasi', 'Kecamatan', 'Wilayah', 'Panjang/Luas',\n",
       "       'Satuan_Panjang/Luas', 'Tanggal', 'Volume_Sampah_Perhari(M3)'],\n",
       "      dtype='object')"
      ]
     },
     "execution_count": 17,
     "metadata": {},
     "output_type": "execute_result"
    }
   ],
   "source": [
    "# Mengubah format penamaan kolom dari yang semula huruf kecil menjadi huruf gabungan (huruf besar & kecil)\n",
    "data_maret = data_maret.rename(str.title, axis=\"columns\")\n",
    "data_maret.columns"
   ]
  },
  {
   "cell_type": "code",
   "execution_count": 18,
   "metadata": {
    "scrolled": true
   },
   "outputs": [
    {
     "data": {
      "text/plain": [
       "Bulan                            0\n",
       "Titik_Lokasi                     0\n",
       "Kecamatan                        0\n",
       "Wilayah                          0\n",
       "Panjang/Luas                   992\n",
       "Satuan_Panjang/Luas          21235\n",
       "Tanggal                          0\n",
       "Volume_Sampah_Perhari(M3)        0\n",
       "dtype: int64"
      ]
     },
     "execution_count": 18,
     "metadata": {},
     "output_type": "execute_result"
    }
   ],
   "source": [
    "# Mengecek nilai kosong (NaN) dari masing-masing kolom di dataframe\n",
    "data_maret.isnull().sum()"
   ]
  },
  {
   "cell_type": "markdown",
   "metadata": {},
   "source": [
    "Jika dilihat dari hasil diatas maka hanya terdapat 2 kolom yang memiliki nilai NaN (Not a Number) atau nilai kosong yaitu kolom \"Panjang/Luas\" dan \"Satuan_Panjang/Luas\". Namun jika diperhatikan kembali terdapat 3 kolom yang memiliki nilai NaN yakni kolom \"Panjang/Luas\", \"Satuan_Panjang/Luas\", dan kolom \"Volume_Sampah_Perhari(M3)\".\n",
    "\n",
    "Mengapa terdapat kolom \"Volume_Sampah_Perhari(M3)\"?\n",
    "\n",
    "Hal tersebut dikarenakan nilai kosong yang ada di kolom \"Volume_Sampah_Perhari(M3)\" ditulis dengan simbol \"-\". Karena kolom ini merupakan kolom prediksi maka dari itu saya akan mengubahnya menjadi nilai mean atau nilai rata-rata. Tetapi sebelum itu nilai \"-\" ini akan saya ubah terlebih dahulu menjadi nilai NaN (Not a Number)."
   ]
  },
  {
   "cell_type": "code",
   "execution_count": 19,
   "metadata": {},
   "outputs": [],
   "source": [
    "# Menghapus karakter yang berada di kolom \"Panjang/Luas\" seperti pada data 700/10 yang dapat dilihat pada tahapan sebelumnya\n",
    "data_maret[\"Panjang/Luas\"] = data_maret[\"Panjang/Luas\"].str.replace(r\"\\D\", \"\")"
   ]
  },
  {
   "cell_type": "code",
   "execution_count": 20,
   "metadata": {},
   "outputs": [
    {
     "data": {
      "text/html": [
       "<div>\n",
       "<style scoped>\n",
       "    .dataframe tbody tr th:only-of-type {\n",
       "        vertical-align: middle;\n",
       "    }\n",
       "\n",
       "    .dataframe tbody tr th {\n",
       "        vertical-align: top;\n",
       "    }\n",
       "\n",
       "    .dataframe thead th {\n",
       "        text-align: right;\n",
       "    }\n",
       "</style>\n",
       "<table border=\"1\" class=\"dataframe\">\n",
       "  <thead>\n",
       "    <tr style=\"text-align: right;\">\n",
       "      <th></th>\n",
       "      <th>Bulan</th>\n",
       "      <th>Titik_Lokasi</th>\n",
       "      <th>Kecamatan</th>\n",
       "      <th>Wilayah</th>\n",
       "      <th>Panjang/Luas</th>\n",
       "      <th>Satuan_Panjang/Luas</th>\n",
       "      <th>Tanggal</th>\n",
       "      <th>Volume_Sampah_Perhari(M3)</th>\n",
       "    </tr>\n",
       "  </thead>\n",
       "  <tbody>\n",
       "    <tr>\n",
       "      <th>54705</th>\n",
       "      <td>3</td>\n",
       "      <td>Waduk Aneka Elok</td>\n",
       "      <td>Cakung</td>\n",
       "      <td>Jakarta Timur</td>\n",
       "      <td>700</td>\n",
       "      <td>m</td>\n",
       "      <td>31</td>\n",
       "      <td>NaN</td>\n",
       "    </tr>\n",
       "    <tr>\n",
       "      <th>54706</th>\n",
       "      <td>3</td>\n",
       "      <td>PHB Aneka Elok</td>\n",
       "      <td>Cakung</td>\n",
       "      <td>Jakarta Timur</td>\n",
       "      <td>600</td>\n",
       "      <td>m</td>\n",
       "      <td>31</td>\n",
       "      <td>NaN</td>\n",
       "    </tr>\n",
       "    <tr>\n",
       "      <th>54707</th>\n",
       "      <td>3</td>\n",
       "      <td>PHB KP Bulak Penggilingan</td>\n",
       "      <td>Cakung</td>\n",
       "      <td>Jakarta Timur</td>\n",
       "      <td>800</td>\n",
       "      <td>m</td>\n",
       "      <td>31</td>\n",
       "      <td>NaN</td>\n",
       "    </tr>\n",
       "    <tr>\n",
       "      <th>54708</th>\n",
       "      <td>3</td>\n",
       "      <td>Kali Cakung Drain (Jl. Raya Bekasi-Lion)</td>\n",
       "      <td>Cakung</td>\n",
       "      <td>Jakarta Timur</td>\n",
       "      <td>1000</td>\n",
       "      <td>m</td>\n",
       "      <td>31</td>\n",
       "      <td>NaN</td>\n",
       "    </tr>\n",
       "    <tr>\n",
       "      <th>54709</th>\n",
       "      <td>3</td>\n",
       "      <td>Kali Cakung Drain (Lion-Wing's)</td>\n",
       "      <td>Cakung</td>\n",
       "      <td>Jakarta Timur</td>\n",
       "      <td>800</td>\n",
       "      <td>m</td>\n",
       "      <td>31</td>\n",
       "      <td>NaN</td>\n",
       "    </tr>\n",
       "    <tr>\n",
       "      <th>54710</th>\n",
       "      <td>3</td>\n",
       "      <td>Kali Cakung Drain (Jembatan Tinggi-Perbatasan ...</td>\n",
       "      <td>Cakung</td>\n",
       "      <td>Jakarta Timur</td>\n",
       "      <td>800</td>\n",
       "      <td>m</td>\n",
       "      <td>31</td>\n",
       "      <td>NaN</td>\n",
       "    </tr>\n",
       "    <tr>\n",
       "      <th>54711</th>\n",
       "      <td>3</td>\n",
       "      <td>PHB Rawa Teratai</td>\n",
       "      <td>Cakung</td>\n",
       "      <td>Jakarta Timur</td>\n",
       "      <td>700</td>\n",
       "      <td>m</td>\n",
       "      <td>31</td>\n",
       "      <td>NaN</td>\n",
       "    </tr>\n",
       "    <tr>\n",
       "      <th>54712</th>\n",
       "      <td>3</td>\n",
       "      <td>PHB Rawa Gelam III</td>\n",
       "      <td>Cakung</td>\n",
       "      <td>Jakarta Timur</td>\n",
       "      <td>1000</td>\n",
       "      <td>m</td>\n",
       "      <td>31</td>\n",
       "      <td>NaN</td>\n",
       "    </tr>\n",
       "    <tr>\n",
       "      <th>54713</th>\n",
       "      <td>3</td>\n",
       "      <td>PHB Metropos KIP</td>\n",
       "      <td>Cakung</td>\n",
       "      <td>Jakarta Timur</td>\n",
       "      <td>1000</td>\n",
       "      <td>m</td>\n",
       "      <td>31</td>\n",
       "      <td>NaN</td>\n",
       "    </tr>\n",
       "    <tr>\n",
       "      <th>54714</th>\n",
       "      <td>3</td>\n",
       "      <td>PHB Warung Jengkol</td>\n",
       "      <td>Cakung</td>\n",
       "      <td>Jakarta Timur</td>\n",
       "      <td>400</td>\n",
       "      <td>m</td>\n",
       "      <td>31</td>\n",
       "      <td>2</td>\n",
       "    </tr>\n",
       "  </tbody>\n",
       "</table>\n",
       "</div>"
      ],
      "text/plain": [
       "       Bulan                                       Titik_Lokasi Kecamatan  \\\n",
       "54705      3                                   Waduk Aneka Elok    Cakung   \n",
       "54706      3                                     PHB Aneka Elok    Cakung   \n",
       "54707      3                          PHB KP Bulak Penggilingan    Cakung   \n",
       "54708      3           Kali Cakung Drain (Jl. Raya Bekasi-Lion)    Cakung   \n",
       "54709      3                    Kali Cakung Drain (Lion-Wing's)    Cakung   \n",
       "54710      3  Kali Cakung Drain (Jembatan Tinggi-Perbatasan ...    Cakung   \n",
       "54711      3                                   PHB Rawa Teratai    Cakung   \n",
       "54712      3                                 PHB Rawa Gelam III    Cakung   \n",
       "54713      3                                   PHB Metropos KIP    Cakung   \n",
       "54714      3                                 PHB Warung Jengkol    Cakung   \n",
       "\n",
       "             Wilayah Panjang/Luas Satuan_Panjang/Luas  Tanggal  \\\n",
       "54705  Jakarta Timur          700                   m       31   \n",
       "54706  Jakarta Timur          600                   m       31   \n",
       "54707  Jakarta Timur          800                   m       31   \n",
       "54708  Jakarta Timur         1000                   m       31   \n",
       "54709  Jakarta Timur          800                   m       31   \n",
       "54710  Jakarta Timur          800                   m       31   \n",
       "54711  Jakarta Timur          700                   m       31   \n",
       "54712  Jakarta Timur         1000                   m       31   \n",
       "54713  Jakarta Timur         1000                   m       31   \n",
       "54714  Jakarta Timur          400                   m       31   \n",
       "\n",
       "      Volume_Sampah_Perhari(M3)  \n",
       "54705                       NaN  \n",
       "54706                       NaN  \n",
       "54707                       NaN  \n",
       "54708                       NaN  \n",
       "54709                       NaN  \n",
       "54710                       NaN  \n",
       "54711                       NaN  \n",
       "54712                       NaN  \n",
       "54713                       NaN  \n",
       "54714                         2  "
      ]
     },
     "execution_count": 20,
     "metadata": {},
     "output_type": "execute_result"
    }
   ],
   "source": [
    "# Mengahapus karakter \"-\" di kolom \"Volume_Sampah_Perhari(M3)\" dengan nilai NaN\n",
    "data_maret[\"Volume_Sampah_Perhari(M3)\"] = data_maret[\"Volume_Sampah_Perhari(M3)\"].replace(\"-\", np.nan)\n",
    "\n",
    "data_maret.tail(10)"
   ]
  },
  {
   "cell_type": "code",
   "execution_count": 21,
   "metadata": {},
   "outputs": [],
   "source": [
    "# Mengubah tipe data di kolom \"Panjang/Luas\" dari string menjadi float\n",
    "data_maret[[\"Panjang/Luas\"]] = data_maret[[\"Panjang/Luas\"]].apply(pd.to_numeric)"
   ]
  },
  {
   "cell_type": "code",
   "execution_count": 22,
   "metadata": {},
   "outputs": [
    {
     "data": {
      "text/plain": [
       "Bulan                          int64\n",
       "Titik_Lokasi                  object\n",
       "Kecamatan                     object\n",
       "Wilayah                       object\n",
       "Panjang/Luas                 float64\n",
       "Satuan_Panjang/Luas           object\n",
       "Tanggal                        int64\n",
       "Volume_Sampah_Perhari(M3)    float64\n",
       "dtype: object"
      ]
     },
     "execution_count": 22,
     "metadata": {},
     "output_type": "execute_result"
    }
   ],
   "source": [
    "# Mengubah tipe data pada kolom \"Volume_Sampah_Perhari(M3)\" dari string menjadi float\n",
    "data_maret[\"Volume_Sampah_Perhari(M3)\"] = pd.to_numeric(data_maret[\"Volume_Sampah_Perhari(M3)\"], errors=\"coerce\")\n",
    "\n",
    "data_maret.dtypes"
   ]
  },
  {
   "cell_type": "code",
   "execution_count": 23,
   "metadata": {},
   "outputs": [
    {
     "data": {
      "text/plain": [
       "m         31775\n",
       "Ha         1364\n",
       "H            93\n",
       "HA           62\n",
       "m³           31\n",
       "m²           31\n",
       "m2           31\n",
       "hektar       31\n",
       "Hektar       31\n",
       "km           31\n",
       "Name: Satuan_Panjang/Luas, dtype: int64"
      ]
     },
     "execution_count": 23,
     "metadata": {},
     "output_type": "execute_result"
    }
   ],
   "source": [
    "# Melihat nilai total dari masing-masing data yang ada di kolom \"Satuan_Panjang/Luas\"\n",
    "data_maret[\"Satuan_Panjang/Luas\"].value_counts()"
   ]
  },
  {
   "cell_type": "markdown",
   "metadata": {},
   "source": [
    "Berdasarkan hasil diatas dapat dilihat bahwa nilai data hektar (yang dilambangkan dengan Ha) memiliki banyak sekali penulisan yang berbeda-beda seperti H, HA, Hektar, dan hektar. Padahal semuanya memiliki satu kesatuan yaitu Ha. Maka dari itu saya akan menjadikan nilai data H, HA, Hektar, dan hektar ini menjadi satu kesatuan saja yakni data Ha.\n",
    "\n",
    "Selain itu nilai dari data seperti m2 akan saya jadikan sebagai nilai m² saja."
   ]
  },
  {
   "cell_type": "code",
   "execution_count": 24,
   "metadata": {},
   "outputs": [
    {
     "data": {
      "text/plain": [
       "m     31775\n",
       "Ha     1581\n",
       "m²       62\n",
       "m³       31\n",
       "km       31\n",
       "Name: Satuan_Panjang/Luas, dtype: int64"
      ]
     },
     "execution_count": 24,
     "metadata": {},
     "output_type": "execute_result"
    }
   ],
   "source": [
    "# Mengganti nilai data yang mirip seperti Ha, dan m²\n",
    "\n",
    "# Mengganti nilai H\", \"HA\". \"Hektar\", dan \"hektar\"\n",
    "data_maret = data_maret.replace(to_replace =[\"H\", \"HA\", \"Hektar\", \"hektar\"], value=\"Ha\")\n",
    "\n",
    "# Mengganti nilai \"m2\" menjadi \"m²\"\n",
    "data_maret = data_maret.replace(to_replace = \"m2\", value=\"m²\")\n",
    "\n",
    "data_maret[\"Satuan_Panjang/Luas\"].value_counts()"
   ]
  },
  {
   "cell_type": "code",
   "execution_count": 25,
   "metadata": {},
   "outputs": [
    {
     "data": {
      "text/plain": [
       "Bulan                            0\n",
       "Titik_Lokasi                     0\n",
       "Kecamatan                        0\n",
       "Wilayah                          0\n",
       "Panjang/Luas                   992\n",
       "Satuan_Panjang/Luas          21235\n",
       "Tanggal                          0\n",
       "Volume_Sampah_Perhari(M3)    18004\n",
       "dtype: int64"
      ]
     },
     "execution_count": 25,
     "metadata": {},
     "output_type": "execute_result"
    }
   ],
   "source": [
    "# Mengecek kembali nilai NaN di masing-masing kolom yang ada di dataframe\n",
    "data_maret.isnull().sum()"
   ]
  },
  {
   "cell_type": "code",
   "execution_count": 26,
   "metadata": {},
   "outputs": [
    {
     "data": {
      "text/plain": [
       "Bulan                            0\n",
       "Titik_Lokasi                     0\n",
       "Kecamatan                        0\n",
       "Wilayah                          0\n",
       "Panjang/Luas                     0\n",
       "Satuan_Panjang/Luas          21235\n",
       "Tanggal                          0\n",
       "Volume_Sampah_Perhari(M3)        0\n",
       "dtype: int64"
      ]
     },
     "execution_count": 26,
     "metadata": {},
     "output_type": "execute_result"
    }
   ],
   "source": [
    "# Mengganti nilai NaN yang ada disetiap kolom di dataframe data_maret dengan nilai mean\n",
    "mean = data_maret.mean()\n",
    "data_maret = data_maret.replace(np.nan, mean)\n",
    "\n",
    "data_maret.isnull().sum()"
   ]
  },
  {
   "cell_type": "markdown",
   "metadata": {},
   "source": [
    "Setelah mengisi nilai kosong (NaN) dengan nilai mean (rata-rata) selanjutnya saya akan mengubah tipe data pada kolom \"Panjang/Luas\" dan \"Volume_Sampah_Perhari(M3)\" dari yang semula float menjadi integer."
   ]
  },
  {
   "cell_type": "code",
   "execution_count": 27,
   "metadata": {},
   "outputs": [
    {
     "data": {
      "text/html": [
       "<div>\n",
       "<style scoped>\n",
       "    .dataframe tbody tr th:only-of-type {\n",
       "        vertical-align: middle;\n",
       "    }\n",
       "\n",
       "    .dataframe tbody tr th {\n",
       "        vertical-align: top;\n",
       "    }\n",
       "\n",
       "    .dataframe thead th {\n",
       "        text-align: right;\n",
       "    }\n",
       "</style>\n",
       "<table border=\"1\" class=\"dataframe\">\n",
       "  <thead>\n",
       "    <tr style=\"text-align: right;\">\n",
       "      <th></th>\n",
       "      <th>Bulan</th>\n",
       "      <th>Titik_Lokasi</th>\n",
       "      <th>Kecamatan</th>\n",
       "      <th>Wilayah</th>\n",
       "      <th>Panjang/Luas</th>\n",
       "      <th>Satuan_Panjang/Luas</th>\n",
       "      <th>Tanggal</th>\n",
       "      <th>Volume_Sampah_Perhari(M3)</th>\n",
       "    </tr>\n",
       "  </thead>\n",
       "  <tbody>\n",
       "    <tr>\n",
       "      <th>54710</th>\n",
       "      <td>3</td>\n",
       "      <td>Kali Cakung Drain (Jembatan Tinggi-Perbatasan ...</td>\n",
       "      <td>Cakung</td>\n",
       "      <td>Jakarta Timur</td>\n",
       "      <td>800</td>\n",
       "      <td>m</td>\n",
       "      <td>31</td>\n",
       "      <td>2</td>\n",
       "    </tr>\n",
       "    <tr>\n",
       "      <th>54711</th>\n",
       "      <td>3</td>\n",
       "      <td>PHB Rawa Teratai</td>\n",
       "      <td>Cakung</td>\n",
       "      <td>Jakarta Timur</td>\n",
       "      <td>700</td>\n",
       "      <td>m</td>\n",
       "      <td>31</td>\n",
       "      <td>2</td>\n",
       "    </tr>\n",
       "    <tr>\n",
       "      <th>54712</th>\n",
       "      <td>3</td>\n",
       "      <td>PHB Rawa Gelam III</td>\n",
       "      <td>Cakung</td>\n",
       "      <td>Jakarta Timur</td>\n",
       "      <td>1000</td>\n",
       "      <td>m</td>\n",
       "      <td>31</td>\n",
       "      <td>2</td>\n",
       "    </tr>\n",
       "    <tr>\n",
       "      <th>54713</th>\n",
       "      <td>3</td>\n",
       "      <td>PHB Metropos KIP</td>\n",
       "      <td>Cakung</td>\n",
       "      <td>Jakarta Timur</td>\n",
       "      <td>1000</td>\n",
       "      <td>m</td>\n",
       "      <td>31</td>\n",
       "      <td>2</td>\n",
       "    </tr>\n",
       "    <tr>\n",
       "      <th>54714</th>\n",
       "      <td>3</td>\n",
       "      <td>PHB Warung Jengkol</td>\n",
       "      <td>Cakung</td>\n",
       "      <td>Jakarta Timur</td>\n",
       "      <td>400</td>\n",
       "      <td>m</td>\n",
       "      <td>31</td>\n",
       "      <td>2</td>\n",
       "    </tr>\n",
       "  </tbody>\n",
       "</table>\n",
       "</div>"
      ],
      "text/plain": [
       "       Bulan                                       Titik_Lokasi Kecamatan  \\\n",
       "54710      3  Kali Cakung Drain (Jembatan Tinggi-Perbatasan ...    Cakung   \n",
       "54711      3                                   PHB Rawa Teratai    Cakung   \n",
       "54712      3                                 PHB Rawa Gelam III    Cakung   \n",
       "54713      3                                   PHB Metropos KIP    Cakung   \n",
       "54714      3                                 PHB Warung Jengkol    Cakung   \n",
       "\n",
       "             Wilayah  Panjang/Luas Satuan_Panjang/Luas  Tanggal  \\\n",
       "54710  Jakarta Timur           800                   m       31   \n",
       "54711  Jakarta Timur           700                   m       31   \n",
       "54712  Jakarta Timur          1000                   m       31   \n",
       "54713  Jakarta Timur          1000                   m       31   \n",
       "54714  Jakarta Timur           400                   m       31   \n",
       "\n",
       "       Volume_Sampah_Perhari(M3)  \n",
       "54710                          2  \n",
       "54711                          2  \n",
       "54712                          2  \n",
       "54713                          2  \n",
       "54714                          2  "
      ]
     },
     "execution_count": 27,
     "metadata": {},
     "output_type": "execute_result"
    }
   ],
   "source": [
    "# Mengubah tipe data pada kolom \"Panjang/Luas\" dan \"Volume_Sampah_Perhari(M3)\" dari float menjadi integer\n",
    "data_maret[\"Panjang/Luas\"] = data_maret[\"Panjang/Luas\"].astype(int)\n",
    "data_maret[\"Volume_Sampah_Perhari(M3)\"] = data_maret[\"Volume_Sampah_Perhari(M3)\"].astype(int)\n",
    "\n",
    "data_maret.tail()"
   ]
  },
  {
   "cell_type": "code",
   "execution_count": 28,
   "metadata": {},
   "outputs": [
    {
     "name": "stdout",
     "output_type": "stream",
     "text": [
      "Ukuran Data dari Kolom Panjang/Luas Sebelum Nilai Outliers Dibuang:  (54715, 8)\n",
      "Ukuran Data dari Kolom Panjang/Luas Setelah Nilai Outliers Dibuang:  (44144, 8)\n"
     ]
    }
   ],
   "source": [
    "# Mengecek nilai outliers untuk kolom \"Panjang/Luas\" dengan nilai quartil dan IQR\n",
    "Q1 = data_maret[\"Panjang/Luas\"].quantile(0.25)\n",
    "Q3 = data_maret[\"Panjang/Luas\"].quantile(0.75)\n",
    "\n",
    "# Menghitung interquartile range maka rumusnya adalah quartil 3 (75%) - quartil 1 (25%)\n",
    "IQR = Q3 - Q1\n",
    "\n",
    "# Melihat ukuran (baris dan kolom) sebelum data yang outliers dibuang\n",
    "print(\"Ukuran Data dari Kolom Panjang/Luas Sebelum Nilai Outliers Dibuang: \", data_maret.shape)\n",
    "\n",
    "# Menghapus nilai outlier dari kolom \"Panjang/Luas\"\n",
    "data_maret = data_maret[~((data_maret[\"Panjang/Luas\"] < (Q1 - 1.5 * IQR)) | \n",
    "                          (data_maret[\"Panjang/Luas\"] > (Q3 + 1.5 * IQR)))]\n",
    "\n",
    "# Melihat ukuran (baris dan kolom) setelah data outliers dibuang dari kolom \"Panjang/Luas\"\n",
    "print(\"Ukuran Data dari Kolom Panjang/Luas Setelah Nilai Outliers Dibuang: \", data_maret.shape)"
   ]
  },
  {
   "cell_type": "markdown",
   "metadata": {},
   "source": [
    "Terdapat 10.571 nilai outliers yang ada di kolom \"Panjang/Luas\". Hal ini berbeda sangat tipis jika dibandingkan dengan data di kolom yang sama (kolom \"Panjang/Luas\") pada bulan Januari 2021 yang memiliki nilai outliers sebanyak 10.540 data. Sedangkan di bulan Februari 2021 hanya terdapat 1.596 nilai outliers di kolom \"Panjang/Luas\"."
   ]
  },
  {
   "cell_type": "code",
   "execution_count": 29,
   "metadata": {},
   "outputs": [],
   "source": [
    "# Menghapus kolom yang sudah tidak dibutuhkan yaitu kolom \"Bulan\"\n",
    "data_maret = data_maret.drop([\"Bulan\"], axis=1)"
   ]
  },
  {
   "cell_type": "markdown",
   "metadata": {},
   "source": [
    "## 3. Data Visualisasi + Analisis Data per Grafik"
   ]
  },
  {
   "cell_type": "code",
   "execution_count": 30,
   "metadata": {},
   "outputs": [
    {
     "data": {
      "image/png": "[encoded data removed]",
      "text/plain": [
       "<Figure size 1800x1440 with 2 Axes>"
      ]
     },
     "metadata": {},
     "output_type": "display_data"
    }
   ],
   "source": [
    "# Melihat perbandingan antar wilayah di Provinsi DKI Jakarta (berdasarkan volume sampah per hari)\n",
    "plt.figure(figsize=(25, 20))\n",
    "\n",
    "plt.subplot(4, 3, 1)\n",
    "sns.barplot(x=\"Wilayah\", y=\"Volume_Sampah_Perhari(M3)\", data=data_maret)\n",
    "plt.title(\"Grafik Wilayah Jakarta Berdasarkan \\n Volume Sampah Per Hari di Bulan Maret 2021\", \n",
    "          fontsize=13, pad=13)\n",
    "\n",
    "plt.subplot(4, 3, 2)\n",
    "sns.countplot(x=\"Wilayah\", data=data_maret)\n",
    "plt.title(\"Perbandingan Wilayah Provinsi DKI Jakarta pada Bulan Maret 2021\", fontsize=13, pad=13)\n",
    "plt.show()"
   ]
  },
  {
   "cell_type": "markdown",
   "metadata": {},
   "source": [
    "Berdasarkan grafik diagram diatas maka dapat diambil beberapa kesimpulan diantaranya:\n",
    "\n",
    "1. Wilayah Jakarta Pusat memiliki volume sampah yang paling tinggi diantara wilayah yang lain sedangkan Wilayah Jakarta Utara memiliki tingkat volume pengangkutan sampah yang sangat kecil dan sedikit. Jika diurutkan dalam hal volume sampah yang berhasil diangkut di setiap wilayah yang ada di Provinsi DKI Jakarta maka akan terjadi susunan seperti dibawah ini:\n",
    "\n",
    "- Jakarta Pusat.\n",
    "- Jakarta Barat.\n",
    "- Jakarta Selatan.\n",
    "- Jakarta Timur.\n",
    "- Jakarta Utara.\n",
    "\n",
    "2. Grafik kedua merupakan grafik yang memperlihatkan perbandingan Wilayah yang ada di Provinsi DKI Jakarta tanpa adanya keterkaitan atau hubungan wilayah dengan kegiatan pengangkutan sampah di setiap harinya. Wilayah Jakarta Barat memiliki nilai yang sangat tinggi yakni mencapai 16.275 sedangkan Wilayah Jakarta Utara memiliki nilai perhitungan yang sangat kecil yakni hanya mencapai 3.317 saja. Jika diurutkan maka hasilnya adalah sebagai berikut:\n",
    "\n",
    "- Jakarta Barat.\n",
    "- Jakarta Timur.\n",
    "- Jakarta Selatan.\n",
    "- Jakarta Pusat.\n",
    "- Jakarta Utara."
   ]
  },
  {
   "cell_type": "code",
   "execution_count": 31,
   "metadata": {},
   "outputs": [
    {
     "data": {
      "image/png": "[encoded data removed]",
      "text/plain": [
       "<Figure size 1080x720 with 1 Axes>"
      ]
     },
     "metadata": {},
     "output_type": "display_data"
    }
   ],
   "source": [
    "# Melihat perbandingan antar kecamatan dalam hal pengangkutan sampah yang ada di Provinsi DKI Jakarta\n",
    "plt.figure(figsize=(15, 10))\n",
    "plt.xticks(rotation=90)\n",
    "\n",
    "sns.countplot(x=\"Kecamatan\", data=data_maret)\n",
    "plt.title(\"Perbandingan Kecamatan Yang Paling Sering Mengangkut Sampah Sungai Pada Bulan Maret 2021\", fontsize=13, pad=13)\n",
    "plt.show()"
   ]
  },
  {
   "cell_type": "markdown",
   "metadata": {},
   "source": [
    "Berdasarkan grafik diatas terkait perbandingan jumlah perhitungan total antar Kecamatan yang didasari oleh kolom Titik_Lokasi dalam menghasilkan atau mengumpulkan volume sampah per harinya di Provinsi DKI Jakarta bulan Maret 2021, maka dapat diambil kesimpulan sebagai berikut:\n",
    "\n",
    "1. Kecamatan yang mempunyai nilai tertinggi yakni Kecamatan Kalideres yang memiliki data sebanyak 2.883. Jumlah nilai tersebut tidak ada keterkaitannya dengan volume sampah per harinya melainkan didasarkan atas Titik_Lokasi dari setiap Kecamatan yang berhasil mengangkut sampah-sampah di setiap harinya.\n",
    "2. Kecamatan yang memiliki nilai tertinggi selanjutnya setelah Kecamatan Kalideres (2.883) adalah kecamatan Cengkareng yang memiliki data sebanyak 2.511 dan kecamatan tertinggi selanjutnya setelah Kalideres dan Cengkareng adalah kecamatan Cakung yang memiliki data sebanyak 2.263.\n",
    "3. Sedangkan Kecamatan yang memiliki titik lokasi terendah dalam hal pengangkutan sampah di Provinsi DKI Jakarta adalah Kecamatan Koja yang berada di Wilayah Jakarta Utara yang memiliki 217 titik lokasi saja. Kalah tipis dari Kecamatan Cilinding (248) yang berada di Wilayah yang sama (Jakarta Utara).\n",
    "\n",
    "Harus diingat bahwa perhitungan dalam memilih Kecamatan tertinggi sampai terendah didasarkan bukan dari volume sampah yang berhasil dingkut per harinya melainkan dari pengumpulan sampah di suatu titik lokasi tertentu saja seperti melalui kali, saluran penghubung (PHB), waduk, sungai di masing-masing kecamatan, dll."
   ]
  },
  {
   "cell_type": "code",
   "execution_count": 32,
   "metadata": {},
   "outputs": [
    {
     "data": {
      "image/png": "[encoded data removed]",
      "text/plain": [
       "<Figure size 720x360 with 2 Axes>"
      ]
     },
     "metadata": {},
     "output_type": "display_data"
    }
   ],
   "source": [
    "# Melihat korelasi antar kolom yang memiliki bersifat numerik\n",
    "plt.figure(figsize=(10, 5))\n",
    "\n",
    "korelasi_data_maret = sns.heatmap(data_maret.corr(), cmap=\"RdPu\", annot=True)\n",
    "korelasi_data_maret.set_title(\"Melihat Korelasi Antar Kolom yang Bersifat Numerik (Angka) di data_maret\", \n",
    "                                 fontsize=13, pad=13);"
   ]
  },
  {
   "cell_type": "markdown",
   "metadata": {},
   "source": [
    "Grafik diatas dinamakan sebagai grafik heatmap atau grafik peta panas dengan menunjukkan nilai korelasi antar masing-masing kolom yang bersifat numerik sedangkan kategorik tidak. Cara membaca grafik ini yaitu membaca dari sumbu y ke sumbu x atau sebaliknya dengan memfokuskan/memperhatikan nilai yang ada di box persegi sebagai penanda nilai korelasinya. Contohnya adalah sebagai berikut:\n",
    "\n",
    "1. Variabel \"Panjang/Luas\" yang ada di sumbu y memiliki nilai korelasi 1 dengan variabel yang sama (Panjang/Luas) yang berada di sumbu x. Sedangkan variabel Panjang/Luas yang ada di sumbu y memiliki nilai korelasi -0.084 dengan variabel \"Volume_Sampah_Perhari(M3)\" yang ada di sumbu x. Hal tersebut menandakan tidak memiliki hubungan timbal-balik.\n",
    "2. Variabel \"Volume_Sampah_Perhari(M3)\" yang ada di sumbu y memiliki nilai korelasi = 0.0075 dengan variabel Tanggal yang ada di sumbu x. Hal ini menandakan bahwasanya kedua variabel ini (Variabel \"Volume_Sampah_Perhari(M3)\" yang ada di sumbu y dengan variabel \"Tanggal\" di sumbu x) sedikit memiliki hubungan timbal balik walaupun penilaian dominannya cenderung tidak memiliki hubungan timbal-balik.\n",
    "\n",
    "\n",
    "Jadi intinya setiap kolom-kolom yang ada di sumbu y (yang berada di sisi kiri) dibaca/diperhatikan setiap nilainya dengan kolom-kolom yang berada di sumbu x (yang berada di bawah). Untuk memudahkan dalam membedakan apakah nilai korelasinya bagus/tidak dapat dilihat dari indikator warna yang di sebelah paling kanan dari grafik heatmap. Semakin bagus nilai korelasinya maka warnanya menjadi ungu tua tetapi semakin buruk/kecil nilai korelasinya maka nilai warna pada box persegi di nilai tersebut menjadi warna merah muda (pink)."
   ]
  },
  {
   "cell_type": "code",
   "execution_count": 33,
   "metadata": {},
   "outputs": [
    {
     "data": {
      "image/png": "[encoded data removed]",
      "text/plain": [
       "<Figure size 720x360 with 1 Axes>"
      ]
     },
     "metadata": {},
     "output_type": "display_data"
    }
   ],
   "source": [
    "# Melihat trend dalam pengangkutan sampah per harinya berdasarkan tanggal pengangkutan\n",
    "plt.figure(figsize=(10, 5))\n",
    "    \n",
    "sns.lineplot(x=\"Tanggal\", y=\"Volume_Sampah_Perhari(M3)\", color=\"green\", data=data_maret)\n",
    "plt.title(\"Trend Pengangkutan Volume Sampah berdasarkan \\n Tanggal Pengangkutan Sampah di Bulan Maret 2021\", \n",
    "          fontsize=13, pad=13)\n",
    "plt.show()"
   ]
  },
  {
   "cell_type": "markdown",
   "metadata": {},
   "source": [
    "Dari grafik garis (Line plot) diatas menunjukkan intensitas pengangkutan sampah yang dilakukan oleh Dinas Lingkungan Hidup Provinsi DKI Jakarta di setiap hari pada bulan Maret tahun 2021.\n",
    "\n",
    "Hasilnya adalah bahwa trend dalam pengangkutan volume sampah yang berhasil diangkut dari berbagai titik lokasi yang ada di kecamatan Provinsi DKI Jakarta cenderung mengalami kenaikan dan juga penurunan intensitas volume sampah selama bulan Maret tahun 2021."
   ]
  },
  {
   "cell_type": "code",
   "execution_count": 34,
   "metadata": {},
   "outputs": [
    {
     "data": {
      "image/png": "[encoded data removed]",
      "text/plain": [
       "<Figure size 720x360 with 1 Axes>"
      ]
     },
     "metadata": {},
     "output_type": "display_data"
    }
   ],
   "source": [
    "# Membandingkan nilai data di kolom \"Satuan_Panjang/Luas\" berdasarkan volume sampah yang berhasil diangkut per harinya\n",
    "plt.figure(figsize=(10, 5))\n",
    "\n",
    "sns.barplot(x=\"Satuan_Panjang/Luas\", y=\"Volume_Sampah_Perhari(M3)\", data=data_maret)\n",
    "plt.title(\"Perbandingan Satuan Panjang/Luas dari Volume Sampah Yang Berhasil Diangkut di Setiap harinya\", fontsize=13, pad=13)\n",
    "plt.show()"
   ]
  },
  {
   "cell_type": "markdown",
   "metadata": {},
   "source": [
    "Berdasarkan grafik batang dari hasil output diatas dapat diketahui dan diambil kesimpulan seperti:\n",
    "\n",
    "1. Data yang memiliki nilai dominan dari kolom satuan panjang/luas yang dilihat berdasarkan volume sampah yang berhasil diangkut di setiap harinya adalah data satuan panjang yakni m yang disusul oleh nilai km.\n",
    "2. Sedangkan nilai satuan panjang/luas yang memiliki nilai terkecil dalam hal volume sampah dalam setiap harinya adalah satuan m³.\n",
    "\n",
    "Untuk susunan nilai dari yang terbanyak hingga terkecil adalah sebagai berikut:\n",
    "\n",
    "- m.\n",
    "- km.\n",
    "- Ha.\n",
    "- m².\n",
    "- m³."
   ]
  },
  {
   "cell_type": "code",
   "execution_count": 35,
   "metadata": {},
   "outputs": [
    {
     "data": {
      "image/png": "[encoded data removed]",
      "text/plain": [
       "<Figure size 720x576 with 1 Axes>"
      ]
     },
     "metadata": {},
     "output_type": "display_data"
    }
   ],
   "source": [
    "# Melihat komposisi masing-masing wilayah Provinsi DKI Jakarta berdasarkan panjang/luas area penanganan sampah\n",
    "plt.figure(figsize=(10, 8))\n",
    "\n",
    "data_pie_maret = data_maret.groupby(\"Wilayah\")[\"Panjang/Luas\"].sum().reset_index()\n",
    "plt.pie(data_pie_maret[\"Panjang/Luas\"], labels = data_pie_maret[\"Wilayah\"], autopct = \"%.2f%%\")\n",
    "plt.title(\"Melihat Persentase per Masing-Masing Wilayah berdasarkan Panjang/Luas \\n\"\n",
    "          \"Area Penanganan Sampah pada Bulan Maret 2021\",\n",
    "          fontsize=13, pad=13)\n",
    "plt.show()"
   ]
  },
  {
   "cell_type": "markdown",
   "metadata": {},
   "source": [
    "Grafik Pie merupakan sebuah grafik yang berfungsi untuk menunjukkan komposisi dari data yang bersifat kategorik dengan memperlihatkan nilai presentase dari masing-masing data dan jumlah total presentase tersebut harus 100% (tidak boleh lebih/kurang).\n",
    "\n",
    "Berdasarkan grafik pie diatas maka saya dapat menganalisis komposisi data dari kolom Wilayah berdasarkan perhitungan keseluruhan dari kolom Panjang/Luas yang dihitung berdasarkan wilayah dari Provinsi DKI Jakarta. Kolom Panjang/Luas ini merupakan sebuah kolom yang menandakan seberapa luasnya area penanganan sampah yang dilakukan oleh Dinas Lingkungan Hidup (DLH) Provinsi DKI Jakarta. Berikut adalah hasil analisa dari saya:\n",
    "\n",
    "1. Wilayah yang memiliki area penanganan yang paling luas dalam menangani sampah di Provinsi DKI Jakarta adalah wilayah Jakarta Selatan dengan persentase sebesar 25.33%.\n",
    "2. Sedangkan wilayah Jakarta Pusat memiliki area penanganan sampah yang paling kecil dan sempit diantara wilayah-wilayah yang lain (seperti wilayah Jakarta Pusat (25.33%), Jakarta Barat (25.24%), Jakarta Timur (24.07%), dan Jakarta Utara (16.31%)) dengan total persentase hanya 9.04% dalam sisi luas area penanganan sampah."
   ]
  },
  {
   "cell_type": "markdown",
   "metadata": {},
   "source": [
    "## 4. Data Modelling"
   ]
  },
  {
   "cell_type": "markdown",
   "metadata": {},
   "source": [
    "### 4.1. Pra-Pemodelan"
   ]
  },
  {
   "cell_type": "code",
   "execution_count": 36,
   "metadata": {},
   "outputs": [
    {
     "name": "stdout",
     "output_type": "stream",
     "text": [
      "Ukuran Data dari Kolom Volume_Sampah_Perhari(M3) Sebelum Nilai Outliers Dibuang:  (44144, 7)\n",
      "Ukuran Data dari Kolom Volume_Sampah_Perhari(M3) Setelah Nilai Outliers Dibuang:  (39423, 7)\n"
     ]
    }
   ],
   "source": [
    "# Mengecek nilai outliers untuk kolom \"Volume_Sampah_Perhari(M3)\" dengan nilai quartil dan IQR\n",
    "Q1 = data_maret[\"Volume_Sampah_Perhari(M3)\"].quantile(0.25)\n",
    "Q3 = data_maret[\"Volume_Sampah_Perhari(M3)\"].quantile(0.75)\n",
    "\n",
    "# Menghitung interquartile range maka rumusnya adalah quartil 3 (75%) - quartil 1 (25%)\n",
    "IQR = Q3 - Q1\n",
    "\n",
    "# Melihat ukuran (baris dan kolom) sebelum data yang outliers dibuang\n",
    "print(\"Ukuran Data dari Kolom Volume_Sampah_Perhari(M3) Sebelum Nilai Outliers Dibuang: \", data_maret.shape)\n",
    "\n",
    "# Menghapus nilai outlier dari kolom \"Volume_Sampah_Perhari(M3)\"\n",
    "data_maret = data_maret[~((data_maret[\"Volume_Sampah_Perhari(M3)\"] < (Q1 - 1.5 * IQR)) | \n",
    "                          (data_maret[\"Volume_Sampah_Perhari(M3)\"] > (Q3 + 1.5 * IQR)))]\n",
    "\n",
    "# Melihat ukuran (baris dan kolom) setelah data outliers dibuang dari kolom \"Volume_Sampah_Perhari(M3)\"\n",
    "print(\"Ukuran Data dari Kolom Volume_Sampah_Perhari(M3) Setelah Nilai Outliers Dibuang: \", data_maret.shape)"
   ]
  },
  {
   "cell_type": "markdown",
   "metadata": {},
   "source": [
    "Berdasarkan hasil output diatas terdapat 4.721 data outlier dari kolom \"Volume_Sampah_Perhari(M3)\" di dalam dataframe data_maret dan jika tidak dihapus akan mengakibatkan nilai metrics dan prediksi yang dihasilkan oleh kedua model (Regresi Linear & Regresi Random Forest) tidak tepat."
   ]
  },
  {
   "cell_type": "code",
   "execution_count": 37,
   "metadata": {},
   "outputs": [],
   "source": [
    "# Melakukan pemisahan data menjadi variabel independen (x) dan variabel dependen (y)\n",
    "x = data_maret[[\"Tanggal\"]]\n",
    "\n",
    "y = data_maret[\"Volume_Sampah_Perhari(M3)\"]"
   ]
  },
  {
   "cell_type": "markdown",
   "metadata": {},
   "source": [
    "#### 4.1.1. Menggunakan Split Validation dalam Melakukan Prediksi Model Regresi Linear (4.2) dan Regresi Random Forest (4.3)"
   ]
  },
  {
   "cell_type": "code",
   "execution_count": 38,
   "metadata": {},
   "outputs": [],
   "source": [
    "# Proses split validation yaitu membagi variabel independen dan dependen menjadi data training dan data testing\n",
    "\n",
    "x_train, x_test, y_train, y_test = train_test_split(x, y, test_size=0.2, random_state=37)"
   ]
  },
  {
   "cell_type": "markdown",
   "metadata": {},
   "source": [
    "Penjelasan dari proses split validation:\n",
    "\n",
    "1. x: Merupakan sebuah variabel independen atau variabel yang dipengaruhi dari variabel dependen\n",
    "2. y: Merupakan sebuah variabel dependen atau variabel yang mempengaruhi variabel independen. Variabel y juga biasa dikenal sebagai label prediksi.\n",
    "3. test_size: Nilai presentase atau komposisi dari dalam membagi data menjadi data training dan data testing. Dalam pengujian ini saya memakai nilai test_size = 0.2 yang dimana ukuran dari data test mencapai 20% dan data train mencapai 80%.\n",
    "4. random_state: Menetapkan nilai. Jika nilainya sama maka fungsi train_test_split akan menghasilkan pemisahan nilai yang sama persis di setiap waktunya. Namun jika ditentukan nilai random_statenya maka data akan diacak secara random."
   ]
  },
  {
   "cell_type": "code",
   "execution_count": 39,
   "metadata": {},
   "outputs": [
    {
     "name": "stdout",
     "output_type": "stream",
     "text": [
      "Jumlah Rows dan Kolom di Data Training Setelah Dilakukan Split Validation:  (31538, 1) (31538,)\n",
      "Jumlah Rows dan Kolom di Data Testing Setelah Dilakukan Split Validation:  (7885, 1) (7885,)\n"
     ]
    }
   ],
   "source": [
    "# Melihat ukuran dimensi dari kolom dan rows dari data training dan data testing\n",
    "print(\"Jumlah Rows dan Kolom di Data Training Setelah Dilakukan Split Validation: \", x_train.shape, y_train.shape)\n",
    "print(\"Jumlah Rows dan Kolom di Data Testing Setelah Dilakukan Split Validation: \", x_test.shape, y_test.shape)"
   ]
  },
  {
   "cell_type": "code",
   "execution_count": 40,
   "metadata": {},
   "outputs": [],
   "source": [
    "# Melakukan scaling data (training & testing) dengan standard scaler\n",
    "from sklearn.preprocessing import StandardScaler\n",
    "\n",
    "standard_scaler = StandardScaler()\n",
    "\n",
    "x_train = standard_scaler.fit_transform(x_train)\n",
    "x_test = standard_scaler.fit_transform(x_test)"
   ]
  },
  {
   "cell_type": "markdown",
   "metadata": {},
   "source": [
    "StandardScaler merupakan salah satu dari proses scaling data ketika ingin melakukan tahapan pemodelan machine learning. StandardScaler akan melakukan proses standarisasi data yang ada di kolom fitur dengan mengurangi nilai mean (rata-rata) dan kemudian nilai tersebut akan diskalakan ke varians unit. Nilai yang ada di varians unit tersebut akan membagi semua nilai yang ada dengan nilai standar deviasi.\n",
    "\n",
    "StandardScaler akan membuat nilai mean (rata-rata) yang telah di observasi menjadi 0 sedangkan nilai standar deviasinya menjadi 1. Begitu pula dengan nilai varians yang menjadi 1 karena nilai varians = nilai standar deviasi yang di kuadratkan. Rumus dari scaling data StandardScaler adalah sebagai berikut:\n",
    "\n",
    "x_scaled = x - mean(x) / Standard Deviation"
   ]
  },
  {
   "cell_type": "code",
   "execution_count": 41,
   "metadata": {},
   "outputs": [
    {
     "name": "stdout",
     "output_type": "stream",
     "text": [
      "Nilai Scaling dari Hasil StandardScaler pada Data Testing: \n",
      " [[-0.66734678]\n",
      " [-0.55540777]\n",
      " [-0.55540777]\n",
      " ...\n",
      " [-0.55540777]\n",
      " [ 1.68337261]\n",
      " [ 1.12367752]]\n",
      "\n",
      " ---------------------------------------------------------------------------- \n",
      "\n",
      "Nilai Scaling dari Hasil StandardScaler pada Data Training: \n",
      " [[ 1.56205207e+00]\n",
      " [ 9.47555355e-04]\n",
      " [ 1.22752968e+00]\n",
      " ...\n",
      " [-8.91112170e-01]\n",
      " [ 1.12455021e-01]\n",
      " [ 1.33903714e+00]]\n"
     ]
    }
   ],
   "source": [
    "# Melihat hasil dari proses scalling dengan standardscaler\n",
    "print(\"Nilai Scaling dari Hasil StandardScaler pada Data Testing: \\n\", x_test)\n",
    "\n",
    "print(\"\\n\", \"----------------------------------------------------------------------------\", \"\\n\")\n",
    "\n",
    "print(\"Nilai Scaling dari Hasil StandardScaler pada Data Training: \\n\", x_train)"
   ]
  },
  {
   "cell_type": "markdown",
   "metadata": {},
   "source": [
    "### 4.2. Regresi Linear"
   ]
  },
  {
   "cell_type": "code",
   "execution_count": 42,
   "metadata": {},
   "outputs": [
    {
     "name": "stdout",
     "output_type": "stream",
     "text": [
      "{'copy_X': True, 'fit_intercept': True, 'n_jobs': None, 'normalize': 'deprecated', 'positive': False}\n"
     ]
    }
   ],
   "source": [
    "# Memanggil model regresi linear dari library sklearn dan kemudian melatihnya dengan data training\n",
    "from sklearn.linear_model import LinearRegression\n",
    "\n",
    "split_linear_regression_march = LinearRegression()\n",
    "split_linear_regression_march.fit(x_train, y_train)\n",
    "\n",
    "# Melihat nilai terbaik beserta parameter dari model regresi linear\n",
    "print(split_linear_regression_march.get_params())"
   ]
  },
  {
   "cell_type": "markdown",
   "metadata": {},
   "source": [
    "Berdasarkan hasil output terkait pencarian parameter terbaik dari model regresi linear didapatkan beberapa kesimpulan diantaranya:\n",
    "\n",
    "1. Pada parameter copy_X, nilai terbaik dari parameter ini adalah True.\n",
    "2. Di dalam parameter fit_intercept, parameter ini memiliki nilai terbaik yakni nilai True.\n",
    "3. Parameter n_jobs tidak memiliki nilai karena nilai yang dimunculkan adalah None (Kosong).\n",
    "4. Nilai terbaik dari parameter normalize adalah deprecated.\n",
    "5. Sedangkan nilai terbaik dari parameter positive adalah False.\n",
    "\n",
    "Nilai-nilai tersebut merupakan nilai terbaik dari model regresi linear yang dimunculkan secara otomatis sebab dari awal regresi linear memang telah memiliki nilai-nilai diatas. Nilai-nilai tersebut bisa dilihat di dokumentasi scikit learn dalam pembahasan regresi linear."
   ]
  },
  {
   "cell_type": "code",
   "execution_count": 43,
   "metadata": {},
   "outputs": [
    {
     "name": "stdout",
     "output_type": "stream",
     "text": [
      "----------------Nilai Prediksi dari Data Testing------------------\n",
      "[1.40931671 1.40976331 1.40976331 ... 1.40976331 1.4186953  1.4164623 ]\n",
      "\n",
      "----------------Nilai Prediksi dari Data Training-----------------\n",
      "[1.41821127 1.41198298 1.41687664 ... 1.40842396 1.41242786 1.41732151]\n"
     ]
    }
   ],
   "source": [
    "# Melihat nilai prediksi dari data training dan data testing setelah dilakukan proses tuning hyperparameters\n",
    "print(\"----------------Nilai Prediksi dari Data Testing------------------\")\n",
    "pred_test_linear_march = split_linear_regression_march.predict(x_test)\n",
    "print(pred_test_linear_march)\n",
    "\n",
    "print(\"\\n----------------Nilai Prediksi dari Data Training-----------------\")\n",
    "pred_train_linear_march = split_linear_regression_march.predict(x_train)\n",
    "print(pred_train_linear_march)"
   ]
  },
  {
   "cell_type": "code",
   "execution_count": 44,
   "metadata": {},
   "outputs": [
    {
     "name": "stdout",
     "output_type": "stream",
     "text": [
      "----------------------------Data Testing dari Split Validation----------------------------\n",
      "Nilai Metric Mean Absolute Error di Data Test adalah:  0.91\n",
      "Nilai Metric Mean Squared Error di Data Test adalah:  1.12 \n",
      "\n",
      "----------------------------Data Training dari Split Validation---------------------------\n",
      "Nilai Metric Mean Absolute Error di Data Train adalah:  0.92\n",
      "Nilai Metric Mean Squared Error di Data Train adalah:  1.15\n"
     ]
    }
   ],
   "source": [
    "# Melihat hasil prediksi regresi linear dari data testing dan juga data training\n",
    "\n",
    "print(\"----------------------------Data Testing dari Split Validation----------------------------\")\n",
    "print(\"Nilai Metric Mean Absolute Error di Data Test adalah: \", \"%.2f\" % mean_absolute_error\n",
    "      (y_test, pred_test_linear_march))\n",
    "print(\"Nilai Metric Mean Squared Error di Data Test adalah: \", \"%.2f\" % mean_squared_error\n",
    "      (y_test, pred_test_linear_march), \"\\n\")\n",
    "#print(\"Nilai Metric Mean Squared Log Error di Data Test Adalah: \", \"%.2f\" % mean_squared_log_error(y_test, pred_test_linear))\n",
    "\n",
    "print(\"----------------------------Data Training dari Split Validation---------------------------\")\n",
    "print(\"Nilai Metric Mean Absolute Error di Data Train adalah: \", \"%.2f\" % mean_absolute_error\n",
    "      (y_train, pred_train_linear_march))\n",
    "print(\"Nilai Metric Mean Squared Error di Data Train adalah: \", \"%.2f\" % mean_squared_error\n",
    "      (y_train, pred_train_linear_march))\n",
    "#print(\"Nilai Metric Mean Squared Log Error Adalah: \", \"%.2f\" % mean_squared_log_error(y_train, pred_train_linear))"
   ]
  },
  {
   "cell_type": "code",
   "execution_count": 45,
   "metadata": {},
   "outputs": [
    {
     "data": {
      "image/png": "[encoded data removed]",
      "text/plain": [
       "<Figure size 1800x1440 with 2 Axes>"
      ]
     },
     "metadata": {},
     "output_type": "display_data"
    }
   ],
   "source": [
    "# Membuat grafik untuk melihat trend data dari volume pengangkutan sampah setelah dilakukan proses pemodelan regresi linear\n",
    "plt.figure(figsize=(25, 20))\n",
    "\n",
    "# Grafik untuk melihat trend data testing setelah dilakukan proses pemodelan regresi linear\n",
    "plt.subplot(4, 3, 1)\n",
    "sns.lineplot(y_test, pred_test_linear_march)\n",
    "plt.title(\"Line Graph after Prediction Process with Testing Data \\n\"\n",
    "          \"using Linear Regression Model without Outliers in March 2021\", fontsize=13, pad=13)\n",
    "plt.xlabel(\"Daily Waste Volume\")\n",
    "plt.ylabel(\"Predictive Value in Testing Data\")\n",
    "\n",
    "# Grafik untuk melihat trend data training setelah dilakukan proses pemodelan regresi linear\n",
    "plt.subplot(4, 3, 2)\n",
    "sns.lineplot(y_train, pred_train_linear_march)\n",
    "plt.title(\"Line Graph after Prediction Process with Training Data \\n\"\n",
    "          \"using Linear Regression Model without Outliers in March 2021\", fontsize=13, pad=13)\n",
    "plt.xlabel(\"Daily Waste Volume\")\n",
    "plt.ylabel(\"Predictive Value in Training Data\")\n",
    "plt.show()"
   ]
  },
  {
   "cell_type": "code",
   "execution_count": 46,
   "metadata": {},
   "outputs": [
    {
     "data": {
      "image/png": "[encoded data removed]",
      "text/plain": [
       "<Figure size 1800x1440 with 2 Axes>"
      ]
     },
     "metadata": {},
     "output_type": "display_data"
    }
   ],
   "source": [
    "\"\"\"\n",
    "Melihat korelasi/hubungan keterkaitan terhadap data testing dan data training \n",
    "setelah dilakukan proses prediksi menggunakan algoritma regresi linear\n",
    "\"\"\"\n",
    "plt.figure(figsize=(25, 20))\n",
    "\n",
    "plt.subplot(4, 3, 1)\n",
    "plt.scatter(x_test, y_test, color=\"green\")\n",
    "plt.plot(x_test, pred_test_linear_march, color=\"yellow\")\n",
    "plt.title(\"Prediction Result in Linear Regression with Testing Data \\n\" \n",
    "          \"without Outliers in Waste Volume Transportation from March 2021\", fontsize=13, pad=13)\n",
    "plt.xlabel(\"Daily Waste Volume\")\n",
    "plt.ylabel(\"Predictive Value in Testing Data\")\n",
    "\n",
    "plt.subplot(4, 3, 2)\n",
    "plt.scatter(x_train, y_train, color=\"green\")\n",
    "plt.plot(x_train, pred_train_linear_march, color=\"yellow\")\n",
    "plt.title(\"Prediction Result in Linear Regression with Training Data \\n\"\n",
    "          \"without Outliers in Waste Volume Transportation from March 2021\", fontsize=13, pad=13)\n",
    "plt.xlabel(\"Daily Waste Volume\")\n",
    "plt.ylabel(\"Predictive Value in Training Data\")\n",
    "plt.show()"
   ]
  },
  {
   "cell_type": "markdown",
   "metadata": {},
   "source": [
    "#### 4.1.2. Menggunakan K-Fold Cross Validation dalam Melakukan Prediksi Model Regresi Linear"
   ]
  },
  {
   "cell_type": "markdown",
   "metadata": {},
   "source": [
    "##### 4.1.2.1. Nilai K-Fold = 5"
   ]
  },
  {
   "cell_type": "code",
   "execution_count": 47,
   "metadata": {
    "scrolled": true
   },
   "outputs": [
    {
     "data": {
      "text/plain": [
       "KFold(n_splits=5, random_state=37, shuffle=True)"
      ]
     },
     "execution_count": 47,
     "metadata": {},
     "output_type": "execute_result"
    }
   ],
   "source": [
    "# Memanggil library K-Fold Cross Validation yang telah dipanggil diawal pemrosesan\n",
    "kfold_5 = KFold(n_splits=5, random_state=37, shuffle=True)\n",
    "kfold_5"
   ]
  },
  {
   "cell_type": "markdown",
   "metadata": {},
   "source": [
    "K-Fold Cross Validation memiliki 3 parameters yaitu n_splits, shuffle, dan random_state. Berikut adalah penjelasan dari parameters di teknik k-fold cross validation adalah sebagai berikut:\n",
    "\n",
    "1. n_splits: parameter ini berfungsi sebagai lipatan dalam memvalidasi sebuah data. Jika n_split yang dibuat 5 maka terdapat 5 iterasi dalam memvalidasi serta juga melatih data sebanyak 5x pemrosesan dan setiap iterasi tersebut akan memiliki 5 baris untuk pengujiannya.\n",
    "2. shuffle: parameter ini berfungsi untuk mengacak data sebelum dipecah ke beberapa iterasi (sesuai n_splits yang dibuat).\n",
    "3. random_state: parameter terakhir yang dimiliki oleh teknik k-fold cross validation adalah random_state. Parameter ini berfungsi dalam mempengaruhi urutan indeks yang telah diacak (ketika nilai dari parameter shuffle di setting True) dan juga mengontrol keacakan dari setiap iterasi yang dilakukan."
   ]
  },
  {
   "cell_type": "code",
   "execution_count": 48,
   "metadata": {
    "scrolled": false
   },
   "outputs": [
    {
     "data": {
      "text/plain": [
       "LinearRegression()"
      ]
     },
     "execution_count": 48,
     "metadata": {},
     "output_type": "execute_result"
    }
   ],
   "source": [
    "\"\"\"\n",
    "Membuat model regresi linear + nilai parameter deafult yang \n",
    "kemudian akan diimplementasikan ke nilai 5 pada teknik k-fold cross validation\n",
    "\"\"\"\n",
    "\n",
    "kfold_linear_regression_march_5 = LinearRegression()\n",
    "kfold_linear_regression_march_5.fit(x_train, y_train)"
   ]
  },
  {
   "cell_type": "code",
   "execution_count": 49,
   "metadata": {
    "scrolled": true
   },
   "outputs": [
    {
     "name": "stdout",
     "output_type": "stream",
     "text": [
      "dict_keys(['explained_variance', 'r2', 'max_error', 'neg_median_absolute_error', 'neg_mean_absolute_error', 'neg_mean_absolute_percentage_error', 'neg_mean_squared_error', 'neg_mean_squared_log_error', 'neg_root_mean_squared_error', 'neg_mean_poisson_deviance', 'neg_mean_gamma_deviance', 'accuracy', 'top_k_accuracy', 'roc_auc', 'roc_auc_ovr', 'roc_auc_ovo', 'roc_auc_ovr_weighted', 'roc_auc_ovo_weighted', 'balanced_accuracy', 'average_precision', 'neg_log_loss', 'neg_brier_score', 'adjusted_rand_score', 'rand_score', 'homogeneity_score', 'completeness_score', 'v_measure_score', 'mutual_info_score', 'adjusted_mutual_info_score', 'normalized_mutual_info_score', 'fowlkes_mallows_score', 'precision', 'precision_macro', 'precision_micro', 'precision_samples', 'precision_weighted', 'recall', 'recall_macro', 'recall_micro', 'recall_samples', 'recall_weighted', 'f1', 'f1_macro', 'f1_micro', 'f1_samples', 'f1_weighted', 'jaccard', 'jaccard_macro', 'jaccard_micro', 'jaccard_samples', 'jaccard_weighted'])\n"
     ]
    }
   ],
   "source": [
    "# Melihat metrics-metrics yang bisa digunakan untuk memprediksi model machine learning\n",
    "import sklearn\n",
    "\n",
    "print(sklearn.metrics.SCORERS.keys())"
   ]
  },
  {
   "cell_type": "markdown",
   "metadata": {},
   "source": [
    "Diatas adalah metrics-metrics yang bisa digunakan dalam melihat hasil prediksi yang telah dibangun oleh model machine learning. Untuk pengujian kali ini saya akan menggunakan metrics yang bernama neg_mean_absolute_error dan neg_mean_squared_error."
   ]
  },
  {
   "cell_type": "code",
   "execution_count": 50,
   "metadata": {},
   "outputs": [],
   "source": [
    "# Memanggil library cross_val_score untuk memvalidasi data training dan data test menggunakan metrics MAE & MSE\n",
    "\n",
    "# Metric MAE untuk Data Training dan Data Testing\n",
    "mae_score_kfold_train_march_5 = cross_val_score(kfold_linear_regression_march_5, x_train, y_train, \n",
    "                                                scoring=\"neg_mean_absolute_error\", cv=kfold_5, n_jobs=1)\n",
    "\n",
    "mae_score_kfold_test_march_5 = cross_val_score(kfold_linear_regression_march_5, x_test, y_test, \n",
    "                                               scoring=\"neg_mean_absolute_error\", cv=kfold_5, n_jobs=1)\n",
    "\n",
    "# Metric MSE untuk Data Training dan Data Testing\n",
    "mse_score_kfold_train_march_5 = cross_val_score(kfold_linear_regression_march_5, x_train, y_train, \n",
    "                                                scoring=\"neg_mean_squared_error\", cv=kfold_5, n_jobs=1)\n",
    "\n",
    "mse_score_kfold_test_march_5 = cross_val_score(kfold_linear_regression_march_5, x_test, y_test, \n",
    "                                               scoring=\"neg_mean_squared_error\", cv=kfold_5, n_jobs=1)"
   ]
  },
  {
   "cell_type": "code",
   "execution_count": 51,
   "metadata": {
    "scrolled": true
   },
   "outputs": [
    {
     "name": "stdout",
     "output_type": "stream",
     "text": [
      "Skor Setiap Iterasi Data Training dari Metrics Mean Absolute Error: \n",
      " [-0.92347915 -0.91983368 -0.90788767 -0.91901312 -0.92126047] \n",
      "\n",
      "Skor Setiap Iterasi Data Testing dari Metrics Mean Absolute Error: \n",
      " [-0.91098662 -0.90157707 -0.91452911 -0.89425556 -0.90184694] \n",
      "\n",
      "Skor Setiap Iterasi Data Training dari Metrics Mean Absolute Error: \n",
      " [-1.16779972 -1.14710239 -1.11728196 -1.15200858 -1.15310699] \n",
      "\n",
      "Skor Setiap Iterasi Data Testing dari Metrics Mean Absolute Error: \n",
      " [-1.13954031 -1.12070338 -1.14484571 -1.08189143 -1.12114721]\n"
     ]
    }
   ],
   "source": [
    "# Melihat nilai dari setiap iterasi dari metrics mean absolute error dan mean squared error\n",
    "\n",
    "print(\"Skor Setiap Iterasi Data Training dari Metrics Mean Absolute Error: \\n\", mae_score_kfold_train_march_5, \"\\n\")\n",
    "print(\"Skor Setiap Iterasi Data Testing dari Metrics Mean Absolute Error: \\n\", mae_score_kfold_test_march_5, \"\\n\")\n",
    "print(\"Skor Setiap Iterasi Data Training dari Metrics Mean Absolute Error: \\n\", mse_score_kfold_train_march_5, \"\\n\")\n",
    "print(\"Skor Setiap Iterasi Data Testing dari Metrics Mean Absolute Error: \\n\", mse_score_kfold_test_march_5)"
   ]
  },
  {
   "cell_type": "code",
   "execution_count": 52,
   "metadata": {
    "scrolled": false
   },
   "outputs": [
    {
     "name": "stdout",
     "output_type": "stream",
     "text": [
      "---------------------------------Data Testing K-Fold----------------------------------\n",
      "Nilai Prediksi dari Data Test Menggunakan Metrics MAE adalah: 0.90 \n",
      "Nilai Prediksi dari Data Test Menggunakan Metrics MSE adalah: 1.12  \n",
      "\n",
      "---------------------------------Data Training K-Fold----------------------------------\n",
      "Nilai Prediksi dari Data Train Menggunakan Metrics MAE adalah: 0.92 \n",
      "Nilai Prediksi dari Data Train Menggunakan Metrics MSE adalah: 1.15 \n"
     ]
    }
   ],
   "source": [
    "# Melihat hasil prediksi data test dan data train dengan metric MAE & MSE dari hasil K-Fold Cross Validation\n",
    "\n",
    "print(\"---------------------------------Data Testing K-Fold----------------------------------\")\n",
    "print(\"Nilai Prediksi dari Data Test Menggunakan Metrics MAE adalah: %.2f \" % np.mean(np.absolute\n",
    "                                                                                      (mae_score_kfold_test_march_5)))\n",
    "print(\"Nilai Prediksi dari Data Test Menggunakan Metrics MSE adalah: %.2f \" % np.mean(np.absolute\n",
    "                                                                                      (mse_score_kfold_test_march_5)), \"\\n\")\n",
    "\n",
    "print(\"---------------------------------Data Training K-Fold----------------------------------\")\n",
    "print(\"Nilai Prediksi dari Data Train Menggunakan Metrics MAE adalah: %.2f \" % np.mean(np.absolute\n",
    "                                                                                       (mae_score_kfold_train_march_5)))\n",
    "print(\"Nilai Prediksi dari Data Train Menggunakan Metrics MSE adalah: %.2f \" % np.mean(np.absolute\n",
    "                                                                                       (mse_score_kfold_train_march_5)))"
   ]
  },
  {
   "cell_type": "markdown",
   "metadata": {},
   "source": [
    "##### 4.1.2.2. Nilai K-Fold = 10"
   ]
  },
  {
   "cell_type": "code",
   "execution_count": 53,
   "metadata": {
    "scrolled": false
   },
   "outputs": [
    {
     "data": {
      "text/plain": [
       "KFold(n_splits=10, random_state=37, shuffle=True)"
      ]
     },
     "execution_count": 53,
     "metadata": {},
     "output_type": "execute_result"
    }
   ],
   "source": [
    "# Memanggil library K-Fold Cross Validation yang telah dipanggil diawal pemrosesan\n",
    "kfold_10 = KFold(n_splits=10, random_state=37, shuffle=True)\n",
    "kfold_10"
   ]
  },
  {
   "cell_type": "code",
   "execution_count": 54,
   "metadata": {
    "scrolled": true
   },
   "outputs": [
    {
     "data": {
      "text/plain": [
       "LinearRegression()"
      ]
     },
     "execution_count": 54,
     "metadata": {},
     "output_type": "execute_result"
    }
   ],
   "source": [
    "\"\"\"\n",
    "Membuat model regresi linear + nilai parameter deafult yang \n",
    "kemudian akan diimplementasikan ke nilai 10 pada teknik k-fold cross validation\n",
    "\"\"\"\n",
    "\n",
    "kfold_linear_regression_march_10 = LinearRegression()\n",
    "kfold_linear_regression_march_10.fit(x_train, y_train)"
   ]
  },
  {
   "cell_type": "code",
   "execution_count": 55,
   "metadata": {},
   "outputs": [],
   "source": [
    "# Memanggil library cross_val_score untuk memvalidasi data training dan data test menggunakan metrics MAE & MSE\n",
    "\n",
    "# Metric MAE untuk Data Training dan Data Testing\n",
    "mae_score_kfold_train_march_10 = cross_val_score(kfold_linear_regression_march_10, x_train, y_train, \n",
    "                                                 scoring=\"neg_mean_absolute_error\", cv=kfold_10, n_jobs=1)\n",
    "\n",
    "mae_score_kfold_test_march_10 = cross_val_score(kfold_linear_regression_march_10, x_test, y_test, \n",
    "                                                scoring=\"neg_mean_absolute_error\", cv=kfold_10, n_jobs=1)\n",
    "\n",
    "# Metric MSE untuk Data Training dan Data Testing\n",
    "mse_score_kfold_train_march_10 = cross_val_score(kfold_linear_regression_march_10, x_train, y_train, \n",
    "                                                 scoring=\"neg_mean_squared_error\", cv=kfold_10, n_jobs=1)\n",
    "\n",
    "mse_score_kfold_test_march_10 = cross_val_score(kfold_linear_regression_march_10, x_test, y_test, \n",
    "                                                scoring=\"neg_mean_squared_error\", cv=kfold_10, n_jobs=1)"
   ]
  },
  {
   "cell_type": "code",
   "execution_count": 56,
   "metadata": {
    "scrolled": true
   },
   "outputs": [
    {
     "name": "stdout",
     "output_type": "stream",
     "text": [
      "Skor Setiap Iterasi Data Training dari Metrics Mean Absolute Error: \n",
      " [-0.90713205 -0.93855313 -0.92395693 -0.91661912 -0.90351235 -0.91308671\n",
      " -0.9280953  -0.90965884 -0.91478509 -0.92786612] \n",
      "\n",
      "Skor Setiap Iterasi Data Testing dari Metrics Mean Absolute Error: \n",
      " [-0.90754742 -0.91282584 -0.88986143 -0.91160908 -0.90612341 -0.92733812\n",
      " -0.89004615 -0.896294   -0.88808437 -0.91692309] \n",
      "\n",
      "Skor Setiap Iterasi Data Training dari Metrics Mean Absolute Error: \n",
      " [-1.11767012 -1.21745395 -1.15878662 -1.13579621 -1.10912495 -1.12553617\n",
      " -1.17957758 -1.12418002 -1.14135127 -1.16548387] \n",
      "\n",
      "Skor Setiap Iterasi Data Testing dari Metrics Mean Absolute Error: \n",
      " [-1.12097511 -1.15712987 -1.10597488 -1.13573011 -1.11415749 -1.18227424\n",
      " -1.06987736 -1.08673935 -1.0898393  -1.15376049]\n"
     ]
    }
   ],
   "source": [
    "# Melihat nilai dari setiap iterasi dari metrics mean absolute error dan mean squared error\n",
    "\n",
    "print(\"Skor Setiap Iterasi Data Training dari Metrics Mean Absolute Error: \\n\", mae_score_kfold_train_march_10, \"\\n\")\n",
    "print(\"Skor Setiap Iterasi Data Testing dari Metrics Mean Absolute Error: \\n\", mae_score_kfold_test_march_10, \"\\n\")\n",
    "print(\"Skor Setiap Iterasi Data Training dari Metrics Mean Absolute Error: \\n\", mse_score_kfold_train_march_10, \"\\n\")\n",
    "print(\"Skor Setiap Iterasi Data Testing dari Metrics Mean Absolute Error: \\n\", mse_score_kfold_test_march_10)"
   ]
  },
  {
   "cell_type": "code",
   "execution_count": 57,
   "metadata": {
    "scrolled": true
   },
   "outputs": [
    {
     "name": "stdout",
     "output_type": "stream",
     "text": [
      "---------------------------------Data Testing K-Fold----------------------------------\n",
      "Nilai Prediksi dari Data Test Menggunakan Metrics MAE adalah: 0.90 \n",
      "Nilai Prediksi dari Data Test Menggunakan Metrics MSE adalah: 1.12  \n",
      "\n",
      "---------------------------------Data Training K-Fold----------------------------------\n",
      "Nilai Prediksi dari Data Train Menggunakan Metrics MAE adalah: 0.92 \n",
      "Nilai Prediksi dari Data Train Menggunakan Metrics MSE adalah: 1.15 \n"
     ]
    }
   ],
   "source": [
    "# Melihat hasil prediksi data test dan data train dengan metric MAE & MSE dari hasil K-Fold Cross Validation\n",
    "\n",
    "print(\"---------------------------------Data Testing K-Fold----------------------------------\")\n",
    "print(\"Nilai Prediksi dari Data Test Menggunakan Metrics MAE adalah: %.2f \" % np.mean(np.absolute\n",
    "                                                                                      (mae_score_kfold_test_march_10)))\n",
    "print(\"Nilai Prediksi dari Data Test Menggunakan Metrics MSE adalah: %.2f \" % np.mean(np.absolute\n",
    "                                                                                      (mse_score_kfold_test_march_10)), \"\\n\")\n",
    "\n",
    "print(\"---------------------------------Data Training K-Fold----------------------------------\")\n",
    "print(\"Nilai Prediksi dari Data Train Menggunakan Metrics MAE adalah: %.2f \" % np.mean(np.absolute\n",
    "                                                                                       (mae_score_kfold_train_march_10)))\n",
    "print(\"Nilai Prediksi dari Data Train Menggunakan Metrics MSE adalah: %.2f \" % np.mean(np.absolute\n",
    "                                                                                       (mse_score_kfold_train_march_10)))"
   ]
  },
  {
   "cell_type": "markdown",
   "metadata": {},
   "source": [
    "##### 4.1.2.3. Nilai K-Fold = 15"
   ]
  },
  {
   "cell_type": "code",
   "execution_count": 58,
   "metadata": {
    "scrolled": true
   },
   "outputs": [
    {
     "data": {
      "text/plain": [
       "KFold(n_splits=15, random_state=37, shuffle=True)"
      ]
     },
     "execution_count": 58,
     "metadata": {},
     "output_type": "execute_result"
    }
   ],
   "source": [
    "# Memanggil library K-Fold Cross Validation yang telah dipanggil diawal pemrosesan\n",
    "kfold_15 = KFold(n_splits=15, random_state=37, shuffle=True)\n",
    "kfold_15"
   ]
  },
  {
   "cell_type": "code",
   "execution_count": 59,
   "metadata": {
    "scrolled": true
   },
   "outputs": [
    {
     "data": {
      "text/plain": [
       "LinearRegression()"
      ]
     },
     "execution_count": 59,
     "metadata": {},
     "output_type": "execute_result"
    }
   ],
   "source": [
    "\"\"\"\n",
    "Membuat model regresi linear + nilai parameter deafult yang \n",
    "kemudian akan diimplementasikan ke nilai 15 pada teknik k-fold cross validation\n",
    "\"\"\"\n",
    "\n",
    "kfold_linear_regression_march_15 = LinearRegression()\n",
    "kfold_linear_regression_march_15.fit(x_train, y_train)"
   ]
  },
  {
   "cell_type": "code",
   "execution_count": 60,
   "metadata": {},
   "outputs": [],
   "source": [
    "# Memanggil library cross_val_score untuk memvalidasi data training dan data test menggunakan metrics MAE & MSE\n",
    "\n",
    "# Metric MAE untuk Data Training dan Data Testing\n",
    "mae_score_kfold_train_march_15 = cross_val_score(kfold_linear_regression_march_15, x_train, y_train, \n",
    "                                                 scoring=\"neg_mean_absolute_error\", cv=kfold_15, n_jobs=1)\n",
    "\n",
    "mae_score_kfold_test_march_15 = cross_val_score(kfold_linear_regression_march_15, x_test, y_test, \n",
    "                                                scoring=\"neg_mean_absolute_error\", cv=kfold_15, n_jobs=1)\n",
    "\n",
    "# Metric MSE untuk Data Training dan Data Testing\n",
    "mse_score_kfold_train_march_15 = cross_val_score(kfold_linear_regression_march_15, x_train, y_train, \n",
    "                                                 scoring=\"neg_mean_squared_error\", cv=kfold_15, n_jobs=1)\n",
    "\n",
    "mse_score_kfold_test_march_15 = cross_val_score(kfold_linear_regression_march_15, x_test, y_test, \n",
    "                                                scoring=\"neg_mean_squared_error\", cv=kfold_15, n_jobs=1)"
   ]
  },
  {
   "cell_type": "code",
   "execution_count": 61,
   "metadata": {
    "scrolled": true
   },
   "outputs": [
    {
     "name": "stdout",
     "output_type": "stream",
     "text": [
      "Skor Setiap Iterasi Data Training dari Metrics Mean Absolute Error: \n",
      " [-0.88588751 -0.94040034 -0.94146332 -0.92411702 -0.92678125 -0.91025831\n",
      " -0.91633312 -0.89388112 -0.91452556 -0.93229208 -0.90718482 -0.91749934\n",
      " -0.91726818 -0.91897106 -0.92755582] \n",
      "\n",
      "Skor Setiap Iterasi Data Testing dari Metrics Mean Absolute Error: \n",
      " [-0.9153885  -0.91867608 -0.89659746 -0.88529296 -0.90248018 -0.91260296\n",
      " -0.8976072  -0.9480877  -0.90449857 -0.91148957 -0.85047763 -0.91768311\n",
      " -0.88369541 -0.9008739  -0.92490989] \n",
      "\n",
      "Skor Setiap Iterasi Data Training dari Metrics Mean Absolute Error: \n",
      " [-1.06398836 -1.21343346 -1.22423151 -1.16141918 -1.16658062 -1.1138857\n",
      " -1.15225929 -1.07061901 -1.12808428 -1.19701426 -1.11413835 -1.14554809\n",
      " -1.15209171 -1.13963826 -1.16832782] \n",
      "\n",
      "Skor Setiap Iterasi Data Testing dari Metrics Mean Absolute Error: \n",
      " [-1.15285824 -1.16258861 -1.10271347 -1.09954989 -1.12090881 -1.13975506\n",
      " -1.09110625 -1.23426978 -1.11751248 -1.12016732 -0.95671962 -1.15834774\n",
      " -1.08613752 -1.09341355 -1.18923076]\n"
     ]
    }
   ],
   "source": [
    "# Melihat nilai dari setiap iterasi dari metrics mean absolute error dan mean squared error\n",
    "\n",
    "print(\"Skor Setiap Iterasi Data Training dari Metrics Mean Absolute Error: \\n\", mae_score_kfold_train_march_15, \"\\n\")\n",
    "print(\"Skor Setiap Iterasi Data Testing dari Metrics Mean Absolute Error: \\n\", mae_score_kfold_test_march_15, \"\\n\")\n",
    "print(\"Skor Setiap Iterasi Data Training dari Metrics Mean Absolute Error: \\n\", mse_score_kfold_train_march_15, \"\\n\")\n",
    "print(\"Skor Setiap Iterasi Data Testing dari Metrics Mean Absolute Error: \\n\", mse_score_kfold_test_march_15)"
   ]
  },
  {
   "cell_type": "code",
   "execution_count": 62,
   "metadata": {
    "scrolled": true
   },
   "outputs": [
    {
     "name": "stdout",
     "output_type": "stream",
     "text": [
      "---------------------------------Data Testing K-Fold----------------------------------\n",
      "Nilai Prediksi dari Data Test Menggunakan Metrics MAE adalah: 0.90 \n",
      "Nilai Prediksi dari Data Test Menggunakan Metrics MSE adalah: 1.12  \n",
      "\n",
      "---------------------------------Data Training K-Fold----------------------------------\n",
      "Nilai Prediksi dari Data Train Menggunakan Metrics MAE adalah: 0.92 \n",
      "Nilai Prediksi dari Data Train Menggunakan Metrics MSE adalah: 1.15 \n"
     ]
    }
   ],
   "source": [
    "# Melihat hasil prediksi data test dan data train dengan metric MAE & MSE dari hasil K-Fold Cross Validation\n",
    "\n",
    "print(\"---------------------------------Data Testing K-Fold----------------------------------\")\n",
    "print(\"Nilai Prediksi dari Data Test Menggunakan Metrics MAE adalah: %.2f \" % np.mean(np.absolute\n",
    "                                                                                      (mae_score_kfold_test_march_15)))\n",
    "print(\"Nilai Prediksi dari Data Test Menggunakan Metrics MSE adalah: %.2f \" % np.mean(np.absolute\n",
    "                                                                                      (mse_score_kfold_test_march_15)), \"\\n\")\n",
    "\n",
    "print(\"---------------------------------Data Training K-Fold----------------------------------\")\n",
    "print(\"Nilai Prediksi dari Data Train Menggunakan Metrics MAE adalah: %.2f \" % np.mean(np.absolute\n",
    "                                                                                       (mae_score_kfold_train_march_15)))\n",
    "print(\"Nilai Prediksi dari Data Train Menggunakan Metrics MSE adalah: %.2f \" % np.mean(np.absolute\n",
    "                                                                                       (mse_score_kfold_train_march_15)))"
   ]
  },
  {
   "cell_type": "markdown",
   "metadata": {},
   "source": [
    "## 4.3. Regresi Random Forest"
   ]
  },
  {
   "cell_type": "markdown",
   "metadata": {},
   "source": [
    "Setelah memprediksi menggunakan model regresi linear, selanjutnya saya akan memprediksi tingkat pengangkutan sampah per harinya menggunakan model regresi random forest."
   ]
  },
  {
   "cell_type": "code",
   "execution_count": 63,
   "metadata": {},
   "outputs": [
    {
     "name": "stdout",
     "output_type": "stream",
     "text": [
      "{'bootstrap': True, 'ccp_alpha': 0.0, 'criterion': 'squared_error', 'max_depth': None, 'max_features': 'auto', 'max_leaf_nodes': None, 'max_samples': None, 'min_impurity_decrease': 0.0, 'min_samples_leaf': 1, 'min_samples_split': 2, 'min_weight_fraction_leaf': 0.0, 'n_estimators': 100, 'n_jobs': None, 'oob_score': False, 'random_state': None, 'verbose': 0, 'warm_start': False}\n"
     ]
    }
   ],
   "source": [
    "# Memanggil model regresi random forest dari library sklearn\n",
    "from sklearn.ensemble import RandomForestRegressor\n",
    "\n",
    "split_randomforest_regression_march = RandomForestRegressor()\n",
    "split_randomforest_regression_march.fit(x_train, y_train)\n",
    "\n",
    "# Melihat parameter dari regresi random forest beserta nilai terbaik dari masing-masing parameter\n",
    "print(split_randomforest_regression_march.get_params())"
   ]
  },
  {
   "cell_type": "markdown",
   "metadata": {},
   "source": [
    "Berdasarkan hasil output terkait pencarian parameter terbaik dari model regresi linear didapatkan beberapa kesimpulan diantaranya:\n",
    "\n",
    "1. Pada parameter bootstrap, nilai terbaik dari parameter ini adalah True.\n",
    "2. Di dalam parameter ccp_alpha, parameter ini memiliki nilai terbaik yakni nilai 0.0.\n",
    "3. Parameter criterion memiliki nilai terbaik yakni squared_error.\n",
    "4. Parameter max_depth tidak memiliki nilai karena nilai yang dimunculkan adalah None (Kosong).\n",
    "5. Di dalam parameter max_features, parameter ini memiliki nilai terbaik yakni nilai auto.\n",
    "6. Di dalam parameter max_leaf_nodes tidak memiliki nilai karena nilai yang dimunculkan adalah None (Kosong).\n",
    "7. Di dalam parameter max_samples tidak memiliki nilai karena nilai yang dimunculkan adalah None (Kosong).\n",
    "7. Di dalam parameter min_impurity_decrease, parameter ini memiliki nilai terbaik yakni nilai 0.0.\n",
    "8. Nilai terbaik dari parameter min_samples_leaf adalah 1.\n",
    "9. Nilai terbaik dari parameter min_samples_split adalah 2.\n",
    "10. Pada parameter min_weight_fraction_leaf, nilai yang muncul adalah nilai 0.0.\n",
    "11. Di parameter n_estimators, nilai yang muncul pada parameter ini adalah 100.\n",
    "12. Pada parameter n_jobs, nilai yang muncul adalah nilai None.\n",
    "13. Pada parameter oob_score, nilai yang muncul adalah nilai False.\n",
    "14. Pada parameter random_state, nilai yang muncul adalah nilai None.\n",
    "15. Di parameter verbose, nilai yang muncul pada parameter ini adalah 0.\n",
    "16. Sedangkan nilai yang muncul dari parameter warm_start adalah False.\n",
    "\n",
    "Nilai-nilai tersebut merupakan nilai terbaik dari model regresi random forest yang dimunculkan secara otomatis sebab dari awal regresi random forest telah memiliki nilai-nilai diatas sebagai nilai default. Nilai-nilai tersebut bisa dilihat di dokumentasi scikit learn dalam pembahasan regresi random forest (random forest regressor)."
   ]
  },
  {
   "cell_type": "code",
   "execution_count": 64,
   "metadata": {},
   "outputs": [
    {
     "name": "stdout",
     "output_type": "stream",
     "text": [
      "----------------Nilai Prediksi dari Data Testing------------------\n",
      "[1.39037728 1.38318302 1.38318302 ... 1.38318302 1.40928419 1.42021624]\n",
      "\n",
      "---------------Nilai Prediksi dari Data Training-----------------\n",
      "[1.44680288 1.38172199 1.43183185 ... 1.42628724 1.46955238 1.37204762]\n"
     ]
    }
   ],
   "source": [
    "# Melihat nilai prediksi dari data training dan data testing setelah dilakukan proses pencarian nilai parameters terbaik\n",
    "print(\"----------------Nilai Prediksi dari Data Testing------------------\")\n",
    "pred_test_randomforest_march = split_randomforest_regression_march.predict(x_test)\n",
    "print(pred_test_randomforest_march)\n",
    "\n",
    "print(\"\\n---------------Nilai Prediksi dari Data Training-----------------\")\n",
    "pred_train_randomforest_march = split_randomforest_regression_march.predict(x_train)\n",
    "print(pred_train_randomforest_march)"
   ]
  },
  {
   "cell_type": "code",
   "execution_count": 65,
   "metadata": {},
   "outputs": [
    {
     "name": "stdout",
     "output_type": "stream",
     "text": [
      "----------------------------Data Testing dari Split Validation----------------------------\n",
      "Nilai Metric Mean Absolute Error di Data Test adalah:  0.91\n",
      "Nilai Metric Mean Squared Error di Data Test adalah:  1.12 \n",
      "\n",
      "----------------------------Data Training dari Split Validation---------------------------\n",
      "Nilai Metric Mean Absolute Error di Data Train adalah:  0.92\n",
      "Nilai Metric Mean Squared Error di Data Train adalah:  1.15\n"
     ]
    }
   ],
   "source": [
    "# Melihat hasil prediksi regresi random forest dari data testing dan juga data training\n",
    "\n",
    "print(\"----------------------------Data Testing dari Split Validation----------------------------\")\n",
    "print(\"Nilai Metric Mean Absolute Error di Data Test adalah: \", \"%.2f\" % mean_absolute_error\n",
    "      (y_test, pred_test_randomforest_march))\n",
    "print(\"Nilai Metric Mean Squared Error di Data Test adalah: \", \"%.2f\" % mean_squared_error\n",
    "      (y_test,  pred_test_randomforest_march), \"\\n\")\n",
    "#print(\"Nilai Metric Mean Squared Log Error di Data Test Adalah: \", \"%.2f\" % mean_squared_log_error(y_test, pred_test_linear))\n",
    "\n",
    "print(\"----------------------------Data Training dari Split Validation---------------------------\")\n",
    "print(\"Nilai Metric Mean Absolute Error di Data Train adalah: \", \"%.2f\" % mean_absolute_error\n",
    "      (y_train, pred_train_randomforest_march))\n",
    "print(\"Nilai Metric Mean Squared Error di Data Train adalah: \", \"%.2f\" % mean_squared_error\n",
    "      (y_train, pred_train_randomforest_march))\n",
    "#print(\"Nilai Metric Mean Squared Log Error Adalah: \", \"%.2f\" % mean_squared_log_error(y_train, pred_train_linear))"
   ]
  },
  {
   "cell_type": "code",
   "execution_count": 66,
   "metadata": {},
   "outputs": [
    {
     "data": {
      "image/png": "[encoded data removed]",
      "text/plain": [
       "<Figure size 1800x1440 with 2 Axes>"
      ]
     },
     "metadata": {},
     "output_type": "display_data"
    }
   ],
   "source": [
    "# Membuat grafik untuk melihat trend data dari volume pengangkutan sampah setelah melalui proses pemodelan regresi random forest\n",
    "plt.figure(figsize=(25, 20))\n",
    "\n",
    "# Grafik untuk melihat trend data testing setelah dilakukan proses pemodelan regresi random forest\n",
    "plt.subplot(4, 3, 1)\n",
    "sns.lineplot(y_test, pred_test_randomforest_march)\n",
    "plt.title(\"Prediction Result in Random Forest Regression with Testing Data \\n\"\n",
    "          \"without Outliers in Waste Volume Transportation from March 2021\", fontsize=13, pad=13)\n",
    "plt.xlabel(\"Daily Waste Volume\")\n",
    "plt.ylabel(\"Predictive Value in Testing Data\")\n",
    "\n",
    "# Grafik untuk melihat trend data training setelah dilakukan proses pemodelan regresi linear\n",
    "plt.subplot(4, 3, 2)\n",
    "sns.lineplot(y_train, pred_train_randomforest_march)\n",
    "plt.title(\"Prediction Result in Random Forest Regression with Training Data \\n\"\n",
    "          \"without Outliers in Waste Volume Transportation from March 2021\", fontsize=13, pad=13)\n",
    "plt.xlabel(\"Daily Waste Volume\")\n",
    "plt.ylabel(\"Predictive Value in Training Data\")\n",
    "plt.show()"
   ]
  },
  {
   "cell_type": "markdown",
   "metadata": {},
   "source": [
    "#### 4.1.3. Menggunakan K-Fold Cross Validation dalam Melakukan Prediksi Model Regresi Random Forest"
   ]
  },
  {
   "cell_type": "markdown",
   "metadata": {},
   "source": [
    "##### 4.1.3.1. Nilai K-Fold = 5"
   ]
  },
  {
   "cell_type": "code",
   "execution_count": 67,
   "metadata": {
    "scrolled": true
   },
   "outputs": [
    {
     "data": {
      "text/plain": [
       "KFold(n_splits=5, random_state=37, shuffle=True)"
      ]
     },
     "execution_count": 67,
     "metadata": {},
     "output_type": "execute_result"
    }
   ],
   "source": [
    "# Memanggil library K-Fold Cross Validation yang telah dipanggil diawal pemrosesan\n",
    "kfold_5 = KFold(n_splits=5, random_state=37, shuffle=True)\n",
    "kfold_5"
   ]
  },
  {
   "cell_type": "markdown",
   "metadata": {},
   "source": [
    "K-Fold Cross Validation memiliki 3 parameters yaitu n_splits, shuffle, dan random_state. Berikut adalah penjelasan dari parameters di teknik k-fold cross validation adalah sebagai berikut:\n",
    "\n",
    "1. n_splits: parameter ini berfungsi sebagai lipatan dalam memvalidasi sebuah data. Jika n_split yang dibuat 5 maka terdapat 5 iterasi dalam memvalidasi serta juga melatih data sebanyak 5x pemrosesan dan setiap iterasi tersebut akan memiliki 5 baris untuk pengujiannya.\n",
    "2. shuffle: parameter ini berfungsi untuk mengacak data sebelum dipecah ke beberapa iterasi (sesuai n_splits yang dibuat).\n",
    "3. random_state: dan parameter terakhir yang dimiliki oleh teknik k-fold cross validation adalah random_state. Parameter ini berfungsi dalam mempengaruhi urutan indeks yang telah diacak (ketika nilai dari parameter shuffle di setting True) dan juga mengontrol keacakan dari setiap iterasi yang dilakukan."
   ]
  },
  {
   "cell_type": "code",
   "execution_count": 68,
   "metadata": {
    "scrolled": true
   },
   "outputs": [
    {
     "data": {
      "text/plain": [
       "RandomForestRegressor()"
      ]
     },
     "execution_count": 68,
     "metadata": {},
     "output_type": "execute_result"
    }
   ],
   "source": [
    "\"\"\"\n",
    "Membuat model regresi random forest + nilai parameter deafult yang \n",
    "kemudian akan diimplementasikan ke nilai 5 pada teknik k-fold cross validation\n",
    "\"\"\"\n",
    "\n",
    "kfold_randomforest_regression_march_5 = RandomForestRegressor()\n",
    "kfold_randomforest_regression_march_5.fit(x_train, y_train)"
   ]
  },
  {
   "cell_type": "code",
   "execution_count": 69,
   "metadata": {},
   "outputs": [],
   "source": [
    "\"\"\"\n",
    "Memanggil library cross_val_score untuk memvalidasi data training dan data test di model regresi random forest \n",
    "dengan menggunakan metrics MAE & MSE\n",
    "\"\"\"\n",
    "\n",
    "# Metric MAE untuk Data Training dan Data Testing\n",
    "mae_score_kfold_train_march_5 = cross_val_score(kfold_randomforest_regression_march_5, x_train, y_train, \n",
    "                                                scoring=\"neg_mean_absolute_error\", cv=kfold_5, n_jobs=1)\n",
    "\n",
    "mae_score_kfold_test_march_5 = cross_val_score(kfold_randomforest_regression_march_5, x_test, y_test, \n",
    "                                               scoring=\"neg_mean_absolute_error\", cv=kfold_5, n_jobs=1)\n",
    "\n",
    "# Metric MSE untuk Data Training dan Data Testing\n",
    "mse_score_kfold_train_march_5 = cross_val_score(kfold_randomforest_regression_march_5, x_train, y_train, \n",
    "                                                scoring=\"neg_mean_squared_error\", cv=kfold_5, n_jobs=1)\n",
    "\n",
    "mse_score_kfold_test_march_5 = cross_val_score(kfold_randomforest_regression_march_5, x_test, y_test, \n",
    "                                               scoring=\"neg_mean_squared_error\", cv=kfold_5, n_jobs=1)"
   ]
  },
  {
   "cell_type": "code",
   "execution_count": 70,
   "metadata": {
    "scrolled": false
   },
   "outputs": [
    {
     "name": "stdout",
     "output_type": "stream",
     "text": [
      "Skor Setiap Iterasi Data Training dari Metrics Mean Absolute Error: \n",
      " [-0.92255941 -0.91882709 -0.90755875 -0.91939273 -0.92073752] \n",
      "\n",
      "Skor Setiap Iterasi Data Testing dari Metrics Mean Absolute Error: \n",
      " [-0.91304044 -0.90434361 -0.91514495 -0.89673491 -0.90187127] \n",
      "\n",
      "Skor Setiap Iterasi Data Training dari Metrics Mean Absolute Error: \n",
      " [-1.16789364 -1.14718565 -1.11850935 -1.15560339 -1.15345193] \n",
      "\n",
      "Skor Setiap Iterasi Data Testing dari Metrics Mean Absolute Error: \n",
      " [-1.15363043 -1.13157254 -1.15145587 -1.09240138 -1.12695749]\n"
     ]
    }
   ],
   "source": [
    "# Melihat nilai dari setiap iterasi dari metrics mean absolute error dan mean squared error\n",
    "\n",
    "print(\"Skor Setiap Iterasi Data Training dari Metrics Mean Absolute Error: \\n\", mae_score_kfold_train_march_5, \"\\n\")\n",
    "print(\"Skor Setiap Iterasi Data Testing dari Metrics Mean Absolute Error: \\n\", mae_score_kfold_test_march_5, \"\\n\")\n",
    "print(\"Skor Setiap Iterasi Data Training dari Metrics Mean Absolute Error: \\n\", mse_score_kfold_train_march_5, \"\\n\")\n",
    "print(\"Skor Setiap Iterasi Data Testing dari Metrics Mean Absolute Error: \\n\", mse_score_kfold_test_march_5)"
   ]
  },
  {
   "cell_type": "code",
   "execution_count": 71,
   "metadata": {
    "scrolled": false
   },
   "outputs": [
    {
     "name": "stdout",
     "output_type": "stream",
     "text": [
      "---------------------------------Data Testing K-Fold----------------------------------\n",
      "Nilai Prediksi dari Data Test Menggunakan Metrics MAE adalah: 0.91 \n",
      "Nilai Prediksi dari Data Test Menggunakan Metrics MSE adalah: 1.13 \n",
      "\n",
      " ---------------------------------Data Training K-Fold----------------------------------\n",
      "Nilai Prediksi dari Data Train Menggunakan Metrics MAE adalah: 0.92 \n",
      "Nilai Prediksi dari Data Train Menggunakan Metrics MSE adalah: 1.15 \n"
     ]
    }
   ],
   "source": [
    "# Melihat hasil prediksi data test dan data train dengan metric MAE & MSE dari hasil K-Fold Cross Validation\n",
    "\n",
    "print(\"---------------------------------Data Testing K-Fold----------------------------------\")\n",
    "print(\"Nilai Prediksi dari Data Test Menggunakan Metrics MAE adalah: %.2f \" % np.mean(np.absolute\n",
    "                                                                                      (mae_score_kfold_test_march_5)))\n",
    "print(\"Nilai Prediksi dari Data Test Menggunakan Metrics MSE adalah: %.2f \" % np.mean(np.absolute\n",
    "                                                                                      (mse_score_kfold_test_march_5)))\n",
    "\n",
    "print(\"\\n\", \"---------------------------------Data Training K-Fold----------------------------------\")\n",
    "print(\"Nilai Prediksi dari Data Train Menggunakan Metrics MAE adalah: %.2f \" % np.mean(np.absolute\n",
    "                                                                                       (mae_score_kfold_train_march_5)))\n",
    "print(\"Nilai Prediksi dari Data Train Menggunakan Metrics MSE adalah: %.2f \" % np.mean(np.absolute\n",
    "                                                                                       (mse_score_kfold_train_march_5)))"
   ]
  },
  {
   "cell_type": "markdown",
   "metadata": {},
   "source": [
    "##### 4.1.3.2. Nilai K-Fold = 10"
   ]
  },
  {
   "cell_type": "code",
   "execution_count": 72,
   "metadata": {
    "scrolled": true
   },
   "outputs": [
    {
     "data": {
      "text/plain": [
       "KFold(n_splits=10, random_state=37, shuffle=True)"
      ]
     },
     "execution_count": 72,
     "metadata": {},
     "output_type": "execute_result"
    }
   ],
   "source": [
    "# Memanggil library K-Fold Cross Validation yang telah dipanggil diawal pemrosesan\n",
    "kfold_10 = KFold(n_splits=10, random_state=37, shuffle=True)\n",
    "kfold_10"
   ]
  },
  {
   "cell_type": "code",
   "execution_count": 73,
   "metadata": {
    "scrolled": true
   },
   "outputs": [
    {
     "data": {
      "text/plain": [
       "RandomForestRegressor()"
      ]
     },
     "execution_count": 73,
     "metadata": {},
     "output_type": "execute_result"
    }
   ],
   "source": [
    "\"\"\"\n",
    "Membuat model regresi random forest + nilai parameter deafult yang \n",
    "kemudian akan diimplementasikan ke nilai 10 pada teknik k-fold cross validation\n",
    "\"\"\"\n",
    "kfold_randomforest_regression_march_10 = RandomForestRegressor()\n",
    "kfold_randomforest_regression_march_10.fit(x_train, y_train)"
   ]
  },
  {
   "cell_type": "code",
   "execution_count": 74,
   "metadata": {},
   "outputs": [],
   "source": [
    "\"\"\"\n",
    "Memanggil library cross_val_score untuk memvalidasi data training dan data test di model regresi random forest \n",
    "dengan menggunakan metrics MAE & MSE\n",
    "\"\"\"\n",
    "\n",
    "# Metric MAE untuk Data Training dan Data Testing\n",
    "mae_score_kfold_train_march_10 = cross_val_score(kfold_randomforest_regression_march_10, x_train, y_train, \n",
    "                                                 scoring=\"neg_mean_absolute_error\", cv=kfold_10, n_jobs=1)\n",
    "\n",
    "mae_score_kfold_test_march_10 = cross_val_score(kfold_randomforest_regression_march_10, x_test, y_test, \n",
    "                                                scoring=\"neg_mean_absolute_error\", cv=kfold_10, n_jobs=1)\n",
    "\n",
    "# Metric MSE untuk Data Training dan Data Testing\n",
    "mse_score_kfold_train_march_10 = cross_val_score(kfold_randomforest_regression_march_10, x_train, y_train, \n",
    "                                                 scoring=\"neg_mean_squared_error\", cv=kfold_10, n_jobs=1)\n",
    "\n",
    "mse_score_kfold_test_march_10 = cross_val_score(kfold_randomforest_regression_march_10, x_test, y_test, \n",
    "                                                scoring=\"neg_mean_squared_error\", cv=kfold_5, n_jobs=1)"
   ]
  },
  {
   "cell_type": "code",
   "execution_count": 75,
   "metadata": {
    "scrolled": true
   },
   "outputs": [
    {
     "name": "stdout",
     "output_type": "stream",
     "text": [
      "Skor Setiap Iterasi Data Training dari Metrics Mean Absolute Error: \n",
      " [-0.90599491 -0.93798724 -0.92308985 -0.91595005 -0.90313896 -0.91217659\n",
      " -0.92768558 -0.91064597 -0.91374843 -0.92805413] \n",
      "\n",
      "Skor Setiap Iterasi Data Testing dari Metrics Mean Absolute Error: \n",
      " [-0.91114848 -0.9117072  -0.8939628  -0.91359483 -0.90752948 -0.92758324\n",
      " -0.89364666 -0.89624261 -0.88799317 -0.91755576] \n",
      "\n",
      "Skor Setiap Iterasi Data Training dari Metrics Mean Absolute Error: \n",
      " [-1.11712951 -1.21865469 -1.15911176 -1.13576879 -1.1098971  -1.12568457\n",
      " -1.1802494  -1.12949523 -1.14128368 -1.166784  ] \n",
      "\n",
      "Skor Setiap Iterasi Data Testing dari Metrics Mean Absolute Error: \n",
      " [-1.1531025  -1.13135059 -1.15244109 -1.09172104 -1.12713378]\n"
     ]
    }
   ],
   "source": [
    "# Melihat nilai dari setiap iterasi dari metrics mean absolute error dan mean squared error\n",
    "\n",
    "print(\"Skor Setiap Iterasi Data Training dari Metrics Mean Absolute Error: \\n\", mae_score_kfold_train_march_10, \"\\n\")\n",
    "print(\"Skor Setiap Iterasi Data Testing dari Metrics Mean Absolute Error: \\n\", mae_score_kfold_test_march_10, \"\\n\")\n",
    "print(\"Skor Setiap Iterasi Data Training dari Metrics Mean Absolute Error: \\n\", mse_score_kfold_train_march_10, \"\\n\")\n",
    "print(\"Skor Setiap Iterasi Data Testing dari Metrics Mean Absolute Error: \\n\", mse_score_kfold_test_march_10)"
   ]
  },
  {
   "cell_type": "code",
   "execution_count": 76,
   "metadata": {
    "scrolled": false
   },
   "outputs": [
    {
     "name": "stdout",
     "output_type": "stream",
     "text": [
      "---------------------------------Data Testing K-Fold----------------------------------\n",
      "Nilai Prediksi dari Data Test Menggunakan Metrics MAE adalah: 0.92 \n",
      "Nilai Prediksi dari Data Test Menggunakan Metrics MSE adalah: 1.13 \n",
      "\n",
      " ---------------------------------Data Training K-Fold----------------------------------\n",
      "Nilai Prediksi dari Data Train Menggunakan Metrics MAE adalah: 0.92 \n",
      "Nilai Prediksi dari Data Train Menggunakan Metrics MSE adalah: 1.15 \n"
     ]
    }
   ],
   "source": [
    "# Melihat hasil prediksi data test dan data train dengan metric MAE & MSE dari hasil K-Fold Cross Validation\n",
    "\n",
    "print(\"---------------------------------Data Testing K-Fold----------------------------------\")\n",
    "print(\"Nilai Prediksi dari Data Test Menggunakan Metrics MAE adalah: %.2f \" % np.mean(np.absolute\n",
    "                                                                                      (mae_score_kfold_train_march_10)))\n",
    "print(\"Nilai Prediksi dari Data Test Menggunakan Metrics MSE adalah: %.2f \" % np.mean(np.absolute\n",
    "                                                                                      (mse_score_kfold_test_march_10)))\n",
    "\n",
    "print(\"\\n\", \"---------------------------------Data Training K-Fold----------------------------------\")\n",
    "print(\"Nilai Prediksi dari Data Train Menggunakan Metrics MAE adalah: %.2f \" % np.mean(np.absolute\n",
    "                                                                                       (mae_score_kfold_train_march_10)))\n",
    "print(\"Nilai Prediksi dari Data Train Menggunakan Metrics MSE adalah: %.2f \" % np.mean(np.absolute\n",
    "                                                                                       (mse_score_kfold_train_march_10)))"
   ]
  },
  {
   "cell_type": "markdown",
   "metadata": {},
   "source": [
    "##### 4.1.3.3. Nilai K-Fold = 15"
   ]
  },
  {
   "cell_type": "code",
   "execution_count": 77,
   "metadata": {
    "scrolled": true
   },
   "outputs": [
    {
     "data": {
      "text/plain": [
       "KFold(n_splits=15, random_state=37, shuffle=True)"
      ]
     },
     "execution_count": 77,
     "metadata": {},
     "output_type": "execute_result"
    }
   ],
   "source": [
    "# Memanggil library K-Fold Cross Validation yang telah dipanggil diawal pemrosesan\n",
    "kfold_15 = KFold(n_splits=15, random_state=37, shuffle=True)\n",
    "kfold_15"
   ]
  },
  {
   "cell_type": "code",
   "execution_count": 78,
   "metadata": {
    "scrolled": true
   },
   "outputs": [
    {
     "data": {
      "text/plain": [
       "RandomForestRegressor()"
      ]
     },
     "execution_count": 78,
     "metadata": {},
     "output_type": "execute_result"
    }
   ],
   "source": [
    "\"\"\"\n",
    "Membuat model regresi linear + nilai parameter deafult yang \n",
    "kemudian akan diimplementasikan ke nilai 15 pada teknik k-fold cross validation\n",
    "\"\"\"\n",
    "\n",
    "kfold_randomforest_regression_march_15 = RandomForestRegressor()\n",
    "kfold_randomforest_regression_march_15.fit(x_train, y_train)"
   ]
  },
  {
   "cell_type": "code",
   "execution_count": 79,
   "metadata": {},
   "outputs": [],
   "source": [
    "\"\"\"\n",
    "Memanggil library cross_val_score untuk memvalidasi data training dan data test di model regresi random forest \n",
    "dengan menggunakan metrics MAE & MSE\n",
    "\"\"\"\n",
    "\n",
    "# Metric MAE untuk Data Training dan Data Testing\n",
    "mae_score_kfold_train_march_15 = cross_val_score(kfold_randomforest_regression_march_15, x_train, y_train, \n",
    "                                                 scoring=\"neg_mean_absolute_error\", cv=kfold_15, n_jobs=1)\n",
    "\n",
    "mae_score_kfold_test_march_15 = cross_val_score(kfold_randomforest_regression_march_15, x_test, y_test, \n",
    "                                                scoring=\"neg_mean_absolute_error\", cv=kfold_15, n_jobs=1)\n",
    "\n",
    "# Metric MSE untuk Data Training dan Data Testing\n",
    "mse_score_kfold_train_march_15 = cross_val_score(kfold_randomforest_regression_march_15, x_train, y_train, \n",
    "                                                 scoring=\"neg_mean_squared_error\", cv=kfold_15, n_jobs=1)\n",
    "\n",
    "mse_score_kfold_test_march_15 = cross_val_score(kfold_randomforest_regression_march_15, x_test, y_test, \n",
    "                                                scoring=\"neg_mean_squared_error\", cv=kfold_15, n_jobs=1)"
   ]
  },
  {
   "cell_type": "code",
   "execution_count": 80,
   "metadata": {
    "scrolled": true
   },
   "outputs": [
    {
     "name": "stdout",
     "output_type": "stream",
     "text": [
      "Skor Setiap Iterasi Data Training dari Metrics Mean Absolute Error: \n",
      " [-0.88425552 -0.94001515 -0.94116268 -0.92388015 -0.92602344 -0.90961715\n",
      " -0.91573689 -0.89361073 -0.91362364 -0.93206752 -0.90681258 -0.91917382\n",
      " -0.91710622 -0.91813156 -0.92681632] \n",
      "\n",
      "Skor Setiap Iterasi Data Testing dari Metrics Mean Absolute Error: \n",
      " [-0.91728224 -0.92050057 -0.89736745 -0.88911483 -0.9022114  -0.91482872\n",
      " -0.90096298 -0.94489406 -0.9046561  -0.91497069 -0.85165155 -0.91930771\n",
      " -0.88496832 -0.89500592 -0.92772586] \n",
      "\n",
      "Skor Setiap Iterasi Data Training dari Metrics Mean Absolute Error: \n",
      " [-1.06336579 -1.21350432 -1.224834   -1.16221874 -1.1667721  -1.11442076\n",
      " -1.15238128 -1.07158045 -1.12810215 -1.19799976 -1.11523823 -1.15245038\n",
      " -1.15292651 -1.1391651  -1.16874961] \n",
      "\n",
      "Skor Setiap Iterasi Data Testing dari Metrics Mean Absolute Error: \n",
      " [-1.15975498 -1.17601425 -1.1114155  -1.11143572 -1.12353219 -1.15360687\n",
      " -1.09769353 -1.22894245 -1.12064655 -1.12978257 -0.95895356 -1.16939871\n",
      " -1.09203347 -1.0898654  -1.19943216]\n"
     ]
    }
   ],
   "source": [
    "# Melihat nilai dari setiap iterasi dari metrics mean absolute error dan mean squared error\n",
    "\n",
    "print(\"Skor Setiap Iterasi Data Training dari Metrics Mean Absolute Error: \\n\", mae_score_kfold_train_march_15, \"\\n\")\n",
    "print(\"Skor Setiap Iterasi Data Testing dari Metrics Mean Absolute Error: \\n\", mae_score_kfold_test_march_15, \"\\n\")\n",
    "print(\"Skor Setiap Iterasi Data Training dari Metrics Mean Absolute Error: \\n\", mse_score_kfold_train_march_15, \"\\n\")\n",
    "print(\"Skor Setiap Iterasi Data Testing dari Metrics Mean Absolute Error: \\n\", mse_score_kfold_test_march_15)"
   ]
  },
  {
   "cell_type": "code",
   "execution_count": 81,
   "metadata": {
    "scrolled": true
   },
   "outputs": [
    {
     "name": "stdout",
     "output_type": "stream",
     "text": [
      "---------------------------------Data Testing K-Fold----------------------------------\n",
      "Nilai Prediksi dari Data Test Menggunakan Metrics MAE adalah: 0.92 \n",
      "Nilai Prediksi dari Data Test Menggunakan Metrics MSE adalah: 1.13 \n",
      "\n",
      " ---------------------------------Data Training K-Fold----------------------------------\n",
      "Nilai Prediksi dari Data Train Menggunakan Metrics MAE adalah: 0.92 \n",
      "Nilai Prediksi dari Data Train Menggunakan Metrics MSE adalah: 1.15 \n"
     ]
    }
   ],
   "source": [
    "# Melihat hasil prediksi data test dan data train dengan metric MAE & MSE dari hasil K-Fold Cross Validation\n",
    "\n",
    "print(\"---------------------------------Data Testing K-Fold----------------------------------\")\n",
    "print(\"Nilai Prediksi dari Data Test Menggunakan Metrics MAE adalah: %.2f \" % np.mean(np.absolute\n",
    "                                                                                      (mae_score_kfold_train_march_15)))\n",
    "print(\"Nilai Prediksi dari Data Test Menggunakan Metrics MSE adalah: %.2f \" % np.mean(np.absolute\n",
    "                                                                                      (mse_score_kfold_test_march_15)))\n",
    "\n",
    "print(\"\\n\", \"---------------------------------Data Training K-Fold----------------------------------\")\n",
    "print(\"Nilai Prediksi dari Data Train Menggunakan Metrics MAE adalah: %.2f \" % np.mean(np.absolute\n",
    "                                                                                       (mae_score_kfold_train_march_15)))\n",
    "print(\"Nilai Prediksi dari Data Train Menggunakan Metrics MSE adalah: %.2f \" % np.mean(np.absolute\n",
    "                                                                                       (mse_score_kfold_train_march_15)))"
   ]
  }
 ],
 "metadata": {
  "kernelspec": {
   "display_name": "Python 3 (ipykernel)",
   "language": "python",
   "name": "python3"
  },
  "language_info": {
   "codemirror_mode": {
    "name": "ipython",
    "version": 3
   },
   "file_extension": ".py",
   "mimetype": "text/x-python",
   "name": "python",
   "nbconvert_exporter": "python",
   "pygments_lexer": "ipython3",
   "version": "3.9.12"
  }
 },
 "nbformat": 4,
 "nbformat_minor": 4
}
