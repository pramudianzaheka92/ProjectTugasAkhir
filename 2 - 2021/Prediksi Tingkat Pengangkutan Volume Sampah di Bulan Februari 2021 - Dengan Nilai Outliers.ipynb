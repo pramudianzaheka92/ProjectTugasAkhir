{
 "cells": [
  {
   "cell_type": "markdown",
   "metadata": {},
   "source": [
    "## 1. Import Library serta Melakukan Eksplor Dataset Dengan Pandas"
   ]
  },
  {
   "cell_type": "code",
   "execution_count": 1,
   "metadata": {},
   "outputs": [],
   "source": [
    "# Import library yang akan digunakan dalam melakukan prediksi\n",
    "import pandas as pd\n",
    "import numpy as np\n",
    "import matplotlib.pyplot as plt\n",
    "import seaborn as sns\n",
    "plt.style.use(\"seaborn\")\n",
    "import warnings\n",
    "warnings.filterwarnings(\"ignore\")\n",
    "from sklearn.model_selection import train_test_split, KFold, cross_val_score\n",
    "from sklearn.metrics import mean_absolute_error, mean_squared_error"
   ]
  },
  {
   "cell_type": "code",
   "execution_count": 2,
   "metadata": {},
   "outputs": [
    {
     "data": {
      "text/html": [
       "<div>\n",
       "<style scoped>\n",
       "    .dataframe tbody tr th:only-of-type {\n",
       "        vertical-align: middle;\n",
       "    }\n",
       "\n",
       "    .dataframe tbody tr th {\n",
       "        vertical-align: top;\n",
       "    }\n",
       "\n",
       "    .dataframe thead th {\n",
       "        text-align: right;\n",
       "    }\n",
       "</style>\n",
       "<table border=\"1\" class=\"dataframe\">\n",
       "  <thead>\n",
       "    <tr style=\"text-align: right;\">\n",
       "      <th></th>\n",
       "      <th>bulan</th>\n",
       "      <th>titik_lokasi</th>\n",
       "      <th>kecamatan</th>\n",
       "      <th>wilayah</th>\n",
       "      <th>panjang/luas</th>\n",
       "      <th>satuan_panjang/luas</th>\n",
       "      <th>tanggal</th>\n",
       "      <th>volume_sampah_perhari(m3)</th>\n",
       "    </tr>\n",
       "  </thead>\n",
       "  <tbody>\n",
       "    <tr>\n",
       "      <th>49247</th>\n",
       "      <td>2</td>\n",
       "      <td>Kali Cakung Drain (Jembatan Tinggi-Perbatasan ...</td>\n",
       "      <td>Cakung</td>\n",
       "      <td>Jakarta Timur</td>\n",
       "      <td>800</td>\n",
       "      <td>m</td>\n",
       "      <td>28</td>\n",
       "      <td>-</td>\n",
       "    </tr>\n",
       "    <tr>\n",
       "      <th>49248</th>\n",
       "      <td>2</td>\n",
       "      <td>PHB Rawa Teratai</td>\n",
       "      <td>Cakung</td>\n",
       "      <td>Jakarta Timur</td>\n",
       "      <td>700</td>\n",
       "      <td>m</td>\n",
       "      <td>28</td>\n",
       "      <td>-</td>\n",
       "    </tr>\n",
       "    <tr>\n",
       "      <th>49249</th>\n",
       "      <td>2</td>\n",
       "      <td>PHB Rawa Gelam III</td>\n",
       "      <td>Cakung</td>\n",
       "      <td>Jakarta Timur</td>\n",
       "      <td>1000</td>\n",
       "      <td>m</td>\n",
       "      <td>28</td>\n",
       "      <td>-</td>\n",
       "    </tr>\n",
       "    <tr>\n",
       "      <th>49250</th>\n",
       "      <td>2</td>\n",
       "      <td>PHB Metropos KIP</td>\n",
       "      <td>Cakung</td>\n",
       "      <td>Jakarta Timur</td>\n",
       "      <td>1000</td>\n",
       "      <td>m</td>\n",
       "      <td>28</td>\n",
       "      <td>-</td>\n",
       "    </tr>\n",
       "    <tr>\n",
       "      <th>49251</th>\n",
       "      <td>2</td>\n",
       "      <td>PHB Warung Jengkol</td>\n",
       "      <td>Cakung</td>\n",
       "      <td>Jakarta Timur</td>\n",
       "      <td>400</td>\n",
       "      <td>m</td>\n",
       "      <td>28</td>\n",
       "      <td>-</td>\n",
       "    </tr>\n",
       "  </tbody>\n",
       "</table>\n",
       "</div>"
      ],
      "text/plain": [
       "       bulan                                      titik_lokasi   kecamatan   \\\n",
       "49247      2  Kali Cakung Drain (Jembatan Tinggi-Perbatasan ...      Cakung   \n",
       "49248      2                                   PHB Rawa Teratai      Cakung   \n",
       "49249      2                                 PHB Rawa Gelam III      Cakung   \n",
       "49250      2                                   PHB Metropos KIP      Cakung   \n",
       "49251      2                                 PHB Warung Jengkol      Cakung   \n",
       "\n",
       "            wilayah   panjang/luas  satuan_panjang/luas  tanggal  \\\n",
       "49247  Jakarta Timur            800                   m       28   \n",
       "49248  Jakarta Timur            700                   m       28   \n",
       "49249  Jakarta Timur           1000                   m       28   \n",
       "49250  Jakarta Timur           1000                   m       28   \n",
       "49251  Jakarta Timur            400                   m       28   \n",
       "\n",
       "      volume_sampah_perhari(m3)  \n",
       "49247                         -  \n",
       "49248                         -  \n",
       "49249                         -  \n",
       "49250                         -  \n",
       "49251                         -  "
      ]
     },
     "execution_count": 2,
     "metadata": {},
     "output_type": "execute_result"
    }
   ],
   "source": [
    "# Read dataset\n",
    "data_februari = pd.read_csv(\"volume-pengangkutan-sampah-di-kali-sungai-situ-waduk-bulan-februari-tahun-2021.csv\", \n",
    "                            encoding=\"latin-1\")\n",
    "data_februari.tail()"
   ]
  },
  {
   "cell_type": "code",
   "execution_count": 3,
   "metadata": {},
   "outputs": [
    {
     "name": "stdout",
     "output_type": "stream",
     "text": [
      "<class 'pandas.core.frame.DataFrame'>\n",
      "RangeIndex: 49252 entries, 0 to 49251\n",
      "Data columns (total 8 columns):\n",
      " #   Column                     Non-Null Count  Dtype \n",
      "---  ------                     --------------  ----- \n",
      " 0   bulan                      49252 non-null  int64 \n",
      " 1    titik_lokasi              49252 non-null  object\n",
      " 2    kecamatan                 49252 non-null  object\n",
      " 3    wilayah                   49252 non-null  object\n",
      " 4    panjang/luas              39816 non-null  object\n",
      " 5   satuan_panjang/luas        29428 non-null  object\n",
      " 6   tanggal                    49252 non-null  int64 \n",
      " 7   volume_sampah_perhari(m3)  49252 non-null  object\n",
      "dtypes: int64(2), object(6)\n",
      "memory usage: 3.0+ MB\n"
     ]
    }
   ],
   "source": [
    "# Melihat info dataset (tipe data, total record data, dll)\n",
    "data_februari.info()"
   ]
  },
  {
   "cell_type": "code",
   "execution_count": 4,
   "metadata": {},
   "outputs": [],
   "source": [
    "# Menghapus jarak spasi pada kolom dataset\n",
    "data_februari.columns = data_februari.columns.str.replace(\" \", \"\")"
   ]
  },
  {
   "cell_type": "code",
   "execution_count": 5,
   "metadata": {},
   "outputs": [
    {
     "data": {
      "text/html": [
       "<div>\n",
       "<style scoped>\n",
       "    .dataframe tbody tr th:only-of-type {\n",
       "        vertical-align: middle;\n",
       "    }\n",
       "\n",
       "    .dataframe tbody tr th {\n",
       "        vertical-align: top;\n",
       "    }\n",
       "\n",
       "    .dataframe thead th {\n",
       "        text-align: right;\n",
       "    }\n",
       "</style>\n",
       "<table border=\"1\" class=\"dataframe\">\n",
       "  <thead>\n",
       "    <tr style=\"text-align: right;\">\n",
       "      <th></th>\n",
       "      <th>bulan</th>\n",
       "      <th>titik_lokasi</th>\n",
       "      <th>kecamatan</th>\n",
       "      <th>wilayah</th>\n",
       "      <th>panjang/luas</th>\n",
       "      <th>satuan_panjang/luas</th>\n",
       "      <th>tanggal</th>\n",
       "      <th>volume_sampah_perhari(m3)</th>\n",
       "    </tr>\n",
       "  </thead>\n",
       "  <tbody>\n",
       "    <tr>\n",
       "      <th>count</th>\n",
       "      <td>49252.0</td>\n",
       "      <td>49252</td>\n",
       "      <td>49252</td>\n",
       "      <td>49252</td>\n",
       "      <td>39816</td>\n",
       "      <td>29428</td>\n",
       "      <td>49252.000000</td>\n",
       "      <td>49252</td>\n",
       "    </tr>\n",
       "    <tr>\n",
       "      <th>unique</th>\n",
       "      <td>NaN</td>\n",
       "      <td>1753</td>\n",
       "      <td>42</td>\n",
       "      <td>5</td>\n",
       "      <td>299</td>\n",
       "      <td>9</td>\n",
       "      <td>NaN</td>\n",
       "      <td>93</td>\n",
       "    </tr>\n",
       "    <tr>\n",
       "      <th>top</th>\n",
       "      <td>NaN</td>\n",
       "      <td>Saluran PHB Asem</td>\n",
       "      <td>Kalideres</td>\n",
       "      <td>Jakarta Barat</td>\n",
       "      <td>1000</td>\n",
       "      <td>m</td>\n",
       "      <td>NaN</td>\n",
       "      <td>0</td>\n",
       "    </tr>\n",
       "    <tr>\n",
       "      <th>freq</th>\n",
       "      <td>NaN</td>\n",
       "      <td>56</td>\n",
       "      <td>2632</td>\n",
       "      <td>14840</td>\n",
       "      <td>5936</td>\n",
       "      <td>26964</td>\n",
       "      <td>NaN</td>\n",
       "      <td>14029</td>\n",
       "    </tr>\n",
       "    <tr>\n",
       "      <th>mean</th>\n",
       "      <td>2.0</td>\n",
       "      <td>NaN</td>\n",
       "      <td>NaN</td>\n",
       "      <td>NaN</td>\n",
       "      <td>NaN</td>\n",
       "      <td>NaN</td>\n",
       "      <td>14.500000</td>\n",
       "      <td>NaN</td>\n",
       "    </tr>\n",
       "    <tr>\n",
       "      <th>std</th>\n",
       "      <td>0.0</td>\n",
       "      <td>NaN</td>\n",
       "      <td>NaN</td>\n",
       "      <td>NaN</td>\n",
       "      <td>NaN</td>\n",
       "      <td>NaN</td>\n",
       "      <td>8.077829</td>\n",
       "      <td>NaN</td>\n",
       "    </tr>\n",
       "    <tr>\n",
       "      <th>min</th>\n",
       "      <td>2.0</td>\n",
       "      <td>NaN</td>\n",
       "      <td>NaN</td>\n",
       "      <td>NaN</td>\n",
       "      <td>NaN</td>\n",
       "      <td>NaN</td>\n",
       "      <td>1.000000</td>\n",
       "      <td>NaN</td>\n",
       "    </tr>\n",
       "    <tr>\n",
       "      <th>25%</th>\n",
       "      <td>2.0</td>\n",
       "      <td>NaN</td>\n",
       "      <td>NaN</td>\n",
       "      <td>NaN</td>\n",
       "      <td>NaN</td>\n",
       "      <td>NaN</td>\n",
       "      <td>7.750000</td>\n",
       "      <td>NaN</td>\n",
       "    </tr>\n",
       "    <tr>\n",
       "      <th>50%</th>\n",
       "      <td>2.0</td>\n",
       "      <td>NaN</td>\n",
       "      <td>NaN</td>\n",
       "      <td>NaN</td>\n",
       "      <td>NaN</td>\n",
       "      <td>NaN</td>\n",
       "      <td>14.500000</td>\n",
       "      <td>NaN</td>\n",
       "    </tr>\n",
       "    <tr>\n",
       "      <th>75%</th>\n",
       "      <td>2.0</td>\n",
       "      <td>NaN</td>\n",
       "      <td>NaN</td>\n",
       "      <td>NaN</td>\n",
       "      <td>NaN</td>\n",
       "      <td>NaN</td>\n",
       "      <td>21.250000</td>\n",
       "      <td>NaN</td>\n",
       "    </tr>\n",
       "    <tr>\n",
       "      <th>max</th>\n",
       "      <td>2.0</td>\n",
       "      <td>NaN</td>\n",
       "      <td>NaN</td>\n",
       "      <td>NaN</td>\n",
       "      <td>NaN</td>\n",
       "      <td>NaN</td>\n",
       "      <td>28.000000</td>\n",
       "      <td>NaN</td>\n",
       "    </tr>\n",
       "  </tbody>\n",
       "</table>\n",
       "</div>"
      ],
      "text/plain": [
       "          bulan      titik_lokasi  kecamatan        wilayah panjang/luas  \\\n",
       "count   49252.0             49252      49252          49252        39816   \n",
       "unique      NaN              1753         42              5          299   \n",
       "top         NaN  Saluran PHB Asem  Kalideres  Jakarta Barat         1000   \n",
       "freq        NaN                56       2632          14840         5936   \n",
       "mean        2.0               NaN        NaN            NaN          NaN   \n",
       "std         0.0               NaN        NaN            NaN          NaN   \n",
       "min         2.0               NaN        NaN            NaN          NaN   \n",
       "25%         2.0               NaN        NaN            NaN          NaN   \n",
       "50%         2.0               NaN        NaN            NaN          NaN   \n",
       "75%         2.0               NaN        NaN            NaN          NaN   \n",
       "max         2.0               NaN        NaN            NaN          NaN   \n",
       "\n",
       "       satuan_panjang/luas       tanggal volume_sampah_perhari(m3)  \n",
       "count                29428  49252.000000                     49252  \n",
       "unique                   9           NaN                        93  \n",
       "top                      m           NaN                         0  \n",
       "freq                 26964           NaN                     14029  \n",
       "mean                   NaN     14.500000                       NaN  \n",
       "std                    NaN      8.077829                       NaN  \n",
       "min                    NaN      1.000000                       NaN  \n",
       "25%                    NaN      7.750000                       NaN  \n",
       "50%                    NaN     14.500000                       NaN  \n",
       "75%                    NaN     21.250000                       NaN  \n",
       "max                    NaN     28.000000                       NaN  "
      ]
     },
     "execution_count": 5,
     "metadata": {},
     "output_type": "execute_result"
    }
   ],
   "source": [
    "# Melihat nilai statistik deskriptif dari dataframe untuk keseluruhan kolom\n",
    "data_februari.describe(include=\"all\")"
   ]
  },
  {
   "cell_type": "markdown",
   "metadata": {},
   "source": [
    "Hasil keluaran diatas menandakan beberapa nilai-nilai dari statistik deskriptif dari kedua jenis data yakni numerik (tipe data int & float) dan kategorik (tipe data object/string) dan tentu saja setiap jenis data memiliki nilai deskriptif yang berbeda. Seperti misalnya jenis data numerik memiliki nilai deskriptif seperti count, mean, std (standard deviasi), maximum, minimum, quartil 1 (25%), quartil 2/median (50%) dan quartil 3 (75%). Sedangkan jenis data kategorik memiliki nilai deskriptif seperti count, unique, top dan freq (frekuensi data).\n",
    "\n",
    "Sebagai contoh dapat dilihat pada penjelasan dibawah ini:\n",
    "\n",
    "- Pada kolom titik_lokasi tidak memiliki nilai mean, standard deviasi, min, dll, tetapi memiliki nilai top, unique, freq, dll. Hal tersebut dikarenakan kolom titik_lokasi bersifat kategorik (karena memiliki tipe data string). Maka dari itu kolom titik_lokasi memiliki nilai top yakni PHB Pramuka, nilai freq adalah 56, dst.\n",
    "\n",
    "- Sedangkan pada kolom tanggal tidak memiliki nilai top, freq, dll tetapi memiliki nilai mean, standard deviasi, min, max, dll. Hal tersebut dikarenakan kolom tanggal bersifat numerik. Hal ini dapat dilihat dari nilai mean pada kolom tanggal adalah 14.5, nilai max adalah 28.0, nilai quartil 3 adalah 21.25, dst.\n",
    "\n",
    "Berikut adalah kolom-kolom yang bersifat kategorik dan numerik:\n",
    "\n",
    "- Kategorik: titik_lokasi, kecamatan, wilayah, panjang/luas, satuan_panjang/luas dan volume_sampah_perhari(m3).\n",
    "- Numerik: bulan dan tanggal."
   ]
  },
  {
   "cell_type": "code",
   "execution_count": 6,
   "metadata": {},
   "outputs": [
    {
     "data": {
      "text/plain": [
       "bulan                         int64\n",
       "titik_lokasi                 object\n",
       "kecamatan                    object\n",
       "wilayah                      object\n",
       "panjang/luas                 object\n",
       "satuan_panjang/luas          object\n",
       "tanggal                       int64\n",
       "volume_sampah_perhari(m3)    object\n",
       "dtype: object"
      ]
     },
     "execution_count": 6,
     "metadata": {},
     "output_type": "execute_result"
    }
   ],
   "source": [
    "# Melihat tipe data dari masing-masing kolom yang ada di dalam dataframe\n",
    "data_februari.dtypes"
   ]
  },
  {
   "cell_type": "code",
   "execution_count": 7,
   "metadata": {},
   "outputs": [
    {
     "data": {
      "text/plain": [
       "Index(['bulan', 'titik_lokasi', 'kecamatan', 'wilayah', 'panjang/luas',\n",
       "       'satuan_panjang/luas', 'tanggal', 'volume_sampah_perhari(m3)'],\n",
       "      dtype='object')"
      ]
     },
     "execution_count": 7,
     "metadata": {},
     "output_type": "execute_result"
    }
   ],
   "source": [
    "# Melihat nama kolom yang ada di dalam dataframe\n",
    "data_februari.columns"
   ]
  },
  {
   "cell_type": "code",
   "execution_count": 8,
   "metadata": {},
   "outputs": [
    {
     "data": {
      "text/plain": [
       "(49252, 8)"
      ]
     },
     "execution_count": 8,
     "metadata": {},
     "output_type": "execute_result"
    }
   ],
   "source": [
    "# Melihat jumlah rows dan kolom pada dataframe\n",
    "data_februari.shape"
   ]
  },
  {
   "cell_type": "markdown",
   "metadata": {},
   "source": [
    "Sangat berbeda sekali jumlah rows atau jumlah baris dari dataframe bulan Februari dengan bulan Januari. Pada bulan Januari jumlah rows-nya sebanyak 54343 sedangkan jumlah rows di bulan Februari yakni mencapai 49252."
   ]
  },
  {
   "cell_type": "code",
   "execution_count": 9,
   "metadata": {},
   "outputs": [
    {
     "name": "stdout",
     "output_type": "stream",
     "text": [
      "Kalideres            2632\n",
      "Tanjung Priok        2632\n",
      "Penjaringan          2492\n",
      "Cilincing            2296\n",
      "Cengkareng           2240\n",
      "Grogol Petamburan    2100\n",
      "Cakung               2044\n",
      "Kembangan            2016\n",
      "Tamansari            1764\n",
      "Pademangan           1708\n",
      "Kebon Jeruk          1428\n",
      "Tambora              1400\n",
      "Kelapa Gading        1344\n",
      "Koja                 1260\n",
      "Palmerah             1260\n",
      "Jatinegara           1232\n",
      "Pulo Gadung          1176\n",
      "Duren Sawit          1176\n",
      "Jagakarsa            1092\n",
      "Pasar Rebo           1036\n",
      "Kramat Jati          1008\n",
      "Matraman              868\n",
      "Makasar               868\n",
      "Gambir                840\n",
      "Ciracas               840\n",
      "Tanah Abang           812\n",
      "Pancoran              784\n",
      "Pasar Minggu          756\n",
      "Cilandak              756\n",
      "Kebayoran Baru        756\n",
      "Kebayoran Lama        728\n",
      "Setiabudi             700\n",
      "Tebet                 672\n",
      "Mampang Prapatan      644\n",
      "Cipayung              588\n",
      "Pesanggrahan          560\n",
      "Sawah Besar           504\n",
      "Senen                 476\n",
      "Cempaka Putih         476\n",
      "Kemayoran             476\n",
      "Menteng               448\n",
      "Johar Baru            364\n",
      "Name: kecamatan, dtype: int64\n",
      "\n",
      "Jakarta Barat      14840\n",
      "Jakarta Utara      11732\n",
      "Jakarta Timur      10836\n",
      "Jakarta Selatan     7448\n",
      "Jakarta Pusat       4396\n",
      "Name: wilayah, dtype: int64\n",
      "\n",
      "m     26964\n",
      "M      1428\n",
      "Ha      784\n",
      "H        84\n",
      "HA       56\n",
      "M³       28\n",
      "m²       28\n",
      "m2       28\n",
      "km       28\n",
      "Name: satuan_panjang/luas, dtype: int64\n"
     ]
    }
   ],
   "source": [
    "\"\"\"\n",
    "Menghitung nilai dari beberapa kolom (kecamatan, wilayah, satuan_panjang/satuan) \n",
    "dari yang sering muncul - tidak sering muncul di dalam dataframe\n",
    "\"\"\"\n",
    "print(data_februari[\"kecamatan\"].value_counts())\n",
    "print()\n",
    "\n",
    "print(data_februari[\"wilayah\"].value_counts())\n",
    "print()\n",
    "\n",
    "print(data_februari[\"satuan_panjang/luas\"].value_counts())"
   ]
  },
  {
   "cell_type": "code",
   "execution_count": 10,
   "metadata": {},
   "outputs": [
    {
     "data": {
      "text/plain": [
       "Index(['bulan', 'titik_lokasi', 'kecamatan', 'wilayah', 'panjang_luas',\n",
       "       'satuan_panjang', 'tanggal', 'volume_sampah_perhari'],\n",
       "      dtype='object')"
      ]
     },
     "execution_count": 10,
     "metadata": {},
     "output_type": "execute_result"
    }
   ],
   "source": [
    "\"\"\"\n",
    "Mengubah nama kolom satuan_panjang/luas menjadi satuan_panjang untuk melihat data yang disesuaikan. Seperti misalkan ingin\n",
    "melihat data kecamatan yang hanya berisi informasi kecamatan Tanjung Priok, dst\n",
    "\"\"\"\n",
    "rename_column_data = data_februari.rename(columns={\"satuan_panjang/luas\": \"satuan_panjang\", \n",
    "                                                   \"volume_sampah_perhari(m3)\": \"volume_sampah_perhari\", \n",
    "                                                   \"panjang/luas\": \"panjang_luas\"})\n",
    "\n",
    "rename_column_data.columns"
   ]
  },
  {
   "cell_type": "code",
   "execution_count": 11,
   "metadata": {},
   "outputs": [
    {
     "data": {
      "text/html": [
       "<div>\n",
       "<style scoped>\n",
       "    .dataframe tbody tr th:only-of-type {\n",
       "        vertical-align: middle;\n",
       "    }\n",
       "\n",
       "    .dataframe tbody tr th {\n",
       "        vertical-align: top;\n",
       "    }\n",
       "\n",
       "    .dataframe thead th {\n",
       "        text-align: right;\n",
       "    }\n",
       "</style>\n",
       "<table border=\"1\" class=\"dataframe\">\n",
       "  <thead>\n",
       "    <tr style=\"text-align: right;\">\n",
       "      <th></th>\n",
       "      <th>bulan</th>\n",
       "      <th>titik_lokasi</th>\n",
       "      <th>kecamatan</th>\n",
       "      <th>wilayah</th>\n",
       "      <th>panjang_luas</th>\n",
       "      <th>satuan_panjang</th>\n",
       "      <th>tanggal</th>\n",
       "      <th>volume_sampah_perhari</th>\n",
       "    </tr>\n",
       "  </thead>\n",
       "  <tbody>\n",
       "    <tr>\n",
       "      <th>332</th>\n",
       "      <td>2</td>\n",
       "      <td>PHB Sunter Ready Mix Ruas bypass Yos Sudarso</td>\n",
       "      <td>Tanjung Priok</td>\n",
       "      <td>Jakarta Utara</td>\n",
       "      <td>NaN</td>\n",
       "      <td>NaN</td>\n",
       "      <td>1</td>\n",
       "      <td>2</td>\n",
       "    </tr>\n",
       "    <tr>\n",
       "      <th>333</th>\n",
       "      <td>2</td>\n",
       "      <td>Kali Lagoa Tirem depan Sukmul</td>\n",
       "      <td>Tanjung Priok</td>\n",
       "      <td>Jakarta Utara</td>\n",
       "      <td>NaN</td>\n",
       "      <td>NaN</td>\n",
       "      <td>1</td>\n",
       "      <td>3</td>\n",
       "    </tr>\n",
       "    <tr>\n",
       "      <th>334</th>\n",
       "      <td>2</td>\n",
       "      <td>Kali Lagoa Tirem Depan Saringan</td>\n",
       "      <td>Tanjung Priok</td>\n",
       "      <td>Jakarta Utara</td>\n",
       "      <td>NaN</td>\n",
       "      <td>NaN</td>\n",
       "      <td>1</td>\n",
       "      <td>0</td>\n",
       "    </tr>\n",
       "    <tr>\n",
       "      <th>335</th>\n",
       "      <td>2</td>\n",
       "      <td>Kali Lagoa Buntu Enim</td>\n",
       "      <td>Tanjung Priok</td>\n",
       "      <td>Jakarta Utara</td>\n",
       "      <td>NaN</td>\n",
       "      <td>NaN</td>\n",
       "      <td>1</td>\n",
       "      <td>3</td>\n",
       "    </tr>\n",
       "    <tr>\n",
       "      <th>336</th>\n",
       "      <td>2</td>\n",
       "      <td>Kali Lagoa Buntu Arhanud</td>\n",
       "      <td>Tanjung Priok</td>\n",
       "      <td>Jakarta Utara</td>\n",
       "      <td>NaN</td>\n",
       "      <td>NaN</td>\n",
       "      <td>1</td>\n",
       "      <td>2</td>\n",
       "    </tr>\n",
       "    <tr>\n",
       "      <th>337</th>\n",
       "      <td>2</td>\n",
       "      <td>Kali Lagoa Kanal Jembatan Arhanud</td>\n",
       "      <td>Tanjung Priok</td>\n",
       "      <td>Jakarta Utara</td>\n",
       "      <td>NaN</td>\n",
       "      <td>NaN</td>\n",
       "      <td>1</td>\n",
       "      <td>2</td>\n",
       "    </tr>\n",
       "    <tr>\n",
       "      <th>338</th>\n",
       "      <td>2</td>\n",
       "      <td>Kali Lagoa Kanal Enggano</td>\n",
       "      <td>Tanjung Priok</td>\n",
       "      <td>Jakarta Utara</td>\n",
       "      <td>NaN</td>\n",
       "      <td>NaN</td>\n",
       "      <td>1</td>\n",
       "      <td>3</td>\n",
       "    </tr>\n",
       "    <tr>\n",
       "      <th>339</th>\n",
       "      <td>2</td>\n",
       "      <td>Kali Lagoa Buntu Jembatan Bugis</td>\n",
       "      <td>Tanjung Priok</td>\n",
       "      <td>Jakarta Utara</td>\n",
       "      <td>NaN</td>\n",
       "      <td>NaN</td>\n",
       "      <td>1</td>\n",
       "      <td>3</td>\n",
       "    </tr>\n",
       "    <tr>\n",
       "      <th>340</th>\n",
       "      <td>2</td>\n",
       "      <td>Kali Sentiong Jembatan Jubile School</td>\n",
       "      <td>Tanjung Priok</td>\n",
       "      <td>Jakarta Utara</td>\n",
       "      <td>NaN</td>\n",
       "      <td>NaN</td>\n",
       "      <td>1</td>\n",
       "      <td>1</td>\n",
       "    </tr>\n",
       "    <tr>\n",
       "      <th>341</th>\n",
       "      <td>2</td>\n",
       "      <td>Kali Sentiong Blok A</td>\n",
       "      <td>Tanjung Priok</td>\n",
       "      <td>Jakarta Utara</td>\n",
       "      <td>NaN</td>\n",
       "      <td>NaN</td>\n",
       "      <td>1</td>\n",
       "      <td>1</td>\n",
       "    </tr>\n",
       "  </tbody>\n",
       "</table>\n",
       "</div>"
      ],
      "text/plain": [
       "     bulan                                  titik_lokasi      kecamatan  \\\n",
       "332      2  PHB Sunter Ready Mix Ruas bypass Yos Sudarso  Tanjung Priok   \n",
       "333      2                 Kali Lagoa Tirem depan Sukmul  Tanjung Priok   \n",
       "334      2               Kali Lagoa Tirem Depan Saringan  Tanjung Priok   \n",
       "335      2                         Kali Lagoa Buntu Enim  Tanjung Priok   \n",
       "336      2                      Kali Lagoa Buntu Arhanud  Tanjung Priok   \n",
       "337      2             Kali Lagoa Kanal Jembatan Arhanud  Tanjung Priok   \n",
       "338      2                      Kali Lagoa Kanal Enggano  Tanjung Priok   \n",
       "339      2               Kali Lagoa Buntu Jembatan Bugis  Tanjung Priok   \n",
       "340      2          Kali Sentiong Jembatan Jubile School  Tanjung Priok   \n",
       "341      2                          Kali Sentiong Blok A  Tanjung Priok   \n",
       "\n",
       "           wilayah panjang_luas satuan_panjang  tanggal volume_sampah_perhari  \n",
       "332  Jakarta Utara          NaN            NaN        1                     2  \n",
       "333  Jakarta Utara          NaN            NaN        1                     3  \n",
       "334  Jakarta Utara          NaN            NaN        1                     0  \n",
       "335  Jakarta Utara          NaN            NaN        1                     3  \n",
       "336  Jakarta Utara          NaN            NaN        1                     2  \n",
       "337  Jakarta Utara          NaN            NaN        1                     2  \n",
       "338  Jakarta Utara          NaN            NaN        1                     3  \n",
       "339  Jakarta Utara          NaN            NaN        1                     3  \n",
       "340  Jakarta Utara          NaN            NaN        1                     1  \n",
       "341  Jakarta Utara          NaN            NaN        1                     1  "
      ]
     },
     "execution_count": 11,
     "metadata": {},
     "output_type": "execute_result"
    }
   ],
   "source": [
    "# Memisahkan semua data yang memiliki kecamatan = Tanjung Priok\n",
    "data_tanjung_priok = rename_column_data[rename_column_data.kecamatan == \"Tanjung Priok\"]\n",
    "data_tanjung_priok.head(10)"
   ]
  },
  {
   "cell_type": "code",
   "execution_count": 12,
   "metadata": {},
   "outputs": [
    {
     "data": {
      "text/html": [
       "<div>\n",
       "<style scoped>\n",
       "    .dataframe tbody tr th:only-of-type {\n",
       "        vertical-align: middle;\n",
       "    }\n",
       "\n",
       "    .dataframe tbody tr th {\n",
       "        vertical-align: top;\n",
       "    }\n",
       "\n",
       "    .dataframe thead th {\n",
       "        text-align: right;\n",
       "    }\n",
       "</style>\n",
       "<table border=\"1\" class=\"dataframe\">\n",
       "  <thead>\n",
       "    <tr style=\"text-align: right;\">\n",
       "      <th></th>\n",
       "      <th>bulan</th>\n",
       "      <th>titik_lokasi</th>\n",
       "      <th>kecamatan</th>\n",
       "      <th>wilayah</th>\n",
       "      <th>panjang_luas</th>\n",
       "      <th>satuan_panjang</th>\n",
       "      <th>tanggal</th>\n",
       "      <th>volume_sampah_perhari</th>\n",
       "    </tr>\n",
       "  </thead>\n",
       "  <tbody>\n",
       "    <tr>\n",
       "      <th>0</th>\n",
       "      <td>2</td>\n",
       "      <td>Kali / Sungai Sentiong - Ruas Dewi Sri</td>\n",
       "      <td>Johar Baru</td>\n",
       "      <td>Jakarta Pusat</td>\n",
       "      <td>464</td>\n",
       "      <td>m</td>\n",
       "      <td>1</td>\n",
       "      <td>2</td>\n",
       "    </tr>\n",
       "    <tr>\n",
       "      <th>1</th>\n",
       "      <td>2</td>\n",
       "      <td>Kali / Sungai Sentiong - Ruas Abapon</td>\n",
       "      <td>Johar Baru</td>\n",
       "      <td>Jakarta Pusat</td>\n",
       "      <td>464</td>\n",
       "      <td>m</td>\n",
       "      <td>1</td>\n",
       "      <td>3</td>\n",
       "    </tr>\n",
       "    <tr>\n",
       "      <th>2</th>\n",
       "      <td>2</td>\n",
       "      <td>Kali / Sungai Sentiong - JL Tanah Tinggi</td>\n",
       "      <td>Johar Baru</td>\n",
       "      <td>Jakarta Pusat</td>\n",
       "      <td>464</td>\n",
       "      <td>m</td>\n",
       "      <td>1</td>\n",
       "      <td>3</td>\n",
       "    </tr>\n",
       "    <tr>\n",
       "      <th>3</th>\n",
       "      <td>2</td>\n",
       "      <td>Kali / Sungai Sentiong Jl.Galur - Pombensin</td>\n",
       "      <td>Johar Baru</td>\n",
       "      <td>Jakarta Pusat</td>\n",
       "      <td>606</td>\n",
       "      <td>m</td>\n",
       "      <td>1</td>\n",
       "      <td>4</td>\n",
       "    </tr>\n",
       "    <tr>\n",
       "      <th>4</th>\n",
       "      <td>2</td>\n",
       "      <td>Kali / Sungai Sentiong - Jl. Timah</td>\n",
       "      <td>Johar Baru</td>\n",
       "      <td>Jakarta Pusat</td>\n",
       "      <td>310</td>\n",
       "      <td>m</td>\n",
       "      <td>1</td>\n",
       "      <td>7</td>\n",
       "    </tr>\n",
       "  </tbody>\n",
       "</table>\n",
       "</div>"
      ],
      "text/plain": [
       "   bulan                                 titik_lokasi   kecamatan  \\\n",
       "0      2       Kali / Sungai Sentiong - Ruas Dewi Sri  Johar Baru   \n",
       "1      2         Kali / Sungai Sentiong - Ruas Abapon  Johar Baru   \n",
       "2      2     Kali / Sungai Sentiong - JL Tanah Tinggi  Johar Baru   \n",
       "3      2  Kali / Sungai Sentiong Jl.Galur - Pombensin  Johar Baru   \n",
       "4      2           Kali / Sungai Sentiong - Jl. Timah  Johar Baru   \n",
       "\n",
       "         wilayah panjang_luas satuan_panjang  tanggal volume_sampah_perhari  \n",
       "0  Jakarta Pusat          464              m        1                     2  \n",
       "1  Jakarta Pusat          464              m        1                     3  \n",
       "2  Jakarta Pusat          464              m        1                     3  \n",
       "3  Jakarta Pusat          606              m        1                     4  \n",
       "4  Jakarta Pusat          310              m        1                     7  "
      ]
     },
     "execution_count": 12,
     "metadata": {},
     "output_type": "execute_result"
    }
   ],
   "source": [
    "# Memisahkan semua data yang memiliki wilayah = Jakarta Pusat\n",
    "data_jakpus = rename_column_data[rename_column_data.wilayah == \"Jakarta Pusat\"]\n",
    "data_jakpus.head()"
   ]
  },
  {
   "cell_type": "code",
   "execution_count": 13,
   "metadata": {},
   "outputs": [
    {
     "data": {
      "text/html": [
       "<div>\n",
       "<style scoped>\n",
       "    .dataframe tbody tr th:only-of-type {\n",
       "        vertical-align: middle;\n",
       "    }\n",
       "\n",
       "    .dataframe tbody tr th {\n",
       "        vertical-align: top;\n",
       "    }\n",
       "\n",
       "    .dataframe thead th {\n",
       "        text-align: right;\n",
       "    }\n",
       "</style>\n",
       "<table border=\"1\" class=\"dataframe\">\n",
       "  <thead>\n",
       "    <tr style=\"text-align: right;\">\n",
       "      <th></th>\n",
       "      <th>bulan</th>\n",
       "      <th>titik_lokasi</th>\n",
       "      <th>kecamatan</th>\n",
       "      <th>wilayah</th>\n",
       "      <th>panjang_luas</th>\n",
       "      <th>satuan_panjang</th>\n",
       "      <th>tanggal</th>\n",
       "      <th>volume_sampah_perhari</th>\n",
       "    </tr>\n",
       "  </thead>\n",
       "  <tbody>\n",
       "    <tr>\n",
       "      <th>0</th>\n",
       "      <td>2</td>\n",
       "      <td>Kali / Sungai Sentiong - Ruas Dewi Sri</td>\n",
       "      <td>Johar Baru</td>\n",
       "      <td>Jakarta Pusat</td>\n",
       "      <td>464</td>\n",
       "      <td>m</td>\n",
       "      <td>1</td>\n",
       "      <td>2</td>\n",
       "    </tr>\n",
       "    <tr>\n",
       "      <th>1</th>\n",
       "      <td>2</td>\n",
       "      <td>Kali / Sungai Sentiong - Ruas Abapon</td>\n",
       "      <td>Johar Baru</td>\n",
       "      <td>Jakarta Pusat</td>\n",
       "      <td>464</td>\n",
       "      <td>m</td>\n",
       "      <td>1</td>\n",
       "      <td>3</td>\n",
       "    </tr>\n",
       "    <tr>\n",
       "      <th>2</th>\n",
       "      <td>2</td>\n",
       "      <td>Kali / Sungai Sentiong - JL Tanah Tinggi</td>\n",
       "      <td>Johar Baru</td>\n",
       "      <td>Jakarta Pusat</td>\n",
       "      <td>464</td>\n",
       "      <td>m</td>\n",
       "      <td>1</td>\n",
       "      <td>3</td>\n",
       "    </tr>\n",
       "    <tr>\n",
       "      <th>3</th>\n",
       "      <td>2</td>\n",
       "      <td>Kali / Sungai Sentiong Jl.Galur - Pombensin</td>\n",
       "      <td>Johar Baru</td>\n",
       "      <td>Jakarta Pusat</td>\n",
       "      <td>606</td>\n",
       "      <td>m</td>\n",
       "      <td>1</td>\n",
       "      <td>4</td>\n",
       "    </tr>\n",
       "    <tr>\n",
       "      <th>4</th>\n",
       "      <td>2</td>\n",
       "      <td>Kali / Sungai Sentiong - Jl. Timah</td>\n",
       "      <td>Johar Baru</td>\n",
       "      <td>Jakarta Pusat</td>\n",
       "      <td>310</td>\n",
       "      <td>m</td>\n",
       "      <td>1</td>\n",
       "      <td>7</td>\n",
       "    </tr>\n",
       "    <tr>\n",
       "      <th>5</th>\n",
       "      <td>2</td>\n",
       "      <td>PHB Kawi Kawi Bawah</td>\n",
       "      <td>Johar Baru</td>\n",
       "      <td>Jakarta Pusat</td>\n",
       "      <td>620</td>\n",
       "      <td>m</td>\n",
       "      <td>1</td>\n",
       "      <td>0.5</td>\n",
       "    </tr>\n",
       "    <tr>\n",
       "      <th>6</th>\n",
       "      <td>2</td>\n",
       "      <td>PHB Kayu Awet</td>\n",
       "      <td>Johar Baru</td>\n",
       "      <td>Jakarta Pusat</td>\n",
       "      <td>300</td>\n",
       "      <td>m</td>\n",
       "      <td>1</td>\n",
       "      <td>12</td>\n",
       "    </tr>\n",
       "    <tr>\n",
       "      <th>7</th>\n",
       "      <td>2</td>\n",
       "      <td>PHB Pulo Gundul</td>\n",
       "      <td>Johar Baru</td>\n",
       "      <td>Jakarta Pusat</td>\n",
       "      <td>500</td>\n",
       "      <td>m</td>\n",
       "      <td>1</td>\n",
       "      <td>1</td>\n",
       "    </tr>\n",
       "    <tr>\n",
       "      <th>8</th>\n",
       "      <td>2</td>\n",
       "      <td>PHB Tanah Tinggi XII</td>\n",
       "      <td>Johar Baru</td>\n",
       "      <td>Jakarta Pusat</td>\n",
       "      <td>500</td>\n",
       "      <td>m</td>\n",
       "      <td>1</td>\n",
       "      <td>1</td>\n",
       "    </tr>\n",
       "    <tr>\n",
       "      <th>9</th>\n",
       "      <td>2</td>\n",
       "      <td>PHB Bala Dewa</td>\n",
       "      <td>Johar Baru</td>\n",
       "      <td>Jakarta Pusat</td>\n",
       "      <td>330</td>\n",
       "      <td>m</td>\n",
       "      <td>1</td>\n",
       "      <td>1</td>\n",
       "    </tr>\n",
       "  </tbody>\n",
       "</table>\n",
       "</div>"
      ],
      "text/plain": [
       "   bulan                                 titik_lokasi   kecamatan  \\\n",
       "0      2       Kali / Sungai Sentiong - Ruas Dewi Sri  Johar Baru   \n",
       "1      2         Kali / Sungai Sentiong - Ruas Abapon  Johar Baru   \n",
       "2      2     Kali / Sungai Sentiong - JL Tanah Tinggi  Johar Baru   \n",
       "3      2  Kali / Sungai Sentiong Jl.Galur - Pombensin  Johar Baru   \n",
       "4      2           Kali / Sungai Sentiong - Jl. Timah  Johar Baru   \n",
       "5      2                          PHB Kawi Kawi Bawah  Johar Baru   \n",
       "6      2                                PHB Kayu Awet  Johar Baru   \n",
       "7      2                              PHB Pulo Gundul  Johar Baru   \n",
       "8      2                         PHB Tanah Tinggi XII  Johar Baru   \n",
       "9      2                                PHB Bala Dewa  Johar Baru   \n",
       "\n",
       "         wilayah panjang_luas satuan_panjang  tanggal volume_sampah_perhari  \n",
       "0  Jakarta Pusat          464              m        1                     2  \n",
       "1  Jakarta Pusat          464              m        1                     3  \n",
       "2  Jakarta Pusat          464              m        1                     3  \n",
       "3  Jakarta Pusat          606              m        1                     4  \n",
       "4  Jakarta Pusat          310              m        1                     7  \n",
       "5  Jakarta Pusat          620              m        1                   0.5  \n",
       "6  Jakarta Pusat          300              m        1                    12  \n",
       "7  Jakarta Pusat          500              m        1                     1  \n",
       "8  Jakarta Pusat          500              m        1                     1  \n",
       "9  Jakarta Pusat          330              m        1                     1  "
      ]
     },
     "execution_count": 13,
     "metadata": {},
     "output_type": "execute_result"
    }
   ],
   "source": [
    "# Memisahkan semua data yang memiliki satuan_panjang = m (meter)\n",
    "data_m = rename_column_data[rename_column_data.satuan_panjang == \"m\"]\n",
    "data_m.head(10)"
   ]
  },
  {
   "cell_type": "code",
   "execution_count": 14,
   "metadata": {},
   "outputs": [
    {
     "data": {
      "text/html": [
       "<div>\n",
       "<style scoped>\n",
       "    .dataframe tbody tr th:only-of-type {\n",
       "        vertical-align: middle;\n",
       "    }\n",
       "\n",
       "    .dataframe tbody tr th {\n",
       "        vertical-align: top;\n",
       "    }\n",
       "\n",
       "    .dataframe thead th {\n",
       "        text-align: right;\n",
       "    }\n",
       "</style>\n",
       "<table border=\"1\" class=\"dataframe\">\n",
       "  <thead>\n",
       "    <tr style=\"text-align: right;\">\n",
       "      <th></th>\n",
       "      <th>bulan</th>\n",
       "      <th>titik_lokasi</th>\n",
       "      <th>kecamatan</th>\n",
       "      <th>wilayah</th>\n",
       "      <th>panjang_luas</th>\n",
       "      <th>satuan_panjang</th>\n",
       "      <th>tanggal</th>\n",
       "      <th>volume_sampah_perhari</th>\n",
       "    </tr>\n",
       "  </thead>\n",
       "  <tbody>\n",
       "    <tr>\n",
       "      <th>55</th>\n",
       "      <td>2</td>\n",
       "      <td>PHB Abdul Muis</td>\n",
       "      <td>Gambir</td>\n",
       "      <td>Jakarta Pusat</td>\n",
       "      <td>1000</td>\n",
       "      <td>m</td>\n",
       "      <td>1</td>\n",
       "      <td>-</td>\n",
       "    </tr>\n",
       "    <tr>\n",
       "      <th>56</th>\n",
       "      <td>2</td>\n",
       "      <td>PHB Petojo</td>\n",
       "      <td>Gambir</td>\n",
       "      <td>Jakarta Pusat</td>\n",
       "      <td>500</td>\n",
       "      <td>m</td>\n",
       "      <td>1</td>\n",
       "      <td>-</td>\n",
       "    </tr>\n",
       "    <tr>\n",
       "      <th>57</th>\n",
       "      <td>2</td>\n",
       "      <td>PHB Budi Kemulian</td>\n",
       "      <td>Gambir</td>\n",
       "      <td>Jakarta Pusat</td>\n",
       "      <td>500</td>\n",
       "      <td>m</td>\n",
       "      <td>1</td>\n",
       "      <td>-</td>\n",
       "    </tr>\n",
       "    <tr>\n",
       "      <th>578</th>\n",
       "      <td>2</td>\n",
       "      <td>Kali Cengkareng Drain (Depan Pasar Kemiri Jl. ...</td>\n",
       "      <td>Kembangan</td>\n",
       "      <td>Jakarta Barat</td>\n",
       "      <td>1500</td>\n",
       "      <td>m</td>\n",
       "      <td>1</td>\n",
       "      <td>-</td>\n",
       "    </tr>\n",
       "    <tr>\n",
       "      <th>581</th>\n",
       "      <td>2</td>\n",
       "      <td>Kali PHB RW. 04 (Stasiun Pompa)</td>\n",
       "      <td>Kembangan</td>\n",
       "      <td>Jakarta Barat</td>\n",
       "      <td>1000</td>\n",
       "      <td>m</td>\n",
       "      <td>1</td>\n",
       "      <td>-</td>\n",
       "    </tr>\n",
       "    <tr>\n",
       "      <th>590</th>\n",
       "      <td>2</td>\n",
       "      <td>Kali Pesanggrahan (Jln. H. Nabet - Metro TV)</td>\n",
       "      <td>Kembangan</td>\n",
       "      <td>Jakarta Barat</td>\n",
       "      <td>1500</td>\n",
       "      <td>m</td>\n",
       "      <td>1</td>\n",
       "      <td>-</td>\n",
       "    </tr>\n",
       "    <tr>\n",
       "      <th>599</th>\n",
       "      <td>2</td>\n",
       "      <td>Danau Hutan Kota Srengseng</td>\n",
       "      <td>Kembangan</td>\n",
       "      <td>Jakarta Barat</td>\n",
       "      <td>1.5</td>\n",
       "      <td>HA</td>\n",
       "      <td>1</td>\n",
       "      <td>-</td>\n",
       "    </tr>\n",
       "    <tr>\n",
       "      <th>600</th>\n",
       "      <td>2</td>\n",
       "      <td>PHB Jambu Rt 07 Rw 07 Srengseng</td>\n",
       "      <td>Kembangan</td>\n",
       "      <td>Jakarta Barat</td>\n",
       "      <td>500</td>\n",
       "      <td>m</td>\n",
       "      <td>1</td>\n",
       "      <td>-</td>\n",
       "    </tr>\n",
       "    <tr>\n",
       "      <th>602</th>\n",
       "      <td>2</td>\n",
       "      <td>PHB Komplek BPPT Srengseng</td>\n",
       "      <td>Kembangan</td>\n",
       "      <td>Jakarta Barat</td>\n",
       "      <td>600</td>\n",
       "      <td>m</td>\n",
       "      <td>1</td>\n",
       "      <td>-</td>\n",
       "    </tr>\n",
       "    <tr>\n",
       "      <th>603</th>\n",
       "      <td>2</td>\n",
       "      <td>PHB Pesanggrahan Jl. Meruya ilir</td>\n",
       "      <td>Kembangan</td>\n",
       "      <td>Jakarta Barat</td>\n",
       "      <td>600</td>\n",
       "      <td>m</td>\n",
       "      <td>1</td>\n",
       "      <td>-</td>\n",
       "    </tr>\n",
       "  </tbody>\n",
       "</table>\n",
       "</div>"
      ],
      "text/plain": [
       "     bulan                                       titik_lokasi  kecamatan  \\\n",
       "55       2                                     PHB Abdul Muis     Gambir   \n",
       "56       2                                         PHB Petojo     Gambir   \n",
       "57       2                                  PHB Budi Kemulian     Gambir   \n",
       "578      2  Kali Cengkareng Drain (Depan Pasar Kemiri Jl. ...  Kembangan   \n",
       "581      2                    Kali PHB RW. 04 (Stasiun Pompa)  Kembangan   \n",
       "590      2       Kali Pesanggrahan (Jln. H. Nabet - Metro TV)  Kembangan   \n",
       "599      2                         Danau Hutan Kota Srengseng  Kembangan   \n",
       "600      2                    PHB Jambu Rt 07 Rw 07 Srengseng  Kembangan   \n",
       "602      2                         PHB Komplek BPPT Srengseng  Kembangan   \n",
       "603      2                   PHB Pesanggrahan Jl. Meruya ilir  Kembangan   \n",
       "\n",
       "           wilayah panjang_luas satuan_panjang  tanggal volume_sampah_perhari  \n",
       "55   Jakarta Pusat         1000              m        1                     -  \n",
       "56   Jakarta Pusat          500              m        1                     -  \n",
       "57   Jakarta Pusat          500              m        1                     -  \n",
       "578  Jakarta Barat         1500              m        1                     -  \n",
       "581  Jakarta Barat         1000              m        1                     -  \n",
       "590  Jakarta Barat         1500              m        1                     -  \n",
       "599  Jakarta Barat          1.5             HA        1                     -  \n",
       "600  Jakarta Barat          500              m        1                     -  \n",
       "602  Jakarta Barat          600              m        1                     -  \n",
       "603  Jakarta Barat          600              m        1                     -  "
      ]
     },
     "execution_count": 14,
     "metadata": {},
     "output_type": "execute_result"
    }
   ],
   "source": [
    "# Memisahkan semua data yang memiliki volume_sampah_perhari(m3) = - \n",
    "data_strip = rename_column_data[rename_column_data.volume_sampah_perhari == \"-\"]\n",
    "data_strip.head(10)"
   ]
  },
  {
   "cell_type": "code",
   "execution_count": 15,
   "metadata": {},
   "outputs": [
    {
     "data": {
      "text/html": [
       "<div>\n",
       "<style scoped>\n",
       "    .dataframe tbody tr th:only-of-type {\n",
       "        vertical-align: middle;\n",
       "    }\n",
       "\n",
       "    .dataframe tbody tr th {\n",
       "        vertical-align: top;\n",
       "    }\n",
       "\n",
       "    .dataframe thead th {\n",
       "        text-align: right;\n",
       "    }\n",
       "</style>\n",
       "<table border=\"1\" class=\"dataframe\">\n",
       "  <thead>\n",
       "    <tr style=\"text-align: right;\">\n",
       "      <th></th>\n",
       "      <th>bulan</th>\n",
       "      <th>titik_lokasi</th>\n",
       "      <th>kecamatan</th>\n",
       "      <th>wilayah</th>\n",
       "      <th>panjang_luas</th>\n",
       "      <th>satuan_panjang</th>\n",
       "      <th>tanggal</th>\n",
       "      <th>volume_sampah_perhari</th>\n",
       "    </tr>\n",
       "  </thead>\n",
       "  <tbody>\n",
       "    <tr>\n",
       "      <th>157</th>\n",
       "      <td>2</td>\n",
       "      <td>Kali BKT Marunda Pintu Air Sekatan 1</td>\n",
       "      <td>Cilincing</td>\n",
       "      <td>Jakarta Utara</td>\n",
       "      <td>3500/70</td>\n",
       "      <td>NaN</td>\n",
       "      <td>1</td>\n",
       "      <td>0</td>\n",
       "    </tr>\n",
       "    <tr>\n",
       "      <th>1916</th>\n",
       "      <td>2</td>\n",
       "      <td>Kali BKT Marunda Pintu Air Sekatan 1</td>\n",
       "      <td>Cilincing</td>\n",
       "      <td>Jakarta Utara</td>\n",
       "      <td>3500/70</td>\n",
       "      <td>NaN</td>\n",
       "      <td>2</td>\n",
       "      <td>0</td>\n",
       "    </tr>\n",
       "    <tr>\n",
       "      <th>3675</th>\n",
       "      <td>2</td>\n",
       "      <td>Kali BKT Marunda Pintu Air Sekatan 1</td>\n",
       "      <td>Cilincing</td>\n",
       "      <td>Jakarta Utara</td>\n",
       "      <td>3500/70</td>\n",
       "      <td>NaN</td>\n",
       "      <td>3</td>\n",
       "      <td>12</td>\n",
       "    </tr>\n",
       "    <tr>\n",
       "      <th>5434</th>\n",
       "      <td>2</td>\n",
       "      <td>Kali BKT Marunda Pintu Air Sekatan 1</td>\n",
       "      <td>Cilincing</td>\n",
       "      <td>Jakarta Utara</td>\n",
       "      <td>3500/70</td>\n",
       "      <td>NaN</td>\n",
       "      <td>4</td>\n",
       "      <td>0</td>\n",
       "    </tr>\n",
       "    <tr>\n",
       "      <th>7193</th>\n",
       "      <td>2</td>\n",
       "      <td>Kali BKT Marunda Pintu Air Sekatan 1</td>\n",
       "      <td>Cilincing</td>\n",
       "      <td>Jakarta Utara</td>\n",
       "      <td>3500/70</td>\n",
       "      <td>NaN</td>\n",
       "      <td>5</td>\n",
       "      <td>52</td>\n",
       "    </tr>\n",
       "  </tbody>\n",
       "</table>\n",
       "</div>"
      ],
      "text/plain": [
       "      bulan                          titik_lokasi  kecamatan        wilayah  \\\n",
       "157       2  Kali BKT Marunda Pintu Air Sekatan 1  Cilincing  Jakarta Utara   \n",
       "1916      2  Kali BKT Marunda Pintu Air Sekatan 1  Cilincing  Jakarta Utara   \n",
       "3675      2  Kali BKT Marunda Pintu Air Sekatan 1  Cilincing  Jakarta Utara   \n",
       "5434      2  Kali BKT Marunda Pintu Air Sekatan 1  Cilincing  Jakarta Utara   \n",
       "7193      2  Kali BKT Marunda Pintu Air Sekatan 1  Cilincing  Jakarta Utara   \n",
       "\n",
       "     panjang_luas satuan_panjang  tanggal volume_sampah_perhari  \n",
       "157       3500/70            NaN        1                     0  \n",
       "1916      3500/70            NaN        2                     0  \n",
       "3675      3500/70            NaN        3                    12  \n",
       "5434      3500/70            NaN        4                     0  \n",
       "7193      3500/70            NaN        5                    52  "
      ]
     },
     "execution_count": 15,
     "metadata": {},
     "output_type": "execute_result"
    }
   ],
   "source": [
    "data_panjangluas = rename_column_data[rename_column_data.panjang_luas == \"3500/70\"]\n",
    "data_panjangluas.head()"
   ]
  },
  {
   "cell_type": "markdown",
   "metadata": {},
   "source": [
    "## 2. Data Preprocessing"
   ]
  },
  {
   "cell_type": "code",
   "execution_count": 16,
   "metadata": {},
   "outputs": [
    {
     "data": {
      "text/plain": [
       "0"
      ]
     },
     "execution_count": 16,
     "metadata": {},
     "output_type": "execute_result"
    }
   ],
   "source": [
    "# Mengecek apakah di dalam dataframe terdapat nilai duplikat/tidak\n",
    "data_februari.duplicated().sum()"
   ]
  },
  {
   "cell_type": "code",
   "execution_count": 17,
   "metadata": {},
   "outputs": [
    {
     "data": {
      "text/plain": [
       "Index(['Bulan', 'Titik_Lokasi', 'Kecamatan', 'Wilayah', 'Panjang/Luas',\n",
       "       'Satuan_Panjang/Luas', 'Tanggal', 'Volume_Sampah_Perhari(M3)'],\n",
       "      dtype='object')"
      ]
     },
     "execution_count": 17,
     "metadata": {},
     "output_type": "execute_result"
    }
   ],
   "source": [
    "# Mengubah format penamaan kolom dari yang semula huruf kecil menjadi huruf gabungan (huruf besar & kecil)\n",
    "data_februari = data_februari.rename(str.title, axis=\"columns\")\n",
    "data_februari.columns"
   ]
  },
  {
   "cell_type": "code",
   "execution_count": 18,
   "metadata": {},
   "outputs": [
    {
     "data": {
      "text/plain": [
       "Bulan                            0\n",
       "Titik_Lokasi                     0\n",
       "Kecamatan                        0\n",
       "Wilayah                          0\n",
       "Panjang/Luas                  9436\n",
       "Satuan_Panjang/Luas          19824\n",
       "Tanggal                          0\n",
       "Volume_Sampah_Perhari(M3)        0\n",
       "dtype: int64"
      ]
     },
     "execution_count": 18,
     "metadata": {},
     "output_type": "execute_result"
    }
   ],
   "source": [
    "# Mengecek nilai kosong (NaN) dari masing-masing kolom di dataframe\n",
    "data_februari.isnull().sum()"
   ]
  },
  {
   "cell_type": "markdown",
   "metadata": {},
   "source": [
    "Jika dilihat dari hasil diatas maka hanya terdapat 2 kolom yang memiliki nilai NaN (Not a Number) atau nilai kosong yaitu kolom \"Panjang/Luas\" dan \"Satuan_Panjang/Luas\". Namun jika diperhatikan kembali terdapat 3 kolom yang memiliki nilai NaN yakni kolom \"Panjang/Luas\", \"Satuan_Panjang/Luas\", dan kolom \"Volume_Sampah_Perhari(M3)\".\n",
    "\n",
    "Mengapa terdapat kolom \"Volume_Sampah_Perhari(M3)\"?\n",
    "\n",
    "Hal tersebut dikarenakan nilai kosong yang ada di kolom \"Volume_Sampah_Perhari(M3)\" ditulis dengan simbol \"-\". Karena kolom ini merupakan kolom prediksi maka dari itu saya akan mengubahnya menjadi nilai mean atau nilai rata-rata. Tetapi sebelum itu nilai \"-\" ini akan saya ubah terlebih dahulu menjadi nilai NaN (Not a Number)."
   ]
  },
  {
   "cell_type": "code",
   "execution_count": 19,
   "metadata": {},
   "outputs": [],
   "source": [
    "# Menghapus karakter yang berada di kolom \"Panjang/Luas\" seperti pada data 3500/70 yang dapat dilihat pada tahapan sebelumnya\n",
    "data_februari[\"Panjang/Luas\"] = data_februari[\"Panjang/Luas\"].str.replace(r\"\\D\", \"\")"
   ]
  },
  {
   "cell_type": "code",
   "execution_count": 20,
   "metadata": {},
   "outputs": [
    {
     "data": {
      "text/html": [
       "<div>\n",
       "<style scoped>\n",
       "    .dataframe tbody tr th:only-of-type {\n",
       "        vertical-align: middle;\n",
       "    }\n",
       "\n",
       "    .dataframe tbody tr th {\n",
       "        vertical-align: top;\n",
       "    }\n",
       "\n",
       "    .dataframe thead th {\n",
       "        text-align: right;\n",
       "    }\n",
       "</style>\n",
       "<table border=\"1\" class=\"dataframe\">\n",
       "  <thead>\n",
       "    <tr style=\"text-align: right;\">\n",
       "      <th></th>\n",
       "      <th>Bulan</th>\n",
       "      <th>Titik_Lokasi</th>\n",
       "      <th>Kecamatan</th>\n",
       "      <th>Wilayah</th>\n",
       "      <th>Panjang/Luas</th>\n",
       "      <th>Satuan_Panjang/Luas</th>\n",
       "      <th>Tanggal</th>\n",
       "      <th>Volume_Sampah_Perhari(M3)</th>\n",
       "    </tr>\n",
       "  </thead>\n",
       "  <tbody>\n",
       "    <tr>\n",
       "      <th>49247</th>\n",
       "      <td>2</td>\n",
       "      <td>Kali Cakung Drain (Jembatan Tinggi-Perbatasan ...</td>\n",
       "      <td>Cakung</td>\n",
       "      <td>Jakarta Timur</td>\n",
       "      <td>800</td>\n",
       "      <td>m</td>\n",
       "      <td>28</td>\n",
       "      <td>NaN</td>\n",
       "    </tr>\n",
       "    <tr>\n",
       "      <th>49248</th>\n",
       "      <td>2</td>\n",
       "      <td>PHB Rawa Teratai</td>\n",
       "      <td>Cakung</td>\n",
       "      <td>Jakarta Timur</td>\n",
       "      <td>700</td>\n",
       "      <td>m</td>\n",
       "      <td>28</td>\n",
       "      <td>NaN</td>\n",
       "    </tr>\n",
       "    <tr>\n",
       "      <th>49249</th>\n",
       "      <td>2</td>\n",
       "      <td>PHB Rawa Gelam III</td>\n",
       "      <td>Cakung</td>\n",
       "      <td>Jakarta Timur</td>\n",
       "      <td>1000</td>\n",
       "      <td>m</td>\n",
       "      <td>28</td>\n",
       "      <td>NaN</td>\n",
       "    </tr>\n",
       "    <tr>\n",
       "      <th>49250</th>\n",
       "      <td>2</td>\n",
       "      <td>PHB Metropos KIP</td>\n",
       "      <td>Cakung</td>\n",
       "      <td>Jakarta Timur</td>\n",
       "      <td>1000</td>\n",
       "      <td>m</td>\n",
       "      <td>28</td>\n",
       "      <td>NaN</td>\n",
       "    </tr>\n",
       "    <tr>\n",
       "      <th>49251</th>\n",
       "      <td>2</td>\n",
       "      <td>PHB Warung Jengkol</td>\n",
       "      <td>Cakung</td>\n",
       "      <td>Jakarta Timur</td>\n",
       "      <td>400</td>\n",
       "      <td>m</td>\n",
       "      <td>28</td>\n",
       "      <td>NaN</td>\n",
       "    </tr>\n",
       "  </tbody>\n",
       "</table>\n",
       "</div>"
      ],
      "text/plain": [
       "       Bulan                                       Titik_Lokasi Kecamatan  \\\n",
       "49247      2  Kali Cakung Drain (Jembatan Tinggi-Perbatasan ...    Cakung   \n",
       "49248      2                                   PHB Rawa Teratai    Cakung   \n",
       "49249      2                                 PHB Rawa Gelam III    Cakung   \n",
       "49250      2                                   PHB Metropos KIP    Cakung   \n",
       "49251      2                                 PHB Warung Jengkol    Cakung   \n",
       "\n",
       "             Wilayah Panjang/Luas Satuan_Panjang/Luas  Tanggal  \\\n",
       "49247  Jakarta Timur          800                   m       28   \n",
       "49248  Jakarta Timur          700                   m       28   \n",
       "49249  Jakarta Timur         1000                   m       28   \n",
       "49250  Jakarta Timur         1000                   m       28   \n",
       "49251  Jakarta Timur          400                   m       28   \n",
       "\n",
       "      Volume_Sampah_Perhari(M3)  \n",
       "49247                       NaN  \n",
       "49248                       NaN  \n",
       "49249                       NaN  \n",
       "49250                       NaN  \n",
       "49251                       NaN  "
      ]
     },
     "execution_count": 20,
     "metadata": {},
     "output_type": "execute_result"
    }
   ],
   "source": [
    "# Mengahapus karakter \"-\" di kolom \"Volume_Sampah_Perhari(M3)\" dengan nilai NaN\n",
    "data_februari[\"Volume_Sampah_Perhari(M3)\"] = data_februari[\"Volume_Sampah_Perhari(M3)\"].replace(\"-\", np.nan)\n",
    "\n",
    "data_februari.tail()"
   ]
  },
  {
   "cell_type": "code",
   "execution_count": 21,
   "metadata": {},
   "outputs": [],
   "source": [
    "# Mengubah tipe data di kolom \"Panjang/Luas\" dari string menjadi float\n",
    "data_februari[[\"Panjang/Luas\"]] = data_februari[[\"Panjang/Luas\"]].apply(pd.to_numeric)"
   ]
  },
  {
   "cell_type": "code",
   "execution_count": 22,
   "metadata": {},
   "outputs": [
    {
     "data": {
      "text/plain": [
       "Bulan                          int64\n",
       "Titik_Lokasi                  object\n",
       "Kecamatan                     object\n",
       "Wilayah                       object\n",
       "Panjang/Luas                 float64\n",
       "Satuan_Panjang/Luas           object\n",
       "Tanggal                        int64\n",
       "Volume_Sampah_Perhari(M3)    float64\n",
       "dtype: object"
      ]
     },
     "execution_count": 22,
     "metadata": {},
     "output_type": "execute_result"
    }
   ],
   "source": [
    "# Mengubah tipe data pada kolom \"Volume_Sampah_Perhari(M3)\" dari string menjadi float\n",
    "data_februari[\"Volume_Sampah_Perhari(M3)\"] = pd.to_numeric(data_februari[\"Volume_Sampah_Perhari(M3)\"], errors=\"coerce\")\n",
    "\n",
    "data_februari.dtypes"
   ]
  },
  {
   "cell_type": "code",
   "execution_count": 23,
   "metadata": {},
   "outputs": [
    {
     "data": {
      "text/plain": [
       "m     26964\n",
       "M      1428\n",
       "Ha      784\n",
       "H        84\n",
       "HA       56\n",
       "M³       28\n",
       "m²       28\n",
       "m2       28\n",
       "km       28\n",
       "Name: Satuan_Panjang/Luas, dtype: int64"
      ]
     },
     "execution_count": 23,
     "metadata": {},
     "output_type": "execute_result"
    }
   ],
   "source": [
    "# Melihat nilai total dari masing-masing data yang ada di kolom \"Satuan_Panjang/Luas\"\n",
    "data_februari[\"Satuan_Panjang/Luas\"].value_counts()"
   ]
  },
  {
   "cell_type": "markdown",
   "metadata": {},
   "source": [
    "Berdasarkan hasil diatas dapat dilihat bahwa nilai data hektar (yang dilambangkan dengan Ha) memiliki banyak sekali penulisan yang berbeda-beda seperti H dan HA padahal semuanya memiliki satu kesatuan yaitu Ha. Maka dari itu saya akan menjadikan nilai data H, dan HA ini menjadi satu kesatuan saja yakni data Ha.\n",
    "\n",
    "Selain itu nilai dari data seperti M akan saya jadikan sebagai nilai m saja dan nilai m2 juga akan saya gabungkan dengan nilai m²."
   ]
  },
  {
   "cell_type": "code",
   "execution_count": 24,
   "metadata": {},
   "outputs": [
    {
     "data": {
      "text/plain": [
       "m     28392\n",
       "Ha      924\n",
       "m²       56\n",
       "M³       28\n",
       "km       28\n",
       "Name: Satuan_Panjang/Luas, dtype: int64"
      ]
     },
     "execution_count": 24,
     "metadata": {},
     "output_type": "execute_result"
    }
   ],
   "source": [
    "# Mengganti nilai data yang mirip seperti Ha, m, dan m²\n",
    "\n",
    "# Mengganti nilai \"H\" dan \"HA\"\n",
    "data_februari = data_februari.replace(to_replace =[\"H\", \"HA\"], value=\"Ha\")\n",
    "\n",
    "# Mengganti nilai \"M\" menjadi \"m\"\n",
    "data_februari = data_februari.replace(to_replace = \"M\", value=\"m\")\n",
    "\n",
    "# Mengganti nilai \"m2\" menjadi \"m²\"\n",
    "data_februari = data_februari.replace(to_replace = \"m2\", value=\"m²\")\n",
    "\n",
    "data_februari[\"Satuan_Panjang/Luas\"].value_counts()"
   ]
  },
  {
   "cell_type": "code",
   "execution_count": 25,
   "metadata": {},
   "outputs": [
    {
     "data": {
      "text/plain": [
       "Bulan                            0\n",
       "Titik_Lokasi                     0\n",
       "Kecamatan                        0\n",
       "Wilayah                          0\n",
       "Panjang/Luas                  9464\n",
       "Satuan_Panjang/Luas          19824\n",
       "Tanggal                          0\n",
       "Volume_Sampah_Perhari(M3)    15633\n",
       "dtype: int64"
      ]
     },
     "execution_count": 25,
     "metadata": {},
     "output_type": "execute_result"
    }
   ],
   "source": [
    "# Mengecek kembali nilai NaN di masing-masing kolom yang ada di dataframe\n",
    "data_februari.isnull().sum()"
   ]
  },
  {
   "cell_type": "code",
   "execution_count": 26,
   "metadata": {},
   "outputs": [
    {
     "data": {
      "text/plain": [
       "Bulan                            0\n",
       "Titik_Lokasi                     0\n",
       "Kecamatan                        0\n",
       "Wilayah                          0\n",
       "Panjang/Luas                     0\n",
       "Satuan_Panjang/Luas          19824\n",
       "Tanggal                          0\n",
       "Volume_Sampah_Perhari(M3)        0\n",
       "dtype: int64"
      ]
     },
     "execution_count": 26,
     "metadata": {},
     "output_type": "execute_result"
    }
   ],
   "source": [
    "# Mengganti nilai NaN yang ada disetiap kolom di dataframe data_februari dengan nilai mean\n",
    "mean = data_februari.mean()\n",
    "data_februari = data_februari.replace(np.nan, mean)\n",
    "\n",
    "data_februari.isnull().sum()"
   ]
  },
  {
   "cell_type": "markdown",
   "metadata": {},
   "source": [
    "Setelah mengisi nilai kosong (NaN) dengan nilai mean (rata-rata) selanjutnya saya akan mengubah tipe data pada kolom \"Panjang/Luas\" dan \"Volume_Sampah_Perhari(M3)\" dari yang semula float menjadi integer."
   ]
  },
  {
   "cell_type": "code",
   "execution_count": 27,
   "metadata": {},
   "outputs": [
    {
     "data": {
      "text/html": [
       "<div>\n",
       "<style scoped>\n",
       "    .dataframe tbody tr th:only-of-type {\n",
       "        vertical-align: middle;\n",
       "    }\n",
       "\n",
       "    .dataframe tbody tr th {\n",
       "        vertical-align: top;\n",
       "    }\n",
       "\n",
       "    .dataframe thead th {\n",
       "        text-align: right;\n",
       "    }\n",
       "</style>\n",
       "<table border=\"1\" class=\"dataframe\">\n",
       "  <thead>\n",
       "    <tr style=\"text-align: right;\">\n",
       "      <th></th>\n",
       "      <th>Bulan</th>\n",
       "      <th>Titik_Lokasi</th>\n",
       "      <th>Kecamatan</th>\n",
       "      <th>Wilayah</th>\n",
       "      <th>Panjang/Luas</th>\n",
       "      <th>Satuan_Panjang/Luas</th>\n",
       "      <th>Tanggal</th>\n",
       "      <th>Volume_Sampah_Perhari(M3)</th>\n",
       "    </tr>\n",
       "  </thead>\n",
       "  <tbody>\n",
       "    <tr>\n",
       "      <th>49247</th>\n",
       "      <td>2</td>\n",
       "      <td>Kali Cakung Drain (Jembatan Tinggi-Perbatasan ...</td>\n",
       "      <td>Cakung</td>\n",
       "      <td>Jakarta Timur</td>\n",
       "      <td>800</td>\n",
       "      <td>m</td>\n",
       "      <td>28</td>\n",
       "      <td>2</td>\n",
       "    </tr>\n",
       "    <tr>\n",
       "      <th>49248</th>\n",
       "      <td>2</td>\n",
       "      <td>PHB Rawa Teratai</td>\n",
       "      <td>Cakung</td>\n",
       "      <td>Jakarta Timur</td>\n",
       "      <td>700</td>\n",
       "      <td>m</td>\n",
       "      <td>28</td>\n",
       "      <td>2</td>\n",
       "    </tr>\n",
       "    <tr>\n",
       "      <th>49249</th>\n",
       "      <td>2</td>\n",
       "      <td>PHB Rawa Gelam III</td>\n",
       "      <td>Cakung</td>\n",
       "      <td>Jakarta Timur</td>\n",
       "      <td>1000</td>\n",
       "      <td>m</td>\n",
       "      <td>28</td>\n",
       "      <td>2</td>\n",
       "    </tr>\n",
       "    <tr>\n",
       "      <th>49250</th>\n",
       "      <td>2</td>\n",
       "      <td>PHB Metropos KIP</td>\n",
       "      <td>Cakung</td>\n",
       "      <td>Jakarta Timur</td>\n",
       "      <td>1000</td>\n",
       "      <td>m</td>\n",
       "      <td>28</td>\n",
       "      <td>2</td>\n",
       "    </tr>\n",
       "    <tr>\n",
       "      <th>49251</th>\n",
       "      <td>2</td>\n",
       "      <td>PHB Warung Jengkol</td>\n",
       "      <td>Cakung</td>\n",
       "      <td>Jakarta Timur</td>\n",
       "      <td>400</td>\n",
       "      <td>m</td>\n",
       "      <td>28</td>\n",
       "      <td>2</td>\n",
       "    </tr>\n",
       "  </tbody>\n",
       "</table>\n",
       "</div>"
      ],
      "text/plain": [
       "       Bulan                                       Titik_Lokasi Kecamatan  \\\n",
       "49247      2  Kali Cakung Drain (Jembatan Tinggi-Perbatasan ...    Cakung   \n",
       "49248      2                                   PHB Rawa Teratai    Cakung   \n",
       "49249      2                                 PHB Rawa Gelam III    Cakung   \n",
       "49250      2                                   PHB Metropos KIP    Cakung   \n",
       "49251      2                                 PHB Warung Jengkol    Cakung   \n",
       "\n",
       "             Wilayah  Panjang/Luas Satuan_Panjang/Luas  Tanggal  \\\n",
       "49247  Jakarta Timur           800                   m       28   \n",
       "49248  Jakarta Timur           700                   m       28   \n",
       "49249  Jakarta Timur          1000                   m       28   \n",
       "49250  Jakarta Timur          1000                   m       28   \n",
       "49251  Jakarta Timur           400                   m       28   \n",
       "\n",
       "       Volume_Sampah_Perhari(M3)  \n",
       "49247                          2  \n",
       "49248                          2  \n",
       "49249                          2  \n",
       "49250                          2  \n",
       "49251                          2  "
      ]
     },
     "execution_count": 27,
     "metadata": {},
     "output_type": "execute_result"
    }
   ],
   "source": [
    "# Mengubah tipe data pada kolom \"Panjang/Luas\" dan \"Volume_Sampah_Perhari(M3)\" dari float menjadi integer\n",
    "data_februari[\"Panjang/Luas\"] = data_februari[\"Panjang/Luas\"].astype(int)\n",
    "data_februari[\"Volume_Sampah_Perhari(M3)\"] = data_februari[\"Volume_Sampah_Perhari(M3)\"].astype(int)\n",
    "\n",
    "data_februari.tail()"
   ]
  },
  {
   "cell_type": "code",
   "execution_count": 28,
   "metadata": {},
   "outputs": [],
   "source": [
    "# Menghapus kolom yang sudah tidak dibutuhkan yaitu kolom \"Bulan\"\n",
    "data_februari = data_februari.drop([\"Bulan\"], axis=1)"
   ]
  },
  {
   "cell_type": "code",
   "execution_count": 29,
   "metadata": {},
   "outputs": [
    {
     "name": "stdout",
     "output_type": "stream",
     "text": [
      "Ukuran Data dari Kolom Panjang/Luas Sebelum Nilai Outliers Dibuang:  (49252, 7)\n",
      "Ukuran Data dari Kolom Panjang/Luas Setelah Nilai Outliers Dibuang:  (47656, 7)\n"
     ]
    }
   ],
   "source": [
    "# Mengecek nilai outliers untuk kolom \"Panjang/Luas\" dengan nilai quartil dan IQR\n",
    "Q1 = data_februari[\"Panjang/Luas\"].quantile(0.25)\n",
    "Q3 = data_februari[\"Panjang/Luas\"].quantile(0.75)\n",
    "\n",
    "# Menghitung interquartile range maka rumusnya adalah quartil 3 (75%) - quartil 1 (25%)\n",
    "IQR = Q3 - Q1\n",
    "\n",
    "# Melihat ukuran (baris dan kolom) sebelum data yang outliers dibuang\n",
    "print(\"Ukuran Data dari Kolom Panjang/Luas Sebelum Nilai Outliers Dibuang: \", data_februari.shape)\n",
    "\n",
    "# Menghapus nilai outlier dari kolom \"Panjang/Luas\"\n",
    "data_februari = data_februari[~((data_februari[\"Panjang/Luas\"] < (Q1 - 1.5 * IQR)) | \n",
    "                                (data_februari[\"Panjang/Luas\"] > (Q3 + 1.5 * IQR)))]\n",
    "\n",
    "# Melihat ukuran (baris dan kolom) setelah data outliers dibuang dari kolom \"Panjang/Luas\"\n",
    "print(\"Ukuran Data dari Kolom Panjang/Luas Setelah Nilai Outliers Dibuang: \", data_februari.shape)"
   ]
  },
  {
   "cell_type": "markdown",
   "metadata": {},
   "source": [
    "Terdapat 1.596 nilai outliers yang ada di kolom \"Panjang/Luas\". Hal ini sangat jauh berbeda jika dibandingkan dengan data di bulan Januari 2021 yang memiliki nilai outliers yang sangat banyak yakni berjumlah 10.540 data di kolom yang sama (Kolom \"Panjang/Luas\") dan dapat disimpulkan bahwasanya kolom \"Panjang/Luas\" di bulan Februari 2021 hanya memiliki sedikit nilai outliers."
   ]
  },
  {
   "cell_type": "markdown",
   "metadata": {},
   "source": [
    "## 3. Data Visualisasi + Analisa Data di Grafiknya"
   ]
  },
  {
   "cell_type": "code",
   "execution_count": 30,
   "metadata": {},
   "outputs": [
    {
     "data": {
      "image/png": "[encoded data removed]",
      "text/plain": [
       "<Figure size 1800x1440 with 2 Axes>"
      ]
     },
     "metadata": {},
     "output_type": "display_data"
    }
   ],
   "source": [
    "# Melihat perbandingan antar wilayah di Provinsi DKI Jakarta (berdasarkan volume sampah per hari)\n",
    "plt.figure(figsize=(25, 20))\n",
    "\n",
    "plt.subplot(4, 3, 1)\n",
    "sns.barplot(x=\"Wilayah\", y=\"Volume_Sampah_Perhari(M3)\", data=data_februari)\n",
    "plt.title(\"Grafik Wilayah Jakarta Berdasarkan \\n Volume Sampah Per Hari di Bulan Februari 2021\", \n",
    "          fontsize=13, pad=13)\n",
    "\n",
    "plt.subplot(4, 3, 2)\n",
    "sns.countplot(x=\"Wilayah\", data=data_februari)\n",
    "plt.title(\"Perbandingan Wilayah Provinsi DKI Jakarta pada Bulan Februari 2021\", fontsize=13, pad=13)\n",
    "plt.show()"
   ]
  },
  {
   "cell_type": "markdown",
   "metadata": {},
   "source": [
    "Berdasarkan grafik diagram diatas maka dapat diambil beberapa kesimpulan diantaranya:\n",
    "\n",
    "1. Wilayah Jakarta Pusat memiliki volume sampah yang paling tinggi diantara wilayah yang lain sedangkan Wilayah Jakarta Utara memiliki volume sampah yang sangat sedikit. Jika diurutkan dalam hal volume sampah yang berhasil diangkut di setiap wilayah yang ada di Provinsi DKI Jakarta maka akan terjadi susunan seperti dibawah ini:\n",
    "- Jakarta Pusat.\n",
    "- Jakarta Barat.\n",
    "- Jakarta Selatan.\n",
    "- Jakarta Timur.\n",
    "- Jakarta Utara.\n",
    "\n",
    "2. Grafik kedua merupakan grafik yang memperlihatkan perbandingan Wilayah yang ada di Provinsi DKI Jakarta tanpa adanya keterkaitan atau hubungan wilayah dengan kegiatan pengangkutan sampah di setiap harinya. Wilayah Jakarta Barat memiliki nilai yang sangat tinggi yakni mencapai 14.840 sedangkan Wilayah Jakarta Pusat memiliki nilai perhitungan yang sangat kecil yakni hanya mencapai 4.396 saja. Jika diurutkan maka hasilnya adalah sebagai berikut:\n",
    "- Jakarta Barat.\n",
    "- Jakarta Timur.\n",
    "- Jakarta Utara.\n",
    "- Jakarta Selatan.\n",
    "- Jakarta Pusat."
   ]
  },
  {
   "cell_type": "code",
   "execution_count": 31,
   "metadata": {},
   "outputs": [
    {
     "data": {
      "image/png": "[encoded data removed]",
      "text/plain": [
       "<Figure size 1080x720 with 1 Axes>"
      ]
     },
     "metadata": {},
     "output_type": "display_data"
    }
   ],
   "source": [
    "# Melihat perbandingan antar kecamatan dalam hal pengangkutan sampah yang ada di Provinsi DKI Jakarta\n",
    "plt.figure(figsize=(15, 10))\n",
    "plt.xticks(rotation=90)\n",
    "\n",
    "sns.countplot(x=\"Kecamatan\", data=data_februari)\n",
    "plt.title(\"Perbandingan Kecamatan Yang Paling Sering Mengangkut Sampah Sungai Pada Bulan Februari 2021\", fontsize=13, pad=13)\n",
    "plt.show()"
   ]
  },
  {
   "cell_type": "markdown",
   "metadata": {},
   "source": [
    "Berdasarkan grafik diatas terkait perbandingan jumlah perhitungan total antar Kecamatan yang didasari oleh kolom Titik_Lokasi dalam menghasilkan/mengumpulkan volume sampah per harinya di Provinsi DKI Jakarta bulan Februari 2021, maka dapat diambil kesimpulan sebagai berikut:\n",
    "\n",
    "1. Kecamatan yang mempunyai nilai tertinggi yakni Kecamatan Tanjung Priok yang memiliki nilai yakni 2.632. Jumlah nilai tersebut tidak ada keterkaitannya dengan volume sampah per harinya melainkan didasarkan atas Titik_Lokasi dari setiap Kecamatan yang berhasil mengangkut sampah-sampah di setiap harinya.\n",
    "2. Kecamatan yang memiliki nilai tertinggi selanjutnya setelah Kecamatan Tanjung Priok (2.632) adalah kecamatan Kalideres yang memiliki nilai sebanyak 2.604 dan kecamatan tertinggi ketiga adalah kecamatan Cengkareng yang memiliki nilai mencapai 2.212.\n",
    "3. Sedangkan Kecamatan yang memiliki titik lokasi terendah dalam hal pengangkutan sampah di Provinsi DKI Jakarta adalah Kecamatan Johar Baru yang berada di Wilayah Jakarta Pusat yang memiliki titik lokasi pengangkutan hanya 364 saja. Kalah tipis dari Kecamatan Menteng (448) yang berada di Wilayah yang sama (Jakarta Pusat).\n",
    "\n",
    "Harus diingat bahwa perhitungan dalam memilih Kecamatan tertinggi sampai terendah didasarkan bukan dari volume sampah yang berhasil dingkut per harinya melainkan dari pengumpulan sampah di suatu titik lokasi tertentu saja seperti melalui kali, saluran penghubung (PHB), waduk, sungai di masing-masing kecamatan, dll."
   ]
  },
  {
   "cell_type": "code",
   "execution_count": 32,
   "metadata": {},
   "outputs": [
    {
     "data": {
      "image/png": "[encoded data removed]",
      "text/plain": [
       "<Figure size 720x360 with 1 Axes>"
      ]
     },
     "metadata": {},
     "output_type": "display_data"
    }
   ],
   "source": [
    "# Melihat trend dalam pengangkutan sampah per harinya berdasarkan tanggal pengangkutan\n",
    "plt.figure(figsize=(10, 5))\n",
    "    \n",
    "sns.lineplot(x=\"Tanggal\", y=\"Volume_Sampah_Perhari(M3)\", color=\"green\", data=data_februari)\n",
    "plt.title(\"Trend Pengangkutan Volume Sampah berdasarkan \\n Tanggal Pengangkutan Sampah di Bulan Februari 2021\", \n",
    "          fontsize=13, pad=13)\n",
    "plt.show()"
   ]
  },
  {
   "cell_type": "markdown",
   "metadata": {},
   "source": [
    "Dari grafik garis (Line plot) diatas menunjukkan intensitas pengangkutan sampah yang dilakukan oleh Dinas Lingkungan Hidup Provinsi DKI Jakarta di setiap hari pada bulan Februari tahun 2021. \n",
    "\n",
    "Hasilnya adalah cenderung menunjukkan terjadinya trend kenaikan volume sampah di setiap harinya dan puncaknya terjadi di tanggal 8 Februari dan 17 Februari, dan 22 Februari 2021. Walaupun terdapat juga penurunan intensitas dalam mengumpulkan sampah seperti yang terjadi di tanggal 3 Februari, 6 Februari, 9 Februari, 17 Februari, 21 Februari, dan 23 Februari 2021."
   ]
  },
  {
   "cell_type": "code",
   "execution_count": 33,
   "metadata": {},
   "outputs": [
    {
     "data": {
      "image/png": "[encoded data removed]",
      "text/plain": [
       "<Figure size 720x360 with 2 Axes>"
      ]
     },
     "metadata": {},
     "output_type": "display_data"
    }
   ],
   "source": [
    "# Melihat korelasi antar kolom yang memiliki bersifat numerik\n",
    "plt.figure(figsize=(10, 5))\n",
    "\n",
    "korelasi_data_februari = sns.heatmap(data_februari.corr(), cmap=\"RdYlBu\", annot=True)\n",
    "korelasi_data_februari.set_title(\"Melihat Korelasi Antar Kolom yang Bersifat Numerik (Angka) di data_februari\", \n",
    "                                 fontsize=13, pad=13);"
   ]
  },
  {
   "cell_type": "markdown",
   "metadata": {},
   "source": [
    "Grafik diatas dinamakan sebagai grafik heatmap atau grafik peta panas dengan menunjukkan nilai korelasi antar masing-masing kolom yang bersifat numerik sedangkan kategorik tidak. Cara membaca grafik ini yaitu membaca dari sumbu y ke sumbu x atau sebaliknya dengan memfokuskan/memperhatikan nilai yang ada di box persegi sebagai penanda nilai korelasinya. Contohnya adalah sebagai berikut:\n",
    "\n",
    "1. Variabel \"Panjang/Luas\" yang ada di sumbu y memiliki nilai korelasi 1 dengan variabel yang sama (Panjang/Luas) yang berada di sumbu x. Sedangkan variabel Panjang/Luas yang ada di sumbu y memiliki nilai korelasi -0.14 dengan variabel \"Volume_Sampah_Perhari(M3)\" yang ada di sumbu x. Hal tersebut menandakan tidak memiliki hubungan timbal-balik.\n",
    "2. Variabel \"Volume_Sampah_Perhari(M3)\" yang ada di sumbu y memiliki nilai korelasi = 0.006 dengan variabel Tanggal yang ada di sumbu x. Hal ini menandakan bahwasanya kedua variabel ini (Variabel \"Volume_Sampah_Perhari(M3)\" yang ada di sumbu y dengan variabel \"Tanggal\" di sumbu x) sedikit memiliki hubungan timbal balik walaupun penilaian dominannya cenderung tidak memiliki hubungan timbal-balik.\n",
    "\n",
    "Jadi intinya setiap kolom-kolom yang ada di sumbu y (yang berada di sisi kiri) dibaca/diperhatikan setiap nilainya dengan kolom-kolom yang berada di sumbu x (yang berada di bawah). Untuk memudahkan dalam membedakan apakah nilai korelasinya bagus/tidak dapat dilihat dari indikator warna yang di sebelah paling kanan dari grafik heatmap. Semakin bagus nilai korelasinya maka warnanya menjadi biru tua tetapi semakin buruk/kecil nilai korelasinya maka nilai warna pada box persegi di nilai tersebut menjadi warna merah menyala."
   ]
  },
  {
   "cell_type": "code",
   "execution_count": 34,
   "metadata": {},
   "outputs": [
    {
     "data": {
      "image/png": "[encoded data removed]",
      "text/plain": [
       "<Figure size 720x360 with 1 Axes>"
      ]
     },
     "metadata": {},
     "output_type": "display_data"
    }
   ],
   "source": [
    "# Membandingkan nilai data di kolom \"Satuan_Panjang/Luas\" berdasarkan volume sampah yang berhasil diangkut per harinya\n",
    "plt.figure(figsize=(10, 5))\n",
    "\n",
    "sns.barplot(x=\"Satuan_Panjang/Luas\", y=\"Volume_Sampah_Perhari(M3)\", data=data_februari)\n",
    "plt.title(\"Perbandingan Satuan Panjang/Luas dari Volume Sampah Yang Berhasil Diangkut di Setiap Harinya\", fontsize=13, pad=13)\n",
    "plt.show()"
   ]
  },
  {
   "cell_type": "markdown",
   "metadata": {},
   "source": [
    "Berdasarkan grafik bar pada hasil output diatas dapat diketahui dan diambil kesimpulan seperti:\n",
    "\n",
    "1. Data yang memiliki nilai dominan dari kolom satuan panjang/luas yang dilihat berdasarkan volume sampah yang berhasil diangkut di setiap harinya adalah data satuan panjang yakni m yang disusul oleh nilai m².\n",
    "2. Sedangkan nilai satuan panjang/luas yang memiliki nilai terkecil adalah nilai km.\n",
    "\n",
    "Untuk susunan nilai dari yang terbanyak hingga terkecil adalah sebagai berikut:\n",
    "- m.\n",
    "- m².\n",
    "- Ha.\n",
    "- km.\n",
    "- M³."
   ]
  },
  {
   "cell_type": "code",
   "execution_count": 35,
   "metadata": {},
   "outputs": [
    {
     "data": {
      "image/png": "[encoded data removed]",
      "text/plain": [
       "<Figure size 720x576 with 1 Axes>"
      ]
     },
     "metadata": {},
     "output_type": "display_data"
    }
   ],
   "source": [
    "# Melihat komposisi masing-masing wilayah Provinsi DKI Jakarta berdasarkan panjang/luas area penanganan sampah\n",
    "plt.figure(figsize=(10, 8))\n",
    "\n",
    "data_pie_februari = data_februari.groupby(\"Wilayah\")[\"Panjang/Luas\"].sum().reset_index()\n",
    "plt.pie(data_pie_februari[\"Panjang/Luas\"], labels = data_pie_februari[\"Wilayah\"], autopct = \"%.2f%%\")\n",
    "plt.title(\"Melihat Persentase per Masing-Masing Wilayah berdasarkan Panjang/Luas \\n\"\n",
    "          \"Area Penanganan Sampah pada Bulan Februari 2021\",\n",
    "          fontsize=13, pad=13)\n",
    "plt.show()"
   ]
  },
  {
   "cell_type": "markdown",
   "metadata": {},
   "source": [
    "Grafik Pie merupakan sebuah grafik yang berfungsi untuk menunjukkan komposisi dari data yang bersifat kategorik dengan memperlihatkan nilai presentase dari masing-masing data dan jumlah total presentase tersebut harus 100% (tidak boleh lebih/kurang).\n",
    "\n",
    "Berdasarkan grafik pie diatas maka saya dapat menganalisis komposisi data dari kolom Wilayah berdasarkan perhitungan keseluruhan dari kolom Panjang/Luas yang dihitung berdasarkan wilayah dari Provinsi DKI Jakarta. Kolom Panjang/Luas ini merupakan sebuah kolom yang menandakan seberapa luasnya area penanganan sampah yang dilakukan oleh Dinas Lingkungan Hidup (DLH) Provinsi DKI Jakarta. Berikut adalah hasil analisa dari saya:\n",
    "\n",
    "1. Wilayah yang memiliki area penanganan yang paling luas dalam menangani sampah di Provinsi DKI Jakarta adalah wilayah Jakarta Utara dengan persentase sebesar 45.54%.\n",
    "2. Sedangkan wilayah Jakarta Pusat memiliki area penanganan sampah yang paling kecil dan sempit diantara wilayah-wilayah yang lain (seperti wilayah Jakarta Utara (45.54%), Jakarta Timur (15.75%), Jakarta Barat (15.76%), dan Jakarta Selatan (16.65%)) dengan total persentase hanya 6.30% dalam sisi luas area penanganan sampah."
   ]
  },
  {
   "cell_type": "markdown",
   "metadata": {},
   "source": [
    "## 4. Data Modelling"
   ]
  },
  {
   "cell_type": "markdown",
   "metadata": {},
   "source": [
    "### 4.1. Pra-Pemodelan"
   ]
  },
  {
   "cell_type": "code",
   "execution_count": 36,
   "metadata": {},
   "outputs": [],
   "source": [
    "# Melakukan pemisahan data menjadi variabel independen (x) dan variabel dependen (y)\n",
    "x = data_februari[[\"Tanggal\"]]\n",
    "\n",
    "y = data_februari[\"Volume_Sampah_Perhari(M3)\"]"
   ]
  },
  {
   "cell_type": "markdown",
   "metadata": {},
   "source": [
    "#### 4.1.1. Menggunakan Split Validation dalam Melakukan Prediksi Model Regresi Linear (4.2) dan Regresi Random Forest (4.3)"
   ]
  },
  {
   "cell_type": "code",
   "execution_count": 37,
   "metadata": {},
   "outputs": [],
   "source": [
    "# Proses split validation yaitu membagi variabel independen dan dependen menjadi data training dan data testing\n",
    "\n",
    "x_train, x_test, y_train, y_test = train_test_split(x, y, test_size=0.2, random_state=37)"
   ]
  },
  {
   "cell_type": "markdown",
   "metadata": {},
   "source": [
    "Penjelasan dari proses split validation:\n",
    "\n",
    "1. x: Merupakan sebuah variabel independen atau variabel yang dipengaruhi dari variabel dependen\n",
    "2. y: Merupakan sebuah variabel dependen atau variabel yang mempengaruhi variabel independen. Variabel y juga biasa dikenal sebagai label prediksi.\n",
    "3. test_size: Nilai presentase atau komposisi dari dalam membagi data menjadi data training dan data testing. Dalam pengujian ini saya memakai nilai test_size = 0.2 yang dimana ukuran dari data test mencapai 20% dan data train mencapai 80%.\n",
    "4. random_state: Menetapkan nilai. Jika nilainya sama maka fungsi train_test_split akan menghasilkan pemisahan nilai yang sama persis di setiap waktunya. Namun jika ditentukan nilai random_statenya maka data akan diacak secara random."
   ]
  },
  {
   "cell_type": "code",
   "execution_count": 38,
   "metadata": {},
   "outputs": [
    {
     "name": "stdout",
     "output_type": "stream",
     "text": [
      "Jumlah Rows dan Kolom di Data Training Setelah Dilakukan Split Validation:  (38124, 1) (38124,)\n",
      "Jumlah Rows dan Kolom di Data Testing Setelah Dilakukan Split Validation:  (9532, 1) (9532,)\n"
     ]
    }
   ],
   "source": [
    "# Melihat ukuran dimensi dari kolom dan rows dari data training dan data testing\n",
    "print(\"Jumlah Rows dan Kolom di Data Training Setelah Dilakukan Split Validation: \", x_train.shape, y_train.shape)\n",
    "print(\"Jumlah Rows dan Kolom di Data Testing Setelah Dilakukan Split Validation: \", x_test.shape, y_test.shape)"
   ]
  },
  {
   "cell_type": "code",
   "execution_count": 39,
   "metadata": {},
   "outputs": [],
   "source": [
    "# Melakukan scaling data (training & testing) dengan standard scaler\n",
    "from sklearn.preprocessing import StandardScaler\n",
    "\n",
    "standard_scaler = StandardScaler()\n",
    "\n",
    "x_train = standard_scaler.fit_transform(x_train)\n",
    "x_test = standard_scaler.fit_transform(x_test)"
   ]
  },
  {
   "cell_type": "markdown",
   "metadata": {},
   "source": [
    "StandardScaler merupakan salah satu dari proses scaling data ketika ingin melakukan tahapan pemodelan machine learning. StandardScaler akan melakukan proses standarisasi data yang ada di kolom fitur dengan mengurangi nilai mean (rata-rata) dan kemudian nilai tersebut akan diskalakan ke varians unit. Nilai yang ada di varians unit tersebut akan membagi semua nilai yang ada dengan nilai standar deviasi.\n",
    "\n",
    "StandardScaler akan membuat nilai mean (rata-rata) yang telah di observasi menjadi 0 sedangkan nilai standar deviasinya menjadi 1. Begitu pula dengan nilai varians yang menjadi 1 karena nilai varians = nilai standar deviasi yang di kuadratkan. Rumus dari scaling data StandardScaler adalah sebagai berikut:\n",
    "\n",
    "x_scaled = x - mean(x) / Standard Deviation"
   ]
  },
  {
   "cell_type": "code",
   "execution_count": 40,
   "metadata": {},
   "outputs": [
    {
     "name": "stdout",
     "output_type": "stream",
     "text": [
      "Nilai Scaling dari Hasil StandardScaler pada Data Testing: \n",
      " [[-0.93021565]\n",
      " [ 1.29334422]\n",
      " [ 1.66393753]\n",
      " ...\n",
      " [ 0.30509539]\n",
      " [-0.93021565]\n",
      " [ 1.29334422]]\n",
      "\n",
      " ---------------------------------------------------------------------------- \n",
      "\n",
      "Nilai Scaling dari Hasil StandardScaler pada Data Training: \n",
      " [[-0.30872401]\n",
      " [-0.92804344]\n",
      " [ 0.55832319]\n",
      " ...\n",
      " [-1.05190732]\n",
      " [-0.18486012]\n",
      " [ 0.80605096]]\n"
     ]
    }
   ],
   "source": [
    "# Melihat hasil dari proses scalling dengan standardscaler\n",
    "print(\"Nilai Scaling dari Hasil StandardScaler pada Data Testing: \\n\", x_test)\n",
    "\n",
    "print(\"\\n\", \"----------------------------------------------------------------------------\", \"\\n\")\n",
    "\n",
    "print(\"Nilai Scaling dari Hasil StandardScaler pada Data Training: \\n\", x_train)"
   ]
  },
  {
   "cell_type": "markdown",
   "metadata": {},
   "source": [
    "### 4.2. Regresi Linear"
   ]
  },
  {
   "cell_type": "code",
   "execution_count": 41,
   "metadata": {},
   "outputs": [
    {
     "name": "stdout",
     "output_type": "stream",
     "text": [
      "{'copy_X': True, 'fit_intercept': True, 'n_jobs': None, 'normalize': 'deprecated', 'positive': False}\n"
     ]
    }
   ],
   "source": [
    "# Memanggil model regresi linear dari library sklearn dan kemudian melatihnya dengan data training\n",
    "from sklearn.linear_model import LinearRegression\n",
    "\n",
    "split_linear_regression_feb = LinearRegression()\n",
    "split_linear_regression_feb.fit(x_train, y_train)\n",
    "\n",
    "# Melihat nilai terbaik beserta parameter dari model regresi linear\n",
    "print(split_linear_regression_feb.get_params())"
   ]
  },
  {
   "cell_type": "markdown",
   "metadata": {},
   "source": [
    "Berdasarkan hasil output terkait pencarian parameter terbaik dari model regresi linear didapatkan beberapa kesimpulan diantaranya:\n",
    "\n",
    "1. Pada parameter copy_X, nilai terbaik dari parameter ini adalah True.\n",
    "2. Di dalam parameter fit_intercept, parameter ini memiliki nilai terbaik yakni nilai True.\n",
    "3. Parameter n_jobs tidak memiliki nilai karena nilai yang dimunculkan adalah None (Kosong).\n",
    "4. Nilai terbaik dari parameter normalize adalah deprecated.\n",
    "5. Sedangkan nilai terbaik dari parameter positive adalah False.\n",
    "\n",
    "Nilai-nilai tersebut merupakan nilai terbaik dari model regresi linear yang dimunculkan secara otomatis sebab dari awal regresi linear memang telah memiliki nilai-nilai diatas. Nilai-nilai tersebut bisa dilihat di dokumentasi scikit learn dalam pembahasan regresi linear."
   ]
  },
  {
   "cell_type": "code",
   "execution_count": 42,
   "metadata": {},
   "outputs": [
    {
     "name": "stdout",
     "output_type": "stream",
     "text": [
      "----------------Nilai Prediksi dari Data Testing------------------\n",
      "[2.38976937 2.4397056  2.4480283  ... 2.41751172 2.38976937 2.4397056 ]\n",
      "\n",
      "----------------Nilai Prediksi dari Data Training-----------------\n",
      "[2.40372669 2.38981815 2.42319865 ... 2.38703644 2.4065084  2.42876207]\n"
     ]
    }
   ],
   "source": [
    "# Melihat nilai prediksi dari data training dan data testing setelah dilakukan proses tuning hyperparameters\n",
    "print(\"----------------Nilai Prediksi dari Data Testing------------------\")\n",
    "pred_test_linear_feb = split_linear_regression_feb.predict(x_test)\n",
    "print(pred_test_linear_feb)\n",
    "\n",
    "print(\"\\n----------------Nilai Prediksi dari Data Training-----------------\")\n",
    "pred_train_linear_feb = split_linear_regression_feb.predict(x_train)\n",
    "print(pred_train_linear_feb)"
   ]
  },
  {
   "cell_type": "code",
   "execution_count": 43,
   "metadata": {},
   "outputs": [
    {
     "name": "stdout",
     "output_type": "stream",
     "text": [
      "----------------------------Data Testing dari Split Validation----------------------------\n",
      "Nilai Metric Mean Absolute Error di Data Test adalah:  2.26\n",
      "Nilai Metric Mean Squared Error di Data Test adalah:  20.67 \n",
      "\n",
      "----------------------------Data Training dari Split Validation---------------------------\n",
      "Nilai Metric Mean Absolute Error di Data Train adalah:  2.27\n",
      "Nilai Metric Mean Squared Error di Data Train adalah:  25.97\n"
     ]
    }
   ],
   "source": [
    "# Melihat hasil prediksi regresi linear dari data testing dan juga data training\n",
    "\n",
    "print(\"----------------------------Data Testing dari Split Validation----------------------------\")\n",
    "print(\"Nilai Metric Mean Absolute Error di Data Test adalah: \", \"%.2f\" % mean_absolute_error\n",
    "      (y_test, pred_test_linear_feb))\n",
    "print(\"Nilai Metric Mean Squared Error di Data Test adalah: \", \"%.2f\" % mean_squared_error\n",
    "      (y_test, pred_test_linear_feb), \"\\n\")\n",
    "#print(\"Nilai Metric Mean Squared Log Error di Data Test Adalah: \", \"%.2f\" % mean_squared_log_error(y_test, pred_test_linear))\n",
    "\n",
    "print(\"----------------------------Data Training dari Split Validation---------------------------\")\n",
    "print(\"Nilai Metric Mean Absolute Error di Data Train adalah: \", \"%.2f\" % mean_absolute_error\n",
    "      (y_train, pred_train_linear_feb))\n",
    "print(\"Nilai Metric Mean Squared Error di Data Train adalah: \", \"%.2f\" % mean_squared_error\n",
    "      (y_train, pred_train_linear_feb))\n",
    "#print(\"Nilai Metric Mean Squared Log Error Adalah: \", \"%.2f\" % mean_squared_log_error(y_train, pred_train_linear))"
   ]
  },
  {
   "cell_type": "code",
   "execution_count": 44,
   "metadata": {},
   "outputs": [
    {
     "data": {
      "image/png": "[encoded data removed]",
      "text/plain": [
       "<Figure size 1800x1440 with 2 Axes>"
      ]
     },
     "metadata": {},
     "output_type": "display_data"
    }
   ],
   "source": [
    "# Membuat grafik untuk melihat trend data dari volume pengangkutan sampah setelah dilakukan proses pemodelan regresi linear\n",
    "plt.figure(figsize=(25, 20))\n",
    "\n",
    "# Grafik untuk melihat trend data testing setelah dilakukan proses pemodelan regresi linear\n",
    "plt.subplot(4, 3, 1)\n",
    "sns.lineplot(y_test, pred_test_linear_feb)\n",
    "plt.title(\"Grafik Trend Setelah Di Prediksi dengan \\n Data Testing di Model Regresi Linear pada Bulan Februari 2021\", \n",
    "          fontsize=13, pad=13)\n",
    "\n",
    "# Grafik untuk melihat trend data training setelah dilakukan proses pemodelan regresi linear\n",
    "plt.subplot(4, 3, 2)\n",
    "sns.lineplot(y_train, pred_train_linear_feb)\n",
    "plt.title(\"Grafik Trend Setelah Di Prediksi dengan \\n Data Training di Model Regresi Linear pada Bulan Februari 2021\", \n",
    "          fontsize=13, pad=13)\n",
    "plt.show()"
   ]
  },
  {
   "cell_type": "code",
   "execution_count": 45,
   "metadata": {},
   "outputs": [
    {
     "data": {
      "image/png": "[encoded data removed]",
      "text/plain": [
       "<Figure size 1800x1440 with 2 Axes>"
      ]
     },
     "metadata": {},
     "output_type": "display_data"
    }
   ],
   "source": [
    "\"\"\"\n",
    "Melihat korelasi/hubungan keterkaitan terhadap data testing dan data training \n",
    "setelah dilakukan proses prediksi menggunakan algoritma regresi linear\n",
    "\"\"\"\n",
    "plt.figure(figsize=(25, 20))\n",
    "\n",
    "plt.subplot(4, 3, 1)\n",
    "plt.scatter(x_test, y_test, color=\"yellow\")\n",
    "plt.plot(x_test, pred_test_linear_feb, color=\"green\")\n",
    "plt.title(\"Prediction Result in Linear Regression with Testing Data \\n\"\n",
    "          \"using Outliers in Waste Volume Transportation from February 2021\", fontsize=13, pad=13)\n",
    "plt.xlabel(\"Daily Waste Volume\")\n",
    "plt.ylabel(\"Predictive Value in Testing Data\")\n",
    "\n",
    "plt.subplot(4, 3, 2)\n",
    "plt.scatter(x_train, y_train, color=\"yellow\")\n",
    "plt.plot(x_train, pred_train_linear_feb, color=\"green\")\n",
    "plt.title(\"Prediction Result in Linear Regression with Training Data \\n\"\n",
    "          \"using Outliers in Waste Volume Transportation from February 2021\", fontsize=13, pad=13)\n",
    "plt.xlabel(\"Daily Waste Volume\")\n",
    "plt.ylabel(\"Predictive Value in Training Data\")\n",
    "plt.show()"
   ]
  },
  {
   "cell_type": "markdown",
   "metadata": {},
   "source": [
    "#### 4.1.2. Menggunakan K-Fold Cross Validation dalam Melakukan Prediksi Model Regresi Linear"
   ]
  },
  {
   "cell_type": "markdown",
   "metadata": {},
   "source": [
    "##### 4.1.2.1. Nilai K-Fold = 5"
   ]
  },
  {
   "cell_type": "code",
   "execution_count": 46,
   "metadata": {
    "scrolled": false
   },
   "outputs": [
    {
     "data": {
      "text/plain": [
       "KFold(n_splits=5, random_state=37, shuffle=True)"
      ]
     },
     "execution_count": 46,
     "metadata": {},
     "output_type": "execute_result"
    }
   ],
   "source": [
    "# Memanggil library K-Fold Cross Validation yang telah dipanggil diawal pemrosesan\n",
    "kfold_5 = KFold(n_splits=5, random_state=37, shuffle=True)\n",
    "kfold_5"
   ]
  },
  {
   "cell_type": "markdown",
   "metadata": {},
   "source": [
    "K-Fold Cross Validation memiliki 3 parameters yaitu n_splits, shuffle, dan random_state. Berikut adalah penjelasan dari parameters di teknik k-fold cross validation adalah sebagai berikut:\n",
    "\n",
    "1. n_splits: parameter ini berfungsi sebagai lipatan dalam memvalidasi sebuah data. Jika n_split yang dibuat 5 maka terdapat 5 iterasi dalam memvalidasi serta juga melatih data sebanyak 5x pemrosesan dan setiap iterasi tersebut akan memiliki 5 baris untuk pengujiannya.\n",
    "2. shuffle: parameter ini berfungsi untuk mengacak data sebelum dipecah ke beberapa iterasi (sesuai n_splits yang dibuat).\n",
    "3. random_state: parameter terakhir yang dimiliki oleh teknik k-fold cross validation adalah random_state. Parameter ini berfungsi dalam mempengaruhi urutan indeks yang telah diacak (ketika nilai dari parameter shuffle di setting True) dan juga mengontrol keacakan dari setiap iterasi yang dilakukan."
   ]
  },
  {
   "cell_type": "code",
   "execution_count": 47,
   "metadata": {
    "scrolled": true
   },
   "outputs": [
    {
     "data": {
      "text/plain": [
       "LinearRegression()"
      ]
     },
     "execution_count": 47,
     "metadata": {},
     "output_type": "execute_result"
    }
   ],
   "source": [
    "\"\"\"\n",
    "Membuat model regresi linear + nilai parameter deafult yang \n",
    "kemudian akan diimplementasikan ke nilai 5 pada teknik k-fold cross validation\n",
    "\"\"\"\n",
    "\n",
    "kfold_linear_regression_feb_5 = LinearRegression()\n",
    "kfold_linear_regression_feb_5.fit(x_train, y_train)"
   ]
  },
  {
   "cell_type": "code",
   "execution_count": 48,
   "metadata": {},
   "outputs": [
    {
     "name": "stdout",
     "output_type": "stream",
     "text": [
      "dict_keys(['explained_variance', 'r2', 'max_error', 'neg_median_absolute_error', 'neg_mean_absolute_error', 'neg_mean_absolute_percentage_error', 'neg_mean_squared_error', 'neg_mean_squared_log_error', 'neg_root_mean_squared_error', 'neg_mean_poisson_deviance', 'neg_mean_gamma_deviance', 'accuracy', 'top_k_accuracy', 'roc_auc', 'roc_auc_ovr', 'roc_auc_ovo', 'roc_auc_ovr_weighted', 'roc_auc_ovo_weighted', 'balanced_accuracy', 'average_precision', 'neg_log_loss', 'neg_brier_score', 'adjusted_rand_score', 'rand_score', 'homogeneity_score', 'completeness_score', 'v_measure_score', 'mutual_info_score', 'adjusted_mutual_info_score', 'normalized_mutual_info_score', 'fowlkes_mallows_score', 'precision', 'precision_macro', 'precision_micro', 'precision_samples', 'precision_weighted', 'recall', 'recall_macro', 'recall_micro', 'recall_samples', 'recall_weighted', 'f1', 'f1_macro', 'f1_micro', 'f1_samples', 'f1_weighted', 'jaccard', 'jaccard_macro', 'jaccard_micro', 'jaccard_samples', 'jaccard_weighted'])\n"
     ]
    }
   ],
   "source": [
    "# Melihat metrics-metrics yang bisa digunakan untuk memprediksi model machine learning\n",
    "import sklearn\n",
    "\n",
    "print(sklearn.metrics.SCORERS.keys())"
   ]
  },
  {
   "cell_type": "markdown",
   "metadata": {},
   "source": [
    "Diatas adalah metrics-metrics yang bisa digunakan dalam melihat hasil prediksi yang telah dibangun oleh model machine learning. Untuk pengujian kali ini saya akan menggunakan metrics yang bernama neg_mean_absolute_error dan neg_mean_squared_error."
   ]
  },
  {
   "cell_type": "code",
   "execution_count": 49,
   "metadata": {},
   "outputs": [],
   "source": [
    "# Memanggil library cross_val_score untuk memvalidasi data training dan data test menggunakan metrics MAE & MSE\n",
    "\n",
    "# Metric MAE untuk Data Training dan Data Testing\n",
    "mae_score_kfold_train_feb_5 = cross_val_score(kfold_linear_regression_feb_5, x_train, y_train, \n",
    "                                              scoring=\"neg_mean_absolute_error\", cv=kfold_5, n_jobs=1)\n",
    "\n",
    "mae_score_kfold_test_feb_5 = cross_val_score(kfold_linear_regression_feb_5, x_test, y_test, \n",
    "                                             scoring=\"neg_mean_absolute_error\", cv=kfold_5, n_jobs=1)\n",
    "\n",
    "# Metric MSE untuk Data Training dan Data Testing\n",
    "mse_score_kfold_train_feb_5 = cross_val_score(kfold_linear_regression_feb_5, x_train, y_train, \n",
    "                                              scoring=\"neg_mean_squared_error\", cv=kfold_5, n_jobs=1)\n",
    "\n",
    "mse_score_kfold_test_feb_5 = cross_val_score(kfold_linear_regression_feb_5, x_test, y_test, \n",
    "                                             scoring=\"neg_mean_squared_error\", cv=kfold_5, n_jobs=1)"
   ]
  },
  {
   "cell_type": "code",
   "execution_count": 50,
   "metadata": {
    "scrolled": true
   },
   "outputs": [
    {
     "name": "stdout",
     "output_type": "stream",
     "text": [
      "Skor Setiap Iterasi Data Training dari Metrics Mean Absolute Error: \n",
      " [-2.27975604 -2.3122273  -2.26878335 -2.26442749 -2.23236837] \n",
      "\n",
      "Skor Setiap Iterasi Data Testing dari Metrics Mean Absolute Error: \n",
      " [-2.20333709 -2.17860126 -2.14690603 -2.31690154 -2.35408879] \n",
      "\n",
      "Skor Setiap Iterasi Data Training dari Metrics Mean Absolute Error: \n",
      " [-36.53585013 -37.77051636 -13.84165036 -25.02970019 -16.68495591] \n",
      "\n",
      "Skor Setiap Iterasi Data Testing dari Metrics Mean Absolute Error: \n",
      " [-12.41405938 -12.54444051 -11.81868516 -29.14948674 -37.50401845]\n"
     ]
    }
   ],
   "source": [
    "# Melihat nilai dari setiap iterasi dari metrics mean absolute error dan mean squared error\n",
    "\n",
    "print(\"Skor Setiap Iterasi Data Training dari Metrics Mean Absolute Error: \\n\", mae_score_kfold_train_feb_5, \"\\n\")\n",
    "print(\"Skor Setiap Iterasi Data Testing dari Metrics Mean Absolute Error: \\n\", mae_score_kfold_test_feb_5, \"\\n\")\n",
    "print(\"Skor Setiap Iterasi Data Training dari Metrics Mean Absolute Error: \\n\", mse_score_kfold_train_feb_5, \"\\n\")\n",
    "print(\"Skor Setiap Iterasi Data Testing dari Metrics Mean Absolute Error: \\n\", mse_score_kfold_test_feb_5)"
   ]
  },
  {
   "cell_type": "code",
   "execution_count": 51,
   "metadata": {
    "scrolled": false
   },
   "outputs": [
    {
     "name": "stdout",
     "output_type": "stream",
     "text": [
      "---------------------------------Data Testing K-Fold----------------------------------\n",
      "Nilai Prediksi dari Data Test Menggunakan Metrics MAE adalah: 2.24 \n",
      "Nilai Prediksi dari Data Test Menggunakan Metrics MSE adalah: 20.69  \n",
      "\n",
      "---------------------------------Data Training K-Fold----------------------------------\n",
      "Nilai Prediksi dari Data Train Menggunakan Metrics MAE adalah: 2.27 \n",
      "Nilai Prediksi dari Data Train Menggunakan Metrics MSE adalah: 25.97 \n"
     ]
    }
   ],
   "source": [
    "# Melihat hasil prediksi data test dan data train dengan metric MAE & MSE dari hasil K-Fold Cross Validation\n",
    "\n",
    "print(\"---------------------------------Data Testing K-Fold----------------------------------\")\n",
    "print(\"Nilai Prediksi dari Data Test Menggunakan Metrics MAE adalah: %.2f \" % np.mean(np.absolute\n",
    "                                                                                      (mae_score_kfold_test_feb_5)))\n",
    "print(\"Nilai Prediksi dari Data Test Menggunakan Metrics MSE adalah: %.2f \" % np.mean(np.absolute\n",
    "                                                                                      (mse_score_kfold_test_feb_5)), \"\\n\")\n",
    "\n",
    "print(\"---------------------------------Data Training K-Fold----------------------------------\")\n",
    "print(\"Nilai Prediksi dari Data Train Menggunakan Metrics MAE adalah: %.2f \" % np.mean(np.absolute\n",
    "                                                                                       (mae_score_kfold_train_feb_5)))\n",
    "print(\"Nilai Prediksi dari Data Train Menggunakan Metrics MSE adalah: %.2f \" % np.mean(np.absolute\n",
    "                                                                                       (mse_score_kfold_train_feb_5)))"
   ]
  },
  {
   "cell_type": "markdown",
   "metadata": {},
   "source": [
    "##### 4.1.2.2. Nilai K-Fold = 10"
   ]
  },
  {
   "cell_type": "code",
   "execution_count": 52,
   "metadata": {},
   "outputs": [
    {
     "data": {
      "text/plain": [
       "KFold(n_splits=10, random_state=37, shuffle=True)"
      ]
     },
     "execution_count": 52,
     "metadata": {},
     "output_type": "execute_result"
    }
   ],
   "source": [
    "# Memanggil library K-Fold Cross Validation yang telah dipanggil diawal pemrosesan\n",
    "kfold_10 = KFold(n_splits=10, random_state=37, shuffle=True)\n",
    "kfold_10"
   ]
  },
  {
   "cell_type": "code",
   "execution_count": 53,
   "metadata": {
    "scrolled": true
   },
   "outputs": [
    {
     "data": {
      "text/plain": [
       "LinearRegression()"
      ]
     },
     "execution_count": 53,
     "metadata": {},
     "output_type": "execute_result"
    }
   ],
   "source": [
    "\"\"\"\n",
    "Membuat model regresi linear + nilai parameter deafult yang \n",
    "kemudian akan diimplementasikan ke nilai 10 pada teknik k-fold cross validation\n",
    "\"\"\"\n",
    "\n",
    "kfold_linear_regression_feb_10 = LinearRegression()\n",
    "kfold_linear_regression_feb_10.fit(x_train, y_train)"
   ]
  },
  {
   "cell_type": "code",
   "execution_count": 54,
   "metadata": {},
   "outputs": [],
   "source": [
    "# Memanggil library cross_val_score untuk memvalidasi data training dan data test menggunakan metrics MAE & MSE\n",
    "\n",
    "# Metric MAE untuk Data Training dan Data Testing\n",
    "mae_score_kfold_train_feb_10 = cross_val_score(kfold_linear_regression_feb_10, x_train, y_train, \n",
    "                                               scoring=\"neg_mean_absolute_error\", cv=kfold_10, n_jobs=1)\n",
    "\n",
    "mae_score_kfold_test_feb_10 = cross_val_score(kfold_linear_regression_feb_10, x_test, y_test, \n",
    "                                              scoring=\"neg_mean_absolute_error\", cv=kfold_10, n_jobs=1)\n",
    "\n",
    "# Metric MSE untuk Data Training dan Data Testing\n",
    "mse_score_kfold_train_feb_10 = cross_val_score(kfold_linear_regression_feb_10, x_train, y_train, \n",
    "                                               scoring=\"neg_mean_squared_error\", cv=kfold_10, n_jobs=1)\n",
    "\n",
    "mse_score_kfold_test_feb_10 = cross_val_score(kfold_linear_regression_feb_10, x_test, y_test, \n",
    "                                              scoring=\"neg_mean_squared_error\", cv=kfold_10, n_jobs=1)"
   ]
  },
  {
   "cell_type": "code",
   "execution_count": 55,
   "metadata": {
    "scrolled": false
   },
   "outputs": [
    {
     "name": "stdout",
     "output_type": "stream",
     "text": [
      "Skor Setiap Iterasi Data Training dari Metrics Mean Absolute Error: \n",
      " [-2.30887307 -2.2615338  -2.45229027 -2.18617301 -2.27695934 -2.25032182\n",
      " -2.312151   -2.21431738 -2.2487249  -2.20298481] \n",
      "\n",
      "Skor Setiap Iterasi Data Testing dari Metrics Mean Absolute Error: \n",
      " [-2.24142826 -2.14683267 -2.18741378 -2.14683013 -2.17692051 -2.09729046\n",
      " -2.38797661 -2.26451658 -2.41556334 -2.33260074] \n",
      "\n",
      "Skor Setiap Iterasi Data Training dari Metrics Mean Absolute Error: \n",
      " [-56.26006324 -16.80071574 -62.90438592 -12.63003555 -13.75613835\n",
      " -13.92658989 -32.43206245 -17.62595083 -15.65744016 -17.70867648] \n",
      "\n",
      "Skor Setiap Iterasi Data Testing dari Metrics Mean Absolute Error: \n",
      " [-12.23155214 -12.58872771 -14.25389525 -10.83676544 -11.90490999\n",
      " -11.72374616 -45.48806816 -12.79418036 -56.52247457 -18.46160283]\n"
     ]
    }
   ],
   "source": [
    "# Melihat nilai dari setiap iterasi dari metrics mean absolute error dan mean squared error\n",
    "\n",
    "print(\"Skor Setiap Iterasi Data Training dari Metrics Mean Absolute Error: \\n\", mae_score_kfold_train_feb_10, \"\\n\")\n",
    "print(\"Skor Setiap Iterasi Data Testing dari Metrics Mean Absolute Error: \\n\", mae_score_kfold_test_feb_10, \"\\n\")\n",
    "print(\"Skor Setiap Iterasi Data Training dari Metrics Mean Absolute Error: \\n\", mse_score_kfold_train_feb_10, \"\\n\")\n",
    "print(\"Skor Setiap Iterasi Data Testing dari Metrics Mean Absolute Error: \\n\", mse_score_kfold_test_feb_10)"
   ]
  },
  {
   "cell_type": "code",
   "execution_count": 56,
   "metadata": {
    "scrolled": false
   },
   "outputs": [
    {
     "name": "stdout",
     "output_type": "stream",
     "text": [
      "---------------------------------Data Testing K-Fold----------------------------------\n",
      "Nilai Prediksi dari Data Test Menggunakan Metrics MAE adalah: 2.24 \n",
      "Nilai Prediksi dari Data Test Menggunakan Metrics MSE adalah: 20.68  \n",
      "\n",
      "---------------------------------Data Training K-Fold----------------------------------\n",
      "Nilai Prediksi dari Data Train Menggunakan Metrics MAE adalah: 2.27 \n",
      "Nilai Prediksi dari Data Train Menggunakan Metrics MSE adalah: 25.97 \n"
     ]
    }
   ],
   "source": [
    "# Melihat hasil prediksi data test dan data train dengan metric MAE & MSE dari hasil K-Fold Cross Validation\n",
    "\n",
    "print(\"---------------------------------Data Testing K-Fold----------------------------------\")\n",
    "print(\"Nilai Prediksi dari Data Test Menggunakan Metrics MAE adalah: %.2f \" % np.mean(np.absolute\n",
    "                                                                                      (mae_score_kfold_test_feb_10)))\n",
    "print(\"Nilai Prediksi dari Data Test Menggunakan Metrics MSE adalah: %.2f \" % np.mean(np.absolute\n",
    "                                                                                      (mse_score_kfold_test_feb_10)), \"\\n\")\n",
    "\n",
    "print(\"---------------------------------Data Training K-Fold----------------------------------\")\n",
    "print(\"Nilai Prediksi dari Data Train Menggunakan Metrics MAE adalah: %.2f \" % np.mean(np.absolute\n",
    "                                                                                       (mae_score_kfold_train_feb_10)))\n",
    "print(\"Nilai Prediksi dari Data Train Menggunakan Metrics MSE adalah: %.2f \" % np.mean(np.absolute\n",
    "                                                                                       (mse_score_kfold_train_feb_10)))"
   ]
  },
  {
   "cell_type": "markdown",
   "metadata": {},
   "source": [
    "##### 4.1.2.3. Nilai K-Fold = 15"
   ]
  },
  {
   "cell_type": "code",
   "execution_count": 57,
   "metadata": {
    "scrolled": false
   },
   "outputs": [
    {
     "data": {
      "text/plain": [
       "KFold(n_splits=15, random_state=37, shuffle=True)"
      ]
     },
     "execution_count": 57,
     "metadata": {},
     "output_type": "execute_result"
    }
   ],
   "source": [
    "# Memanggil library K-Fold Cross Validation yang telah dipanggil diawal pemrosesan\n",
    "kfold_15 = KFold(n_splits=15, random_state=37, shuffle=True)\n",
    "kfold_15"
   ]
  },
  {
   "cell_type": "code",
   "execution_count": 58,
   "metadata": {
    "scrolled": false
   },
   "outputs": [
    {
     "data": {
      "text/plain": [
       "LinearRegression()"
      ]
     },
     "execution_count": 58,
     "metadata": {},
     "output_type": "execute_result"
    }
   ],
   "source": [
    "\"\"\"\n",
    "Membuat model regresi linear + nilai parameter deafult yang \n",
    "kemudian akan diimplementasikan ke nilai 15 pada teknik k-fold cross validation\n",
    "\"\"\"\n",
    "\n",
    "kfold_linear_regression_feb_15 = LinearRegression()\n",
    "kfold_linear_regression_feb_15.fit(x_train, y_train)"
   ]
  },
  {
   "cell_type": "code",
   "execution_count": 59,
   "metadata": {},
   "outputs": [],
   "source": [
    "# Memanggil library cross_val_score untuk memvalidasi data training dan data test menggunakan metrics MAE & MSE\n",
    "\n",
    "# Metric MAE untuk Data Training dan Data Testing\n",
    "mae_score_kfold_train_feb_15 = cross_val_score(kfold_linear_regression_feb_15, x_train, y_train, \n",
    "                                               scoring=\"neg_mean_absolute_error\", cv=kfold_15, n_jobs=1)\n",
    "\n",
    "mae_score_kfold_test_feb_15 = cross_val_score(kfold_linear_regression_feb_15, x_test, y_test, \n",
    "                                              scoring=\"neg_mean_absolute_error\", cv=kfold_15, n_jobs=1)\n",
    "\n",
    "# Metric MSE untuk Data Training dan Data Testing\n",
    "mse_score_kfold_train_feb_15 = cross_val_score(kfold_linear_regression_feb_15, x_train, y_train, \n",
    "                                               scoring=\"neg_mean_squared_error\", cv=kfold_15, n_jobs=1)\n",
    "\n",
    "mse_score_kfold_test_feb_15 = cross_val_score(kfold_linear_regression_feb_15, x_test, y_test, \n",
    "                                              scoring=\"neg_mean_squared_error\", cv=kfold_15, n_jobs=1)"
   ]
  },
  {
   "cell_type": "code",
   "execution_count": 60,
   "metadata": {
    "scrolled": false
   },
   "outputs": [
    {
     "name": "stdout",
     "output_type": "stream",
     "text": [
      "Skor Setiap Iterasi Data Training dari Metrics Mean Absolute Error: \n",
      " [-2.41097979 -2.16773946 -2.28209199 -2.28044224 -2.46013079 -2.22270405\n",
      " -2.25093801 -2.26525528 -2.27005218 -2.37237009 -2.19303991 -2.22668155\n",
      " -2.28720477 -2.15606916 -2.22599746] \n",
      "\n",
      "Skor Setiap Iterasi Data Testing dari Metrics Mean Absolute Error: \n",
      " [-2.32712363 -2.06518301 -2.18151813 -2.09857302 -2.21154966 -2.19607581\n",
      " -2.0831106  -2.07861762 -2.24779741 -2.53425825 -2.16250235 -2.27008779\n",
      " -2.22075704 -2.69305343 -2.22575489] \n",
      "\n",
      "Skor Setiap Iterasi Data Training dari Metrics Mean Absolute Error: \n",
      " [-78.31598345 -14.98490807 -16.29562224 -13.43826212 -86.57191527\n",
      " -13.28555129 -13.34725824 -13.80842681 -14.36306916 -42.70716743\n",
      " -12.12538583 -20.30014294 -17.64575993 -11.32301177 -21.05028276] \n",
      "\n",
      "Skor Setiap Iterasi Data Testing dari Metrics Mean Absolute Error: \n",
      " [-13.2099727  -10.38133791 -13.63344384 -10.79987587 -15.38637323\n",
      " -11.58466537 -10.99088831 -10.76226075 -13.79535085 -62.4607114\n",
      " -12.21615914 -12.50698864 -19.32945406 -79.37268338 -13.82853488]\n"
     ]
    }
   ],
   "source": [
    "# Melihat nilai dari setiap iterasi dari metrics mean absolute error dan mean squared error\n",
    "\n",
    "print(\"Skor Setiap Iterasi Data Training dari Metrics Mean Absolute Error: \\n\", mae_score_kfold_train_feb_15, \"\\n\")\n",
    "print(\"Skor Setiap Iterasi Data Testing dari Metrics Mean Absolute Error: \\n\", mae_score_kfold_test_feb_15, \"\\n\")\n",
    "print(\"Skor Setiap Iterasi Data Training dari Metrics Mean Absolute Error: \\n\", mse_score_kfold_train_feb_15, \"\\n\")\n",
    "print(\"Skor Setiap Iterasi Data Testing dari Metrics Mean Absolute Error: \\n\", mse_score_kfold_test_feb_15)"
   ]
  },
  {
   "cell_type": "code",
   "execution_count": 61,
   "metadata": {
    "scrolled": false
   },
   "outputs": [
    {
     "name": "stdout",
     "output_type": "stream",
     "text": [
      "---------------------------------Data Testing K-Fold----------------------------------\n",
      "Nilai Prediksi dari Data Test Menggunakan Metrics MAE adalah: 2.24 \n",
      "Nilai Prediksi dari Data Test Menggunakan Metrics MSE adalah: 20.68  \n",
      "\n",
      "---------------------------------Data Training K-Fold----------------------------------\n",
      "Nilai Prediksi dari Data Train Menggunakan Metrics MAE adalah: 2.27 \n",
      "Nilai Prediksi dari Data Train Menggunakan Metrics MSE adalah: 25.97 \n"
     ]
    }
   ],
   "source": [
    "# Melihat hasil prediksi data test dan data train dengan metric MAE & MSE dari hasil K-Fold Cross Validation\n",
    "\n",
    "print(\"---------------------------------Data Testing K-Fold----------------------------------\")\n",
    "print(\"Nilai Prediksi dari Data Test Menggunakan Metrics MAE adalah: %.2f \" % np.mean(np.absolute\n",
    "                                                                                      (mae_score_kfold_test_feb_15)))\n",
    "print(\"Nilai Prediksi dari Data Test Menggunakan Metrics MSE adalah: %.2f \" % np.mean(np.absolute\n",
    "                                                                                      (mse_score_kfold_test_feb_15)), \"\\n\")\n",
    "\n",
    "print(\"---------------------------------Data Training K-Fold----------------------------------\")\n",
    "print(\"Nilai Prediksi dari Data Train Menggunakan Metrics MAE adalah: %.2f \" % np.mean(np.absolute\n",
    "                                                                                       (mae_score_kfold_train_feb_15)))\n",
    "print(\"Nilai Prediksi dari Data Train Menggunakan Metrics MSE adalah: %.2f \" % np.mean(np.absolute\n",
    "                                                                                       (mse_score_kfold_train_feb_15)))"
   ]
  },
  {
   "cell_type": "markdown",
   "metadata": {},
   "source": [
    "### 4.3. Regresi Random Forest"
   ]
  },
  {
   "cell_type": "markdown",
   "metadata": {},
   "source": [
    "Setelah memprediksi menggunakan model regresi linear, selanjutnya saya akan memprediksi tingkat pengangkutan sampah per harinya menggunakan model regresi random forest."
   ]
  },
  {
   "cell_type": "code",
   "execution_count": 62,
   "metadata": {},
   "outputs": [
    {
     "name": "stdout",
     "output_type": "stream",
     "text": [
      "{'bootstrap': True, 'ccp_alpha': 0.0, 'criterion': 'squared_error', 'max_depth': None, 'max_features': 'auto', 'max_leaf_nodes': None, 'max_samples': None, 'min_impurity_decrease': 0.0, 'min_samples_leaf': 1, 'min_samples_split': 2, 'min_weight_fraction_leaf': 0.0, 'n_estimators': 100, 'n_jobs': None, 'oob_score': False, 'random_state': None, 'verbose': 0, 'warm_start': False}\n"
     ]
    }
   ],
   "source": [
    "# Memanggil model regresi random forest dari library sklearn\n",
    "from sklearn.ensemble import RandomForestRegressor\n",
    "\n",
    "split_randomforest_regression_feb = RandomForestRegressor()\n",
    "split_randomforest_regression_feb.fit(x_train, y_train)\n",
    "\n",
    "# Melihat parameter dari regresi random forest beserta nilai terbaik dari masing-masing parameter\n",
    "print(split_randomforest_regression_feb.get_params())"
   ]
  },
  {
   "cell_type": "markdown",
   "metadata": {},
   "source": [
    "Berdasarkan hasil output terkait pencarian parameter terbaik dari model regresi linear didapatkan beberapa kesimpulan diantaranya:\n",
    "\n",
    "1. Pada parameter bootstrap, nilai terbaik dari parameter ini adalah True.\n",
    "2. Di dalam parameter ccp_alpha, parameter ini memiliki nilai terbaik yakni nilai 0.0.\n",
    "3. Parameter criterion memiliki nilai terbaik yakni squared_error.\n",
    "4. Parameter max_depth tidak memiliki nilai karena nilai yang dimunculkan adalah None (Kosong).\n",
    "5. Di dalam parameter max_features, parameter ini memiliki nilai terbaik yakni nilai auto.\n",
    "6. Di dalam parameter max_leaf_nodes tidak memiliki nilai karena nilai yang dimunculkan adalah None (Kosong).\n",
    "7. Di dalam parameter max_samples tidak memiliki nilai karena nilai yang dimunculkan adalah None (Kosong).\n",
    "7. Di dalam parameter min_impurity_decrease, parameter ini memiliki nilai terbaik yakni nilai 0.0.\n",
    "8. Nilai terbaik dari parameter min_samples_leaf adalah 1.\n",
    "9. Nilai terbaik dari parameter min_samples_split adalah 2.\n",
    "10. Pada parameter min_weight_fraction_leaf, nilai yang muncul adalah nilai 0.0.\n",
    "11. Di parameter n_estimators, nilai yang muncul pada parameter ini adalah 100.\n",
    "12. Pada parameter n_jobs, nilai yang muncul adalah nilai None.\n",
    "13. Pada parameter oob_score, nilai yang muncul adalah nilai False.\n",
    "14. Pada parameter random_state, nilai yang muncul adalah nilai None.\n",
    "15. Di parameter verbose, nilai yang muncul pada parameter ini adalah 0.\n",
    "16. Sedangkan nilai yang muncul dari parameter warm_start adalah False.\n",
    "\n",
    "Nilai-nilai tersebut merupakan nilai terbaik dari model regresi random forest yang dimunculkan secara otomatis sebab dari awal regresi random forest telah memiliki nilai-nilai diatas sebagai nilai default. Nilai-nilai tersebut bisa dilihat di dokumentasi scikit learn dalam pembahasan regresi random forest (random forest regressor)."
   ]
  },
  {
   "cell_type": "code",
   "execution_count": 63,
   "metadata": {},
   "outputs": [
    {
     "name": "stdout",
     "output_type": "stream",
     "text": [
      "----------------Nilai Prediksi dari Data Testing------------------\n",
      "[2.24213631 2.24883027 2.27234497 ... 2.34405997 2.24213631 2.24883027]\n",
      "\n",
      "---------------Nilai Prediksi dari Data Training-----------------\n",
      "[2.35910589 2.24213631 2.55091166 ... 2.47505314 2.42198868 2.49918356]\n"
     ]
    }
   ],
   "source": [
    "# Melihat nilai prediksi dari data training dan data testing setelah dilakukan proses pencarian nilai parameters terbaik\n",
    "print(\"----------------Nilai Prediksi dari Data Testing------------------\")\n",
    "pred_test_randomforest_feb = split_randomforest_regression_feb.predict(x_test)\n",
    "print(pred_test_randomforest_feb)\n",
    "\n",
    "print(\"\\n---------------Nilai Prediksi dari Data Training-----------------\")\n",
    "pred_train_randomforest_feb = split_randomforest_regression_feb.predict(x_train)\n",
    "print(pred_train_randomforest_feb)"
   ]
  },
  {
   "cell_type": "code",
   "execution_count": 64,
   "metadata": {},
   "outputs": [
    {
     "name": "stdout",
     "output_type": "stream",
     "text": [
      "----------------------------Data Testing dari Split Validation----------------------------\n",
      "Nilai Metric Mean Absolute Error di Data Test adalah:  2.26\n",
      "Nilai Metric Mean Squared Error di Data Test adalah:  20.67 \n",
      "\n",
      "----------------------------Data Training dari Split Validation---------------------------\n",
      "Nilai Metric Mean Absolute Error di Data Train adalah:  2.27\n",
      "Nilai Metric Mean Squared Error di Data Train adalah:  25.95\n"
     ]
    }
   ],
   "source": [
    "# Melihat hasil prediksi regresi random forest dari data testing dan juga data training\n",
    "\n",
    "print(\"----------------------------Data Testing dari Split Validation----------------------------\")\n",
    "print(\"Nilai Metric Mean Absolute Error di Data Test adalah: \", \"%.2f\" % mean_absolute_error\n",
    "      (y_test, pred_test_randomforest_feb))\n",
    "print(\"Nilai Metric Mean Squared Error di Data Test adalah: \", \"%.2f\" % mean_squared_error\n",
    "      (y_test,  pred_test_randomforest_feb), \"\\n\")\n",
    "#print(\"Nilai Metric Mean Squared Log Error di Data Test Adalah: \", \"%.2f\" % mean_squared_log_error(y_test, pred_test_linear))\n",
    "\n",
    "print(\"----------------------------Data Training dari Split Validation---------------------------\")\n",
    "print(\"Nilai Metric Mean Absolute Error di Data Train adalah: \", \"%.2f\" % mean_absolute_error\n",
    "      (y_train, pred_train_randomforest_feb))\n",
    "print(\"Nilai Metric Mean Squared Error di Data Train adalah: \", \"%.2f\" % mean_squared_error\n",
    "      (y_train, pred_train_randomforest_feb))\n",
    "#print(\"Nilai Metric Mean Squared Log Error Adalah: \", \"%.2f\" % mean_squared_log_error(y_train, pred_train_linear))"
   ]
  },
  {
   "cell_type": "code",
   "execution_count": 65,
   "metadata": {},
   "outputs": [
    {
     "data": {
      "image/png": "[encoded data removed]",
      "text/plain": [
       "<Figure size 1800x1440 with 2 Axes>"
      ]
     },
     "metadata": {},
     "output_type": "display_data"
    }
   ],
   "source": [
    "# Membuat grafik untuk melihat trend data dari volume pengangkutan sampah setelah melalui proses pemodelan regresi random forest\n",
    "plt.figure(figsize=(25, 20))\n",
    "\n",
    "# Grafik untuk melihat trend data testing setelah dilakukan proses pemodelan regresi random forest\n",
    "plt.subplot(4, 3, 1)\n",
    "sns.lineplot(y_test, pred_test_randomforest_feb)\n",
    "plt.title(\"Prediction Result in Random Forest Regression with Testing Data \\n\"\n",
    "          \"using Outliers in Waste Volume Transportation from February 2021\", fontsize=13, pad=13)\n",
    "plt.xlabel(\"Daily Waste Volume\")\n",
    "plt.ylabel(\"Predictive Value in Testing Data\")\n",
    "\n",
    "# Grafik untuk melihat trend data training setelah dilakukan proses pemodelan regresi linear\n",
    "plt.subplot(4, 3, 2)\n",
    "sns.lineplot(y_train, pred_train_randomforest_feb)\n",
    "plt.title(\"Prediction Result in Random Forest Regression with Training Data \\n\"\n",
    "          \"using Outliers in Waste Volume Transportation from February 2021\", fontsize=13, pad=13)\n",
    "plt.xlabel(\"Daily Waste Volume\")\n",
    "plt.ylabel(\"Predictive Value in Training Data\")\n",
    "plt.show()"
   ]
  },
  {
   "cell_type": "markdown",
   "metadata": {},
   "source": [
    "#### 4.1.3. Menggunakan K-Fold Cross Validation dalam Melakukan Prediksi Model Regresi Random Forest"
   ]
  },
  {
   "cell_type": "markdown",
   "metadata": {},
   "source": [
    "##### 4.1.3.1. Nilai K-Fold = 5"
   ]
  },
  {
   "cell_type": "code",
   "execution_count": 66,
   "metadata": {
    "scrolled": false
   },
   "outputs": [
    {
     "data": {
      "text/plain": [
       "KFold(n_splits=5, random_state=37, shuffle=True)"
      ]
     },
     "execution_count": 66,
     "metadata": {},
     "output_type": "execute_result"
    }
   ],
   "source": [
    "# Memanggil library K-Fold Cross Validation yang telah dipanggil diawal pemrosesan\n",
    "kfold_5 = KFold(n_splits=5, random_state=37, shuffle=True)\n",
    "kfold_5"
   ]
  },
  {
   "cell_type": "markdown",
   "metadata": {},
   "source": [
    "K-Fold Cross Validation memiliki 3 parameters yaitu n_splits, shuffle, dan random_state. Berikut adalah penjelasan dari parameters di teknik k-fold cross validation adalah sebagai berikut:\n",
    "\n",
    "1. n_splits: parameter ini berfungsi sebagai lipatan dalam memvalidasi sebuah data. Jika n_split yang dibuat 5 maka terdapat 5 iterasi dalam memvalidasi serta juga melatih data sebanyak 5x pemrosesan dan setiap iterasi tersebut akan memiliki 5 baris untuk pengujiannya.\n",
    "2. shuffle: parameter ini berfungsi untuk mengacak data sebelum dipecah ke beberapa iterasi (sesuai n_splits yang dibuat).\n",
    "3. random_state: dan parameter terakhir yang dimiliki oleh teknik k-fold cross validation adalah random_state. Parameter ini berfungsi dalam mempengaruhi urutan indeks yang telah diacak (ketika nilai dari parameter shuffle di setting True) dan juga mengontrol keacakan dari setiap iterasi yang dilakukan."
   ]
  },
  {
   "cell_type": "code",
   "execution_count": 67,
   "metadata": {
    "scrolled": false
   },
   "outputs": [
    {
     "data": {
      "text/plain": [
       "RandomForestRegressor()"
      ]
     },
     "execution_count": 67,
     "metadata": {},
     "output_type": "execute_result"
    }
   ],
   "source": [
    "\"\"\"\n",
    "Membuat model regresi random forest + nilai parameter deafult yang \n",
    "kemudian akan diimplementasikan ke nilai 5 pada teknik k-fold cross validation\n",
    "\"\"\"\n",
    "\n",
    "kfold_randomforest_regression_feb_5 = RandomForestRegressor()\n",
    "kfold_randomforest_regression_feb_5.fit(x_train, y_train)"
   ]
  },
  {
   "cell_type": "code",
   "execution_count": 68,
   "metadata": {},
   "outputs": [],
   "source": [
    "\"\"\"\n",
    "Memanggil library cross_val_score untuk memvalidasi data training dan data test di model regresi random forest \n",
    "dengan menggunakan metrics MAE & MSE\n",
    "\"\"\"\n",
    "\n",
    "# Metric MAE untuk Data Training dan Data Testing\n",
    "mae_score_kfold_train_feb_5 = cross_val_score(kfold_randomforest_regression_feb_5, x_train, y_train, \n",
    "                                              scoring=\"neg_mean_absolute_error\", cv=kfold_5, n_jobs=1)\n",
    "\n",
    "mae_score_kfold_test_feb_5 = cross_val_score(kfold_randomforest_regression_feb_5, x_test, y_test, \n",
    "                                             scoring=\"neg_mean_absolute_error\", cv=kfold_5, n_jobs=1)\n",
    "\n",
    "# Metric MSE untuk Data Training dan Data Testing\n",
    "mse_score_kfold_train_feb_5 = cross_val_score(kfold_randomforest_regression_feb_5, x_train, y_train, \n",
    "                                              scoring=\"neg_mean_squared_error\", cv=kfold_5, n_jobs=1)\n",
    "\n",
    "mse_score_kfold_test_feb_5 = cross_val_score(kfold_randomforest_regression_feb_5, x_test, y_test, \n",
    "                                             scoring=\"neg_mean_squared_error\", cv=kfold_5, n_jobs=1)"
   ]
  },
  {
   "cell_type": "code",
   "execution_count": 69,
   "metadata": {
    "scrolled": true
   },
   "outputs": [
    {
     "name": "stdout",
     "output_type": "stream",
     "text": [
      "Skor Setiap Iterasi Data Training dari Metrics Mean Absolute Error: \n",
      " [-2.28316923 -2.31279439 -2.26710853 -2.2637612  -2.2243476 ] \n",
      "\n",
      "Skor Setiap Iterasi Data Testing dari Metrics Mean Absolute Error: \n",
      " [-2.20449087 -2.18643656 -2.15523753 -2.32033306 -2.36106814] \n",
      "\n",
      "Skor Setiap Iterasi Data Training dari Metrics Mean Absolute Error: \n",
      " [-36.54219906 -37.79496856 -13.83631255 -25.03726134 -16.70765719] \n",
      "\n",
      "Skor Setiap Iterasi Data Testing dari Metrics Mean Absolute Error: \n",
      " [-12.49890794 -12.64724153 -11.92563999 -29.23282298 -37.6289622 ]\n"
     ]
    }
   ],
   "source": [
    "# Melihat nilai dari setiap iterasi dari metrics mean absolute error dan mean squared error\n",
    "\n",
    "print(\"Skor Setiap Iterasi Data Training dari Metrics Mean Absolute Error: \\n\", mae_score_kfold_train_feb_5, \"\\n\")\n",
    "print(\"Skor Setiap Iterasi Data Testing dari Metrics Mean Absolute Error: \\n\", mae_score_kfold_test_feb_5, \"\\n\")\n",
    "print(\"Skor Setiap Iterasi Data Training dari Metrics Mean Absolute Error: \\n\", mse_score_kfold_train_feb_5, \"\\n\")\n",
    "print(\"Skor Setiap Iterasi Data Testing dari Metrics Mean Absolute Error: \\n\", mse_score_kfold_test_feb_5)"
   ]
  },
  {
   "cell_type": "code",
   "execution_count": 70,
   "metadata": {
    "scrolled": true
   },
   "outputs": [
    {
     "name": "stdout",
     "output_type": "stream",
     "text": [
      "---------------------------------Data Testing K-Fold----------------------------------\n",
      "Nilai Prediksi dari Data Test Menggunakan Metrics MAE adalah: 2.25 \n",
      "Nilai Prediksi dari Data Test Menggunakan Metrics MSE adalah: 20.79 \n",
      "\n",
      " ---------------------------------Data Training K-Fold----------------------------------\n",
      "Nilai Prediksi dari Data Train Menggunakan Metrics MAE adalah: 2.27 \n",
      "Nilai Prediksi dari Data Train Menggunakan Metrics MSE adalah: 25.98 \n"
     ]
    }
   ],
   "source": [
    "# Melihat hasil prediksi data test dan data train dengan metric MAE & MSE dari hasil K-Fold Cross Validation\n",
    "\n",
    "print(\"---------------------------------Data Testing K-Fold----------------------------------\")\n",
    "print(\"Nilai Prediksi dari Data Test Menggunakan Metrics MAE adalah: %.2f \" % np.mean(np.absolute\n",
    "                                                                                      (mae_score_kfold_test_feb_5)))\n",
    "print(\"Nilai Prediksi dari Data Test Menggunakan Metrics MSE adalah: %.2f \" % np.mean(np.absolute\n",
    "                                                                                      (mse_score_kfold_test_feb_5)))\n",
    "\n",
    "print(\"\\n\", \"---------------------------------Data Training K-Fold----------------------------------\")\n",
    "print(\"Nilai Prediksi dari Data Train Menggunakan Metrics MAE adalah: %.2f \" % np.mean(np.absolute\n",
    "                                                                                       (mae_score_kfold_train_feb_5)))\n",
    "print(\"Nilai Prediksi dari Data Train Menggunakan Metrics MSE adalah: %.2f \" % np.mean(np.absolute\n",
    "                                                                                       (mse_score_kfold_train_feb_5)))"
   ]
  },
  {
   "cell_type": "markdown",
   "metadata": {},
   "source": [
    "##### 4.1.3.2. Nilai K-Fold = 10"
   ]
  },
  {
   "cell_type": "code",
   "execution_count": 71,
   "metadata": {
    "scrolled": true
   },
   "outputs": [
    {
     "data": {
      "text/plain": [
       "KFold(n_splits=10, random_state=37, shuffle=True)"
      ]
     },
     "execution_count": 71,
     "metadata": {},
     "output_type": "execute_result"
    }
   ],
   "source": [
    "# Memanggil library K-Fold Cross Validation yang telah dipanggil diawal pemrosesan\n",
    "kfold_10 = KFold(n_splits=10, random_state=37, shuffle=True)\n",
    "kfold_10"
   ]
  },
  {
   "cell_type": "code",
   "execution_count": 72,
   "metadata": {
    "scrolled": false
   },
   "outputs": [
    {
     "data": {
      "text/plain": [
       "RandomForestRegressor()"
      ]
     },
     "execution_count": 72,
     "metadata": {},
     "output_type": "execute_result"
    }
   ],
   "source": [
    "\"\"\"\n",
    "Membuat model regresi random forest + nilai parameter deafult yang \n",
    "kemudian akan diimplementasikan ke nilai 10 pada teknik k-fold cross validation\n",
    "\"\"\"\n",
    "kfold_randomforest_regression_feb_10 = RandomForestRegressor()\n",
    "kfold_randomforest_regression_feb_10.fit(x_train, y_train)"
   ]
  },
  {
   "cell_type": "code",
   "execution_count": 73,
   "metadata": {},
   "outputs": [],
   "source": [
    "\"\"\"\n",
    "Memanggil library cross_val_score untuk memvalidasi data training dan data test di model regresi random forest \n",
    "dengan menggunakan metrics MAE & MSE\n",
    "\"\"\"\n",
    "\n",
    "# Metric MAE untuk Data Training dan Data Testing\n",
    "mae_score_kfold_train_feb_10 = cross_val_score(kfold_randomforest_regression_feb_10, x_train, y_train, \n",
    "                                               scoring=\"neg_mean_absolute_error\", cv=kfold_10, n_jobs=1)\n",
    "\n",
    "mae_score_kfold_test_feb_10 = cross_val_score(kfold_randomforest_regression_feb_10, x_test, y_test, \n",
    "                                              scoring=\"neg_mean_absolute_error\", cv=kfold_10, n_jobs=1)\n",
    "\n",
    "# Metric MSE untuk Data Training dan Data Testing\n",
    "mse_score_kfold_train_feb_10 = cross_val_score(kfold_randomforest_regression_feb_10, x_train, y_train, \n",
    "                                               scoring=\"neg_mean_squared_error\", cv=kfold_10, n_jobs=1)\n",
    "\n",
    "mse_score_kfold_test_feb_10 = cross_val_score(kfold_randomforest_regression_feb_10, x_test, y_test, \n",
    "                                              scoring=\"neg_mean_squared_error\", cv=kfold_10, n_jobs=1)"
   ]
  },
  {
   "cell_type": "code",
   "execution_count": 74,
   "metadata": {
    "scrolled": true
   },
   "outputs": [
    {
     "name": "stdout",
     "output_type": "stream",
     "text": [
      "Skor Setiap Iterasi Data Training dari Metrics Mean Absolute Error: \n",
      " [-2.30382766 -2.26784907 -2.45121131 -2.18185721 -2.27595025 -2.24700216\n",
      " -2.30709233 -2.2176992  -2.2461049  -2.19607102] \n",
      "\n",
      "Skor Setiap Iterasi Data Testing dari Metrics Mean Absolute Error: \n",
      " [-2.23538772 -2.15860297 -2.1949482  -2.15582065 -2.18342662 -2.11291633\n",
      " -2.39412617 -2.28457664 -2.41793527 -2.35352738] \n",
      "\n",
      "Skor Setiap Iterasi Data Training dari Metrics Mean Absolute Error: \n",
      " [-56.24056911 -16.86074952 -62.91726902 -12.65592083 -13.7623217\n",
      " -13.92245236 -32.40881708 -17.69683766 -15.69324439 -17.73890112] \n",
      "\n",
      "Skor Setiap Iterasi Data Testing dari Metrics Mean Absolute Error: \n",
      " [-12.2455684  -12.72271388 -14.3173466  -10.90166637 -11.95232848\n",
      " -11.84615743 -45.51689216 -12.87582538 -56.58835097 -18.56506842]\n"
     ]
    }
   ],
   "source": [
    "# Melihat nilai dari setiap iterasi dari metrics mean absolute error dan mean squared error\n",
    "\n",
    "print(\"Skor Setiap Iterasi Data Training dari Metrics Mean Absolute Error: \\n\", mae_score_kfold_train_feb_10, \"\\n\")\n",
    "print(\"Skor Setiap Iterasi Data Testing dari Metrics Mean Absolute Error: \\n\", mae_score_kfold_test_feb_10, \"\\n\")\n",
    "print(\"Skor Setiap Iterasi Data Training dari Metrics Mean Absolute Error: \\n\", mse_score_kfold_train_feb_10, \"\\n\")\n",
    "print(\"Skor Setiap Iterasi Data Testing dari Metrics Mean Absolute Error: \\n\", mse_score_kfold_test_feb_10)"
   ]
  },
  {
   "cell_type": "code",
   "execution_count": 75,
   "metadata": {
    "scrolled": true
   },
   "outputs": [
    {
     "name": "stdout",
     "output_type": "stream",
     "text": [
      "---------------------------------Data Testing K-Fold----------------------------------\n",
      "Nilai Prediksi dari Data Test Menggunakan Metrics MAE adalah: 2.27 \n",
      "Nilai Prediksi dari Data Test Menggunakan Metrics MSE adalah: 20.75 \n",
      "\n",
      " ---------------------------------Data Training K-Fold----------------------------------\n",
      "Nilai Prediksi dari Data Train Menggunakan Metrics MAE adalah: 2.27 \n",
      "Nilai Prediksi dari Data Train Menggunakan Metrics MSE adalah: 25.99 \n"
     ]
    }
   ],
   "source": [
    "# Melihat hasil prediksi data test dan data train dengan metric MAE & MSE dari hasil K-Fold Cross Validation\n",
    "\n",
    "print(\"---------------------------------Data Testing K-Fold----------------------------------\")\n",
    "print(\"Nilai Prediksi dari Data Test Menggunakan Metrics MAE adalah: %.2f \" % np.mean(np.absolute\n",
    "                                                                                      (mae_score_kfold_train_feb_10)))\n",
    "print(\"Nilai Prediksi dari Data Test Menggunakan Metrics MSE adalah: %.2f \" % np.mean(np.absolute\n",
    "                                                                                      (mse_score_kfold_test_feb_10)))\n",
    "\n",
    "print(\"\\n\", \"---------------------------------Data Training K-Fold----------------------------------\")\n",
    "print(\"Nilai Prediksi dari Data Train Menggunakan Metrics MAE adalah: %.2f \" % np.mean(np.absolute\n",
    "                                                                                       (mae_score_kfold_train_feb_10)))\n",
    "print(\"Nilai Prediksi dari Data Train Menggunakan Metrics MSE adalah: %.2f \" % np.mean(np.absolute\n",
    "                                                                                       (mse_score_kfold_train_feb_10)))"
   ]
  },
  {
   "cell_type": "markdown",
   "metadata": {},
   "source": [
    "##### 4.1.3.3. Nilai K-Fold = 15"
   ]
  },
  {
   "cell_type": "code",
   "execution_count": 76,
   "metadata": {
    "scrolled": true
   },
   "outputs": [
    {
     "data": {
      "text/plain": [
       "KFold(n_splits=15, random_state=37, shuffle=True)"
      ]
     },
     "execution_count": 76,
     "metadata": {},
     "output_type": "execute_result"
    }
   ],
   "source": [
    "# Memanggil library K-Fold Cross Validation yang telah dipanggil diawal pemrosesan\n",
    "kfold_15 = KFold(n_splits=15, random_state=37, shuffle=True)\n",
    "kfold_15"
   ]
  },
  {
   "cell_type": "code",
   "execution_count": 77,
   "metadata": {
    "scrolled": false
   },
   "outputs": [
    {
     "data": {
      "text/plain": [
       "RandomForestRegressor()"
      ]
     },
     "execution_count": 77,
     "metadata": {},
     "output_type": "execute_result"
    }
   ],
   "source": [
    "\"\"\"\n",
    "Membuat model regresi linear + nilai parameter deafult yang \n",
    "kemudian akan diimplementasikan ke nilai 15 pada teknik k-fold cross validation\n",
    "\"\"\"\n",
    "\n",
    "kfold_randomforest_regression_feb_15 = RandomForestRegressor()\n",
    "kfold_randomforest_regression_feb_15.fit(x_train, y_train)"
   ]
  },
  {
   "cell_type": "code",
   "execution_count": 78,
   "metadata": {},
   "outputs": [],
   "source": [
    "\"\"\"\n",
    "Memanggil library cross_val_score untuk memvalidasi data training dan data test di model regresi random forest \n",
    "dengan menggunakan metrics MAE & MSE\n",
    "\"\"\"\n",
    "\n",
    "# Metric MAE untuk Data Training dan Data Testing\n",
    "mae_score_kfold_train_feb_15 = cross_val_score(kfold_randomforest_regression_feb_15, x_train, y_train, \n",
    "                                               scoring=\"neg_mean_absolute_error\", cv=kfold_15, n_jobs=1)\n",
    "\n",
    "mae_score_kfold_test_feb_15 = cross_val_score(kfold_randomforest_regression_feb_15, x_test, y_test, \n",
    "                                              scoring=\"neg_mean_absolute_error\", cv=kfold_15, n_jobs=1)\n",
    "\n",
    "# Metric MSE untuk Data Training dan Data Testing\n",
    "mse_score_kfold_train_feb_15 = cross_val_score(kfold_randomforest_regression_feb_15, x_train, y_train, \n",
    "                                               scoring=\"neg_mean_squared_error\", cv=kfold_15, n_jobs=1)\n",
    "\n",
    "mse_score_kfold_test_feb_15 = cross_val_score(kfold_randomforest_regression_feb_15, x_test, y_test, \n",
    "                                              scoring=\"neg_mean_squared_error\", cv=kfold_15, n_jobs=1)"
   ]
  },
  {
   "cell_type": "code",
   "execution_count": 79,
   "metadata": {
    "scrolled": true
   },
   "outputs": [
    {
     "name": "stdout",
     "output_type": "stream",
     "text": [
      "Skor Setiap Iterasi Data Training dari Metrics Mean Absolute Error: \n",
      " [-2.40718868 -2.16409067 -2.29088055 -2.27642886 -2.46340079 -2.21636781\n",
      " -2.24457537 -2.26747067 -2.26712942 -2.36666349 -2.1943184  -2.22565246\n",
      " -2.28514207 -2.15252939 -2.22087815] \n",
      "\n",
      "Skor Setiap Iterasi Data Testing dari Metrics Mean Absolute Error: \n",
      " [-2.32080432 -2.06220765 -2.19445817 -2.10235067 -2.21887264 -2.20329192\n",
      " -2.09259887 -2.08026051 -2.25509315 -2.52943264 -2.18034672 -2.27419756\n",
      " -2.22772959 -2.69319498 -2.24114097] \n",
      "\n",
      "Skor Setiap Iterasi Data Training dari Metrics Mean Absolute Error: \n",
      " [-78.30461266 -14.96106319 -16.38004633 -13.4296261  -86.60585526\n",
      " -13.30268823 -13.34124502 -13.81582387 -14.34539841 -42.67260037\n",
      " -12.1768972  -20.33570544 -17.69131583 -11.34254908 -21.06117944] \n",
      "\n",
      "Skor Setiap Iterasi Data Testing dari Metrics Mean Absolute Error: \n",
      " [-13.20255208 -10.42149093 -13.79561282 -10.87373318 -15.46679464\n",
      " -11.65250316 -11.06700532 -10.83047204 -13.88196865 -62.48618141\n",
      " -12.35019817 -12.54935816 -19.3117156  -79.47255572 -13.91879196]\n"
     ]
    }
   ],
   "source": [
    "# Melihat nilai dari setiap iterasi dari metrics mean absolute error dan mean squared error\n",
    "\n",
    "print(\"Skor Setiap Iterasi Data Training dari Metrics Mean Absolute Error: \\n\", mae_score_kfold_train_feb_15, \"\\n\")\n",
    "print(\"Skor Setiap Iterasi Data Testing dari Metrics Mean Absolute Error: \\n\", mae_score_kfold_test_feb_15, \"\\n\")\n",
    "print(\"Skor Setiap Iterasi Data Training dari Metrics Mean Absolute Error: \\n\", mse_score_kfold_train_feb_15, \"\\n\")\n",
    "print(\"Skor Setiap Iterasi Data Testing dari Metrics Mean Absolute Error: \\n\", mse_score_kfold_test_feb_15)"
   ]
  },
  {
   "cell_type": "code",
   "execution_count": 80,
   "metadata": {
    "scrolled": true
   },
   "outputs": [
    {
     "name": "stdout",
     "output_type": "stream",
     "text": [
      "---------------------------------Data Testing K-Fold----------------------------------\n",
      "Nilai Prediksi dari Data Test Menggunakan Metrics MAE adalah: 2.27 \n",
      "Nilai Prediksi dari Data Test Menggunakan Metrics MSE adalah: 20.75 \n",
      "\n",
      " ---------------------------------Data Training K-Fold----------------------------------\n",
      "Nilai Prediksi dari Data Train Menggunakan Metrics MAE adalah: 2.27 \n",
      "Nilai Prediksi dari Data Train Menggunakan Metrics MSE adalah: 25.98 \n"
     ]
    }
   ],
   "source": [
    "# Melihat hasil prediksi data test dan data train dengan metric MAE & MSE dari hasil K-Fold Cross Validation\n",
    "\n",
    "print(\"---------------------------------Data Testing K-Fold----------------------------------\")\n",
    "print(\"Nilai Prediksi dari Data Test Menggunakan Metrics MAE adalah: %.2f \" % np.mean(np.absolute\n",
    "                                                                                      (mae_score_kfold_train_feb_15)))\n",
    "print(\"Nilai Prediksi dari Data Test Menggunakan Metrics MSE adalah: %.2f \" % np.mean(np.absolute\n",
    "                                                                                      (mse_score_kfold_test_feb_15)))\n",
    "\n",
    "print(\"\\n\", \"---------------------------------Data Training K-Fold----------------------------------\")\n",
    "print(\"Nilai Prediksi dari Data Train Menggunakan Metrics MAE adalah: %.2f \" % np.mean(np.absolute\n",
    "                                                                                       (mae_score_kfold_train_feb_15)))\n",
    "print(\"Nilai Prediksi dari Data Train Menggunakan Metrics MSE adalah: %.2f \" % np.mean(np.absolute\n",
    "                                                                                       (mse_score_kfold_train_feb_15)))"
   ]
  }
 ],
 "metadata": {
  "kernelspec": {
   "display_name": "Python 3 (ipykernel)",
   "language": "python",
   "name": "python3"
  },
  "language_info": {
   "codemirror_mode": {
    "name": "ipython",
    "version": 3
   },
   "file_extension": ".py",
   "mimetype": "text/x-python",
   "name": "python",
   "nbconvert_exporter": "python",
   "pygments_lexer": "ipython3",
   "version": "3.9.12"
  }
 },
 "nbformat": 4,
 "nbformat_minor": 4
}
